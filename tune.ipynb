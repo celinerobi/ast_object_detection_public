{
 "cells": [
  {
   "cell_type": "code",
   "execution_count": null,
   "id": "cec7cee7-1b44-4ecf-9bd0-194cc5dbaf53",
   "metadata": {},
   "outputs": [],
   "source": [
    "import os\n",
    "\n",
    "from ultralytics import YOLO\n",
    "from ultralytics import settings\n",
    "\n",
    "from ray import train, tune\n",
    "from ray.tune import ResultGrid\n",
    "\n",
    "import argparse\n",
    "import sys"
   ]
  },
  {
   "cell_type": "code",
   "execution_count": null,
   "id": "2b37bb56-8516-4f95-b83f-3416782ebf1b",
   "metadata": {},
   "outputs": [],
   "source": [
    "def get_args_parse():\n",
    "    parser = argparse.ArgumentParser(\"Exploratory Data Analysis\")\n",
    "    parser.add_argument(\"--data\", default=\"/hpc/home/csr33/ast_object_detection/ast.yaml\", type=str)\n",
    "    parser.add_argument(\"--model\", default='yolov8n.pt', type=str)\n",
    "    args = parser.parse_args()\n",
    "    return args\n",
    "sys.argv = ['my_notebook']\n",
    "args = get_args_parse()"
   ]
  },
  {
   "cell_type": "code",
   "execution_count": null,
   "id": "a7e6403f-1474-418a-8d95-7cbe914dc9ee",
   "metadata": {
    "tags": []
   },
   "outputs": [],
   "source": [
    "model = YOLO('yolov8n.pt')\n",
    "model.tune(data=args.data, epochs=5, iterations=2)"
   ]
  },
  {
   "cell_type": "code",
   "execution_count": null,
   "id": "f246f101-0685-4b83-bc7e-5bfad606ef93",
   "metadata": {},
   "outputs": [],
   "source": [
    "#description of model metrics\n",
    "https://github.com/ultralytics/ultralytics/issues/2789#issuecomment-1808018730\n",
    "/tmp/tmp_vsfwz0p/test_tune1/weights/best.pt...\n"
   ]
  },
  {
   "cell_type": "code",
   "execution_count": 4,
   "id": "76f0003b-7ae9-4f1b-aa30-b2575248cf3d",
   "metadata": {},
   "outputs": [],
   "source": [
    "os.chdir(\"/work/csr33/object_detection\")"
   ]
  },
  {
   "cell_type": "code",
   "execution_count": 5,
   "id": "2c88d0a5-65fe-43e7-af3f-2eeee3d0e252",
   "metadata": {},
   "outputs": [],
   "source": [
    "# Update settings\n",
    "# https://docs.ultralytics.com/quickstart/\n",
    "os.makedirs('/work/csr33/object_detection/weights', exist_ok=True)\n",
    "settings.update({'weights_dir': '/work/csr33/object_detection/weights'})\n",
    "\n",
    "os.makedirs('/work/csr33/object_detection/runs', exist_ok=True)\n",
    "settings.update({'runs_dir': '/work/csr33/object_detection/runs'})\n",
    "\n",
    "settings.update({'neptune': False, 'clearml': False, \n",
    "                 \"raytune\": True, #'comet': True, 'raytune': True,\n",
    "                 'dvc': False, 'hub': False, 'mlflow': False,\n",
    "                 'tensorboard': False, 'wandb': False})\n",
    "\n",
    "# Reset settings to default values #settings.reset()"
   ]
  },
  {
   "cell_type": "code",
   "execution_count": 6,
   "id": "59a63beb-06a2-4ac2-802b-111b7b173f8b",
   "metadata": {},
   "outputs": [],
   "source": [
    "import torch\n",
    "\n",
    "torch.cuda.set_device(0) # Set to your desired GPU number"
   ]
  },
  {
   "cell_type": "code",
   "execution_count": 8,
   "id": "0661bc11-3852-4d50-a12f-96ae921b73a9",
   "metadata": {},
   "outputs": [],
   "source": [
    " trainable=\"_tune\""
   ]
  },
  {
   "cell_type": "code",
   "execution_count": 9,
   "id": "664b3fb4-945c-4363-99b1-4631e4e05670",
   "metadata": {},
   "outputs": [],
   "source": [
    "# Load a YOLOv8n model\n",
    "model = YOLO(args.model) # load a pretrained model (recommended for training)"
   ]
  },
  {
   "cell_type": "code",
   "execution_count": 10,
   "id": "457221d6-b938-4811-8507-a38c188b30d1",
   "metadata": {},
   "outputs": [],
   "source": [
    "exp_name = \"test_tune4\" #\"tune_analyzing_results\""
   ]
  },
  {
   "cell_type": "code",
   "execution_count": 12,
   "id": "e5849ecf-0233-470e-813f-9676bb6e35ad",
   "metadata": {
    "tags": []
   },
   "outputs": [
    {
     "data": {
      "text/html": [
       "<div class=\"tuneStatus\">\n",
       "  <div style=\"display: flex;flex-direction: row\">\n",
       "    <div style=\"display: flex;flex-direction: column;\">\n",
       "      <h3>Tune Status</h3>\n",
       "      <table>\n",
       "<tbody>\n",
       "<tr><td>Current time:</td><td>2024-01-30 14:48:54</td></tr>\n",
       "<tr><td>Running for: </td><td>00:00:50.65        </td></tr>\n",
       "<tr><td>Memory:      </td><td>5.7/48.7 GiB       </td></tr>\n",
       "</tbody>\n",
       "</table>\n",
       "    </div>\n",
       "    <div class=\"vDivider\"></div>\n",
       "    <div class=\"systemInfo\">\n",
       "      <h3>System Info</h3>\n",
       "      Using AsyncHyperBand: num_stopped=0<br>Bracket: Iter 1.000: None<br>Logical resource usage: 16.0/26 CPUs, 0/1 GPUs (0.0/1.0 accelerator_type:G)\n",
       "    </div>\n",
       "    <div class=\"vDivider\"></div>\n",
       "<div class=\"messages\">\n",
       "  <h3>Messages</h3>\n",
       "  \n",
       "  \n",
       "  Number of errored trials: 2<br><table>\n",
       "<thead>\n",
       "<tr><th>Trial name       </th><th style=\"text-align: right;\">  # failures</th><th>error file                                                                                                                                                                                                            </th></tr>\n",
       "</thead>\n",
       "<tbody>\n",
       "<tr><td>_tune_7b2c1_00000</td><td style=\"text-align: right;\">           1</td><td>/hpc/home/csr33/ray_results/_tune_2024-01-30_14-48-03/_tune_7b2c1_00000_0_box=0.0651,cls=1.0316,copy_paste=0.8538,degrees=29.4672,fliplr=0.4374,flipud=0.0653,hsv_h=0.0686,hsv_s=0.1444,_2024-01-30_14-48-03/error.txt</td></tr>\n",
       "<tr><td>_tune_7b2c1_00001</td><td style=\"text-align: right;\">           1</td><td>/hpc/home/csr33/ray_results/_tune_2024-01-30_14-48-03/_tune_7b2c1_00001_1_box=0.1092,cls=2.8293,copy_paste=0.1921,degrees=11.3470,fliplr=0.7217,flipud=0.0958,hsv_h=0.0835,hsv_s=0.1652,_2024-01-30_14-48-03/error.txt</td></tr>\n",
       "</tbody>\n",
       "</table>\n",
       "</div>\n",
       "<style>\n",
       ".messages {\n",
       "  color: var(--jp-ui-font-color1);\n",
       "  display: flex;\n",
       "  flex-direction: column;\n",
       "  padding-left: 1em;\n",
       "  overflow-y: auto;\n",
       "}\n",
       ".messages h3 {\n",
       "  font-weight: bold;\n",
       "}\n",
       ".vDivider {\n",
       "  border-left-width: var(--jp-border-width);\n",
       "  border-left-color: var(--jp-border-color0);\n",
       "  border-left-style: solid;\n",
       "  margin: 0.5em 1em 0.5em 1em;\n",
       "}\n",
       "</style>\n",
       "\n",
       "  </div>\n",
       "  <div class=\"hDivider\"></div>\n",
       "  <div class=\"trialStatus\">\n",
       "    <h3>Trial Status</h3>\n",
       "    <table>\n",
       "<thead>\n",
       "<tr><th>Trial name       </th><th>status  </th><th>loc                  </th><th style=\"text-align: right;\">      box</th><th style=\"text-align: right;\">    cls</th><th style=\"text-align: right;\">  copy_paste</th><th style=\"text-align: right;\">  degrees</th><th style=\"text-align: right;\">  fliplr</th><th style=\"text-align: right;\">   flipud</th><th style=\"text-align: right;\">    hsv_h</th><th style=\"text-align: right;\">   hsv_s</th><th style=\"text-align: right;\">   hsv_v</th><th style=\"text-align: right;\">      lr0</th><th style=\"text-align: right;\">     lrf</th><th style=\"text-align: right;\">   mixup</th><th style=\"text-align: right;\">  momentum</th><th style=\"text-align: right;\">  mosaic</th><th style=\"text-align: right;\">  perspective</th><th style=\"text-align: right;\">   scale</th><th style=\"text-align: right;\">  shear</th><th style=\"text-align: right;\">  translate</th><th style=\"text-align: right;\">  warmup_epochs</th><th style=\"text-align: right;\">  warmup_momentum</th><th style=\"text-align: right;\">  weight_decay</th></tr>\n",
       "</thead>\n",
       "<tbody>\n",
       "<tr><td>_tune_7b2c1_00000</td><td>ERROR   </td><td>10.183.18.198:1928628</td><td style=\"text-align: right;\">0.0650963</td><td style=\"text-align: right;\">1.03165</td><td style=\"text-align: right;\">    0.853842</td><td style=\"text-align: right;\">  29.4672</td><td style=\"text-align: right;\">0.437442</td><td style=\"text-align: right;\">0.0652665</td><td style=\"text-align: right;\">0.0685636</td><td style=\"text-align: right;\">0.144444</td><td style=\"text-align: right;\">0.783955</td><td style=\"text-align: right;\">0.0917371</td><td style=\"text-align: right;\">0.998447</td><td style=\"text-align: right;\">0.134134</td><td style=\"text-align: right;\">  0.673941</td><td style=\"text-align: right;\">0.171711</td><td style=\"text-align: right;\">  0.000901205</td><td style=\"text-align: right;\">0.500387</td><td style=\"text-align: right;\">6.24553</td><td style=\"text-align: right;\">   0.537337</td><td style=\"text-align: right;\">        2.14878</td><td style=\"text-align: right;\">         0.613913</td><td style=\"text-align: right;\">   0.000595113</td></tr>\n",
       "<tr><td>_tune_7b2c1_00001</td><td>ERROR   </td><td>10.183.18.198:1928629</td><td style=\"text-align: right;\">0.109222 </td><td style=\"text-align: right;\">2.82934</td><td style=\"text-align: right;\">    0.19215 </td><td style=\"text-align: right;\">  11.347 </td><td style=\"text-align: right;\">0.72175 </td><td style=\"text-align: right;\">0.0957683</td><td style=\"text-align: right;\">0.0834552</td><td style=\"text-align: right;\">0.16516 </td><td style=\"text-align: right;\">0.685362</td><td style=\"text-align: right;\">0.0486481</td><td style=\"text-align: right;\">0.788586</td><td style=\"text-align: right;\">0.136211</td><td style=\"text-align: right;\">  0.862679</td><td style=\"text-align: right;\">0.124568</td><td style=\"text-align: right;\">  0.00068126 </td><td style=\"text-align: right;\">0.233072</td><td style=\"text-align: right;\">8.69078</td><td style=\"text-align: right;\">   0.582756</td><td style=\"text-align: right;\">        1.97559</td><td style=\"text-align: right;\">         0.889233</td><td style=\"text-align: right;\">   0.000413765</td></tr>\n",
       "</tbody>\n",
       "</table>\n",
       "  </div>\n",
       "</div>\n",
       "<style>\n",
       ".tuneStatus {\n",
       "  color: var(--jp-ui-font-color1);\n",
       "}\n",
       ".tuneStatus .systemInfo {\n",
       "  display: flex;\n",
       "  flex-direction: column;\n",
       "}\n",
       ".tuneStatus td {\n",
       "  white-space: nowrap;\n",
       "}\n",
       ".tuneStatus .trialStatus {\n",
       "  display: flex;\n",
       "  flex-direction: column;\n",
       "}\n",
       ".tuneStatus h3 {\n",
       "  font-weight: bold;\n",
       "}\n",
       ".tuneStatus .hDivider {\n",
       "  border-bottom-width: var(--jp-border-width);\n",
       "  border-bottom-color: var(--jp-border-color0);\n",
       "  border-bottom-style: solid;\n",
       "}\n",
       ".tuneStatus .vDivider {\n",
       "  border-left-width: var(--jp-border-width);\n",
       "  border-left-color: var(--jp-border-color0);\n",
       "  border-left-style: solid;\n",
       "  margin: 0.5em 1em 0.5em 1em;\n",
       "}\n",
       "</style>\n"
      ],
      "text/plain": [
       "<IPython.core.display.HTML object>"
      ]
     },
     "metadata": {},
     "output_type": "display_data"
    },
    {
     "name": "stderr",
     "output_type": "stream",
     "text": [
      "2024-01-30 14:48:03,715\tINFO wandb.py:307 -- Already logged into W&B.\n",
      "2024-01-30 14:48:36,391\tERROR tune_controller.py:1374 -- Trial task failed for trial _tune_7b2c1_00001\n",
      "Traceback (most recent call last):\n",
      "  File \"/hpc/group/borsuklab/cred/.conda/envs/yolov8_env/lib/python3.11/site-packages/ray/air/execution/_internal/event_manager.py\", line 110, in resolve_future\n",
      "    result = ray.get(future)\n",
      "             ^^^^^^^^^^^^^^^\n",
      "  File \"/hpc/group/borsuklab/cred/.conda/envs/yolov8_env/lib/python3.11/site-packages/ray/_private/auto_init_hook.py\", line 22, in auto_init_wrapper\n",
      "    return fn(*args, **kwargs)\n",
      "           ^^^^^^^^^^^^^^^^^^^\n",
      "  File \"/hpc/group/borsuklab/cred/.conda/envs/yolov8_env/lib/python3.11/site-packages/ray/_private/client_mode_hook.py\", line 103, in wrapper\n",
      "    return func(*args, **kwargs)\n",
      "           ^^^^^^^^^^^^^^^^^^^^^\n",
      "  File \"/hpc/group/borsuklab/cred/.conda/envs/yolov8_env/lib/python3.11/site-packages/ray/_private/worker.py\", line 2624, in get\n",
      "    raise value.as_instanceof_cause()\n",
      "ray.exceptions.RayTaskError(SyntaxError): <no detail available>\n"
     ]
    },
    {
     "name": "stdout",
     "output_type": "stream",
     "text": [
      "\u001b[36m(_tune pid=1928629)\u001b[0m New https://pypi.org/project/ultralytics/8.1.8 available 😃 Update with 'pip install -U ultralytics'\n"
     ]
    },
    {
     "name": "stderr",
     "output_type": "stream",
     "text": [
      "2024-01-30 14:48:41,671\tERROR worker.py:405 -- Unhandled error (suppress with 'RAY_IGNORE_UNHANDLED_ERRORS=1'): \u001b[36mray::ImplicitFunc.train()\u001b[39m (pid=1928628, ip=10.183.18.198, actor_id=3fbd9604f1420209f51e91b101000000, repr=_tune)\n",
      "           ^^^^^^^^^^^^^^^^^^^^^^^^^^^^^^^^^^^^\n",
      "           ^^^^^^^^^^^^^^^^^^^^^^^^^^^^^^^\n",
      "  File \"/hpc/group/borsuklab/cred/.conda/envs/yolov8_env/lib/python3.11/site-packages/ray/tune/trainable/trainable.py\", line 342, in train\n",
      "    raise skipped from exception_cause(skipped)\n",
      "  File \"/hpc/group/borsuklab/cred/.conda/envs/yolov8_env/lib/python3.11/site-packages/ray/air/_internal/util.py\", line 88, in run\n",
      "    self._ret = self._target(*self._args, **self._kwargs)\n",
      "                ^^^^^^^^^^^^^^^^^^^^^^^^^^^^^^^^^^^^^^^^^\n",
      "  File \"/hpc/group/borsuklab/cred/.conda/envs/yolov8_env/lib/python3.11/site-packages/ray/tune/trainable/function_trainable.py\", line 115, in <lambda>\n",
      "    training_func=lambda: self._trainable_func(self.config),\n",
      "                          ^^^^^^^^^^^^^^^^^^^^^^^^^^^^^^^^^\n",
      "           ^^^^^^^^^^^^^^^^^^^^^^^^^^^^^^^\n",
      "  File \"/hpc/group/borsuklab/cred/.conda/envs/yolov8_env/lib/python3.11/site-packages/ray/tune/trainable/function_trainable.py\", line 332, in _trainable_func\n",
      "    output = fn()\n",
      "             ^^^^\n",
      "  File \"/hpc/home/csr33/.local/lib/python3.11/site-packages/ultralytics/utils/tuner.py\", line 102, in _tune\n",
      "    results = model_to_train.train(**config)\n",
      "              ^^^^^^^^^^^^^^^^^^^^^^^^^^^^^^\n",
      "  File \"/hpc/home/csr33/.local/lib/python3.11/site-packages/ultralytics/engine/model.py\", line 372, in train\n",
      "    self.trainer = (trainer or self._smart_load(\"trainer\"))(overrides=args, _callbacks=self.callbacks)\n",
      "                   ^^^^^^^^^^^^^^^^^^^^^^^^^^^^^^^^^^^^^^^^^^^^^^^^^^^^^^^^^^^^^^^^^^^^^^^^^^^^^^^^^^^\n",
      "  File \"/hpc/home/csr33/.local/lib/python3.11/site-packages/ultralytics/engine/trainer.py\", line 98, in __init__\n",
      "    self.args = get_cfg(cfg, overrides)\n",
      "                ^^^^^^^^^^^^^^^^^^^^^^^\n",
      "  File \"/hpc/home/csr33/.local/lib/python3.11/site-packages/ultralytics/cfg/__init__.py\", line 210, in get_cfg\n",
      "    check_dict_alignment(cfg, overrides)\n",
      "  File \"/hpc/home/csr33/.local/lib/python3.11/site-packages/ultralytics/cfg/__init__.py\", line 308, in check_dict_alignment\n",
      "    raise SyntaxError(string + CLI_HELP_MSG) from e\n",
      "SyntaxError: '\u001b[31m\u001b[1mcpu_per_trial\u001b[0m' is not a valid YOLO argument. \n",
      "\n",
      "    Arguments received: ['yolo', '--node-ip-address=10.183.18.198', '--node-manager-port=39311', '--object-store-name=/tmp/ray/session_2024-01-30_14-25-07_891498_1924305/sockets/plasma_store', '--raylet-name=/tmp/ray/session_2024-01-30_14-25-07_891498_1924305/sockets/raylet', '--redis-address=None', '--temp-dir=/tmp/ray', '--metrics-agent-port=62349', '--runtime-env-agent-port=59923', '--logging-rotate-bytes=536870912', '--logging-rotate-backup-count=5', '--runtime-env-agent-port=59923', '--gcs-address=10.183.18.198:63091', '--session-name=session_2024-01-30_14-25-07_891498_1924305', '--temp-dir=/tmp/ray', '--webui=', '--cluster-id=562df421513eb7950d2efba0199a36ae5e31587ce46200392ddce4d1', '--startup-token=32', '--worker-launch-time-ms=1706644083795', '--runtime-env-hash=-1413791333']. Ultralytics 'yolo' commands use the following syntax:\n",
      "\n",
      "        yolo TASK MODE ARGS\n",
      "\n",
      "        Where   TASK (optional) is one of ('detect', 'segment', 'classify', 'pose', 'obb')\n",
      "                MODE (required) is one of ('train', 'val', 'predict', 'export', 'track', 'benchmark')\n",
      "                ARGS (optional) are any number of custom 'arg=value' pairs like 'imgsz=320' that override defaults.\n",
      "                    See all ARGS at https://docs.ultralytics.com/usage/cfg or with 'yolo cfg'\n",
      "\n",
      "    1. Train a detection model for 10 epochs with an initial learning_rate of 0.01\n",
      "        yolo train data=coco128.yaml model=yolov8n.pt epochs=10 lr0=0.01\n",
      "\n",
      "    2. Predict a YouTube video using a pretrained segmentation model at image size 320:\n",
      "        yolo predict model=yolov8n-seg.pt source='https://youtu.be/LNwODJXcvt4' imgsz=320\n",
      "\n",
      "    3. Val a pretrained detection model at batch-size 1 and image size 640:\n",
      "        yolo val model=yolov8n.pt data=coco128.yaml batch=1 imgsz=640\n",
      "\n",
      "    4. Export a YOLOv8n classification model to ONNX format at image size 224 by 128 (no TASK required)\n",
      "        yolo export model=yolov8n-cls.pt format=onnx imgsz=224,128\n",
      "\n",
      "    6. Explore your datasets using semantic search and SQL with a simple GUI powered by Ultralytics Explorer API\n",
      "        yolo explorer\n",
      "\n",
      "    5. Run special commands:\n",
      "        yolo help\n",
      "        yolo checks\n",
      "        yolo version\n",
      "        yolo settings\n",
      "        yolo copy-cfg\n",
      "        yolo cfg\n",
      "\n",
      "    Docs: https://docs.ultralytics.com\n",
      "    Community: https://community.ultralytics.com\n",
      "    GitHub: https://github.com/ultralytics/ultralytics\n",
      "\u001b[36m(_WandbLoggingActor pid=1928771)\u001b[0m wandb: Currently logged in as: csr33 (turn). Use `wandb login --relogin` to force relogin\n",
      "2024-01-30 14:48:46,869\tERROR tune_controller.py:1374 -- Trial task failed for trial _tune_7b2c1_00000\n",
      "Traceback (most recent call last):\n",
      "  File \"/hpc/group/borsuklab/cred/.conda/envs/yolov8_env/lib/python3.11/site-packages/ray/air/execution/_internal/event_manager.py\", line 110, in resolve_future\n",
      "    result = ray.get(future)\n",
      "             ^^^^^^^^^^^^^^^\n",
      "  File \"/hpc/group/borsuklab/cred/.conda/envs/yolov8_env/lib/python3.11/site-packages/ray/_private/auto_init_hook.py\", line 22, in auto_init_wrapper\n",
      "    return fn(*args, **kwargs)\n",
      "           ^^^^^^^^^^^^^^^^^^^\n",
      "  File \"/hpc/group/borsuklab/cred/.conda/envs/yolov8_env/lib/python3.11/site-packages/ray/_private/client_mode_hook.py\", line 103, in wrapper\n",
      "    return func(*args, **kwargs)\n",
      "           ^^^^^^^^^^^^^^^^^^^^^\n",
      "  File \"/hpc/group/borsuklab/cred/.conda/envs/yolov8_env/lib/python3.11/site-packages/ray/_private/worker.py\", line 2624, in get\n",
      "    raise value.as_instanceof_cause()\n",
      "ray.exceptions.RayTaskError(SyntaxError): <no detail available>\n",
      "\u001b[36m(_WandbLoggingActor pid=1928771)\u001b[0m wandb: Tracking run with wandb version 0.16.2\n",
      "\u001b[36m(_WandbLoggingActor pid=1928771)\u001b[0m wandb: Run data is saved locally in /hpc/home/csr33/ray_results/_tune_2024-01-30_14-48-03/_tune_7b2c1_00001_1_box=0.1092,cls=2.8293,copy_paste=0.1921,degrees=11.3470,fliplr=0.7217,flipud=0.0958,hsv_h=0.0835,hsv_s=0.1652,_2024-01-30_14-48-03/wandb/run-20240130_144844-7b2c1_00001\n",
      "\u001b[36m(_WandbLoggingActor pid=1928771)\u001b[0m wandb: Run `wandb offline` to turn off syncing.\n",
      "\u001b[36m(_WandbLoggingActor pid=1928771)\u001b[0m wandb: Syncing run _tune_7b2c1_00001\n",
      "\u001b[36m(_WandbLoggingActor pid=1928771)\u001b[0m wandb: ⭐️ View project at https://wandb.ai/turn/YOLOv8-tune\n",
      "\u001b[36m(_WandbLoggingActor pid=1928771)\u001b[0m wandb: 🚀 View run at https://wandb.ai/turn/YOLOv8-tune/runs/7b2c1_00001\n",
      "\u001b[36m(_WandbLoggingActor pid=1928777)\u001b[0m wandb: Currently logged in as: csr33 (turn). Use `wandb login --relogin` to force relogin\n",
      "\u001b[36m(_WandbLoggingActor pid=1928771)\u001b[0m wandb: - 0.005 MB of 0.009 MB uploaded\n",
      "wandb:                                                                                \n",
      "\u001b[36m(_WandbLoggingActor pid=1928771)\u001b[0m wandb: 🚀 View run _tune_7b2c1_00001 at: https://wandb.ai/turn/YOLOv8-tune/runs/7b2c1_00001\n",
      "\u001b[36m(_WandbLoggingActor pid=1928771)\u001b[0m wandb: Synced 5 W&B file(s), 0 media file(s), 0 artifact file(s) and 0 other file(s)\n",
      "\u001b[36m(_WandbLoggingActor pid=1928771)\u001b[0m wandb: Find logs at: ./wandb/run-20240130_144844-7b2c1_00001/logs\n",
      "wandb:                                                                                \n",
      "\u001b[36m(_WandbLoggingActor pid=1928777)\u001b[0m wandb: Tracking run with wandb version 0.16.2\n",
      "\u001b[36m(_WandbLoggingActor pid=1928777)\u001b[0m wandb: Run data is saved locally in /hpc/home/csr33/ray_results/_tune_2024-01-30_14-48-03/_tune_7b2c1_00000_0_box=0.0651,cls=1.0316,copy_paste=0.8538,degrees=29.4672,fliplr=0.4374,flipud=0.0653,hsv_h=0.0686,hsv_s=0.1444,_2024-01-30_14-48-03/wandb/run-20240130_144844-7b2c1_00000\n",
      "\u001b[36m(_WandbLoggingActor pid=1928777)\u001b[0m wandb: Run `wandb offline` to turn off syncing.\n",
      "\u001b[36m(_WandbLoggingActor pid=1928777)\u001b[0m wandb: Syncing run _tune_7b2c1_00000\n",
      "\u001b[36m(_WandbLoggingActor pid=1928777)\u001b[0m wandb: ⭐️ View project at https://wandb.ai/turn/YOLOv8-tune\n",
      "\u001b[36m(_WandbLoggingActor pid=1928777)\u001b[0m wandb: 🚀 View run at https://wandb.ai/turn/YOLOv8-tune/runs/7b2c1_00000\n",
      "2024-01-30 14:48:57,233\tERROR tune.py:1038 -- Trials did not complete: [_tune_7b2c1_00000, _tune_7b2c1_00001]\n",
      "2024-01-30 14:48:57,234\tINFO tune.py:1042 -- Total run time: 53.55 seconds (50.46 seconds for the tuning loop).\n"
     ]
    }
   ],
   "source": [
    "# https://docs.ray.io/en/latest/tune/examples/tune_analyze_results.html\n",
    "# https://docs.ray.io/en/latest/tune/index.html\n",
    "# https://docs.ultralytics.com/reference/engine/tuner/?h=tune\n",
    "# Tune hyperparameters on COCO8 for 30 epochs\n",
    "# Use model.tune to tune the hyperparameters\n",
    "\n",
    "# Start tuning hyperparameters for YOLOv8n training on the COCO8 dataset\n",
    "\n",
    "#parallel on single gpu\n",
    "#https://discuss.ray.io/t/how-do-i-run-my-experiment-on-a-single-gpu/9689\n",
    "\n",
    "\n",
    "result_grid = model.tune(data=args.data, epochs=1, iterations=2,\n",
    "                         gpu_per_trial = 0.5, #https://github.com/ultralytics/ultralytics/issues/4133\n",
    "                         #cpu_per_trial =2,\n",
    "                         workers=1, \n",
    "                         project=\"/work/csr33/object_detection\",\n",
    "                         name=exp_name,\n",
    "                         use_ray=True, grace_period = 1) #grace period must be less than the number of epochs"
   ]
  },
  {
   "cell_type": "code",
   "execution_count": null,
   "id": "73c04b6f-a055-4a77-930c-d1abd96f3911",
   "metadata": {},
   "outputs": [],
   "source": []
  },
  {
   "cell_type": "code",
   "execution_count": 10,
   "id": "e734e004-35e3-49c9-a0a6-de3a9e38b9f3",
   "metadata": {},
   "outputs": [
    {
     "data": {
      "text/plain": [
       "ResultGrid<[\n",
       "  Result(\n",
       "    metrics={'metrics/precision(B)': 0.8028519858278855, 'metrics/recall(B)': 0.3670430689528504, 'metrics/mAP50(B)': 0.39748359961895374, 'metrics/mAP50-95(B)': 0.2011574046913876, 'fitness': 0.22079002418414423},\n",
       "    path='/work/csr33/object_detection/runs/detect/tune22/_tune_2024-01-30_12-51-34/_tune_35523_00000_0_box=0.0815,cls=2.0199,copy_paste=0.6378,degrees=16.5524,fliplr=0.0301,flipud=0.4739,hsv_h=0.0891,hsv_s=0.4417,_2024-01-30_12-51-34',\n",
       "    filesystem='local',\n",
       "    checkpoint=None\n",
       "  )\n",
       "]>"
      ]
     },
     "execution_count": 10,
     "metadata": {},
     "output_type": "execute_result"
    }
   ],
   "source": [
    "result_grid"
   ]
  },
  {
   "cell_type": "code",
   "execution_count": 12,
   "id": "13590b8e-7f72-4afc-af31-36aab2616ba9",
   "metadata": {},
   "outputs": [],
   "source": [
    "# trainable\n",
    "# https://github.com/ultralytics/ultralytics/issues/6212\n",
    "\n",
    "restored_tuner = tune.Tuner.restore(\"/work/csr33/object_detection/runs/detect/tune22/_tune_2024-01-30_12-51-34\",#\"/tmp/tmp_vsfwz0p/test_tune1\",\n",
    "                                    trainable=\"_tune\")#/tmp/tmp_vsfwz0p/test_tune1\n",
    "\n",
    "result_grid = restored_tuner.get_results()"
   ]
  },
  {
   "cell_type": "markdown",
   "id": "94e9ab89-3a08-4180-b219-02830c5a3cbc",
   "metadata": {},
   "source": [
    "# result_grid.get_best_result"
   ]
  },
  {
   "cell_type": "code",
   "execution_count": null,
   "id": "f52cf5a1-d5a5-4003-9db2-70f8b1ed11a0",
   "metadata": {},
   "outputs": [],
   "source": [
    "experiment_path = f\"{storage_path}/{exp_name}\"\n",
    "print(f\"Loading results from {experiment_path}...\")\n",
    "\n"
   ]
  },
  {
   "cell_type": "code",
   "execution_count": 15,
   "id": "02645d93-c452-45fa-b9f3-b7235c432b04",
   "metadata": {},
   "outputs": [
    {
     "ename": "AttributeError",
     "evalue": "'NoneType' object has no attribute 'errors'",
     "output_type": "error",
     "traceback": [
      "\u001b[0;31m---------------------------------------------------------------------------\u001b[0m",
      "\u001b[0;31mAttributeError\u001b[0m                            Traceback (most recent call last)",
      "Cell \u001b[0;32mIn[15], line 1\u001b[0m\n\u001b[0;32m----> 1\u001b[0m \u001b[38;5;28;01mif\u001b[39;00m result_grid\u001b[38;5;241m.\u001b[39merrors:\n\u001b[1;32m      2\u001b[0m     \u001b[38;5;28mprint\u001b[39m(\u001b[38;5;124m\"\u001b[39m\u001b[38;5;124mOne or more trials failed!\u001b[39m\u001b[38;5;124m\"\u001b[39m)\n\u001b[1;32m      3\u001b[0m \u001b[38;5;28;01melse\u001b[39;00m:\n",
      "\u001b[0;31mAttributeError\u001b[0m: 'NoneType' object has no attribute 'errors'"
     ]
    }
   ],
   "source": [
    "if result_grid.errors:\n",
    "    print(\"One or more trials failed!\")\n",
    "else:\n",
    "    print(\"No errors!\")"
   ]
  },
  {
   "cell_type": "code",
   "execution_count": null,
   "id": "40459325-6eac-46c1-81c7-65197430239f",
   "metadata": {},
   "outputs": [],
   "source": [
    "#https://docs.ultralytics.com/reference/utils/tuner/\n",
    "#https://docs.ultralytics.com/reference/utils/tuner/#ultralytics.utils.tuner.run_ray_tune\n",
    "\n",
    "\n",
    "def tune(args):\n",
    "    experiment = Experiment(\n",
    "    api_key='CwpWEkJDRJc0rY57WYgoDuJvp',\n",
    "    project_name='yolov8-ast-tume',)\n",
    "    # Load the model.\n",
    "    # Initialize the YOLO model\n",
    "\n",
    "    # Log the best hyperparameters to Comet ML\n",
    "    experiment.log_parameters(best_params)\n",
    "    # Train the model with the best hyperparameters\n",
    "    model.train()\n",
    "    # Log the model to Comet ML\n",
    "    experiment.log_model(\"YOLOv8\", \"yolov8.pth\")\n"
   ]
  },
  {
   "cell_type": "code",
   "execution_count": null,
   "id": "858798fa-08e5-4dc2-a65a-f44f5f825e45",
   "metadata": {},
   "outputs": [],
   "source": [
    "if __name__ == '__main__':\n",
    "    # Get the arguments\n",
    "    args = get_args_parse()\n",
    "    print(args)\n",
    "    tune(args)"
   ]
  }
 ],
 "metadata": {
  "kernelspec": {
   "display_name": "yolov8 env",
   "language": "python",
   "name": "yolov8_env"
  },
  "language_info": {
   "codemirror_mode": {
    "name": "ipython",
    "version": 3
   },
   "file_extension": ".py",
   "mimetype": "text/x-python",
   "name": "python",
   "nbconvert_exporter": "python",
   "pygments_lexer": "ipython3",
   "version": "3.11.7"
  }
 },
 "nbformat": 4,
 "nbformat_minor": 5
}
