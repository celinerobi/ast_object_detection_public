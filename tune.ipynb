{
 "cells": [
  {
   "cell_type": "code",
   "execution_count": 2,
   "id": "cec7cee7-1b44-4ecf-9bd0-194cc5dbaf53",
   "metadata": {},
   "outputs": [],
   "source": [
    "import os\n",
    "\n",
    "from ultralytics import YOLO\n",
    "from ultralytics import settings\n",
    "\n",
    "from ray import train, tune\n",
    "from ray.tune import ResultGrid\n",
    "\n",
    "import argparse\n",
    "import sys"
   ]
  },
  {
   "cell_type": "code",
   "execution_count": 3,
   "id": "2b37bb56-8516-4f95-b83f-3416782ebf1b",
   "metadata": {},
   "outputs": [],
   "source": [
    "def get_args_parse():\n",
    "    parser = argparse.ArgumentParser(\"Exploratory Data Analysis\")\n",
    "    parser.add_argument(\"--data\", default=\"/hpc/home/csr33/ast_object_detection/ast.yaml\", type=str)\n",
    "    parser.add_argument(\"--model\", default='yolov8n.pt', type=str)\n",
    "    args = parser.parse_args()\n",
    "    return args\n",
    "sys.argv = ['my_notebook']\n",
    "args = get_args_parse()"
   ]
  },
  {
   "cell_type": "code",
   "execution_count": 4,
   "id": "a7e6403f-1474-418a-8d95-7cbe914dc9ee",
   "metadata": {
    "collapsed": true,
    "jupyter": {
     "outputs_hidden": true
    },
    "tags": []
   },
   "outputs": [
    {
     "name": "stdout",
     "output_type": "stream",
     "text": [
      "\u001b[34m\u001b[1mTuner: \u001b[0mInitialized Tuner instance with 'tune_dir=/work/csr33/object_detection/runs/detect/tune29'\n",
      "\u001b[34m\u001b[1mTuner: \u001b[0m💡 Learn about tuning at https://docs.ultralytics.com/guides/hyperparameter-tuning\n",
      "\u001b[34m\u001b[1mTuner: \u001b[0mStarting iteration 1/2 with hyperparameters: {'lr0': 0.01, 'lrf': 0.01, 'momentum': 0.937, 'weight_decay': 0.0005, 'warmup_epochs': 3.0, 'warmup_momentum': 0.8, 'box': 7.5, 'cls': 0.5, 'dfl': 1.5, 'hsv_h': 0.015, 'hsv_s': 0.7, 'hsv_v': 0.4, 'degrees': 0.0, 'translate': 0.1, 'scale': 0.5, 'shear': 0.0, 'perspective': 0.0, 'flipud': 0.0, 'fliplr': 0.5, 'mosaic': 1.0, 'mixup': 0.0, 'copy_paste': 0.0}\n",
      "New https://pypi.org/project/ultralytics/8.1.8 available 😃 Update with 'pip install -U ultralytics'\n",
      "Ultralytics YOLOv8.1.7 🚀 Python-3.9.18 torch-2.1.2+cu121 CUDA:0 (NVIDIA RTX A5000, 24040MiB)\n",
      "\u001b[34m\u001b[1mengine/trainer: \u001b[0mtask=detect, mode=train, model=yolov8n.pt, data=/hpc/home/csr33/ast_object_detection/ast.yaml, epochs=5, time=None, patience=50, batch=16, imgsz=640, save=True, save_period=-1, cache=False, device=None, workers=8, project=None, name=train78, exist_ok=False, pretrained=True, optimizer=auto, verbose=True, seed=0, deterministic=True, single_cls=False, rect=False, cos_lr=False, close_mosaic=10, resume=False, amp=True, fraction=1.0, profile=False, freeze=None, multi_scale=False, overlap_mask=True, mask_ratio=4, dropout=0.0, val=True, split=val, save_json=False, save_hybrid=False, conf=None, iou=0.7, max_det=300, half=False, dnn=False, plots=True, source=None, vid_stride=1, stream_buffer=False, visualize=False, augment=False, agnostic_nms=False, classes=None, retina_masks=False, embed=None, show=False, save_frames=False, save_txt=False, save_conf=False, save_crop=False, show_labels=True, show_conf=True, show_boxes=True, line_width=None, format=torchscript, keras=False, optimize=False, int8=False, dynamic=False, simplify=False, opset=None, workspace=4, nms=False, lr0=0.01, lrf=0.01, momentum=0.937, weight_decay=0.0005, warmup_epochs=3.0, warmup_momentum=0.8, warmup_bias_lr=0.1, box=7.5, cls=0.5, dfl=1.5, pose=12.0, kobj=1.0, label_smoothing=0.0, nbs=64, hsv_h=0.015, hsv_s=0.7, hsv_v=0.4, degrees=0.0, translate=0.1, scale=0.5, shear=0.0, perspective=0.0, flipud=0.0, fliplr=0.5, mosaic=1.0, mixup=0.0, copy_paste=0.0, auto_augment=randaugment, erasing=0.4, crop_fraction=1.0, cfg=None, tracker=botsort.yaml, save_dir=/work/csr33/object_detection/runs/detect/train78\n",
      "Overriding model.yaml nc=80 with nc=7\n",
      "\n",
      "                   from  n    params  module                                       arguments                     \n",
      "  0                  -1  1       464  ultralytics.nn.modules.conv.Conv             [3, 16, 3, 2]                 \n",
      "  1                  -1  1      4672  ultralytics.nn.modules.conv.Conv             [16, 32, 3, 2]                \n",
      "  2                  -1  1      7360  ultralytics.nn.modules.block.C2f             [32, 32, 1, True]             \n",
      "  3                  -1  1     18560  ultralytics.nn.modules.conv.Conv             [32, 64, 3, 2]                \n",
      "  4                  -1  2     49664  ultralytics.nn.modules.block.C2f             [64, 64, 2, True]             \n",
      "  5                  -1  1     73984  ultralytics.nn.modules.conv.Conv             [64, 128, 3, 2]               \n",
      "  6                  -1  2    197632  ultralytics.nn.modules.block.C2f             [128, 128, 2, True]           \n",
      "  7                  -1  1    295424  ultralytics.nn.modules.conv.Conv             [128, 256, 3, 2]              \n",
      "  8                  -1  1    460288  ultralytics.nn.modules.block.C2f             [256, 256, 1, True]           \n",
      "  9                  -1  1    164608  ultralytics.nn.modules.block.SPPF            [256, 256, 5]                 \n",
      " 10                  -1  1         0  torch.nn.modules.upsampling.Upsample         [None, 2, 'nearest']          \n",
      " 11             [-1, 6]  1         0  ultralytics.nn.modules.conv.Concat           [1]                           \n",
      " 12                  -1  1    148224  ultralytics.nn.modules.block.C2f             [384, 128, 1]                 \n",
      " 13                  -1  1         0  torch.nn.modules.upsampling.Upsample         [None, 2, 'nearest']          \n",
      " 14             [-1, 4]  1         0  ultralytics.nn.modules.conv.Concat           [1]                           \n",
      " 15                  -1  1     37248  ultralytics.nn.modules.block.C2f             [192, 64, 1]                  \n",
      " 16                  -1  1     36992  ultralytics.nn.modules.conv.Conv             [64, 64, 3, 2]                \n",
      " 17            [-1, 12]  1         0  ultralytics.nn.modules.conv.Concat           [1]                           \n",
      " 18                  -1  1    123648  ultralytics.nn.modules.block.C2f             [192, 128, 1]                 \n",
      " 19                  -1  1    147712  ultralytics.nn.modules.conv.Conv             [128, 128, 3, 2]              \n",
      " 20             [-1, 9]  1         0  ultralytics.nn.modules.conv.Concat           [1]                           \n",
      " 21                  -1  1    493056  ultralytics.nn.modules.block.C2f             [384, 256, 1]                 \n",
      " 22        [15, 18, 21]  1    752677  ultralytics.nn.modules.head.Detect           [7, [64, 128, 256]]           \n",
      "Model summary: 225 layers, 3012213 parameters, 3012197 gradients, 8.2 GFLOPs\n",
      "\n",
      "Transferred 319/355 items from pretrained weights\n",
      "Freezing layer 'model.22.dfl.conv.weight'\n",
      "\u001b[34m\u001b[1mAMP: \u001b[0mrunning Automatic Mixed Precision (AMP) checks with YOLOv8n...\n",
      "WARNING ⚠️ NMS time limit 2.050s exceeded\n",
      "\u001b[34m\u001b[1mAMP: \u001b[0mchecks passed ✅\n"
     ]
    },
    {
     "name": "stderr",
     "output_type": "stream",
     "text": [
      "\u001b[34m\u001b[1mtrain: \u001b[0mScanning /work/csr33/ast/datasets/ast_yolov5/labels/train.cache... 19347 images, 0 backgrounds, 0 corrupt: 100%|██████████| 19347/19347 [00:00<?, ?it/s]\n"
     ]
    },
    {
     "name": "stdout",
     "output_type": "stream",
     "text": [
      "\u001b[34m\u001b[1mtrain: \u001b[0mWARNING ⚠️ /work/csr33/ast/datasets/ast_yolov5/images/train/m_3812263_se_10_060_20180723_15_18.jpg: 1 duplicate labels removed\n"
     ]
    },
    {
     "name": "stderr",
     "output_type": "stream",
     "text": [
      "\u001b[34m\u001b[1mval: \u001b[0mScanning /work/csr33/ast/datasets/ast_yolov5/labels/val.cache... 4146 images, 0 backgrounds, 0 corrupt: 100%|██████████| 4146/4146 [00:00<?, ?it/s]\n",
      "/hpc/home/csr33/.local/lib/python3.9/site-packages/torch/utils/data/dataloader.py:557: UserWarning: This DataLoader will create 16 worker processes in total. Our suggested max number of worker in current system is 8, which is smaller than what this DataLoader is going to create. Please be aware that excessive worker creation might get DataLoader running slow or even freeze, lower the worker number to avoid potential slowness/freeze if necessary.\n",
      "  warnings.warn(_create_warning_msg(\n"
     ]
    },
    {
     "name": "stdout",
     "output_type": "stream",
     "text": [
      "\u001b[34m\u001b[1mval: \u001b[0mWARNING ⚠️ /work/csr33/ast/datasets/ast_yolov5/images/val/m_3809031_sw_15_060_20181121_04_01.jpg: 1 duplicate labels removed\n",
      "Plotting labels to /work/csr33/object_detection/runs/detect/train78/labels.jpg... \n",
      "\u001b[34m\u001b[1moptimizer:\u001b[0m 'optimizer=auto' found, ignoring 'lr0=0.01' and 'momentum=0.937' and determining best 'optimizer', 'lr0' and 'momentum' automatically... \n",
      "\u001b[34m\u001b[1moptimizer:\u001b[0m AdamW(lr=0.000909, momentum=0.9) with parameter groups 57 weight(decay=0.0), 64 weight(decay=0.0005), 63 bias(decay=0.0)\n",
      "Image sizes 640 train, 640 val\n",
      "Using 8 dataloader workers\n",
      "Logging results to \u001b[1m/work/csr33/object_detection/runs/detect/train78\u001b[0m\n",
      "Starting training for 5 epochs...\n",
      "\n",
      "      Epoch    GPU_mem   box_loss   cls_loss   dfl_loss  Instances       Size\n"
     ]
    },
    {
     "name": "stderr",
     "output_type": "stream",
     "text": [
      "        1/5       3.8G      1.116      1.648     0.9539         10        640: 100%|██████████| 1210/1210 [02:48<00:00,  7.20it/s]\n",
      "                 Class     Images  Instances      Box(P          R      mAP50  mAP50-95): 100%|██████████| 130/130 [00:23<00:00,  5.58it/s]\n"
     ]
    },
    {
     "name": "stdout",
     "output_type": "stream",
     "text": [
      "                   all       4146      21256      0.553      0.461      0.462      0.328\n",
      "\n",
      "      Epoch    GPU_mem   box_loss   cls_loss   dfl_loss  Instances       Size\n"
     ]
    },
    {
     "name": "stderr",
     "output_type": "stream",
     "text": [
      "        2/5      3.24G       1.04     0.9914      0.926         18        640: 100%|██████████| 1210/1210 [02:06<00:00,  9.58it/s]\n",
      "                 Class     Images  Instances      Box(P          R      mAP50  mAP50-95): 100%|██████████| 130/130 [00:17<00:00,  7.44it/s]\n"
     ]
    },
    {
     "name": "stdout",
     "output_type": "stream",
     "text": [
      "                   all       4146      21256      0.643      0.527      0.534      0.377\n",
      "\n",
      "      Epoch    GPU_mem   box_loss   cls_loss   dfl_loss  Instances       Size\n"
     ]
    },
    {
     "name": "stderr",
     "output_type": "stream",
     "text": [
      "        3/5      3.57G      1.013     0.8782     0.9185         46        640: 100%|██████████| 1210/1210 [02:13<00:00,  9.05it/s]\n",
      "                 Class     Images  Instances      Box(P          R      mAP50  mAP50-95): 100%|██████████| 130/130 [00:21<00:00,  6.18it/s]\n"
     ]
    },
    {
     "name": "stdout",
     "output_type": "stream",
     "text": [
      "                   all       4146      21256        0.7      0.584      0.576      0.409\n",
      "\n",
      "      Epoch    GPU_mem   box_loss   cls_loss   dfl_loss  Instances       Size\n"
     ]
    },
    {
     "name": "stderr",
     "output_type": "stream",
     "text": [
      "        4/5      3.77G     0.9877     0.8153     0.9105         12        640: 100%|██████████| 1210/1210 [02:03<00:00,  9.78it/s]\n",
      "                 Class     Images  Instances      Box(P          R      mAP50  mAP50-95): 100%|██████████| 130/130 [00:20<00:00,  6.44it/s]\n"
     ]
    },
    {
     "name": "stdout",
     "output_type": "stream",
     "text": [
      "                   all       4146      21256      0.714      0.584      0.606      0.429\n",
      "\n",
      "      Epoch    GPU_mem   box_loss   cls_loss   dfl_loss  Instances       Size\n"
     ]
    },
    {
     "name": "stderr",
     "output_type": "stream",
     "text": [
      "        5/5      3.98G     0.9739     0.7984     0.9058         17        640: 100%|██████████| 1210/1210 [02:08<00:00,  9.41it/s]\n",
      "                 Class     Images  Instances      Box(P          R      mAP50  mAP50-95): 100%|██████████| 130/130 [00:20<00:00,  6.30it/s]\n"
     ]
    },
    {
     "name": "stdout",
     "output_type": "stream",
     "text": [
      "                   all       4146      21256      0.748      0.562      0.619      0.442\n",
      "\n",
      "5 epochs completed in 0.221 hours.\n",
      "Optimizer stripped from /work/csr33/object_detection/runs/detect/train78/weights/last.pt, 6.2MB\n",
      "Optimizer stripped from /work/csr33/object_detection/runs/detect/train78/weights/best.pt, 6.2MB\n",
      "\n",
      "Validating /work/csr33/object_detection/runs/detect/train78/weights/best.pt...\n",
      "Ultralytics YOLOv8.1.7 🚀 Python-3.9.18 torch-2.1.2+cu121 CUDA:0 (NVIDIA RTX A5000, 24040MiB)\n",
      "Model summary (fused): 168 layers, 3007013 parameters, 0 gradients, 8.1 GFLOPs\n"
     ]
    },
    {
     "name": "stderr",
     "output_type": "stream",
     "text": [
      "                 Class     Images  Instances      Box(P          R      mAP50  mAP50-95): 100%|██████████| 130/130 [00:20<00:00,  6.29it/s]\n"
     ]
    },
    {
     "name": "stdout",
     "output_type": "stream",
     "text": [
      "                   all       4146      21256      0.747      0.562      0.619      0.442\n",
      "    sedimentation_tank       4146        881      0.786      0.816      0.861      0.677\n",
      "           water_tower       4146        216      0.564      0.662       0.66      0.411\n",
      "        spherical_tank       4146        219      0.562      0.279      0.381      0.264\n",
      "      closed_roof_tank       4146      10728      0.798      0.885      0.915      0.704\n",
      "external_floating_roof_tank       4146       1622      0.721      0.907      0.903      0.762\n",
      "narrow_closed_roof_tank       4146       7455      0.797      0.382      0.602      0.271\n",
      "      undefined_object       4146        135          1          0     0.0139     0.0098\n",
      "Speed: 0.2ms preprocess, 0.8ms inference, 0.0ms loss, 1.0ms postprocess per image\n",
      "Results saved to \u001b[1m/work/csr33/object_detection/runs/detect/train78\u001b[0m\n",
      "💡 Learn more at https://docs.ultralytics.com/modes/train\n",
      "WARNING ❌️ training failure for hyperparameter tuning iteration 1\n",
      "No module named 'dill'\n",
      "Saved /work/csr33/object_detection/runs/detect/tune29/tune_scatter_plots.png\n",
      "Saved /work/csr33/object_detection/runs/detect/tune29/tune_fitness.png\n",
      "\n",
      "\u001b[34m\u001b[1mTuner: \u001b[0m1/2 iterations complete ✅ (1003.07s)\n",
      "\u001b[34m\u001b[1mTuner: \u001b[0mResults saved to \u001b[1m/work/csr33/object_detection/runs/detect/tune29\u001b[0m\n",
      "\u001b[34m\u001b[1mTuner: \u001b[0mBest fitness=0.0 observed at iteration 1\n",
      "\u001b[34m\u001b[1mTuner: \u001b[0mBest fitness metrics are {}\n",
      "\u001b[34m\u001b[1mTuner: \u001b[0mBest fitness model is /work/csr33/object_detection/runs/detect/train78\n",
      "\u001b[34m\u001b[1mTuner: \u001b[0mBest fitness hyperparameters are printed below.\n",
      "\n",
      "Printing '\u001b[1m\u001b[30m/work/csr33/object_detection/runs/detect/tune29/best_hyperparameters.yaml\u001b[0m'\n",
      "\n",
      "lr0: 0.01\n",
      "lrf: 0.01\n",
      "momentum: 0.937\n",
      "weight_decay: 0.0005\n",
      "warmup_epochs: 3.0\n",
      "warmup_momentum: 0.8\n",
      "box: 7.5\n",
      "cls: 0.5\n",
      "dfl: 1.5\n",
      "hsv_h: 0.015\n",
      "hsv_s: 0.7\n",
      "hsv_v: 0.4\n",
      "degrees: 0.0\n",
      "translate: 0.1\n",
      "scale: 0.5\n",
      "shear: 0.0\n",
      "perspective: 0.0\n",
      "flipud: 0.0\n",
      "fliplr: 0.5\n",
      "mosaic: 1.0\n",
      "mixup: 0.0\n",
      "copy_paste: 0.0\n",
      "\n",
      "\u001b[34m\u001b[1mTuner: \u001b[0mStarting iteration 2/2 with hyperparameters: {'lr0': 0.01147, 'lrf': 0.01, 'momentum': 0.96557, 'weight_decay': 0.0005, 'warmup_epochs': 2.94349, 'warmup_momentum': 0.94397, 'box': 7.89693, 'cls': 0.53326, 'dfl': 1.5, 'hsv_h': 0.0181, 'hsv_s': 0.7, 'hsv_v': 0.38802, 'degrees': 0.0, 'translate': 0.0969, 'scale': 0.54597, 'shear': 0.0, 'perspective': 0.0, 'flipud': 0.0, 'fliplr': 0.43121, 'mosaic': 1.0, 'mixup': 0.0, 'copy_paste': 0.0}\n",
      "New https://pypi.org/project/ultralytics/8.1.8 available 😃 Update with 'pip install -U ultralytics'\n",
      "Ultralytics YOLOv8.1.7 🚀 Python-3.9.18 torch-2.1.2+cu121 CUDA:0 (NVIDIA RTX A5000, 24040MiB)\n",
      "\u001b[34m\u001b[1mengine/trainer: \u001b[0mtask=detect, mode=train, model=yolov8n.pt, data=/hpc/home/csr33/ast_object_detection/ast.yaml, epochs=5, time=None, patience=50, batch=16, imgsz=640, save=True, save_period=-1, cache=False, device=None, workers=8, project=None, name=train79, exist_ok=False, pretrained=True, optimizer=auto, verbose=True, seed=0, deterministic=True, single_cls=False, rect=False, cos_lr=False, close_mosaic=10, resume=False, amp=True, fraction=1.0, profile=False, freeze=None, multi_scale=False, overlap_mask=True, mask_ratio=4, dropout=0.0, val=True, split=val, save_json=False, save_hybrid=False, conf=None, iou=0.7, max_det=300, half=False, dnn=False, plots=True, source=None, vid_stride=1, stream_buffer=False, visualize=False, augment=False, agnostic_nms=False, classes=None, retina_masks=False, embed=None, show=False, save_frames=False, save_txt=False, save_conf=False, save_crop=False, show_labels=True, show_conf=True, show_boxes=True, line_width=None, format=torchscript, keras=False, optimize=False, int8=False, dynamic=False, simplify=False, opset=None, workspace=4, nms=False, lr0=0.01147, lrf=0.01, momentum=0.96557, weight_decay=0.0005, warmup_epochs=2.94349, warmup_momentum=0.94397, warmup_bias_lr=0.1, box=7.89693, cls=0.53326, dfl=1.5, pose=12.0, kobj=1.0, label_smoothing=0.0, nbs=64, hsv_h=0.0181, hsv_s=0.7, hsv_v=0.38802, degrees=0.0, translate=0.0969, scale=0.54597, shear=0.0, perspective=0.0, flipud=0.0, fliplr=0.43121, mosaic=1.0, mixup=0.0, copy_paste=0.0, auto_augment=randaugment, erasing=0.4, crop_fraction=1.0, cfg=None, tracker=botsort.yaml, save_dir=/work/csr33/object_detection/runs/detect/train79\n",
      "Overriding model.yaml nc=80 with nc=7\n",
      "\n",
      "                   from  n    params  module                                       arguments                     \n",
      "  0                  -1  1       464  ultralytics.nn.modules.conv.Conv             [3, 16, 3, 2]                 \n",
      "  1                  -1  1      4672  ultralytics.nn.modules.conv.Conv             [16, 32, 3, 2]                \n",
      "  2                  -1  1      7360  ultralytics.nn.modules.block.C2f             [32, 32, 1, True]             \n",
      "  3                  -1  1     18560  ultralytics.nn.modules.conv.Conv             [32, 64, 3, 2]                \n",
      "  4                  -1  2     49664  ultralytics.nn.modules.block.C2f             [64, 64, 2, True]             \n",
      "  5                  -1  1     73984  ultralytics.nn.modules.conv.Conv             [64, 128, 3, 2]               \n",
      "  6                  -1  2    197632  ultralytics.nn.modules.block.C2f             [128, 128, 2, True]           \n",
      "  7                  -1  1    295424  ultralytics.nn.modules.conv.Conv             [128, 256, 3, 2]              \n",
      "  8                  -1  1    460288  ultralytics.nn.modules.block.C2f             [256, 256, 1, True]           \n",
      "  9                  -1  1    164608  ultralytics.nn.modules.block.SPPF            [256, 256, 5]                 \n",
      " 10                  -1  1         0  torch.nn.modules.upsampling.Upsample         [None, 2, 'nearest']          \n",
      " 11             [-1, 6]  1         0  ultralytics.nn.modules.conv.Concat           [1]                           \n",
      " 12                  -1  1    148224  ultralytics.nn.modules.block.C2f             [384, 128, 1]                 \n",
      " 13                  -1  1         0  torch.nn.modules.upsampling.Upsample         [None, 2, 'nearest']          \n",
      " 14             [-1, 4]  1         0  ultralytics.nn.modules.conv.Concat           [1]                           \n",
      " 15                  -1  1     37248  ultralytics.nn.modules.block.C2f             [192, 64, 1]                  \n",
      " 16                  -1  1     36992  ultralytics.nn.modules.conv.Conv             [64, 64, 3, 2]                \n",
      " 17            [-1, 12]  1         0  ultralytics.nn.modules.conv.Concat           [1]                           \n",
      " 18                  -1  1    123648  ultralytics.nn.modules.block.C2f             [192, 128, 1]                 \n",
      " 19                  -1  1    147712  ultralytics.nn.modules.conv.Conv             [128, 128, 3, 2]              \n",
      " 20             [-1, 9]  1         0  ultralytics.nn.modules.conv.Concat           [1]                           \n",
      " 21                  -1  1    493056  ultralytics.nn.modules.block.C2f             [384, 256, 1]                 \n",
      " 22        [15, 18, 21]  1    752677  ultralytics.nn.modules.head.Detect           [7, [64, 128, 256]]           \n",
      "Model summary: 225 layers, 3012213 parameters, 3012197 gradients, 8.2 GFLOPs\n",
      "\n",
      "Transferred 319/355 items from pretrained weights\n",
      "Freezing layer 'model.22.dfl.conv.weight'\n",
      "\u001b[34m\u001b[1mAMP: \u001b[0mrunning Automatic Mixed Precision (AMP) checks with YOLOv8n...\n",
      "\u001b[34m\u001b[1mAMP: \u001b[0mchecks passed ✅\n"
     ]
    },
    {
     "name": "stderr",
     "output_type": "stream",
     "text": [
      "\u001b[34m\u001b[1mtrain: \u001b[0mScanning /work/csr33/ast/datasets/ast_yolov5/labels/train.cache... 19347 images, 0 backgrounds, 0 corrupt: 100%|██████████| 19347/19347 [00:00<?, ?it/s]\n"
     ]
    },
    {
     "name": "stdout",
     "output_type": "stream",
     "text": [
      "\u001b[34m\u001b[1mtrain: \u001b[0mWARNING ⚠️ /work/csr33/ast/datasets/ast_yolov5/images/train/m_3812263_se_10_060_20180723_15_18.jpg: 1 duplicate labels removed\n"
     ]
    },
    {
     "name": "stderr",
     "output_type": "stream",
     "text": [
      "\u001b[34m\u001b[1mval: \u001b[0mScanning /work/csr33/ast/datasets/ast_yolov5/labels/val.cache... 4146 images, 0 backgrounds, 0 corrupt: 100%|██████████| 4146/4146 [00:00<?, ?it/s]\n",
      "/hpc/home/csr33/.local/lib/python3.9/site-packages/torch/utils/data/dataloader.py:557: UserWarning: This DataLoader will create 16 worker processes in total. Our suggested max number of worker in current system is 8, which is smaller than what this DataLoader is going to create. Please be aware that excessive worker creation might get DataLoader running slow or even freeze, lower the worker number to avoid potential slowness/freeze if necessary.\n",
      "  warnings.warn(_create_warning_msg(\n"
     ]
    },
    {
     "name": "stdout",
     "output_type": "stream",
     "text": [
      "\u001b[34m\u001b[1mval: \u001b[0mWARNING ⚠️ /work/csr33/ast/datasets/ast_yolov5/images/val/m_3809031_sw_15_060_20181121_04_01.jpg: 1 duplicate labels removed\n",
      "Plotting labels to /work/csr33/object_detection/runs/detect/train79/labels.jpg... \n",
      "\u001b[34m\u001b[1moptimizer:\u001b[0m 'optimizer=auto' found, ignoring 'lr0=0.01147' and 'momentum=0.96557' and determining best 'optimizer', 'lr0' and 'momentum' automatically... \n",
      "\u001b[34m\u001b[1moptimizer:\u001b[0m AdamW(lr=0.000909, momentum=0.9) with parameter groups 57 weight(decay=0.0), 64 weight(decay=0.0005), 63 bias(decay=0.0)\n",
      "Image sizes 640 train, 640 val\n",
      "Using 8 dataloader workers\n",
      "Logging results to \u001b[1m/work/csr33/object_detection/runs/detect/train79\u001b[0m\n",
      "Starting training for 5 epochs...\n",
      "\n",
      "      Epoch    GPU_mem   box_loss   cls_loss   dfl_loss  Instances       Size\n"
     ]
    },
    {
     "name": "stderr",
     "output_type": "stream",
     "text": [
      "        1/5      3.82G      1.181      1.747     0.9529         11        640: 100%|██████████| 1210/1210 [02:11<00:00,  9.21it/s]\n",
      "                 Class     Images  Instances      Box(P          R      mAP50  mAP50-95): 100%|██████████| 130/130 [00:20<00:00,  6.41it/s]\n"
     ]
    },
    {
     "name": "stdout",
     "output_type": "stream",
     "text": [
      "                   all       4146      21256      0.586      0.454      0.473      0.339\n",
      "\n",
      "      Epoch    GPU_mem   box_loss   cls_loss   dfl_loss  Instances       Size\n"
     ]
    },
    {
     "name": "stderr",
     "output_type": "stream",
     "text": [
      "        2/5      3.37G      1.097      1.057     0.9254         18        640: 100%|██████████| 1210/1210 [02:08<00:00,  9.44it/s]\n",
      "                 Class     Images  Instances      Box(P          R      mAP50  mAP50-95): 100%|██████████| 130/130 [00:19<00:00,  6.77it/s]\n"
     ]
    },
    {
     "name": "stdout",
     "output_type": "stream",
     "text": [
      "                   all       4146      21256      0.687      0.507      0.537      0.381\n",
      "\n",
      "      Epoch    GPU_mem   box_loss   cls_loss   dfl_loss  Instances       Size\n"
     ]
    },
    {
     "name": "stderr",
     "output_type": "stream",
     "text": [
      "        3/5      3.58G      1.071     0.9436     0.9178         51        640: 100%|██████████| 1210/1210 [02:11<00:00,  9.19it/s]\n",
      "                 Class     Images  Instances      Box(P          R      mAP50  mAP50-95): 100%|██████████| 130/130 [00:21<00:00,  6.06it/s]\n"
     ]
    },
    {
     "name": "stdout",
     "output_type": "stream",
     "text": [
      "                   all       4146      21256      0.738      0.551      0.577      0.413\n",
      "\n",
      "      Epoch    GPU_mem   box_loss   cls_loss   dfl_loss  Instances       Size\n"
     ]
    },
    {
     "name": "stderr",
     "output_type": "stream",
     "text": [
      "        4/5      3.88G      1.065     0.9052     0.9177         12        640: 100%|██████████| 1210/1210 [02:15<00:00,  8.94it/s]\n",
      "                 Class     Images  Instances      Box(P          R      mAP50  mAP50-95): 100%|██████████| 130/130 [00:21<00:00,  6.15it/s]\n"
     ]
    },
    {
     "name": "stdout",
     "output_type": "stream",
     "text": [
      "                   all       4146      21256      0.708      0.568      0.585      0.416\n",
      "\n",
      "      Epoch    GPU_mem   box_loss   cls_loss   dfl_loss  Instances       Size\n"
     ]
    },
    {
     "name": "stderr",
     "output_type": "stream",
     "text": [
      "        5/5      3.73G      1.028      0.847     0.9067         16        640: 100%|██████████| 1210/1210 [02:13<00:00,  9.04it/s]\n",
      "                 Class     Images  Instances      Box(P          R      mAP50  mAP50-95): 100%|██████████| 130/130 [00:22<00:00,  5.84it/s]\n"
     ]
    },
    {
     "name": "stdout",
     "output_type": "stream",
     "text": [
      "                   all       4146      21256      0.769      0.572      0.628       0.45\n",
      "\n",
      "5 epochs completed in 0.216 hours.\n",
      "Optimizer stripped from /work/csr33/object_detection/runs/detect/train79/weights/last.pt, 6.2MB\n",
      "Optimizer stripped from /work/csr33/object_detection/runs/detect/train79/weights/best.pt, 6.2MB\n",
      "\n",
      "Validating /work/csr33/object_detection/runs/detect/train79/weights/best.pt...\n",
      "Ultralytics YOLOv8.1.7 🚀 Python-3.9.18 torch-2.1.2+cu121 CUDA:0 (NVIDIA RTX A5000, 24040MiB)\n",
      "Model summary (fused): 168 layers, 3007013 parameters, 0 gradients, 8.1 GFLOPs\n"
     ]
    },
    {
     "name": "stderr",
     "output_type": "stream",
     "text": [
      "                 Class     Images  Instances      Box(P          R      mAP50  mAP50-95): 100%|██████████| 130/130 [00:22<00:00,  5.82it/s]\n"
     ]
    },
    {
     "name": "stdout",
     "output_type": "stream",
     "text": [
      "                   all       4146      21256      0.771      0.572      0.628       0.45\n",
      "    sedimentation_tank       4146        881      0.807       0.79      0.854      0.681\n",
      "           water_tower       4146        216      0.655      0.644      0.678      0.417\n",
      "        spherical_tank       4146        219      0.591      0.393      0.434      0.304\n",
      "      closed_roof_tank       4146      10728      0.809      0.873      0.911      0.704\n",
      "external_floating_roof_tank       4146       1622      0.754      0.895      0.904      0.764\n",
      "narrow_closed_roof_tank       4146       7455      0.779      0.409        0.6      0.267\n",
      "      undefined_object       4146        135          1          0     0.0142     0.0105\n",
      "Speed: 0.2ms preprocess, 1.1ms inference, 0.0ms loss, 0.8ms postprocess per image\n",
      "Results saved to \u001b[1m/work/csr33/object_detection/runs/detect/train79\u001b[0m\n",
      "💡 Learn more at https://docs.ultralytics.com/modes/train\n",
      "WARNING ❌️ training failure for hyperparameter tuning iteration 2\n",
      "No module named 'dill'\n",
      "Saved /work/csr33/object_detection/runs/detect/tune29/tune_scatter_plots.png\n",
      "Saved /work/csr33/object_detection/runs/detect/tune29/tune_fitness.png\n",
      "\n",
      "\u001b[34m\u001b[1mTuner: \u001b[0m2/2 iterations complete ✅ (1871.10s)\n",
      "\u001b[34m\u001b[1mTuner: \u001b[0mResults saved to \u001b[1m/work/csr33/object_detection/runs/detect/tune29\u001b[0m\n",
      "\u001b[34m\u001b[1mTuner: \u001b[0mBest fitness=0.0 observed at iteration 1\n",
      "\u001b[34m\u001b[1mTuner: \u001b[0mBest fitness metrics are {}\n",
      "\u001b[34m\u001b[1mTuner: \u001b[0mBest fitness model is /work/csr33/object_detection/runs/detect/train78\n",
      "\u001b[34m\u001b[1mTuner: \u001b[0mBest fitness hyperparameters are printed below.\n",
      "\n",
      "Printing '\u001b[1m\u001b[30m/work/csr33/object_detection/runs/detect/tune29/best_hyperparameters.yaml\u001b[0m'\n",
      "\n",
      "lr0: 0.01\n",
      "lrf: 0.01\n",
      "momentum: 0.937\n",
      "weight_decay: 0.0005\n",
      "warmup_epochs: 3.0\n",
      "warmup_momentum: 0.8\n",
      "box: 7.5\n",
      "cls: 0.5\n",
      "dfl: 1.5\n",
      "hsv_h: 0.015\n",
      "hsv_s: 0.7\n",
      "hsv_v: 0.4\n",
      "degrees: 0.0\n",
      "translate: 0.1\n",
      "scale: 0.5\n",
      "shear: 0.0\n",
      "perspective: 0.0\n",
      "flipud: 0.0\n",
      "fliplr: 0.5\n",
      "mosaic: 1.0\n",
      "mixup: 0.0\n",
      "copy_paste: 0.0\n",
      "\n"
     ]
    }
   ],
   "source": [
    "model = YOLO('yolov8n.pt')\n",
    "model.tune(data=args.data, epochs=5, iterations=2)"
   ]
  },
  {
   "cell_type": "code",
   "execution_count": null,
   "id": "f246f101-0685-4b83-bc7e-5bfad606ef93",
   "metadata": {},
   "outputs": [],
   "source": [
    "#description of model metrics\n",
    "https://github.com/ultralytics/ultralytics/issues/2789#issuecomment-1808018730\n",
    "/tmp/tmp_vsfwz0p/test_tune1/weights/best.pt...\n"
   ]
  },
  {
   "cell_type": "code",
   "execution_count": 4,
   "id": "76f0003b-7ae9-4f1b-aa30-b2575248cf3d",
   "metadata": {},
   "outputs": [],
   "source": [
    "os.chdir(\"/work/csr33/object_detection\")"
   ]
  },
  {
   "cell_type": "code",
   "execution_count": 5,
   "id": "2c88d0a5-65fe-43e7-af3f-2eeee3d0e252",
   "metadata": {},
   "outputs": [],
   "source": [
    "os.chdir(\"/work/csr33/object_detection\")\n",
    "# Update settings\n",
    "# https://docs.ultralytics.com/quickstart/\n",
    "os.makedirs('/work/csr33/object_detection/weights', exist_ok=True)\n",
    "settings.update({'weights_dir': '/work/csr33/object_detection/weights'})\n",
    "\n",
    "os.makedirs('/work/csr33/object_detection/runs', exist_ok=True)\n",
    "settings.update({'runs_dir': '/work/csr33/object_detection/runs'})\n",
    "\n",
    "settings.update({'neptune': False, 'clearml': False, \n",
    "                 \"raytune\": True, #'comet': True, 'raytune': True,\n",
    "                 'dvc': False, 'hub': False, 'mlflow': False,\n",
    "                 'tensorboard': False, 'wandb': True})\n",
    "\n",
    "# Reset settings to default values #settings.reset()"
   ]
  },
  {
   "cell_type": "code",
   "execution_count": 6,
   "id": "59a63beb-06a2-4ac2-802b-111b7b173f8b",
   "metadata": {},
   "outputs": [],
   "source": [
    "import torch\n",
    "\n",
    "torch.cuda.set_device(0) # Set to your desired GPU number"
   ]
  },
  {
   "cell_type": "code",
   "execution_count": 8,
   "id": "0661bc11-3852-4d50-a12f-96ae921b73a9",
   "metadata": {},
   "outputs": [],
   "source": [
    " trainable=\"_tune\""
   ]
  },
  {
   "cell_type": "code",
   "execution_count": 9,
   "id": "664b3fb4-945c-4363-99b1-4631e4e05670",
   "metadata": {},
   "outputs": [],
   "source": [
    "# Load a YOLOv8n model\n",
    "model = YOLO(args.model) # load a pretrained model (recommended for training)"
   ]
  },
  {
   "cell_type": "code",
   "execution_count": 10,
   "id": "457221d6-b938-4811-8507-a38c188b30d1",
   "metadata": {},
   "outputs": [],
   "source": [
    "exp_name = \"test_tune4\" #\"tune_analyzing_results\""
   ]
  },
  {
   "cell_type": "code",
   "execution_count": null,
   "id": "f52cf5a1-d5a5-4003-9db2-70f8b1ed11a0",
   "metadata": {},
   "outputs": [],
   "source": [
    "experiment_path = f\"{storage_path}/{exp_name}\"\n",
    "print(f\"Loading results from {experiment_path}...\")\n",
    "\n"
   ]
  }
 ],
 "metadata": {
  "kernelspec": {
   "display_name": "yolov8 env",
   "language": "python",
   "name": "yolov8_env"
  },
  "language_info": {
   "codemirror_mode": {
    "name": "ipython",
    "version": 3
   },
   "file_extension": ".py",
   "mimetype": "text/x-python",
   "name": "python",
   "nbconvert_exporter": "python",
   "pygments_lexer": "ipython3",
   "version": "3.11.7"
  }
 },
 "nbformat": 4,
 "nbformat_minor": 5
}
