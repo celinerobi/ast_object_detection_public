{
 "cells": [
  {
   "cell_type": "code",
   "execution_count": 3,
   "metadata": {
    "colab": {
     "base_uri": "https://localhost:8080/"
    },
    "id": "wbvMlHd_QwMG",
    "outputId": "27ca383c-0a97-4679-f1c5-ba843f033de7",
    "tags": []
   },
   "outputs": [],
   "source": [
    "import os\n",
    "import argparse\n",
    "import math\n",
    "import time\n",
    "\n",
    "import ast\n",
    "from copy import copy\n",
    "\n",
    "import pandas as pd\n",
    "import numpy as np\n",
    "from glob import glob\n",
    "from pyproj import Proj\n",
    "from shapely.ops import transform\n",
    "import rasterio\n",
    "\n",
    "import pyproj\n",
    "#ultralytics.checks()\n",
    "import rioxarray\n",
    "from shapely.geometry import Point\n",
    "\n",
    "import concurrent\n",
    "import concurrent.futures\n",
    "from concurrent.futures.thread import ThreadPoolExecutor\n",
    "import cv2"
   ]
  },
  {
   "cell_type": "code",
   "execution_count": 4,
   "metadata": {},
   "outputs": [],
   "source": [
    "def tile_to_chip_array(tile, x, y, item_dim): #used\n",
    "    \"\"\"\n",
    "    https://stackoverflow.com/questions/15589517/how-to-crop-an-image-in-opencv-using-python\n",
    "    ##\n",
    "    x: col index\n",
    "    y: row index\n",
    "    \"\"\"\n",
    "    dimensions = tile.shape[2]\n",
    "    chip_img = tile[y*item_dim:y*item_dim+item_dim, x*(item_dim):x*(item_dim)+item_dim]\n",
    "    #add in back space if it is the edge of an image\n",
    "    if (chip_img.shape[0] != item_dim) & (chip_img.shape[1] != item_dim): #width\n",
    "        #print(\"Incorrect Width\")\n",
    "        chip = np.zeros((item_dim,item_dim,dimensions), np.uint8)\n",
    "        chip[0:chip_img.shape[0], 0:chip_img.shape[1]] = chip_img\n",
    "        chip_img = chip\n",
    "    if chip_img.shape[0] != item_dim:  #Height\n",
    "        black_height = item_dim  - chip_img.shape[0] #Height\n",
    "        black_width = item_dim #- chip_img.shape[1] #width\n",
    "        black_img = np.zeros((black_height,black_width,  dimensions), np.uint8)\n",
    "        chip_img = np.concatenate([chip_img, black_img])\n",
    "    if chip_img.shape[1] != item_dim: #width\n",
    "        black_height = item_dim #- chip_img.shape[0] #Height\n",
    "        black_width = item_dim - chip_img.shape[1] #width\n",
    "        black_img = np.zeros((black_height,black_width, dimensions), np.uint8)\n",
    "        chip_img = np.concatenate([chip_img, black_img],1)\n",
    "    return(chip_img)\n",
    "\n",
    "\n",
    "def chip_tiles(tile_path, chips_dir, item_dim): \n",
    "        \"\"\"Segment tiles into item_dim x item_dim pixel chips, preserving resolution\n",
    "        \"\"\"\n",
    "        tile_name_wo_ext, ext = os.path.splitext(os.path.basename(tile_path))  # File name\n",
    "        try:\n",
    "            tile = cv2.imread(tile_path)\n",
    "            if None:\n",
    "                return None, None\n",
    "            else:\n",
    "                tile_height, tile_width, tile_channels = tile.shape  # the size of the tile\n",
    "                # divide the tile into item_dim by item_dim chips (rounding up)\n",
    "                row_index = math.ceil(tile_height / item_dim)\n",
    "                col_index = math.ceil(tile_width / item_dim)\n",
    "                count = 0\n",
    "                for y in range(0, row_index):\n",
    "                    for x in range(0, col_index):\n",
    "                        # \n",
    "                        # specify the path to save the image\n",
    "                        chip_img = tile_to_chip_array(tile, x, y, item_dim) #chip tile\n",
    "                        chip_name = tile_name_wo_ext + '_' + f\"{y:02}\" + '_' + f\"{x:02}\" + '.jpg'  #\n",
    "                        chips_save_path = os.path.join(chips_dir, chip_name)  # row_col.jpg                    \n",
    "                        cv2.imwrite(os.path.join(chips_save_path), chip_img) # save image\n",
    "                        count += 1\n",
    "                        del chip_img\n",
    "                return tile_name_wo_ext, count\n",
    "        except Exception as exc:\n",
    "            print(tile_path)\n",
    "\n",
    "\n",
    "            \n",
    "\n",
    "\n",
    "def chip_tiles_concurrent(tile_paths, chips_dir, item_dim=640, connections=6):\n",
    "    # parse html and retrieve all href urls listed\n",
    "    # create the pool of worker threads\n",
    "    with concurrent.futures.ThreadPoolExecutor(connections-4) as executor:\n",
    "        # dispatch all download tasks to worker threads\n",
    "        futures = [executor.submit(chip_tiles, tile_path, chips_dir, item_dim=item_dim) for tile_path in tile_paths]\n",
    "        # report results as they become available\n",
    "        for future in concurrent.futures.as_completed(futures):\n",
    "            try:\n",
    "                # retrieve result\n",
    "                tile_name_wo_ext, count = future.result()\n",
    "            except Exception as exc:\n",
    "                print(exc)\n",
    "                #os.remove(tile)"
   ]
  },
  {
   "cell_type": "code",
   "execution_count": 5,
   "metadata": {},
   "outputs": [],
   "source": [
    "def get_args_parse():\n",
    "    parser = argparse.ArgumentParser(\"\")\n",
    "    parser.add_argument(\"--tile_dir\", default=\"/work/csr33/images_for_predictions/naip_tiles\", type=str)\n",
    "    parser.add_argument('--img_dir', type=str, default=\"/work/csr33/images_for_predictions/naip_imgs\")\n",
    "    parser.add_argument(\"--connections\", default=6, type=int)\n",
    "    parser.add_argument(\"--imgsz\", default=640, type=int)\n",
    "    parser.add_argument(\"--chunk_id\", type=int)\n",
    "    parser.add_argument(\"--tilename_chunks_path\", default='/hpc/home/csr33/ast_object_detection/images_for_prediction/tilename_chunks.npz', type=str)\n",
    "    args = parser.parse_args()\n",
    "    return args\n",
    "import sys\n",
    "sys.argv = ['my_notebook']\n",
    "args = get_args_parse()"
   ]
  },
  {
   "cell_type": "code",
   "execution_count": 6,
   "metadata": {},
   "outputs": [],
   "source": []
  },
  {
   "cell_type": "code",
   "execution_count": 7,
   "metadata": {},
   "outputs": [
    {
     "data": {
      "text/plain": [
       "2382"
      ]
     },
     "execution_count": 7,
     "metadata": {},
     "output_type": "execute_result"
    }
   ],
   "source": [
    "git filter-repo --invert-paths --path yolov8/bash/error/.ipynb_checkpoints/tune-checkpoint.err"
   ]
  },
  {
   "cell_type": "code",
   "execution_count": null,
   "metadata": {},
   "outputs": [
    {
     "name": "stderr",
     "output_type": "stream",
     "text": [
      "[ WARN:11@2938.719] global grfmt_tiff.cpp:840 readData OpenCV TIFF(line 840): failed TIFFReadRGBATile(tif, x, y, (uint32*)src_buffer)\n",
      "[ERROR:11@2938.719] global loadsave.cpp:478 imread_ imread_('/work/csr33/images_for_predictions/naip_tiles/m_3008831_nw_16_030_20211119.tif'): can't read data: OpenCV(4.9.0) /io/opencv/modules/imgcodecs/src/grfmt_tiff.cpp:840: error: (-2:Unspecified error) OpenCV TIFF: failed TIFFReadRGBATile(tif, x, y, (uint32*)src_buffer) in function 'readData'\n",
      "\n"
     ]
    },
    {
     "name": "stdout",
     "output_type": "stream",
     "text": [
      "/work/csr33/images_for_predictions/naip_tiles/m_3008831_nw_16_030_20211119.tif\n",
      "\n"
     ]
    },
    {
     "name": "stderr",
     "output_type": "stream",
     "text": [
      "[ WARN:12@3348.547] global grfmt_tiff.cpp:840 readData OpenCV TIFF(line 840): failed TIFFReadRGBATile(tif, x, y, (uint32*)src_buffer)\n",
      "[ERROR:12@3348.547] global loadsave.cpp:478 imread_ imread_('/work/csr33/images_for_predictions/naip_tiles/m_3109061_sw_15_030_20211120.tif'): can't read data: OpenCV(4.9.0) /io/opencv/modules/imgcodecs/src/grfmt_tiff.cpp:840: error: (-2:Unspecified error) OpenCV TIFF: failed TIFFReadRGBATile(tif, x, y, (uint32*)src_buffer) in function 'readData'\n",
      "\n",
      "[ WARN:13@3445.184] global grfmt_tiff.cpp:840 readData OpenCV TIFF(line 840): failed TIFFReadRGBATile(tif, x, y, (uint32*)src_buffer)\n",
      "[ERROR:13@3445.185] global loadsave.cpp:478 imread_ imread_('/work/csr33/images_for_predictions/naip_tiles/m_3009022_se_15_030_20211116.tif'): can't read data: OpenCV(4.9.0) /io/opencv/modules/imgcodecs/src/grfmt_tiff.cpp:840: error: (-2:Unspecified error) OpenCV TIFF: failed TIFFReadRGBATile(tif, x, y, (uint32*)src_buffer) in function 'readData'\n",
      "\n",
      "[ WARN:14@3555.758] global grfmt_tiff.cpp:840 readData OpenCV TIFF(line 840): failed TIFFReadRGBATile(tif, x, y, (uint32*)src_buffer)\n",
      "[ERROR:14@3555.758] global loadsave.cpp:478 imread_ imread_('/work/csr33/images_for_predictions/naip_tiles/m_3008818_sw_16_030_20211119.tif'): can't read data: OpenCV(4.9.0) /io/opencv/modules/imgcodecs/src/grfmt_tiff.cpp:840: error: (-2:Unspecified error) OpenCV TIFF: failed TIFFReadRGBATile(tif, x, y, (uint32*)src_buffer) in function 'readData'\n",
      "\n",
      "[ WARN:15@3666.981] global grfmt_tiff.cpp:840 readData OpenCV TIFF(line 840): failed TIFFReadRGBATile(tif, x, y, (uint32*)src_buffer)\n",
      "[ERROR:15@3666.981] global loadsave.cpp:478 imread_ imread_('/work/csr33/images_for_predictions/naip_tiles/m_3009022_se_15_030_20211116.tif'): can't read data: OpenCV(4.9.0) /io/opencv/modules/imgcodecs/src/grfmt_tiff.cpp:840: error: (-2:Unspecified error) OpenCV TIFF: failed TIFFReadRGBATile(tif, x, y, (uint32*)src_buffer) in function 'readData'\n",
      "\n",
      "[ WARN:1@3814.865] global grfmt_tiff.cpp:840 readData OpenCV TIFF(line 840): failed TIFFReadRGBATile(tif, x, y, (uint32*)src_buffer)\n",
      "[ERROR:1@3814.865] global loadsave.cpp:478 imread_ imread_('/work/csr33/images_for_predictions/naip_tiles/m_3008818_sw_16_030_20211119.tif'): can't read data: OpenCV(4.9.0) /io/opencv/modules/imgcodecs/src/grfmt_tiff.cpp:840: error: (-2:Unspecified error) OpenCV TIFF: failed TIFFReadRGBATile(tif, x, y, (uint32*)src_buffer) in function 'readData'\n",
      "\n",
      "[ WARN:16@4176.232] global grfmt_tiff.cpp:840 readData OpenCV TIFF(line 840): failed TIFFReadRGBATile(tif, x, y, (uint32*)src_buffer)\n",
      "[ERROR:16@4176.232] global loadsave.cpp:478 imread_ imread_('/work/csr33/images_for_predictions/naip_tiles/m_3009126_se_15_030_20211113.tif'): can't read data: OpenCV(4.9.0) /io/opencv/modules/imgcodecs/src/grfmt_tiff.cpp:840: error: (-2:Unspecified error) OpenCV TIFF: failed TIFFReadRGBATile(tif, x, y, (uint32*)src_buffer) in function 'readData'\n",
      "\n",
      "[ WARN:15@4467.461] global grfmt_tiff.cpp:840 readData OpenCV TIFF(line 840): failed TIFFReadRGBATile(tif, x, y, (uint32*)src_buffer)\n",
      "[ERROR:15@4467.461] global loadsave.cpp:478 imread_ imread_('/work/csr33/images_for_predictions/naip_tiles/m_3009126_se_15_030_20211113.tif'): can't read data: OpenCV(4.9.0) /io/opencv/modules/imgcodecs/src/grfmt_tiff.cpp:840: error: (-2:Unspecified error) OpenCV TIFF: failed TIFFReadRGBATile(tif, x, y, (uint32*)src_buffer) in function 'readData'\n",
      "\n"
     ]
    }
   ],
   "source": [
    "tile_name_wo_ext_list = []\n",
    "count_list = []\n",
    "start_time = time.time()\n",
    "with concurrent.futures.ThreadPoolExecutor(26) as executor:\n",
    "    # dispatch all download tasks to worker threads\n",
    "    futures = [executor.submit(chip_tiles, tile_path, args.img_dir, item_dim=args.imgsz) for tile_path in tile_paths[2450:3000]]\n",
    "    # report results as they become available\n",
    "    for future in concurrent.futures.as_completed(futures):\n",
    "        try:\n",
    "            # retrieve result\n",
    "            tile_name_wo_ext, count = future.result()\n",
    "            tile_name_wo_ext_list.append(tile_name_wo_ext)\n",
    "            count_list.append(count)\n",
    "        except Exception as exc:\n",
    "            print(\"\")\n",
    "            #os.remove(tile)\n",
    "print(time.time() - start_time)"
   ]
  }
 ],
 "metadata": {
  "accelerator": "GPU",
  "colab": {
   "name": "YOLOv8 Tutorial",
   "provenance": [],
   "toc_visible": true
  },
  "kernelspec": {
   "display_name": "yolov8",
   "language": "python",
   "name": "yolov8"
  },
  "language_info": {
   "codemirror_mode": {
    "name": "ipython",
    "version": 3
   },
   "file_extension": ".py",
   "mimetype": "text/x-python",
   "name": "python",
   "nbconvert_exporter": "python",
   "pygments_lexer": "ipython3",
   "version": "3.11.6"
  }
 },
 "nbformat": 4,
 "nbformat_minor": 4
}
