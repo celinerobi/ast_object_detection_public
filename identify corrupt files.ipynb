{
 "cells": [
  {
   "cell_type": "code",
   "execution_count": 1,
   "metadata": {
    "colab": {
     "base_uri": "https://localhost:8080/"
    },
    "id": "wbvMlHd_QwMG",
    "outputId": "27ca383c-0a97-4679-f1c5-ba843f033de7",
    "tags": []
   },
   "outputs": [],
   "source": [
    "import os\n",
    "import argparse\n",
    "import math\n",
    "import time\n",
    "\n",
    "import ast\n",
    "from copy import copy\n",
    "\n",
    "import pandas as pd\n",
    "import numpy as np\n",
    "from glob import glob\n",
    "from pyproj import Proj\n",
    "from shapely.ops import transform\n",
    "import rasterio\n",
    "\n",
    "import pyproj\n",
    "#ultralytics.checks()\n",
    "import rioxarray\n",
    "from shapely.geometry import Point\n",
    "import geopandas as gpd\n",
    "import concurrent\n",
    "import concurrent.futures\n",
    "from concurrent.futures.thread import ThreadPoolExecutor\n",
    "import cv2"
   ]
  },
  {
   "cell_type": "code",
   "execution_count": 2,
   "metadata": {},
   "outputs": [],
   "source": [
    "def tile_to_chip_array(tile, x, y, item_dim): #used\n",
    "    \"\"\"\n",
    "    https://stackoverflow.com/questions/15589517/how-to-crop-an-image-in-opencv-using-python\n",
    "    ##\n",
    "    x: col index\n",
    "    y: row index\n",
    "    \"\"\"\n",
    "    dimensions = tile.shape[2]\n",
    "    chip_img = tile[y*item_dim:y*item_dim+item_dim, x*(item_dim):x*(item_dim)+item_dim]\n",
    "    #add in back space if it is the edge of an image\n",
    "    if (chip_img.shape[0] != item_dim) & (chip_img.shape[1] != item_dim): #width\n",
    "        #print(\"Incorrect Width\")\n",
    "        chip = np.zeros((item_dim,item_dim,dimensions), np.uint8)\n",
    "        chip[0:chip_img.shape[0], 0:chip_img.shape[1]] = chip_img\n",
    "        chip_img = chip\n",
    "    if chip_img.shape[0] != item_dim:  #Height\n",
    "        black_height = item_dim  - chip_img.shape[0] #Height\n",
    "        black_width = item_dim #- chip_img.shape[1] #width\n",
    "        black_img = np.zeros((black_height,black_width,  dimensions), np.uint8)\n",
    "        chip_img = np.concatenate([chip_img, black_img])\n",
    "    if chip_img.shape[1] != item_dim: #width\n",
    "        black_height = item_dim #- chip_img.shape[0] #Height\n",
    "        black_width = item_dim - chip_img.shape[1] #width\n",
    "        black_img = np.zeros((black_height,black_width, dimensions), np.uint8)\n",
    "        chip_img = np.concatenate([chip_img, black_img],1)\n",
    "    return(chip_img)\n",
    "\n",
    "\n",
    "def chip_tiles(tile_path, chips_dir, item_dim): \n",
    "        \"\"\"Segment tiles into item_dim x item_dim pixel chips, preserving resolution\n",
    "        \"\"\"\n",
    "        tile_name_wo_ext, ext = os.path.splitext(os.path.basename(tile_path))  # File name\n",
    "        try:\n",
    "            tile = cv2.imread(tile_path)\n",
    "            if None:\n",
    "                return None, None\n",
    "            else:\n",
    "                tile_height, tile_width, tile_channels = tile.shape  # the size of the tile\n",
    "                # divide the tile into item_dim by item_dim chips (rounding up)\n",
    "                row_index = math.ceil(tile_height / item_dim)\n",
    "                col_index = math.ceil(tile_width / item_dim)\n",
    "                count = 0\n",
    "                for y in range(0, row_index):\n",
    "                    for x in range(0, col_index):\n",
    "                        # \n",
    "                        # specify the path to save the image\n",
    "                        chip_img = tile_to_chip_array(tile, x, y, item_dim) #chip tile\n",
    "                        chip_name = tile_name_wo_ext + '_' + f\"{y:02}\" + '_' + f\"{x:02}\" + '.jpg'  #\n",
    "                        chips_save_path = os.path.join(chips_dir, chip_name)  # row_col.jpg                    \n",
    "                        cv2.imwrite(os.path.join(chips_save_path), chip_img) # save image\n",
    "                        count += 1\n",
    "                        del chip_img\n",
    "                return tile_name_wo_ext, count\n",
    "        except Exception as exc:\n",
    "            print(tile_path)\n",
    "\n",
    "\n",
    "            \n",
    "\n",
    "\n",
    "def chip_tiles_concurrent(tile_paths, chips_dir, item_dim=640, connections=6):\n",
    "    # parse html and retrieve all href urls listed\n",
    "    # create the pool of worker threads\n",
    "    with concurrent.futures.ThreadPoolExecutor(connections-4) as executor:\n",
    "        # dispatch all download tasks to worker threads\n",
    "        futures = [executor.submit(chip_tiles, tile_path, chips_dir, item_dim=item_dim) for tile_path in tile_paths]\n",
    "        # report results as they become available\n",
    "        for future in concurrent.futures.as_completed(futures):\n",
    "            try:\n",
    "                # retrieve result\n",
    "                tile_name_wo_ext, count = future.result()\n",
    "            except Exception as exc:\n",
    "                print(exc)\n",
    "                #os.remove(tile)"
   ]
  },
  {
   "cell_type": "code",
   "execution_count": 3,
   "metadata": {},
   "outputs": [],
   "source": [
    "def get_args_parse():\n",
    "    parser = argparse.ArgumentParser(\"\")\n",
    "    parser.add_argument(\"--tile_dir\", default=\"/work/csr33/images_for_predictions/naip_tiles\", type=str)\n",
    "    parser.add_argument('--img_dir', type=str, default=\"/work/csr33/images_for_predictions/naip_imgs\")\n",
    "    parser.add_argument(\"--connections\", default=6, type=int)\n",
    "    parser.add_argument(\"--imgsz\", default=640, type=int)\n",
    "    parser.add_argument(\"--chunk_id\", type=int)\n",
    "    parser.add_argument(\"--tilename_chunks_path\", default='/hpc/home/csr33/ast_object_detection/images_for_prediction/tilename_chunks.npz', type=str)\n",
    "    args = parser.parse_args()\n",
    "    return args\n",
    "import sys\n",
    "sys.argv = ['my_notebook']\n",
    "args = get_args_parse()"
   ]
  },
  {
   "cell_type": "code",
   "execution_count": 4,
   "metadata": {},
   "outputs": [],
   "source": [
    "imgs = os.listdir(\"/work/csr33/images_for_predictions/naip_imgs\")"
   ]
  },
  {
   "cell_type": "code",
   "execution_count": 5,
   "metadata": {},
   "outputs": [],
   "source": [
    "img_tile_names = np.unique([img.rsplit(\"_\",2)[0] for img in imgs])"
   ]
  },
  {
   "cell_type": "code",
   "execution_count": 11,
   "metadata": {},
   "outputs": [
    {
     "data": {
      "text/plain": [
       "13966"
      ]
     },
     "execution_count": 11,
     "metadata": {},
     "output_type": "execute_result"
    }
   ],
   "source": [
    "len(img_tile_names)"
   ]
  },
  {
   "cell_type": "code",
   "execution_count": 6,
   "metadata": {},
   "outputs": [],
   "source": [
    "tiles = os.listdir(\"/work/csr33/images_for_predictions/naip_tiles\")\n",
    "tile_names = [os.path.splitext(tile)[0] for tile in tiles]"
   ]
  },
  {
   "cell_type": "code",
   "execution_count": 7,
   "metadata": {},
   "outputs": [],
   "source": [
    "remaining_tiles = list(set(tile_names) - set(img_tile_names))"
   ]
  },
  {
   "cell_type": "code",
   "execution_count": 8,
   "metadata": {},
   "outputs": [],
   "source": [
    "tile_dir = \"/work/csr33/images_for_predictions/naip_tiles\"\n",
    "tile_paths = [os.path.join(tile_dir, remaining_tile +\".tif\") for remaining_tile in remaining_tiles]"
   ]
  },
  {
   "cell_type": "code",
   "execution_count": 10,
   "metadata": {},
   "outputs": [
    {
     "data": {
      "text/plain": [
       "46"
      ]
     },
     "execution_count": 10,
     "metadata": {},
     "output_type": "execute_result"
    }
   ],
   "source": [
    "len(tile_paths)"
   ]
  },
  {
   "cell_type": "code",
   "execution_count": 13,
   "metadata": {},
   "outputs": [],
   "source": [
    "#yolov8/bash/error/.ipynb_checkpoints/tune-checkpoint.err"
   ]
  },
  {
   "cell_type": "code",
   "execution_count": 12,
   "metadata": {},
   "outputs": [
    {
     "name": "stdout",
     "output_type": "stream",
     "text": [
      "246.74082851409912\n"
     ]
    }
   ],
   "source": [
    "tile_name_wo_ext_list = []\n",
    "count_list = []\n",
    "start_time = time.time()\n",
    "with concurrent.futures.ThreadPoolExecutor(26) as executor:\n",
    "    # dispatch all download tasks to worker threads\n",
    "    futures = [executor.submit(chip_tiles, tile_path, args.img_dir, item_dim=args.imgsz) \n",
    "               for tile_path in tile_paths]\n",
    "    # report results as they become available\n",
    "    for future in concurrent.futures.as_completed(futures):\n",
    "        try:\n",
    "            # retrieve result\n",
    "            tile_name_wo_ext, count = future.result()\n",
    "            tile_name_wo_ext_list.append(tile_name_wo_ext)\n",
    "            count_list.append(count)\n",
    "        except Exception as exc:\n",
    "            print(\"\")\n",
    "            #os.remove(tile)\n",
    "print(time.time() - start_time)"
   ]
  }
 ],
 "metadata": {
  "accelerator": "GPU",
  "colab": {
   "name": "YOLOv8 Tutorial",
   "provenance": [],
   "toc_visible": true
  },
  "kernelspec": {
   "display_name": "yolov8",
   "language": "python",
   "name": "yolov8"
  },
  "language_info": {
   "codemirror_mode": {
    "name": "ipython",
    "version": 3
   },
   "file_extension": ".py",
   "mimetype": "text/x-python",
   "name": "python",
   "nbconvert_exporter": "python",
   "pygments_lexer": "ipython3",
   "version": "3.11.6"
  }
 },
 "nbformat": 4,
 "nbformat_minor": 4
}
