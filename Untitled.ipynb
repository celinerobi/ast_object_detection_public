{
 "cells": [
  {
   "cell_type": "code",
   "execution_count": 1,
   "id": "45e8cd32-da96-41a0-ac15-17de6e196200",
   "metadata": {},
   "outputs": [],
   "source": [
    "import urllib\n",
    "import time\n",
    "import urllib.request\n",
    "import shutil\n",
    "import os\n",
    "import argparse\n",
    "from pathlib import Path\n",
    "import sys\n",
    "from zipfile import ZipFile\n",
    "import math\n",
    "from contextlib import suppress\n",
    "from glob import glob\n",
    "import re\n",
    "\n",
    "# Less standard, but still pip- or conda-installable\n",
    "import pandas as pd\n",
    "import numpy as np\n",
    "import progressbar  \n",
    "import concurrent\n",
    "import concurrent.futures\n",
    "from concurrent.futures.thread import ThreadPoolExecutor\n",
    "\n",
    "import geopandas as gpd\n",
    "\n",
    "import cv2\n",
    "import math\n",
    "\n",
    "from glob import glob"
   ]
  },
  {
   "cell_type": "code",
   "execution_count": 1,
   "id": "abe675ed-8619-4630-b5cb-bf907896ef67",
   "metadata": {},
   "outputs": [],
   "source": []
  },
  {
   "cell_type": "code",
   "execution_count": 2,
   "id": "1e3730cc-8871-4eaf-afd5-8dc8f5576f00",
   "metadata": {},
   "outputs": [],
   "source": [
    "def tile_to_chip_array(tile, x, y, item_dim): #used\n",
    "    \"\"\"\n",
    "    https://stackoverflow.com/questions/15589517/how-to-crop-an-image-in-opencv-using-python\n",
    "    ##\n",
    "    x: col index\n",
    "    y: row index\n",
    "    \"\"\"\n",
    "    dimensions = tile.shape[2]\n",
    "    chip_img = tile[y*item_dim:y*item_dim+item_dim, x*(item_dim):x*(item_dim)+item_dim]\n",
    "    #add in back space if it is the edge of an image\n",
    "    if (chip_img.shape[0] != item_dim) & (chip_img.shape[1] != item_dim): #width\n",
    "        #print(\"Incorrect Width\")\n",
    "        chip = np.zeros((item_dim,item_dim,dimensions), np.uint8)\n",
    "        chip[0:chip_img.shape[0], 0:chip_img.shape[1]] = chip_img\n",
    "        chip_img = chip\n",
    "    if chip_img.shape[0] != item_dim:  #Height\n",
    "        black_height = item_dim  - chip_img.shape[0] #Height\n",
    "        black_width = item_dim #- chip_img.shape[1] #width\n",
    "        black_img = np.zeros((black_height,black_width,  dimensions), np.uint8)\n",
    "        chip_img = np.concatenate([chip_img, black_img])\n",
    "    if chip_img.shape[1] != item_dim: #width\n",
    "        black_height = item_dim #- chip_img.shape[0] #Height\n",
    "        black_width = item_dim - chip_img.shape[1] #width\n",
    "        black_img = np.zeros((black_height,black_width, dimensions), np.uint8)\n",
    "        chip_img = np.concatenate([chip_img, black_img],1)\n",
    "    return(chip_img)\n",
    "\n",
    "\n",
    "def chip_tiles(tile_path, chips_dir, item_dim): \n",
    "        \"\"\"Segment tiles into item_dim x item_dim pixel chips, preserving resolution\n",
    "        \"\"\"\n",
    "        tile_name_wo_ext, ext = os.path.splitext(os.path.basename(tile_path))  # File name\n",
    "        tile = cv2.imread(tile_path)\n",
    "        tile_height, tile_width, tile_channels = tile.shape  # the size of the tile\n",
    "        # divide the tile into item_dim by item_dim chips (rounding up)\n",
    "        row_index = math.ceil(tile_height / item_dim)\n",
    "        col_index = math.ceil(tile_width / item_dim)\n",
    "\n",
    "        count = 0\n",
    "        for y in range(0, row_index):\n",
    "            for x in range(0, col_index):\n",
    "                # \n",
    "                # specify the path to save the image\n",
    "                chip_img = tile_to_chip_array(tile, x, y, item_dim) #chip tile\n",
    "                chip_name = tile_name_wo_ext + '_' + f\"{y:02}\" + '_' + f\"{x:02}\" + '.jpg'  #\n",
    "                chips_save_path = os.path.join(chips_dir, chip_name)  # row_col.jpg                    \n",
    "                cv2.imwrite(os.path.join(chips_save_path), chip_img) # save image\n",
    "                count += 1\n",
    "                del chip_img\n",
    "        return tile_name_wo_ext, count\n",
    "\n",
    "\n",
    "def chip_tiles_concurrent(tile_dir, chips_dir, item_dim=640, connections=6):\n",
    "    # parse html and retrieve all href urls listed\n",
    "    # create the pool of worker threads\n",
    "    tile_paths = sorted(glob(tile_dir + \"/*\")) # get a list of all of the tiles in tiles directory\n",
    "    \n",
    "    with concurrent.futures.ThreadPoolExecutor(connections-4) as executor:\n",
    "        # dispatch all download tasks to worker threads\n",
    "        futures = [executor.submit(chip_tiles, tile_path, chips_dir, item_dim=item_dim) for tile_path in tile_paths]\n",
    "        # report results as they become available\n",
    "        for future in concurrent.futures.as_completed(futures):\n",
    "            try:\n",
    "                # retrieve result\n",
    "                tile_name_wo_ext, count = future.result()\n",
    "                print(tile_name_wo_ext, count)\n",
    "            except Exception as exc:\n",
    "                print(str(type(exc)))\n",
    "        \n",
    "def get_args_parse():\n",
    "    parser = argparse.ArgumentParser(\"\")\n",
    "    parser.add_argument(\"--tile_dir\", default=\"/work/csr33/images_for_predictions/naip_tiles\", type=str)\n",
    "    parser.add_argument('--img_dir', type=str, default=\"/work/csr33/images_for_predictions/naip_imgs\")\n",
    "    parser.add_argument(\"--connections\", default=6, type=int)\n",
    "    parser.add_argument(\"--imgsz\", default=640, type=int)\n",
    "\n",
    "    args = parser.parse_args()\n",
    "    return args\n",
    "\n",
    "import sys\n",
    "sys.argv = ['my_notebook']\n",
    "args = get_args_parse()"
   ]
  },
  {
   "cell_type": "code",
   "execution_count": 3,
   "id": "55f8a912-9009-457f-9c2c-a399aabcc3cc",
   "metadata": {},
   "outputs": [],
   "source": [
    "os.makedirs(args.img_dir, exist_ok=True)"
   ]
  },
  {
   "cell_type": "code",
   "execution_count": 4,
   "id": "76c11317-d9c1-46e5-9136-fb9450be097f",
   "metadata": {},
   "outputs": [],
   "source": [
    "tile_paths = sorted(glob(args.tile_dir + \"/*\")) "
   ]
  },
  {
   "cell_type": "code",
   "execution_count": 5,
   "id": "277e73d4-f83a-4495-bb4d-97c8820c4c4e",
   "metadata": {},
   "outputs": [],
   "source": [
    "tile_path = args.tile_dir +\"/m_2908955_sw_16_030_20211130.tif\"\n",
    "tile_name_wo_ext, ext = os.path.splitext(os.path.basename(tile_path))  # File name\n",
    "tile = cv2.imread(tile_paths[0])\n",
    "tile_height, tile_width, tile_channels = tile.shape  # the size of the tile\n",
    "# divide the tile into item_dim by item_dim chips (rounding up)"
   ]
  },
  {
   "cell_type": "code",
   "execution_count": 6,
   "id": "d94c4cff-bfce-4c30-8d1b-69ae92e708e8",
   "metadata": {},
   "outputs": [],
   "source": [
    "row_index = math.ceil(tile_height / 640)\n",
    "col_index = math.ceil(tile_width / 640)"
   ]
  },
  {
   "cell_type": "code",
   "execution_count": 7,
   "id": "edb2d040-f34b-4cda-aeee-25b82765f309",
   "metadata": {},
   "outputs": [
    {
     "data": {
      "text/plain": [
       "39"
      ]
     },
     "execution_count": 7,
     "metadata": {},
     "output_type": "execute_result"
    }
   ],
   "source": [
    "row_index"
   ]
  },
  {
   "cell_type": "code",
   "execution_count": 4,
   "id": "f199445c-1f64-442b-969d-e7abfba278cd",
   "metadata": {},
   "outputs": [
    {
     "name": "stderr",
     "output_type": "stream",
     "text": [
      "[ WARN:0@13.879] global grfmt_tiff.cpp:840 readData OpenCV TIFF(line 840): failed TIFFReadRGBATile(tif, x, y, (uint32*)src_buffer)\n",
      "[ERROR:0@13.879] global loadsave.cpp:478 imread_ imread_('/work/csr33/images_for_predictions/naip_tiles/m_2908901_ne_16_030_20211129.tif'): can't read data: OpenCV(4.9.0) /io/opencv/modules/imgcodecs/src/grfmt_tiff.cpp:840: error: (-2:Unspecified error) OpenCV TIFF: failed TIFFReadRGBATile(tif, x, y, (uint32*)src_buffer) in function 'readData'\n",
      "\n"
     ]
    },
    {
     "name": "stdout",
     "output_type": "stream",
     "text": [
      "<class 'AttributeError'>\n",
      "m_2808905_ne_16_030_20211130 1365\n",
      "m_2808905_se_16_030_20211201 1365\n",
      "m_2908901_nw_16_030_20211129 1365\n",
      "m_2808906_nw_16_030_20211130 1365\n",
      "m_2908902_ne_16_030_20211129 1365\n",
      "m_2908901_se_16_030_20211129 1365\n",
      "m_2908901_sw_16_030_20211129 1365\n",
      "m_2908902_nw_16_030_20211129 1365\n",
      "m_2908902_se_16_030_20211129 1365\n",
      "m_2908902_sw_16_030_20211129 1365\n",
      "m_2908903_nw_16_030_20211129 1365\n",
      "m_2908903_sw_16_030_20211129 1365\n",
      "m_2908904_ne_16_030_20211129 1365\n",
      "m_2908904_nw_16_030_20211129 1365\n",
      "m_2908904_se_16_030_20211129 1365\n",
      "m_2908905_ne_16_030_20211129 1365\n",
      "m_2908904_sw_16_030_20211129 1365\n",
      "m_2908905_nw_16_030_20211129 1365\n",
      "m_2908905_se_16_030_20211129 1365\n",
      "m_2908905_sw_16_030_20211129 1365\n",
      "m_2908909_ne_16_030_20211129 1365\n",
      "m_2908909_se_16_030_20211129 1365\n",
      "m_2908909_nw_16_030_20211129 1365\n",
      "m_2908909_sw_16_030_20211129 1365\n",
      "m_2908910_ne_16_030_20211129 1365\n",
      "m_2908910_nw_16_030_20211129 1365\n",
      "m_2908910_sw_16_030_20211129 1365\n",
      "m_2908911_nw_16_030_20211129 1365\n",
      "m_2908911_ne_16_030_20211129 1365\n",
      "m_2908910_se_16_030_20211129 1365\n",
      "m_2908911_sw_16_030_20211129 1365\n",
      "m_2908912_ne_16_030_20211129 1365\n",
      "m_2908911_se_16_030_20211129 1365\n",
      "m_2908912_nw_16_030_20211129 1365\n"
     ]
    },
    {
     "name": "stderr",
     "output_type": "stream",
     "text": [
      "[ WARN:1@670.386] global grfmt_tiff.cpp:840 readData OpenCV TIFF(line 840): failed TIFFReadRGBATile(tif, x, y, (uint32*)src_buffer)\n",
      "[ERROR:1@670.387] global loadsave.cpp:478 imread_ imread_('/work/csr33/images_for_predictions/naip_tiles/m_2908913_nw_16_030_20211129.tif'): can't read data: OpenCV(4.9.0) /io/opencv/modules/imgcodecs/src/grfmt_tiff.cpp:840: error: (-2:Unspecified error) OpenCV TIFF: failed TIFFReadRGBATile(tif, x, y, (uint32*)src_buffer) in function 'readData'\n",
      "\n"
     ]
    },
    {
     "name": "stdout",
     "output_type": "stream",
     "text": [
      "<class 'AttributeError'>\n",
      "m_2908912_se_16_030_20211129 1365\n",
      "m_2908913_ne_16_030_20211129 1365\n",
      "m_2908912_sw_16_030_20211129 1365\n",
      "m_2908913_se_16_030_20211129 1365\n",
      "m_2908913_sw_16_030_20211129 1365\n",
      "m_2908914_sw_16_030_20211129 1365\n"
     ]
    },
    {
     "name": "stderr",
     "output_type": "stream",
     "text": [
      "Exception ignored in: <bound method IPythonKernel._clean_thread_parent_frames of <ipykernel.ipkernel.IPythonKernel object at 0x7fe86520c5d0>>\n",
      "Traceback (most recent call last):\n",
      "  File \"/hpc/group/borsuklab/cred/.conda/envs/yolov8/lib/python3.11/site-packages/ipykernel/ipkernel.py\", line 770, in _clean_thread_parent_frames\n",
      "KeyboardInterrupt: \n"
     ]
    },
    {
     "ename": "KeyboardInterrupt",
     "evalue": "",
     "output_type": "error",
     "traceback": [
      "\u001b[0;31m---------------------------------------------------------------------------\u001b[0m",
      "\u001b[0;31mKeyboardInterrupt\u001b[0m                         Traceback (most recent call last)",
      "Cell \u001b[0;32mIn[2], line 62\u001b[0m, in \u001b[0;36mchip_tiles_concurrent\u001b[0;34m(tile_dir, chips_dir, item_dim, connections)\u001b[0m\n\u001b[1;32m     61\u001b[0m \u001b[38;5;66;03m# report results as they become available\u001b[39;00m\n\u001b[0;32m---> 62\u001b[0m \u001b[43m\u001b[49m\u001b[38;5;28;43;01mfor\u001b[39;49;00m\u001b[43m \u001b[49m\u001b[43mfuture\u001b[49m\u001b[43m \u001b[49m\u001b[38;5;129;43;01min\u001b[39;49;00m\u001b[43m \u001b[49m\u001b[43mconcurrent\u001b[49m\u001b[38;5;241;43m.\u001b[39;49m\u001b[43mfutures\u001b[49m\u001b[38;5;241;43m.\u001b[39;49m\u001b[43mas_completed\u001b[49m\u001b[43m(\u001b[49m\u001b[43mfutures\u001b[49m\u001b[43m)\u001b[49m\u001b[43m:\u001b[49m\n\u001b[1;32m     63\u001b[0m \u001b[43m    \u001b[49m\u001b[38;5;28;43;01mtry\u001b[39;49;00m\u001b[43m:\u001b[49m\n\u001b[1;32m     64\u001b[0m \u001b[43m        \u001b[49m\u001b[38;5;66;43;03m# retrieve result\u001b[39;49;00m\n",
      "File \u001b[0;32m/hpc/group/borsuklab/cred/.conda/envs/yolov8/lib/python3.11/concurrent/futures/_base.py:243\u001b[0m, in \u001b[0;36mas_completed\u001b[0;34m(fs, timeout)\u001b[0m\n\u001b[1;32m    239\u001b[0m         \u001b[38;5;28;01mraise\u001b[39;00m \u001b[38;5;167;01mTimeoutError\u001b[39;00m(\n\u001b[1;32m    240\u001b[0m                 \u001b[38;5;124m'\u001b[39m\u001b[38;5;132;01m%d\u001b[39;00m\u001b[38;5;124m (of \u001b[39m\u001b[38;5;132;01m%d\u001b[39;00m\u001b[38;5;124m) futures unfinished\u001b[39m\u001b[38;5;124m'\u001b[39m \u001b[38;5;241m%\u001b[39m (\n\u001b[1;32m    241\u001b[0m                 \u001b[38;5;28mlen\u001b[39m(pending), total_futures))\n\u001b[0;32m--> 243\u001b[0m \u001b[43mwaiter\u001b[49m\u001b[38;5;241;43m.\u001b[39;49m\u001b[43mevent\u001b[49m\u001b[38;5;241;43m.\u001b[39;49m\u001b[43mwait\u001b[49m\u001b[43m(\u001b[49m\u001b[43mwait_timeout\u001b[49m\u001b[43m)\u001b[49m\n\u001b[1;32m    245\u001b[0m \u001b[38;5;28;01mwith\u001b[39;00m waiter\u001b[38;5;241m.\u001b[39mlock:\n",
      "File \u001b[0;32m/hpc/group/borsuklab/cred/.conda/envs/yolov8/lib/python3.11/threading.py:629\u001b[0m, in \u001b[0;36mEvent.wait\u001b[0;34m(self, timeout)\u001b[0m\n\u001b[1;32m    628\u001b[0m \u001b[38;5;28;01mif\u001b[39;00m \u001b[38;5;129;01mnot\u001b[39;00m signaled:\n\u001b[0;32m--> 629\u001b[0m     signaled \u001b[38;5;241m=\u001b[39m \u001b[38;5;28;43mself\u001b[39;49m\u001b[38;5;241;43m.\u001b[39;49m\u001b[43m_cond\u001b[49m\u001b[38;5;241;43m.\u001b[39;49m\u001b[43mwait\u001b[49m\u001b[43m(\u001b[49m\u001b[43mtimeout\u001b[49m\u001b[43m)\u001b[49m\n\u001b[1;32m    630\u001b[0m \u001b[38;5;28;01mreturn\u001b[39;00m signaled\n",
      "File \u001b[0;32m/hpc/group/borsuklab/cred/.conda/envs/yolov8/lib/python3.11/threading.py:327\u001b[0m, in \u001b[0;36mCondition.wait\u001b[0;34m(self, timeout)\u001b[0m\n\u001b[1;32m    326\u001b[0m \u001b[38;5;28;01mif\u001b[39;00m timeout \u001b[38;5;129;01mis\u001b[39;00m \u001b[38;5;28;01mNone\u001b[39;00m:\n\u001b[0;32m--> 327\u001b[0m     \u001b[43mwaiter\u001b[49m\u001b[38;5;241;43m.\u001b[39;49m\u001b[43macquire\u001b[49m\u001b[43m(\u001b[49m\u001b[43m)\u001b[49m\n\u001b[1;32m    328\u001b[0m     gotit \u001b[38;5;241m=\u001b[39m \u001b[38;5;28;01mTrue\u001b[39;00m\n",
      "\u001b[0;31mKeyboardInterrupt\u001b[0m: ",
      "\nDuring handling of the above exception, another exception occurred:\n",
      "\u001b[0;31mKeyboardInterrupt\u001b[0m                         Traceback (most recent call last)",
      "Cell \u001b[0;32mIn[4], line 1\u001b[0m\n\u001b[0;32m----> 1\u001b[0m \u001b[43mchip_tiles_concurrent\u001b[49m\u001b[43m(\u001b[49m\u001b[43margs\u001b[49m\u001b[38;5;241;43m.\u001b[39;49m\u001b[43mtile_dir\u001b[49m\u001b[43m,\u001b[49m\u001b[43m \u001b[49m\u001b[43margs\u001b[49m\u001b[38;5;241;43m.\u001b[39;49m\u001b[43mimg_dir\u001b[49m\u001b[43m,\u001b[49m\u001b[43m \u001b[49m\u001b[43mitem_dim\u001b[49m\u001b[38;5;241;43m=\u001b[39;49m\u001b[43margs\u001b[49m\u001b[38;5;241;43m.\u001b[39;49m\u001b[43mimgsz\u001b[49m\u001b[43m,\u001b[49m\u001b[43m \u001b[49m\u001b[43mconnections\u001b[49m\u001b[38;5;241;43m=\u001b[39;49m\u001b[38;5;241;43m8\u001b[39;49m\u001b[43m)\u001b[49m\n",
      "Cell \u001b[0;32mIn[2], line 58\u001b[0m, in \u001b[0;36mchip_tiles_concurrent\u001b[0;34m(tile_dir, chips_dir, item_dim, connections)\u001b[0m\n\u001b[1;32m     53\u001b[0m \u001b[38;5;28;01mdef\u001b[39;00m \u001b[38;5;21mchip_tiles_concurrent\u001b[39m(tile_dir, chips_dir, item_dim\u001b[38;5;241m=\u001b[39m\u001b[38;5;241m640\u001b[39m, connections\u001b[38;5;241m=\u001b[39m\u001b[38;5;241m6\u001b[39m):\n\u001b[1;32m     54\u001b[0m     \u001b[38;5;66;03m# parse html and retrieve all href urls listed\u001b[39;00m\n\u001b[1;32m     55\u001b[0m     \u001b[38;5;66;03m# create the pool of worker threads\u001b[39;00m\n\u001b[1;32m     56\u001b[0m     tile_paths \u001b[38;5;241m=\u001b[39m \u001b[38;5;28msorted\u001b[39m(glob(tile_dir \u001b[38;5;241m+\u001b[39m \u001b[38;5;124m\"\u001b[39m\u001b[38;5;124m/*\u001b[39m\u001b[38;5;124m\"\u001b[39m)) \u001b[38;5;66;03m# get a list of all of the tiles in tiles directory\u001b[39;00m\n\u001b[0;32m---> 58\u001b[0m \u001b[43m    \u001b[49m\u001b[38;5;28;43;01mwith\u001b[39;49;00m\u001b[43m \u001b[49m\u001b[43mconcurrent\u001b[49m\u001b[38;5;241;43m.\u001b[39;49m\u001b[43mfutures\u001b[49m\u001b[38;5;241;43m.\u001b[39;49m\u001b[43mThreadPoolExecutor\u001b[49m\u001b[43m(\u001b[49m\u001b[43mconnections\u001b[49m\u001b[38;5;241;43m-\u001b[39;49m\u001b[38;5;241;43m4\u001b[39;49m\u001b[43m)\u001b[49m\u001b[43m \u001b[49m\u001b[38;5;28;43;01mas\u001b[39;49;00m\u001b[43m \u001b[49m\u001b[43mexecutor\u001b[49m\u001b[43m:\u001b[49m\n\u001b[1;32m     59\u001b[0m \u001b[43m        \u001b[49m\u001b[38;5;66;43;03m# dispatch all download tasks to worker threads\u001b[39;49;00m\n\u001b[1;32m     60\u001b[0m \u001b[43m        \u001b[49m\u001b[43mfutures\u001b[49m\u001b[43m \u001b[49m\u001b[38;5;241;43m=\u001b[39;49m\u001b[43m \u001b[49m\u001b[43m[\u001b[49m\u001b[43mexecutor\u001b[49m\u001b[38;5;241;43m.\u001b[39;49m\u001b[43msubmit\u001b[49m\u001b[43m(\u001b[49m\u001b[43mchip_tiles\u001b[49m\u001b[43m,\u001b[49m\u001b[43m \u001b[49m\u001b[43mtile_path\u001b[49m\u001b[43m,\u001b[49m\u001b[43m \u001b[49m\u001b[43mchips_dir\u001b[49m\u001b[43m,\u001b[49m\u001b[43m \u001b[49m\u001b[43mitem_dim\u001b[49m\u001b[38;5;241;43m=\u001b[39;49m\u001b[43mitem_dim\u001b[49m\u001b[43m)\u001b[49m\u001b[43m \u001b[49m\u001b[38;5;28;43;01mfor\u001b[39;49;00m\u001b[43m \u001b[49m\u001b[43mtile_path\u001b[49m\u001b[43m \u001b[49m\u001b[38;5;129;43;01min\u001b[39;49;00m\u001b[43m \u001b[49m\u001b[43mtile_paths\u001b[49m\u001b[43m]\u001b[49m\n\u001b[1;32m     61\u001b[0m \u001b[43m        \u001b[49m\u001b[38;5;66;43;03m# report results as they become available\u001b[39;49;00m\n",
      "File \u001b[0;32m/hpc/group/borsuklab/cred/.conda/envs/yolov8/lib/python3.11/concurrent/futures/_base.py:647\u001b[0m, in \u001b[0;36mExecutor.__exit__\u001b[0;34m(self, exc_type, exc_val, exc_tb)\u001b[0m\n\u001b[1;32m    646\u001b[0m \u001b[38;5;28;01mdef\u001b[39;00m \u001b[38;5;21m__exit__\u001b[39m(\u001b[38;5;28mself\u001b[39m, exc_type, exc_val, exc_tb):\n\u001b[0;32m--> 647\u001b[0m     \u001b[38;5;28;43mself\u001b[39;49m\u001b[38;5;241;43m.\u001b[39;49m\u001b[43mshutdown\u001b[49m\u001b[43m(\u001b[49m\u001b[43mwait\u001b[49m\u001b[38;5;241;43m=\u001b[39;49m\u001b[38;5;28;43;01mTrue\u001b[39;49;00m\u001b[43m)\u001b[49m\n\u001b[1;32m    648\u001b[0m     \u001b[38;5;28;01mreturn\u001b[39;00m \u001b[38;5;28;01mFalse\u001b[39;00m\n",
      "File \u001b[0;32m/hpc/group/borsuklab/cred/.conda/envs/yolov8/lib/python3.11/concurrent/futures/thread.py:235\u001b[0m, in \u001b[0;36mThreadPoolExecutor.shutdown\u001b[0;34m(self, wait, cancel_futures)\u001b[0m\n\u001b[1;32m    233\u001b[0m \u001b[38;5;28;01mif\u001b[39;00m wait:\n\u001b[1;32m    234\u001b[0m     \u001b[38;5;28;01mfor\u001b[39;00m t \u001b[38;5;129;01min\u001b[39;00m \u001b[38;5;28mself\u001b[39m\u001b[38;5;241m.\u001b[39m_threads:\n\u001b[0;32m--> 235\u001b[0m         \u001b[43mt\u001b[49m\u001b[38;5;241;43m.\u001b[39;49m\u001b[43mjoin\u001b[49m\u001b[43m(\u001b[49m\u001b[43m)\u001b[49m\n",
      "File \u001b[0;32m/hpc/group/borsuklab/cred/.conda/envs/yolov8/lib/python3.11/threading.py:1119\u001b[0m, in \u001b[0;36mThread.join\u001b[0;34m(self, timeout)\u001b[0m\n\u001b[1;32m   1116\u001b[0m     \u001b[38;5;28;01mraise\u001b[39;00m \u001b[38;5;167;01mRuntimeError\u001b[39;00m(\u001b[38;5;124m\"\u001b[39m\u001b[38;5;124mcannot join current thread\u001b[39m\u001b[38;5;124m\"\u001b[39m)\n\u001b[1;32m   1118\u001b[0m \u001b[38;5;28;01mif\u001b[39;00m timeout \u001b[38;5;129;01mis\u001b[39;00m \u001b[38;5;28;01mNone\u001b[39;00m:\n\u001b[0;32m-> 1119\u001b[0m     \u001b[38;5;28;43mself\u001b[39;49m\u001b[38;5;241;43m.\u001b[39;49m\u001b[43m_wait_for_tstate_lock\u001b[49m\u001b[43m(\u001b[49m\u001b[43m)\u001b[49m\n\u001b[1;32m   1120\u001b[0m \u001b[38;5;28;01melse\u001b[39;00m:\n\u001b[1;32m   1121\u001b[0m     \u001b[38;5;66;03m# the behavior of a negative timeout isn't documented, but\u001b[39;00m\n\u001b[1;32m   1122\u001b[0m     \u001b[38;5;66;03m# historically .join(timeout=x) for x<0 has acted as if timeout=0\u001b[39;00m\n\u001b[1;32m   1123\u001b[0m     \u001b[38;5;28mself\u001b[39m\u001b[38;5;241m.\u001b[39m_wait_for_tstate_lock(timeout\u001b[38;5;241m=\u001b[39m\u001b[38;5;28mmax\u001b[39m(timeout, \u001b[38;5;241m0\u001b[39m))\n",
      "File \u001b[0;32m/hpc/group/borsuklab/cred/.conda/envs/yolov8/lib/python3.11/threading.py:1139\u001b[0m, in \u001b[0;36mThread._wait_for_tstate_lock\u001b[0;34m(self, block, timeout)\u001b[0m\n\u001b[1;32m   1136\u001b[0m     \u001b[38;5;28;01mreturn\u001b[39;00m\n\u001b[1;32m   1138\u001b[0m \u001b[38;5;28;01mtry\u001b[39;00m:\n\u001b[0;32m-> 1139\u001b[0m     \u001b[38;5;28;01mif\u001b[39;00m \u001b[43mlock\u001b[49m\u001b[38;5;241;43m.\u001b[39;49m\u001b[43macquire\u001b[49m\u001b[43m(\u001b[49m\u001b[43mblock\u001b[49m\u001b[43m,\u001b[49m\u001b[43m \u001b[49m\u001b[43mtimeout\u001b[49m\u001b[43m)\u001b[49m:\n\u001b[1;32m   1140\u001b[0m         lock\u001b[38;5;241m.\u001b[39mrelease()\n\u001b[1;32m   1141\u001b[0m         \u001b[38;5;28mself\u001b[39m\u001b[38;5;241m.\u001b[39m_stop()\n",
      "\u001b[0;31mKeyboardInterrupt\u001b[0m: "
     ]
    },
    {
     "name": "stderr",
     "output_type": "stream",
     "text": [
      "[ WARN:2@1926.537] global grfmt_tiff.cpp:840 readData OpenCV TIFF(line 840): failed TIFFReadRGBATile(tif, x, y, (uint32*)src_buffer)\n",
      "[ERROR:2@1926.537] global loadsave.cpp:478 imread_ imread_('/work/csr33/images_for_predictions/naip_tiles/m_2908961_ne_16_030_20211130.tif'): can't read data: OpenCV(4.9.0) /io/opencv/modules/imgcodecs/src/grfmt_tiff.cpp:840: error: (-2:Unspecified error) OpenCV TIFF: failed TIFFReadRGBATile(tif, x, y, (uint32*)src_buffer) in function 'readData'\n",
      "\n",
      "[ WARN:0@2059.574] global grfmt_tiff.cpp:840 readData OpenCV TIFF(line 840): failed TIFFReadRGBATile(tif, x, y, (uint32*)src_buffer)\n",
      "[ERROR:0@2059.574] global loadsave.cpp:478 imread_ imread_('/work/csr33/images_for_predictions/naip_tiles/m_2908964_nw_16_030_20211130.tif'): can't read data: OpenCV(4.9.0) /io/opencv/modules/imgcodecs/src/grfmt_tiff.cpp:840: error: (-2:Unspecified error) OpenCV TIFF: failed TIFFReadRGBATile(tif, x, y, (uint32*)src_buffer) in function 'readData'\n",
      "\n",
      "[ WARN:3@2063.546] global grfmt_tiff.cpp:840 readData OpenCV TIFF(line 840): failed TIFFReadRGBATile(tif, x, y, (uint32*)src_buffer)\n",
      "[ERROR:3@2063.546] global loadsave.cpp:478 imread_ imread_('/work/csr33/images_for_predictions/naip_tiles/m_2909004_ne_15_030_20211130.tif'): can't read data: OpenCV(4.9.0) /io/opencv/modules/imgcodecs/src/grfmt_tiff.cpp:840: error: (-2:Unspecified error) OpenCV TIFF: failed TIFFReadRGBATile(tif, x, y, (uint32*)src_buffer) in function 'readData'\n",
      "\n",
      "[ WARN:2@2209.694] global grfmt_tiff.cpp:840 readData OpenCV TIFF(line 840): failed TIFFReadRGBATile(tif, x, y, (uint32*)src_buffer)\n",
      "[ERROR:2@2209.694] global loadsave.cpp:478 imread_ imread_('/work/csr33/images_for_predictions/naip_tiles/m_2909006_sw_15_030_20211130.tif'): can't read data: OpenCV(4.9.0) /io/opencv/modules/imgcodecs/src/grfmt_tiff.cpp:840: error: (-2:Unspecified error) OpenCV TIFF: failed TIFFReadRGBATile(tif, x, y, (uint32*)src_buffer) in function 'readData'\n",
      "\n"
     ]
    }
   ],
   "source": [
    "chip_tiles_concurrent(args.tile_dir, args.img_dir, item_dim=args.imgsz, connections=8)"
   ]
  }
 ],
 "metadata": {
  "kernelspec": {
   "display_name": "yolov8",
   "language": "python",
   "name": "yolov8"
  },
  "language_info": {
   "codemirror_mode": {
    "name": "ipython",
    "version": 3
   },
   "file_extension": ".py",
   "mimetype": "text/x-python",
   "name": "python",
   "nbconvert_exporter": "python",
   "pygments_lexer": "ipython3",
   "version": "3.11.6"
  }
 },
 "nbformat": 4,
 "nbformat_minor": 5
}
