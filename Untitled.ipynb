{
 "cells": [
  {
   "cell_type": "code",
   "execution_count": 1,
   "id": "63627f2c-dcb0-4765-84c5-0c3c393cb42d",
   "metadata": {},
   "outputs": [],
   "source": [
    "import os"
   ]
  },
  {
   "cell_type": "code",
   "execution_count": 1,
   "id": "fed76d55-47ac-4645-a812-434029f96087",
   "metadata": {},
   "outputs": [],
   "source": [
    "import numpy as np"
   ]
  },
  {
   "cell_type": "code",
   "execution_count": 5,
   "id": "eed884a9-8817-4d22-8062-011d02d1e1b7",
   "metadata": {},
   "outputs": [
    {
     "ename": "ValueError",
     "evalue": "Cannot load file containing pickled data when allow_pickle=False",
     "output_type": "error",
     "traceback": [
      "\u001b[0;31m---------------------------------------------------------------------------\u001b[0m",
      "\u001b[0;31mValueError\u001b[0m                                Traceback (most recent call last)",
      "Cell \u001b[0;32mIn[5], line 1\u001b[0m\n\u001b[0;32m----> 1\u001b[0m t \u001b[38;5;241m=\u001b[39m \u001b[43mnp\u001b[49m\u001b[38;5;241;43m.\u001b[39;49m\u001b[43mload\u001b[49m\u001b[43m(\u001b[49m\u001b[38;5;124;43m\"\u001b[39;49m\u001b[38;5;124;43mtile_name_tile_url_expanded.npy\u001b[39;49m\u001b[38;5;124;43m\"\u001b[39;49m\u001b[43m)\u001b[49m\n",
      "File \u001b[0;32m/hpc/group/borsuklab/cred/.conda/envs/pytorch-fasterrcnn/lib/python3.11/site-packages/numpy/lib/npyio.py:462\u001b[0m, in \u001b[0;36mload\u001b[0;34m(file, mmap_mode, allow_pickle, fix_imports, encoding, max_header_size)\u001b[0m\n\u001b[1;32m    459\u001b[0m \u001b[38;5;28;01melse\u001b[39;00m:\n\u001b[1;32m    460\u001b[0m     \u001b[38;5;66;03m# Try a pickle\u001b[39;00m\n\u001b[1;32m    461\u001b[0m     \u001b[38;5;28;01mif\u001b[39;00m \u001b[38;5;129;01mnot\u001b[39;00m allow_pickle:\n\u001b[0;32m--> 462\u001b[0m         \u001b[38;5;28;01mraise\u001b[39;00m \u001b[38;5;167;01mValueError\u001b[39;00m(\u001b[38;5;124m\"\u001b[39m\u001b[38;5;124mCannot load file containing pickled data \u001b[39m\u001b[38;5;124m\"\u001b[39m\n\u001b[1;32m    463\u001b[0m                          \u001b[38;5;124m\"\u001b[39m\u001b[38;5;124mwhen allow_pickle=False\u001b[39m\u001b[38;5;124m\"\u001b[39m)\n\u001b[1;32m    464\u001b[0m     \u001b[38;5;28;01mtry\u001b[39;00m:\n\u001b[1;32m    465\u001b[0m         \u001b[38;5;28;01mreturn\u001b[39;00m pickle\u001b[38;5;241m.\u001b[39mload(fid, \u001b[38;5;241m*\u001b[39m\u001b[38;5;241m*\u001b[39mpickle_kwargs)\n",
      "\u001b[0;31mValueError\u001b[0m: Cannot load file containing pickled data when allow_pickle=False"
     ]
    }
   ],
   "source": [
    "t = np.load(\"tile_name_tile_url_expanded.npy\")"
   ]
  },
  {
   "cell_type": "code",
   "execution_count": null,
   "id": "8cd3ceb4-24a1-42c0-954e-851fdc862b77",
   "metadata": {},
   "outputs": [],
   "source": [
    "nws_groceries = geopandas.clip(groceries, near_west_side)\n"
   ]
  },
  {
   "cell_type": "code",
   "execution_count": null,
   "id": "3a58f3c9-8c31-406a-80d5-a09aa44b2a66",
   "metadata": {},
   "outputs": [],
   "source": [
    "len(os.listdir(\"/hpc/group/borsuklab/ast/complete-dataset/chips_positive\"))\n",
    "find \"/hpc/group/borsuklab/ast/complete-dataset/chips_positive_corrected_xml\" -name \"*.xml\" > /hpc/group/borsuklab/ast/complete_dataset_anno_path_list.txt\n",
    "python voc2coco.py --ann_dir_path \"/hpc/group/borsuklab/ast/complete-dataset/chips_positive_corrected_xml\" --ann_ids_path path/to/ann_ids.txt --ext xml\n",
    "\n",
    "python /hpc/home/csr33/ast_object_detection/object_detection/references/voc2coco/voc2coco.py \\\n",
    "    --ann_paths_list  /hpc/group/borsuklab/ast/complete_dataset_anno_path_list.txt \\\n",
    "    --labels /hpc/home/csr33/ast_object_detection/object_detection/predefined_classes.txt \\\n",
    "    --output /hpc/group/borsuklab/ast/coco.json \\\n",
    "    --ext xml"
   ]
  },
  {
   "cell_type": "code",
   "execution_count": 1,
   "id": "592be0d4-b141-4a74-9196-b03305732556",
   "metadata": {},
   "outputs": [],
   "source": [
    "from pycocotools.coco import COCO\n",
    "import random"
   ]
  },
  {
   "cell_type": "code",
   "execution_count": 11,
   "id": "028239b0-355f-4dcc-bf68-fe15b0af9c23",
   "metadata": {},
   "outputs": [],
   "source": [
    "annotation_file_path = \"/hpc/group/borsuklab/ast/coco.json\"\n"
   ]
  },
  {
   "cell_type": "code",
   "execution_count": 2,
   "id": "504f9def-f466-410f-934d-a991ae6c8cd7",
   "metadata": {},
   "outputs": [
    {
     "name": "stdout",
     "output_type": "stream",
     "text": [
      "loading annotations into memory...\n",
      "Done (t=0.75s)\n",
      "creating index...\n",
      "index created!\n"
     ]
    }
   ],
   "source": [
    "# Load COCO annotations\n",
    "coco = COCO(\"/hpc/group/borsuklab/ast/coco.json\")  # Specify the path to your COCO annotations file\n",
    "# Choose the attribute for stratification (e.g., category)\n",
    "stratum_attribute = 'category'\n",
    "\n",
    "# Get all unique values for the chosen attribute\n",
    "strata_values = coco.getCatIds()"
   ]
  },
  {
   "cell_type": "code",
   "execution_count": 4,
   "id": "20fa4b81-49da-4a47-b708-61eb6ea93f4b",
   "metadata": {},
   "outputs": [],
   "source": [
    "# Perform stratified sampling\n",
    "sampled_ids = []\n",
    "for value in strata_values:\n",
    "    # Get image IDs for the current stratum value\n",
    "    img_ids = coco.getImgIds(catIds=[value])\n",
    "\n",
    "    # Randomly sample from the current stratum\n",
    "    sampled_ids.extend(random.sample(img_ids, k=min(10, len(img_ids))))\n",
    "\n",
    "# Now, sampled_ids contains the image IDs for your stratified sample"
   ]
  },
  {
   "cell_type": "code",
   "execution_count": 12,
   "id": "dca30e3e-bbec-4a75-863c-2869b6fb44f6",
   "metadata": {},
   "outputs": [
    {
     "name": "stdout",
     "output_type": "stream",
     "text": [
      "loading annotations into memory...\n",
      "Done (t=0.75s)\n",
      "creating index...\n",
      "index created!\n"
     ]
    }
   ],
   "source": [
    "from pycocotools.coco import COCO\n",
    "import random\n",
    "from sklearn.model_selection import train_test_split\n",
    "\n",
    "# Load COCO annotations\n",
    "coco = COCO(annotation_file_path)  # Specify the path to your COCO annotations file\n",
    "\n",
    "# Get all unique class labels (categories) in the dataset\n",
    "class_labels = coco.getCatIds()\n",
    "\n",
    "# Create a list to store sampled image IDs for each set\n",
    "train_sampled_ids = []\n",
    "val_sampled_ids = []\n",
    "test_sampled_ids = []\n",
    "\n",
    "# Set the split ratios (adjust as needed)\n",
    "train_ratio = 0.7\n",
    "val_ratio = 0.15\n",
    "test_ratio = 0.15\n",
    "\n",
    "# Perform stratified sampling for each class label\n",
    "for label in class_labels:\n",
    "    # Get image IDs for the current class label\n",
    "    img_ids = coco.getImgIds(catIds=[label])\n",
    "\n",
    "    # Perform train-validation-test split while maintaining the class distribution\n",
    "    train_ids, test_and_val_ids = train_test_split(img_ids, test_size=(1 - train_ratio))\n",
    "    val_ids, test_ids = train_test_split(test_and_val_ids, test_size=(test_ratio / (1 - train_ratio)))\n",
    "\n",
    "    # Add the sampled image IDs to the respective sets\n",
    "    train_sampled_ids.extend(train_ids)\n",
    "    val_sampled_ids.extend(val_ids)\n",
    "    test_sampled_ids.extend(test_ids)\n",
    "\n",
    "# Now, train_sampled_ids, val_sampled_ids, and test_sampled_ids contain the stratified samples for the train, validation, and test sets, respectively\n"
   ]
  },
  {
   "cell_type": "code",
   "execution_count": 26,
   "id": "a8716d48-cdd1-4a9e-b2c6-81f551fdf961",
   "metadata": {},
   "outputs": [
    {
     "data": {
      "text/plain": [
       "[1, 2, 3, 4, 5, 6, 7]"
      ]
     },
     "execution_count": 26,
     "metadata": {},
     "output_type": "execute_result"
    }
   ],
   "source": [
    "class_labels"
   ]
  },
  {
   "cell_type": "code",
   "execution_count": 27,
   "id": "6ce9bd13-f90e-4624-9f57-1d2fa8d72901",
   "metadata": {},
   "outputs": [
    {
     "name": "stdout",
     "output_type": "stream",
     "text": [
      "loading annotations into memory...\n",
      "Done (t=0.90s)\n",
      "creating index...\n",
      "index created!\n"
     ]
    },
    {
     "ename": "ValueError",
     "evalue": "With n_samples=1, test_size=0.30000000000000004 and train_size=None, the resulting train set will be empty. Adjust any of the aforementioned parameters.",
     "output_type": "error",
     "traceback": [
      "\u001b[0;31m---------------------------------------------------------------------------\u001b[0m",
      "\u001b[0;31mValueError\u001b[0m                                Traceback (most recent call last)",
      "Cell \u001b[0;32mIn[27], line 34\u001b[0m\n\u001b[1;32m     31\u001b[0m img_ids \u001b[38;5;241m=\u001b[39m [img_id]\n\u001b[1;32m     33\u001b[0m \u001b[38;5;66;03m# Perform train-validation-test split while maintaining the class distribution\u001b[39;00m\n\u001b[0;32m---> 34\u001b[0m train_ids, test_and_val_ids \u001b[38;5;241m=\u001b[39m \u001b[43mtrain_test_split\u001b[49m\u001b[43m(\u001b[49m\u001b[43mimg_ids\u001b[49m\u001b[43m,\u001b[49m\u001b[43m \u001b[49m\u001b[43mtest_size\u001b[49m\u001b[38;5;241;43m=\u001b[39;49m\u001b[43m(\u001b[49m\u001b[38;5;241;43m1\u001b[39;49m\u001b[43m \u001b[49m\u001b[38;5;241;43m-\u001b[39;49m\u001b[43m \u001b[49m\u001b[43mtrain_ratio\u001b[49m\u001b[43m)\u001b[49m\u001b[43m)\u001b[49m\n\u001b[1;32m     35\u001b[0m val_ids, test_ids \u001b[38;5;241m=\u001b[39m train_test_split(test_and_val_ids, test_size\u001b[38;5;241m=\u001b[39m(test_ratio \u001b[38;5;241m/\u001b[39m (\u001b[38;5;241m1\u001b[39m \u001b[38;5;241m-\u001b[39m train_ratio)))\n\u001b[1;32m     37\u001b[0m \u001b[38;5;66;03m# Add the sampled image IDs to the respective sets\u001b[39;00m\n",
      "File \u001b[0;32m/hpc/group/borsuklab/cred/.conda/envs/pytorch-fasterrcnn/lib/python3.11/site-packages/sklearn/utils/_param_validation.py:211\u001b[0m, in \u001b[0;36mvalidate_params.<locals>.decorator.<locals>.wrapper\u001b[0;34m(*args, **kwargs)\u001b[0m\n\u001b[1;32m    205\u001b[0m \u001b[38;5;28;01mtry\u001b[39;00m:\n\u001b[1;32m    206\u001b[0m     \u001b[38;5;28;01mwith\u001b[39;00m config_context(\n\u001b[1;32m    207\u001b[0m         skip_parameter_validation\u001b[38;5;241m=\u001b[39m(\n\u001b[1;32m    208\u001b[0m             prefer_skip_nested_validation \u001b[38;5;129;01mor\u001b[39;00m global_skip_validation\n\u001b[1;32m    209\u001b[0m         )\n\u001b[1;32m    210\u001b[0m     ):\n\u001b[0;32m--> 211\u001b[0m         \u001b[38;5;28;01mreturn\u001b[39;00m \u001b[43mfunc\u001b[49m\u001b[43m(\u001b[49m\u001b[38;5;241;43m*\u001b[39;49m\u001b[43margs\u001b[49m\u001b[43m,\u001b[49m\u001b[43m \u001b[49m\u001b[38;5;241;43m*\u001b[39;49m\u001b[38;5;241;43m*\u001b[39;49m\u001b[43mkwargs\u001b[49m\u001b[43m)\u001b[49m\n\u001b[1;32m    212\u001b[0m \u001b[38;5;28;01mexcept\u001b[39;00m InvalidParameterError \u001b[38;5;28;01mas\u001b[39;00m e:\n\u001b[1;32m    213\u001b[0m     \u001b[38;5;66;03m# When the function is just a wrapper around an estimator, we allow\u001b[39;00m\n\u001b[1;32m    214\u001b[0m     \u001b[38;5;66;03m# the function to delegate validation to the estimator, but we replace\u001b[39;00m\n\u001b[1;32m    215\u001b[0m     \u001b[38;5;66;03m# the name of the estimator by the name of the function in the error\u001b[39;00m\n\u001b[1;32m    216\u001b[0m     \u001b[38;5;66;03m# message to avoid confusion.\u001b[39;00m\n\u001b[1;32m    217\u001b[0m     msg \u001b[38;5;241m=\u001b[39m re\u001b[38;5;241m.\u001b[39msub(\n\u001b[1;32m    218\u001b[0m         \u001b[38;5;124mr\u001b[39m\u001b[38;5;124m\"\u001b[39m\u001b[38;5;124mparameter of \u001b[39m\u001b[38;5;124m\\\u001b[39m\u001b[38;5;124mw+ must be\u001b[39m\u001b[38;5;124m\"\u001b[39m,\n\u001b[1;32m    219\u001b[0m         \u001b[38;5;124mf\u001b[39m\u001b[38;5;124m\"\u001b[39m\u001b[38;5;124mparameter of \u001b[39m\u001b[38;5;132;01m{\u001b[39;00mfunc\u001b[38;5;241m.\u001b[39m\u001b[38;5;18m__qualname__\u001b[39m\u001b[38;5;132;01m}\u001b[39;00m\u001b[38;5;124m must be\u001b[39m\u001b[38;5;124m\"\u001b[39m,\n\u001b[1;32m    220\u001b[0m         \u001b[38;5;28mstr\u001b[39m(e),\n\u001b[1;32m    221\u001b[0m     )\n",
      "File \u001b[0;32m/hpc/group/borsuklab/cred/.conda/envs/pytorch-fasterrcnn/lib/python3.11/site-packages/sklearn/model_selection/_split.py:2617\u001b[0m, in \u001b[0;36mtrain_test_split\u001b[0;34m(test_size, train_size, random_state, shuffle, stratify, *arrays)\u001b[0m\n\u001b[1;32m   2614\u001b[0m arrays \u001b[38;5;241m=\u001b[39m indexable(\u001b[38;5;241m*\u001b[39marrays)\n\u001b[1;32m   2616\u001b[0m n_samples \u001b[38;5;241m=\u001b[39m _num_samples(arrays[\u001b[38;5;241m0\u001b[39m])\n\u001b[0;32m-> 2617\u001b[0m n_train, n_test \u001b[38;5;241m=\u001b[39m \u001b[43m_validate_shuffle_split\u001b[49m\u001b[43m(\u001b[49m\n\u001b[1;32m   2618\u001b[0m \u001b[43m    \u001b[49m\u001b[43mn_samples\u001b[49m\u001b[43m,\u001b[49m\u001b[43m \u001b[49m\u001b[43mtest_size\u001b[49m\u001b[43m,\u001b[49m\u001b[43m \u001b[49m\u001b[43mtrain_size\u001b[49m\u001b[43m,\u001b[49m\u001b[43m \u001b[49m\u001b[43mdefault_test_size\u001b[49m\u001b[38;5;241;43m=\u001b[39;49m\u001b[38;5;241;43m0.25\u001b[39;49m\n\u001b[1;32m   2619\u001b[0m \u001b[43m\u001b[49m\u001b[43m)\u001b[49m\n\u001b[1;32m   2621\u001b[0m \u001b[38;5;28;01mif\u001b[39;00m shuffle \u001b[38;5;129;01mis\u001b[39;00m \u001b[38;5;28;01mFalse\u001b[39;00m:\n\u001b[1;32m   2622\u001b[0m     \u001b[38;5;28;01mif\u001b[39;00m stratify \u001b[38;5;129;01mis\u001b[39;00m \u001b[38;5;129;01mnot\u001b[39;00m \u001b[38;5;28;01mNone\u001b[39;00m:\n",
      "File \u001b[0;32m/hpc/group/borsuklab/cred/.conda/envs/pytorch-fasterrcnn/lib/python3.11/site-packages/sklearn/model_selection/_split.py:2273\u001b[0m, in \u001b[0;36m_validate_shuffle_split\u001b[0;34m(n_samples, test_size, train_size, default_test_size)\u001b[0m\n\u001b[1;32m   2270\u001b[0m n_train, n_test \u001b[38;5;241m=\u001b[39m \u001b[38;5;28mint\u001b[39m(n_train), \u001b[38;5;28mint\u001b[39m(n_test)\n\u001b[1;32m   2272\u001b[0m \u001b[38;5;28;01mif\u001b[39;00m n_train \u001b[38;5;241m==\u001b[39m \u001b[38;5;241m0\u001b[39m:\n\u001b[0;32m-> 2273\u001b[0m     \u001b[38;5;28;01mraise\u001b[39;00m \u001b[38;5;167;01mValueError\u001b[39;00m(\n\u001b[1;32m   2274\u001b[0m         \u001b[38;5;124m\"\u001b[39m\u001b[38;5;124mWith n_samples=\u001b[39m\u001b[38;5;132;01m{}\u001b[39;00m\u001b[38;5;124m, test_size=\u001b[39m\u001b[38;5;132;01m{}\u001b[39;00m\u001b[38;5;124m and train_size=\u001b[39m\u001b[38;5;132;01m{}\u001b[39;00m\u001b[38;5;124m, the \u001b[39m\u001b[38;5;124m\"\u001b[39m\n\u001b[1;32m   2275\u001b[0m         \u001b[38;5;124m\"\u001b[39m\u001b[38;5;124mresulting train set will be empty. Adjust any of the \u001b[39m\u001b[38;5;124m\"\u001b[39m\n\u001b[1;32m   2276\u001b[0m         \u001b[38;5;124m\"\u001b[39m\u001b[38;5;124maforementioned parameters.\u001b[39m\u001b[38;5;124m\"\u001b[39m\u001b[38;5;241m.\u001b[39mformat(n_samples, test_size, train_size)\n\u001b[1;32m   2277\u001b[0m     )\n\u001b[1;32m   2279\u001b[0m \u001b[38;5;28;01mreturn\u001b[39;00m n_train, n_test\n",
      "\u001b[0;31mValueError\u001b[0m: With n_samples=1, test_size=0.30000000000000004 and train_size=None, the resulting train set will be empty. Adjust any of the aforementioned parameters."
     ]
    }
   ],
   "source": [
    "# Load COCO annotations\n",
    "coco = COCO(annotation_file_path)  # Specify the path to your COCO annotations file\n",
    "\n",
    "# Create a list to store sampled image IDs for each set\n",
    "train_sampled_ids = []\n",
    "val_sampled_ids = []\n",
    "test_sampled_ids = []\n",
    "\n",
    "# Set the split ratios (adjust as needed)\n",
    "train_ratio = 0.7\n",
    "val_ratio = 0.15\n",
    "test_ratio = 0.15\n",
    "\n",
    "# Create a set to store unique combinations of class labels\n",
    "class_combinations = set()\n",
    "\n",
    "# Iterate over all annotations to collect unique class combinations\n",
    "for ann in coco.dataset['annotations']:\n",
    "    img_id = ann['image_id']\n",
    "    cat_ids = coco.getCatIds(ann['id'])\n",
    "    class_combinations.add((img_id, tuple(cat_ids)))\n",
    "\n",
    "# Convert the set to a list for easier indexing\n",
    "class_combinations = list(class_combinations)\n",
    "\n",
    "# Perform stratified sampling for each class combination\n",
    "for class_combination in class_combinations:\n",
    "    img_id, cat_ids = class_combination\n",
    "\n",
    "    # Get image IDs for the current class combination\n",
    "    img_ids = [img_id]\n",
    "\n",
    "    # Perform train-validation-test split while maintaining the class distribution\n",
    "    train_ids, test_and_val_ids = train_test_split(img_ids, test_size=(1 - train_ratio))\n",
    "    val_ids, test_ids = train_test_split(test_and_val_ids, test_size=(test_ratio / (1 - train_ratio)))\n",
    "\n",
    "    # Add the sampled image IDs to the respective sets\n",
    "    train_sampled_ids.extend(train_ids)\n",
    "    val_sampled_ids.extend(val_ids)\n",
    "    test_sampled_ids.extend(test_ids)\n"
   ]
  },
  {
   "cell_type": "code",
   "execution_count": 24,
   "id": "1bbebfb3-98e9-4c84-b40f-f66a400a1d0b",
   "metadata": {},
   "outputs": [
    {
     "data": {
      "text/plain": [
       "30453"
      ]
     },
     "execution_count": 24,
     "metadata": {},
     "output_type": "execute_result"
    }
   ],
   "source": [
    "len(train_sampled_ids)+len(val_sampled_ids)"
   ]
  },
  {
   "cell_type": "code",
   "execution_count": 18,
   "id": "ca73a9c3-3ce0-43e0-af87-7cc9e3ecce3f",
   "metadata": {},
   "outputs": [
    {
     "data": {
      "text/plain": [
       "5378"
      ]
     },
     "execution_count": 18,
     "metadata": {},
     "output_type": "execute_result"
    }
   ],
   "source": [
    "set(test_sampled_ids)"
   ]
  }
 ],
 "metadata": {
  "kernelspec": {
   "display_name": "pytorch-fasterrcnn",
   "language": "python",
   "name": "pytorch-fasterrcnn"
  },
  "language_info": {
   "codemirror_mode": {
    "name": "ipython",
    "version": 3
   },
   "file_extension": ".py",
   "mimetype": "text/x-python",
   "name": "python",
   "nbconvert_exporter": "python",
   "pygments_lexer": "ipython3",
   "version": "3.11.4"
  }
 },
 "nbformat": 4,
 "nbformat_minor": 5
}
