{
 "cells": [
  {
   "cell_type": "code",
   "execution_count": null,
   "id": "88bd084e-14b4-42af-b417-bb983c7b5480",
   "metadata": {},
   "outputs": [],
   "source": []
  },
  {
   "cell_type": "code",
   "execution_count": null,
   "id": "981ba558-2f99-4907-bf3a-76e8aa7c14f4",
   "metadata": {},
   "outputs": [],
   "source": [
    "mallard_0 = gpd.read_file('./bird-species/E00039600_mallard.gdb/', layer=0)\n",
    "mallard_1 = gpd.read_file('./bird-species/E00039600_mallard.gdb/', layer=1)\n",
    "\n",
    "# geopandas included map, filtered to just this hemisphere\n",
    "world = gpd.read_file(gpd.datasets.get_path('naturalearth_lowres'))\n",
    "westhem = world[(world['continent'] == 'North America') | \n",
    "                (world['continent'] == 'South America')]\n",
    "\n",
    "# making sure the coordinates line up:\n",
    "mallard_0 = mallard_0.to_crs(world.crs)\n",
    "mallard_1 = mallard_1.to_crs(world.crs)\n",
    "\n",
    "# establishing figure axes\n",
    "base = westhem.plot(color='white', edgecolor='black', figsize=(11, 11))\n",
    "\n",
    "# cmap because I'd LIKE the multiple layers to exist\n",
    "mallard_0.plot(ax=base, color='red', alpha=.5)\n",
    "mallard_1.plot(ax=base, color='blue', alpha=.5)"
   ]
  }
 ],
 "metadata": {
  "kernelspec": {
   "display_name": "ast-dataset",
   "language": "python",
   "name": "ast-dataset"
  },
  "language_info": {
   "codemirror_mode": {
    "name": "ipython",
    "version": 3
   },
   "file_extension": ".py",
   "mimetype": "text/x-python",
   "name": "python",
   "nbconvert_exporter": "python",
   "pygments_lexer": "ipython3",
   "version": "3.11.0"
  }
 },
 "nbformat": 4,
 "nbformat_minor": 5
}
