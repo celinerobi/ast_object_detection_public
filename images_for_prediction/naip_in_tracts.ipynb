{
 "cells": [
  {
   "cell_type": "code",
   "execution_count": 1,
   "id": "90910fff-402c-4a83-b7bf-9e3fc584ba1e",
   "metadata": {},
   "outputs": [],
   "source": [
    "import os\n",
    "import argparse\n",
    "\n",
    "import pandas as pd\n",
    "import geopandas as gpd   \n",
    "    \n",
    "import pystac_client\n",
    "import planetary_computer\n",
    "from planetary_computer import sas\n",
    "\n",
    "\n",
    "import dask.dataframe as dd\n",
    "import planetary_computer\n",
    "import pystac_client\n",
    "import pandas as pd\n",
    "import geopandas as gpd\n",
    "pd.options.display.max_columns = 8\n",
    "import dask_geopandas\n",
    "import numpy as np\n",
    "from dask.distributed import Client\n",
    "\n",
    "from copy import copy"
   ]
  },
  {
   "cell_type": "code",
   "execution_count": 2,
   "id": "2b157598-9fd9-43a3-8693-565fb44b3b81",
   "metadata": {},
   "outputs": [],
   "source": [
    "def get_args_parse():\n",
    "    parser = argparse.ArgumentParser(\n",
    "        description='Identify quad indexs within slosh modeled area')\n",
    "    parser.add_argument('--slosh_extent_path', type=str, help='Directory holding slosh extent datasets',\n",
    "                       default=\"/hpc/group/borsuklab/nat_hazard_data/slosh/unzip/v3_extent_shp/cat1_merge_Dissolve.shp\")\n",
    "    parser.add_argument('--subset_tracts_path', type=str, \n",
    "                        default=\"/work/csr33/images_for_predictions/subset_tracts_in_slosh.geojson\",\n",
    "                        help='Tracts in slosh')\n",
    "    parser.add_argument('--naip_data_path', type=str, \n",
    "                        default=\"/work/csr33/images_for_predictions/naip_tile_in_slosh_modeled_area.parquet\",\n",
    "                        help='Path to store NAIP information path')\n",
    "    args = parser.parse_args()\n",
    "    return args"
   ]
  },
  {
   "cell_type": "code",
   "execution_count": 3,
   "id": "3d274027-bfe8-4b7e-ba43-0ebf3871471d",
   "metadata": {},
   "outputs": [],
   "source": [
    "import sys\n",
    "sys.argv = ['my_notebook']\n",
    "args = get_args_parse()"
   ]
  },
  {
   "cell_type": "code",
   "execution_count": 4,
   "id": "42cdf1eb-4777-4e33-a88d-d64d25b71978",
   "metadata": {},
   "outputs": [
    {
     "ename": "NameError",
     "evalue": "name 'subset_naip_in_slosh' is not defined",
     "output_type": "error",
     "traceback": [
      "\u001b[0;31m---------------------------------------------------------------------------\u001b[0m",
      "\u001b[0;31mNameError\u001b[0m                                 Traceback (most recent call last)",
      "Cell \u001b[0;32mIn[4], line 2\u001b[0m\n\u001b[1;32m      1\u001b[0m \u001b[38;5;66;03m#subset_naip_in_slosh.links = subset_naip_in_slosh.links.apply(lambda x: x.tolist())\u001b[39;00m\n\u001b[0;32m----> 2\u001b[0m subset_naip_in_slosh[\u001b[38;5;124m\"\u001b[39m\u001b[38;5;124mimage_path\u001b[39m\u001b[38;5;124m\"\u001b[39m] \u001b[38;5;241m=\u001b[39m \u001b[43msubset_naip_in_slosh\u001b[49m\u001b[38;5;241m.\u001b[39massets\u001b[38;5;241m.\u001b[39mapply(\u001b[38;5;28;01mlambda\u001b[39;00m x: x[\u001b[38;5;124m\"\u001b[39m\u001b[38;5;124mimage\u001b[39m\u001b[38;5;124m\"\u001b[39m][\u001b[38;5;124m\"\u001b[39m\u001b[38;5;124mhref\u001b[39m\u001b[38;5;124m\"\u001b[39m])\u001b[38;5;66;03m#iloc[0]\u001b[39;00m\n\u001b[1;32m      3\u001b[0m subset_naip_in_slosh \u001b[38;5;241m=\u001b[39m subset_naip_in_slosh\u001b[38;5;241m.\u001b[39mdrop(columns\u001b[38;5;241m=\u001b[39m[\u001b[38;5;124m'\u001b[39m\u001b[38;5;124mstac_extensions\u001b[39m\u001b[38;5;124m'\u001b[39m, \u001b[38;5;124m\"\u001b[39m\u001b[38;5;124mbbox\u001b[39m\u001b[38;5;124m\"\u001b[39m,\n\u001b[1;32m      4\u001b[0m                                                           \u001b[38;5;124m\"\u001b[39m\u001b[38;5;124massets\u001b[39m\u001b[38;5;124m\"\u001b[39m, \u001b[38;5;124m\"\u001b[39m\u001b[38;5;124mproj:bbox\u001b[39m\u001b[38;5;124m\"\u001b[39m, \u001b[38;5;124m\"\u001b[39m\u001b[38;5;124mproj:transform\u001b[39m\u001b[38;5;124m\"\u001b[39m])\n",
      "\u001b[0;31mNameError\u001b[0m: name 'subset_naip_in_slosh' is not defined"
     ]
    }
   ],
   "source": [
    "#subset_naip_in_slosh.links = subset_naip_in_slosh.links.apply(lambda x: x.tolist())\n",
    "subset_naip_in_slosh[\"image_path\"] = subset_naip_in_slosh.assets.apply(lambda x: x[\"image\"][\"href\"])#iloc[0]\n",
    "subset_naip_in_slosh = subset_naip_in_slosh.drop(columns=['stac_extensions', \"bbox\",\n",
    "                                                          \"assets\", \"proj:bbox\", \"proj:transform\"])"
   ]
  },
  {
   "cell_type": "code",
   "execution_count": null,
   "id": "55c4defe-fa6c-4b21-9dd7-c5b62a988e76",
   "metadata": {},
   "outputs": [],
   "source": [
    "subset_naip_in_slosh = gpd.sjoin(naip_df, slosh_extent_in_conus, how='inner', predicate='intersects')"
   ]
  },
  {
   "cell_type": "code",
   "execution_count": 60,
   "id": "ddd1cd0e-bc4c-4a5e-8d93-00e3abe944f2",
   "metadata": {},
   "outputs": [],
   "source": [
    "\n",
    "/work/csr33/object_detection/runs/detect/predict"
   ]
  },
  {
   "cell_type": "code",
   "execution_count": null,
   "id": "a45f21b1-6eb0-4d6e-9226-51c8c35e7afa",
   "metadata": {},
   "outputs": [],
   "source": [
    "# subset by state if there are no many entires\n",
    "#states = [ 'ca', 'tx', 'la', 'ms', 'al', 'fl', 'ga', \n",
    "# 'sc','nc', 'va', 'md', 'de', 'pa', 'nj', 'ny',\n",
    "# 'ct', 'ri', 'ma', 'vt', 'nh', 'me']\n",
    "#naip_df = copy(naip_df[naip_df['naip:state'].isin(states)])"
   ]
  },
  {
   "cell_type": "code",
   "execution_count": 40,
   "id": "5c9804e0-f5b7-4328-801e-c2ae95cda3c5",
   "metadata": {},
   "outputs": [
    {
     "data": {
      "text/plain": [
       "Index(['type', 'stac_version', 'stac_extensions', 'id', 'geometry', 'bbox',\n",
       "       'links', 'assets', 'collection', 'gsd', 'datetime', 'naip:year',\n",
       "       'proj:bbox', 'proj:epsg', 'naip:state', 'proj:shape', 'proj:transform'],\n",
       "      dtype='object')"
      ]
     },
     "execution_count": 40,
     "metadata": {},
     "output_type": "execute_result"
    }
   ],
   "source": [
    "naip_df.columns"
   ]
  },
  {
   "cell_type": "code",
   "execution_count": null,
   "id": "ec6899a4-895f-4ebe-b61a-7372b475b0e5",
   "metadata": {},
   "outputs": [],
   "source": [
    "    date_range = \"2020-01-01/2024-01-31\"\n",
    "    property_keys = [\"gsd\",'naip:year']\n",
    "    columns = [\"id\", \"image_path\"] + property_keys\n",
    "    columns = [\"id\", \"image_path\"] + property_keys"
   ]
  }
 ],
 "metadata": {
  "kernelspec": {
   "display_name": "planetary computing",
   "language": "python",
   "name": "planetary_computing"
  },
  "language_info": {
   "codemirror_mode": {
    "name": "ipython",
    "version": 3
   },
   "file_extension": ".py",
   "mimetype": "text/x-python",
   "name": "python",
   "nbconvert_exporter": "python",
   "pygments_lexer": "ipython3",
   "version": "3.9.18"
  }
 },
 "nbformat": 4,
 "nbformat_minor": 5
}
