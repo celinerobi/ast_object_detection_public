{
 "cells": [
  {
   "cell_type": "code",
   "execution_count": 1,
   "id": "90910fff-402c-4a83-b7bf-9e3fc584ba1e",
   "metadata": {},
   "outputs": [],
   "source": [
    "import os\n",
    "import argparse\n",
    "\n",
    "import pandas as pd\n",
    "import geopandas as gpd   \n",
    "    \n",
    "import pystac_client\n",
    "import planetary_computer\n",
    "from planetary_computer import sas\n",
    "\n",
    "\n",
    "import dask.dataframe as dd\n",
    "import planetary_computer\n",
    "import pystac_client\n",
    "import pandas as pd\n",
    "import geopandas as gpd\n",
    "pd.options.display.max_columns = 8\n",
    "import dask_geopandas\n",
    "import numpy as np\n",
    "from dask.distributed import Client\n",
    "\n",
    "from copy import copy"
   ]
  },
  {
   "cell_type": "code",
   "execution_count": 2,
   "id": "e1753274-7f66-407c-aaa7-e6bd710dcdd6",
   "metadata": {},
   "outputs": [],
   "source": []
  },
  {
   "cell_type": "code",
   "execution_count": 58,
   "id": "2b157598-9fd9-43a3-8693-565fb44b3b81",
   "metadata": {},
   "outputs": [],
   "source": [
    "def get_args_parse():\n",
    "    parser = argparse.ArgumentParser(\n",
    "        description='Identify quad indexs within slosh modeled area')\n",
    "    parser.add_argument('--slosh_extent_path', type=str, help='Directory holding slosh extent datasets',\n",
    "                       default=\"/hpc/group/borsuklab/nat_hazard_data/slosh/unzip/v3_extent_shp/cat1_merge_Dissolve.shp\")\n",
    "    parser.add_argument('--subset_tracts_path', type=str, \n",
    "                        default=\"/work/csr33/images_for_predictions/subset_tracts_in_slosh.geojson\",\n",
    "                        help='Tracts in slosh')\n",
    "    parser.add_argument('--naip_data_path', type=str, \n",
    "                        default=\"/work/csr33/images_for_predictions/naip_tile_in_slosh_modeled_area.parquet\",\n",
    "                        help='Path to store NAIP information path')\n",
    "    args = parser.parse_args()\n",
    "    return args"
   ]
  },
  {
   "cell_type": "code",
   "execution_count": 59,
   "id": "3d274027-bfe8-4b7e-ba43-0ebf3871471d",
   "metadata": {},
   "outputs": [],
   "source": [
    "import sys\n",
    "sys.argv = ['my_notebook']\n",
    "args = get_args_parse()"
   ]
  },
  {
   "cell_type": "code",
   "execution_count": 54,
   "id": "42cdf1eb-4777-4e33-a88d-d64d25b71978",
   "metadata": {},
   "outputs": [],
   "source": [
    "#subset_naip_in_slosh.links = subset_naip_in_slosh.links.apply(lambda x: x.tolist())\n",
    "subset_naip_in_slosh[\"image_path\"] = subset_naip_in_slosh.assets.apply(lambda x: x[\"image\"][\"href\"])#iloc[0]\n",
    "subset_naip_in_slosh = subset_naip_in_slosh.drop(columns=['stac_extensions', \"bbox\",\n",
    "                                                          \"assets\", \"proj:bbox\", \"proj:transform\"])"
   ]
  },
  {
   "cell_type": "code",
   "execution_count": 55,
   "id": "cd98c735-d052-4e94-b023-a8aa2989c3d7",
   "metadata": {
    "collapsed": true,
    "jupyter": {
     "outputs_hidden": true
    },
    "tags": []
   },
   "outputs": [
    {
     "ename": "ValueError",
     "evalue": "Invalid field type <class 'list'>",
     "output_type": "error",
     "traceback": [
      "\u001b[0;31m---------------------------------------------------------------------------\u001b[0m",
      "\u001b[0;31mValueError\u001b[0m                                Traceback (most recent call last)",
      "Cell \u001b[0;32mIn[55], line 1\u001b[0m\n\u001b[0;32m----> 1\u001b[0m \u001b[43msubset_naip_in_slosh\u001b[49m\u001b[38;5;241;43m.\u001b[39;49m\u001b[43mto_file\u001b[49m\u001b[43m(\u001b[49m\u001b[38;5;124;43m\"\u001b[39;49m\u001b[38;5;124;43m/work/csr33/images_for_predictions/naip_tile_in_slosh_modeled_area.geojson\u001b[39;49m\u001b[38;5;124;43m\"\u001b[39;49m\u001b[43m,\u001b[49m\u001b[43m \u001b[49m\u001b[43mdriver\u001b[49m\u001b[38;5;241;43m=\u001b[39;49m\u001b[38;5;124;43m'\u001b[39;49m\u001b[38;5;124;43mGeoJSON\u001b[39;49m\u001b[38;5;124;43m'\u001b[39;49m\u001b[43m)\u001b[49m  \n",
      "File \u001b[0;32m~/.local/lib/python3.9/site-packages/geopandas/geodataframe.py:1246\u001b[0m, in \u001b[0;36mGeoDataFrame.to_file\u001b[0;34m(self, filename, driver, schema, index, **kwargs)\u001b[0m\n\u001b[1;32m   1155\u001b[0m \u001b[38;5;250m\u001b[39m\u001b[38;5;124;03m\"\"\"Write the ``GeoDataFrame`` to a file.\u001b[39;00m\n\u001b[1;32m   1156\u001b[0m \n\u001b[1;32m   1157\u001b[0m \u001b[38;5;124;03mBy default, an ESRI shapefile is written, but any OGR data source\u001b[39;00m\n\u001b[0;32m   (...)\u001b[0m\n\u001b[1;32m   1242\u001b[0m \n\u001b[1;32m   1243\u001b[0m \u001b[38;5;124;03m\"\"\"\u001b[39;00m\n\u001b[1;32m   1244\u001b[0m \u001b[38;5;28;01mfrom\u001b[39;00m \u001b[38;5;21;01mgeopandas\u001b[39;00m\u001b[38;5;21;01m.\u001b[39;00m\u001b[38;5;21;01mio\u001b[39;00m\u001b[38;5;21;01m.\u001b[39;00m\u001b[38;5;21;01mfile\u001b[39;00m \u001b[38;5;28;01mimport\u001b[39;00m _to_file\n\u001b[0;32m-> 1246\u001b[0m \u001b[43m_to_file\u001b[49m\u001b[43m(\u001b[49m\u001b[38;5;28;43mself\u001b[39;49m\u001b[43m,\u001b[49m\u001b[43m \u001b[49m\u001b[43mfilename\u001b[49m\u001b[43m,\u001b[49m\u001b[43m \u001b[49m\u001b[43mdriver\u001b[49m\u001b[43m,\u001b[49m\u001b[43m \u001b[49m\u001b[43mschema\u001b[49m\u001b[43m,\u001b[49m\u001b[43m \u001b[49m\u001b[43mindex\u001b[49m\u001b[43m,\u001b[49m\u001b[43m \u001b[49m\u001b[38;5;241;43m*\u001b[39;49m\u001b[38;5;241;43m*\u001b[39;49m\u001b[43mkwargs\u001b[49m\u001b[43m)\u001b[49m\n",
      "File \u001b[0;32m~/.local/lib/python3.9/site-packages/geopandas/io/file.py:633\u001b[0m, in \u001b[0;36m_to_file\u001b[0;34m(df, filename, driver, schema, index, mode, crs, engine, **kwargs)\u001b[0m\n\u001b[1;32m    630\u001b[0m     \u001b[38;5;28;01mraise\u001b[39;00m \u001b[38;5;167;01mValueError\u001b[39;00m(\u001b[38;5;124mf\u001b[39m\u001b[38;5;124m\"\u001b[39m\u001b[38;5;124m'\u001b[39m\u001b[38;5;124mmode\u001b[39m\u001b[38;5;124m'\u001b[39m\u001b[38;5;124m should be one of \u001b[39m\u001b[38;5;124m'\u001b[39m\u001b[38;5;124mw\u001b[39m\u001b[38;5;124m'\u001b[39m\u001b[38;5;124m or \u001b[39m\u001b[38;5;124m'\u001b[39m\u001b[38;5;124ma\u001b[39m\u001b[38;5;124m'\u001b[39m\u001b[38;5;124m, got \u001b[39m\u001b[38;5;124m'\u001b[39m\u001b[38;5;132;01m{\u001b[39;00mmode\u001b[38;5;132;01m}\u001b[39;00m\u001b[38;5;124m'\u001b[39m\u001b[38;5;124m instead\u001b[39m\u001b[38;5;124m\"\u001b[39m)\n\u001b[1;32m    632\u001b[0m \u001b[38;5;28;01mif\u001b[39;00m engine \u001b[38;5;241m==\u001b[39m \u001b[38;5;124m\"\u001b[39m\u001b[38;5;124mfiona\u001b[39m\u001b[38;5;124m\"\u001b[39m:\n\u001b[0;32m--> 633\u001b[0m     \u001b[43m_to_file_fiona\u001b[49m\u001b[43m(\u001b[49m\u001b[43mdf\u001b[49m\u001b[43m,\u001b[49m\u001b[43m \u001b[49m\u001b[43mfilename\u001b[49m\u001b[43m,\u001b[49m\u001b[43m \u001b[49m\u001b[43mdriver\u001b[49m\u001b[43m,\u001b[49m\u001b[43m \u001b[49m\u001b[43mschema\u001b[49m\u001b[43m,\u001b[49m\u001b[43m \u001b[49m\u001b[43mcrs\u001b[49m\u001b[43m,\u001b[49m\u001b[43m \u001b[49m\u001b[43mmode\u001b[49m\u001b[43m,\u001b[49m\u001b[43m \u001b[49m\u001b[38;5;241;43m*\u001b[39;49m\u001b[38;5;241;43m*\u001b[39;49m\u001b[43mkwargs\u001b[49m\u001b[43m)\u001b[49m\n\u001b[1;32m    634\u001b[0m \u001b[38;5;28;01melif\u001b[39;00m engine \u001b[38;5;241m==\u001b[39m \u001b[38;5;124m\"\u001b[39m\u001b[38;5;124mpyogrio\u001b[39m\u001b[38;5;124m\"\u001b[39m:\n\u001b[1;32m    635\u001b[0m     _to_file_pyogrio(df, filename, driver, schema, crs, mode, \u001b[38;5;241m*\u001b[39m\u001b[38;5;241m*\u001b[39mkwargs)\n",
      "File \u001b[0;32m~/.local/lib/python3.9/site-packages/geopandas/io/file.py:664\u001b[0m, in \u001b[0;36m_to_file_fiona\u001b[0;34m(df, filename, driver, schema, crs, mode, **kwargs)\u001b[0m\n\u001b[1;32m    660\u001b[0m     crs_wkt \u001b[38;5;241m=\u001b[39m crs\u001b[38;5;241m.\u001b[39mto_wkt(\u001b[38;5;124m\"\u001b[39m\u001b[38;5;124mWKT1_GDAL\u001b[39m\u001b[38;5;124m\"\u001b[39m)\n\u001b[1;32m    661\u001b[0m \u001b[38;5;28;01mwith\u001b[39;00m fiona\u001b[38;5;241m.\u001b[39mopen(\n\u001b[1;32m    662\u001b[0m     filename, mode\u001b[38;5;241m=\u001b[39mmode, driver\u001b[38;5;241m=\u001b[39mdriver, crs_wkt\u001b[38;5;241m=\u001b[39mcrs_wkt, schema\u001b[38;5;241m=\u001b[39mschema, \u001b[38;5;241m*\u001b[39m\u001b[38;5;241m*\u001b[39mkwargs\n\u001b[1;32m    663\u001b[0m ) \u001b[38;5;28;01mas\u001b[39;00m colxn:\n\u001b[0;32m--> 664\u001b[0m     \u001b[43mcolxn\u001b[49m\u001b[38;5;241;43m.\u001b[39;49m\u001b[43mwriterecords\u001b[49m\u001b[43m(\u001b[49m\u001b[43mdf\u001b[49m\u001b[38;5;241;43m.\u001b[39;49m\u001b[43miterfeatures\u001b[49m\u001b[43m(\u001b[49m\u001b[43m)\u001b[49m\u001b[43m)\u001b[49m\n",
      "File \u001b[0;32m~/.local/lib/python3.9/site-packages/fiona/collection.py:558\u001b[0m, in \u001b[0;36mCollection.writerecords\u001b[0;34m(self, records)\u001b[0m\n\u001b[1;32m    556\u001b[0m \u001b[38;5;28;01mif\u001b[39;00m \u001b[38;5;28mself\u001b[39m\u001b[38;5;241m.\u001b[39mmode \u001b[38;5;129;01mnot\u001b[39;00m \u001b[38;5;129;01min\u001b[39;00m (\u001b[38;5;124m\"\u001b[39m\u001b[38;5;124ma\u001b[39m\u001b[38;5;124m\"\u001b[39m, \u001b[38;5;124m\"\u001b[39m\u001b[38;5;124mw\u001b[39m\u001b[38;5;124m\"\u001b[39m):\n\u001b[1;32m    557\u001b[0m     \u001b[38;5;28;01mraise\u001b[39;00m \u001b[38;5;167;01mOSError\u001b[39;00m(\u001b[38;5;124m\"\u001b[39m\u001b[38;5;124mcollection not open for writing\u001b[39m\u001b[38;5;124m\"\u001b[39m)\n\u001b[0;32m--> 558\u001b[0m \u001b[38;5;28;43mself\u001b[39;49m\u001b[38;5;241;43m.\u001b[39;49m\u001b[43msession\u001b[49m\u001b[38;5;241;43m.\u001b[39;49m\u001b[43mwriterecs\u001b[49m\u001b[43m(\u001b[49m\u001b[43mrecords\u001b[49m\u001b[43m,\u001b[49m\u001b[43m \u001b[49m\u001b[38;5;28;43mself\u001b[39;49m\u001b[43m)\u001b[49m\n\u001b[1;32m    559\u001b[0m \u001b[38;5;28mself\u001b[39m\u001b[38;5;241m.\u001b[39m_len \u001b[38;5;241m=\u001b[39m \u001b[38;5;28mself\u001b[39m\u001b[38;5;241m.\u001b[39msession\u001b[38;5;241m.\u001b[39mget_length()\n\u001b[1;32m    560\u001b[0m \u001b[38;5;28mself\u001b[39m\u001b[38;5;241m.\u001b[39m_bounds \u001b[38;5;241m=\u001b[39m \u001b[38;5;28;01mNone\u001b[39;00m\n",
      "File \u001b[0;32mfiona/ogrext.pyx:1409\u001b[0m, in \u001b[0;36mfiona.ogrext.WritingSession.writerecs\u001b[0;34m()\u001b[0m\n",
      "File \u001b[0;32mfiona/ogrext.pyx:514\u001b[0m, in \u001b[0;36mfiona.ogrext.OGRFeatureBuilder.build\u001b[0;34m()\u001b[0m\n",
      "\u001b[0;31mValueError\u001b[0m: Invalid field type <class 'list'>"
     ]
    }
   ],
   "source": [
    "subset_naip_in_slosh.to_file(\"/work/csr33/images_for_predictions/naip_tile_in_slosh_modeled_area.geojson\", driver='GeoJSON')  "
   ]
  },
  {
   "cell_type": "code",
   "execution_count": 57,
   "id": "55c4defe-fa6c-4b21-9dd7-c5b62a988e76",
   "metadata": {},
   "outputs": [],
   "source": [
    "#subset naip data by slosh data\n",
    "subset_naip_in_slosh = gpd.sjoin(naip_df, slosh_extent_in_conus, how='inner', predicate='intersects')"
   ]
  },
  {
   "cell_type": "code",
   "execution_count": 60,
   "id": "ddd1cd0e-bc4c-4a5e-8d93-00e3abe944f2",
   "metadata": {},
   "outputs": [],
   "source": [
    "\n"
   ]
  },
  {
   "cell_type": "code",
   "execution_count": null,
   "id": "a45f21b1-6eb0-4d6e-9226-51c8c35e7afa",
   "metadata": {},
   "outputs": [],
   "source": [
    "# subset by state if there are no many entires\n",
    "#states = [ 'ca', 'tx', 'la', 'ms', 'al', 'fl', 'ga', \n",
    "# 'sc','nc', 'va', 'md', 'de', 'pa', 'nj', 'ny',\n",
    "# 'ct', 'ri', 'ma', 'vt', 'nh', 'me']\n",
    "#naip_df = copy(naip_df[naip_df['naip:state'].isin(states)])"
   ]
  },
  {
   "cell_type": "code",
   "execution_count": 40,
   "id": "5c9804e0-f5b7-4328-801e-c2ae95cda3c5",
   "metadata": {},
   "outputs": [
    {
     "data": {
      "text/plain": [
       "Index(['type', 'stac_version', 'stac_extensions', 'id', 'geometry', 'bbox',\n",
       "       'links', 'assets', 'collection', 'gsd', 'datetime', 'naip:year',\n",
       "       'proj:bbox', 'proj:epsg', 'naip:state', 'proj:shape', 'proj:transform'],\n",
       "      dtype='object')"
      ]
     },
     "execution_count": 40,
     "metadata": {},
     "output_type": "execute_result"
    }
   ],
   "source": [
    "naip_df.columns"
   ]
  },
  {
   "cell_type": "code",
   "execution_count": null,
   "id": "ec6899a4-895f-4ebe-b61a-7372b475b0e5",
   "metadata": {},
   "outputs": [],
   "source": [
    "    date_range = \"2020-01-01/2024-01-31\"\n",
    "    property_keys = [\"gsd\",'naip:year']\n",
    "    columns = [\"id\", \"image_path\"] + property_keys\n",
    "    columns = [\"id\", \"image_path\"] + property_keys"
   ]
  }
 ],
 "metadata": {
  "kernelspec": {
   "display_name": "planetary computing",
   "language": "python",
   "name": "planetary_computing"
  },
  "language_info": {
   "codemirror_mode": {
    "name": "ipython",
    "version": 3
   },
   "file_extension": ".py",
   "mimetype": "text/x-python",
   "name": "python",
   "nbconvert_exporter": "python",
   "pygments_lexer": "ipython3",
   "version": "3.9.18"
  }
 },
 "nbformat": 4,
 "nbformat_minor": 5
}
