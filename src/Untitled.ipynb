{
 "cells": [
  {
   "cell_type": "code",
   "execution_count": 1,
   "id": "b4851cc4-7a5d-4f31-a54c-2e0c8afc078b",
   "metadata": {},
   "outputs": [],
   "source": [
    "import os\n",
    "import argparse\n",
    "import time\n",
    "\n",
    "import pystac_client\n",
    "import planetary_computer\n",
    "import stackstac\n",
    "\n",
    "import geopandas as gpd\n",
    "import numpy as np\n",
    "\n",
    "import rasterio\n",
    "from rasterio.merge import merge\n",
    "from rasterio import mask\n",
    "from rasterio import plot\n",
    "import shapely\n",
    "import ast"
   ]
  },
  {
   "cell_type": "code",
   "execution_count": 18,
   "id": "a9bb6276-c131-4ed3-95f3-e65359af017f",
   "metadata": {
    "tags": []
   },
   "outputs": [],
   "source": [
    "\n",
    "def read_raster(item_collection):\n",
    "    #extract raster data\n",
    "    raster_paths = [i.assets[\"data\"].href for i in item_collection]\n",
    "    rasters = [rasterio.open(raster_path) for raster_path in raster_paths]\n",
    "    assert [raster.nodata == -9999 for raster in rasters]\n",
    "    return rasters\n",
    "\n",
    "\n",
    "def ensure_raster_tank_intersect(rasters, tank_geometry):\n",
    "    raster_geoms = [shapely.box(raster.bounds.left,raster.bounds.bottom, raster.bounds.right, raster.bounds.top) for raster in rasters]\n",
    "    raster_intersects = [tank_geometry.intersects(raster_geom) for raster_geom in raster_geoms]\n",
    "    return np.array(rasters)[np.array(raster_intersects)]\n",
    "\n",
    "\n",
    "def calculate_height(rasters, tank_geometry):\n",
    "    # tank_geometry : geomtry of tank in utm\n",
    "    #calculate the height for each raster\n",
    "    h = []\n",
    "    w = []\n",
    "    for raster in rasters:\n",
    "        clipped_image, clipped_transform = rasterio.mask.mask(raster, [tank_geometry], crop=True)\n",
    "        #clipped_image.shape\n",
    "        arr = np.array(clipped_image[clipped_image != -9999])\n",
    "        if len(arr) > 0:\n",
    "            h.append(np.quantile(arr.flatten(), 0.9))\n",
    "            w.append(arr.size)\n",
    "    [raster.close() for raster in rasters] #close rasters\n",
    "    # average height\n",
    "    if len(h) > 0:\n",
    "        return np.average(h, weights=w)\n",
    "    else:\n",
    "        return None\n",
    "\n",
    "def height_estimation_by_tank(row, catalog, args):\n",
    "    #create utm geometry\n",
    "    tank_geometry = shapely.geometry.box(*row[\"utm_coords\"], ccw=True) #utm\n",
    "    #search catalog using lat lon geometry\n",
    "    item_collection = catalog.search(collections=[args.collection], \n",
    "                            intersects=row.geometry.buffer(0.001)).item_collection()\n",
    "\n",
    "    if len(item_collection) > 0:\n",
    "        rasters = read_raster(item_collection)\n",
    "        # ensure tank the data intersects\n",
    "        rasters = ensure_raster_tank_intersect(rasters, tank_geometry)\n",
    "        # calculate height\n",
    "        height = calculate_height(rasters, tank_geometry)\n",
    "        return height\n",
    "    else:\n",
    "        return None\n",
    "    \n",
    "\n",
    "def height_estimation_handle_errors(row, catalog, attempt, args):\n",
    "    \n",
    "    try:\n",
    "        height = height_estimation_by_tank(row, catalog, args)\n",
    "        return height\n",
    "    except Exception as err:\n",
    "        print(type(err))    # the exception type\n",
    "        time.sleep(args.backoff_factor * (2 ** attempt))\n",
    "        \n",
    "        \n",
    "def height_estimation_retry(row, catalog, args): \n",
    "    print(args)\n",
    "    for attempt in range(args.max_retries):\n",
    "        try:\n",
    "            height = height_estimation_handle_errors(row, catalog, attempt, args)\n",
    "            return height\n",
    "            print(attempt)\n",
    "            break\n",
    "        except:\n",
    "            if attempt == args.max_retries - 1:\n",
    "                print(f\"Failed after {args.max_retries} attempts!\")\n",
    "            else: \n",
    "                wait_time = 2 ** attempt # Exponential backoff\n",
    "                print(f\"Failed, retrying in {wait_time} seconds...\")\n",
    "                time.sleep(wait_time)\n",
    "\n",
    "                \n",
    "def height_estimation(detected_tanks, args):\n",
    "    start = time.time()\n",
    "    height_list = [None] * len(detected_tanks) #height list\n",
    "    catalog = pystac_client.Client.open(\"https://planetarycomputer.microsoft.com/api/stac/v1\",\n",
    "                                        modifier = planetary_computer.sign_inplace,)\n",
    "    \n",
    "    for i, (tank_id, row) in enumerate(detected_tanks.iterrows()):\n",
    "        #create utm geometry\n",
    "        height_list[i] = height_estimation_retry(row, catalog, args)\n",
    "   \n",
    "    print(time.time() - start)\n",
    "    return height_list\n",
    "\n",
    "def get_args_parse():\n",
    "    parser = argparse.ArgumentParser(\"Height Estimation\")\n",
    "    parser.add_argument(\"--prediction_dir\", type=str, help=\"path to the directory storing predictions\")\n",
    "    parser.add_argument(\"--collection\", type=str, help=\"the name of the planetary computer collection\")\n",
    "    parser.add_argument(\"--chunk_id\",  type=int)\n",
    "    parser.add_argument(\"--backoff_factor\", default=10, type=float)\n",
    "    parser.add_argument(\"--max_retries\", default=10, type=int)\n",
    "    args = parser.parse_args()\n",
    "    return args"
   ]
  },
  {
   "cell_type": "code",
   "execution_count": 19,
   "id": "567f8368-7291-475c-b8a2-506aa95cdf38",
   "metadata": {},
   "outputs": [],
   "source": [
    "import sys\n",
    "sys.argv = ['my_notebook']\n",
    "args = get_args_parse()\n",
    "args.chunk_id = 0\n",
    "args.imgsz=640\n",
    "args.model_path=\"/work/csr33/object_detection/runs/detect/train_w_tuned_hyperparameters3/weights/best.pt\"\n",
    "args.prediction_dir=\"/hpc/group/borsuklab/csr33/object_detection/predictions\"\n",
    "args.tile_dir=\"/hpc/group/borsuklab/csr33/object_detection/naip_tiles\"\n",
    "args.collection=\"3dep-lidar-hag\""
   ]
  },
  {
   "cell_type": "code",
   "execution_count": 32,
   "id": "754b9674-0cdc-4d8b-96b3-48e37c844cb6",
   "metadata": {},
   "outputs": [],
   "source": [
    "height_estimation_dir=\"/hpc/group/borsuklab/csr33/object_detection/height_estimation\""
   ]
  },
  {
   "cell_type": "code",
   "execution_count": 35,
   "id": "1a0f8ce1-6a8d-44bb-b119-68a66b479b0e",
   "metadata": {},
   "outputs": [],
   "source": [
    "height_paths = [os.path.join(height_estimation_dir, f\"merged_predictions_height_{i}.parquet\") for i in range(173)]"
   ]
  },
  {
   "cell_type": "code",
   "execution_count": 39,
   "id": "19f5eb7b-8869-4ad4-b5bc-3ead1716a169",
   "metadata": {},
   "outputs": [],
   "source": [
    "import pandas as pd"
   ]
  },
  {
   "cell_type": "code",
   "execution_count": 50,
   "id": "43e0d766-a186-4efe-961c-5b81f8ce4534",
   "metadata": {},
   "outputs": [],
   "source": [
    "# Open each Parquet file as a PyArrow table\n",
    "tables = [gpd.read_parquet(f) for f in height_paths]\n",
    "detected_tanks_gdf = gpd.GeoDataFrame(pd.concat(tables, ignore_index=True), crs=tables[0].crs)\n",
    "# Concatenate the PyArrow tables into one table\n",
    "detected_tanks_gdf = detected_tanks_gdf.sort_values(\"confidence\", ascending=False)"
   ]
  },
  {
   "cell_type": "code",
   "execution_count": null,
   "id": "756486b8-3fad-4b68-a29a-23e7e0c1cd91",
   "metadata": {},
   "outputs": [],
   "source": [
    "More targeted assessments at known industrial sites\n",
    "where height estimation is less than 1, we ignore the height,"
   ]
  },
  {
   "cell_type": "code",
   "execution_count": 51,
   "id": "5bf3b570-e8a4-43f7-a0e6-3472c21c4cda",
   "metadata": {},
   "outputs": [],
   "source": [
    "has_height_gdf = detected_tanks_gdf[~detected_tanks_gdf['height'].isnull()]\n",
    "has_height_gdf = has_height_gdf[has_height_gdf[\"height\"] > 0.0]#.sort_values(\"height\")\n",
    "has_height_gdf[\"capacity\"] = np.pi * (has_height_gdf[\"diameter\"]/2)**2 * has_height_gdf[\"height\"]\n",
    "has_height_gdf.loc[has_height_gdf['class_name'] == \"spherical_tank\", 'capacity'] = None "
   ]
  },
  {
   "cell_type": "code",
   "execution_count": 80,
   "id": "9c04b378-5369-43f5-be4f-4d753357848f",
   "metadata": {},
   "outputs": [],
   "source": []
  },
  {
   "cell_type": "code",
   "execution_count": 83,
   "id": "81d12566-94e3-4234-a82e-a1f915ea95dc",
   "metadata": {},
   "outputs": [
    {
     "data": {
      "text/html": [
       "<div>\n",
       "<style scoped>\n",
       "    .dataframe tbody tr th:only-of-type {\n",
       "        vertical-align: middle;\n",
       "    }\n",
       "\n",
       "    .dataframe tbody tr th {\n",
       "        vertical-align: top;\n",
       "    }\n",
       "\n",
       "    .dataframe thead th {\n",
       "        text-align: right;\n",
       "    }\n",
       "</style>\n",
       "<table border=\"1\" class=\"dataframe\">\n",
       "  <thead>\n",
       "    <tr style=\"text-align: right;\">\n",
       "      <th></th>\n",
       "      <th>confidence</th>\n",
       "      <th>class_name</th>\n",
       "      <th>bbox_pixel_coords</th>\n",
       "      <th>tile_names</th>\n",
       "      <th>utm_coords</th>\n",
       "      <th>diameter</th>\n",
       "      <th>utm_proj</th>\n",
       "      <th>geometry</th>\n",
       "      <th>height</th>\n",
       "      <th>capacity</th>\n",
       "    </tr>\n",
       "  </thead>\n",
       "  <tbody>\n",
       "    <tr>\n",
       "      <th>15715</th>\n",
       "      <td>[0.939806342124939, 0.7305512428283691]</td>\n",
       "      <td>['closed_roof_tank']</td>\n",
       "      <td>[4350, 3556, 4469, 3650]</td>\n",
       "      <td>m_2909006_sw_15_030_20211130</td>\n",
       "      <td>[754485.15, 3314029.0500000003, 754520.85, 331...</td>\n",
       "      <td>28.2</td>\n",
       "      <td>EPSG:26915</td>\n",
       "      <td>POLYGON ((-90.36336 29.93070, -90.36336 29.930...</td>\n",
       "      <td>8.280000</td>\n",
       "      <td>5171.522527</td>\n",
       "    </tr>\n",
       "    <tr>\n",
       "      <th>20986</th>\n",
       "      <td>[0.9394638538360596, 0.8525862693786621]</td>\n",
       "      <td>['closed_roof_tank']</td>\n",
       "      <td>[7655, 9606, 7773, 9721]</td>\n",
       "      <td>m_2909515_se_15_060_20201130</td>\n",
       "      <td>[292857.3, 3294452.1, 292928.1, 3294383.1]</td>\n",
       "      <td>69.0</td>\n",
       "      <td>EPSG:26915</td>\n",
       "      <td>POLYGON ((-95.14165 29.76304, -95.14165 29.762...</td>\n",
       "      <td>27.370001</td>\n",
       "      <td>102344.114691</td>\n",
       "    </tr>\n",
       "    <tr>\n",
       "      <th>3400</th>\n",
       "      <td>[0.9393055438995361, 0.8024093508720398]</td>\n",
       "      <td>['closed_roof_tank']</td>\n",
       "      <td>[4834, 1903, 4914, 1976]</td>\n",
       "      <td>m_2909309_nw_15_060_20201102</td>\n",
       "      <td>[406070.7, 3304413.9000000004, 406118.7, 33043...</td>\n",
       "      <td>43.8</td>\n",
       "      <td>EPSG:26915</td>\n",
       "      <td>POLYGON ((-93.97207 29.86671, -93.97207 29.866...</td>\n",
       "      <td>15.969999</td>\n",
       "      <td>24062.624830</td>\n",
       "    </tr>\n",
       "    <tr>\n",
       "      <th>23226</th>\n",
       "      <td>[0.9361604452133179, 0.5756282806396484]</td>\n",
       "      <td>['closed_roof_tank']</td>\n",
       "      <td>[1360, 8251, 1443, 8329]</td>\n",
       "      <td>m_2909523_nw_15_060_20201130</td>\n",
       "      <td>[282900.3, 3288455.1, 282950.1, 3288408.300000...</td>\n",
       "      <td>46.8</td>\n",
       "      <td>EPSG:26915</td>\n",
       "      <td>POLYGON ((-95.24359 29.70725, -95.24359 29.706...</td>\n",
       "      <td>15.836000</td>\n",
       "      <td>27241.253162</td>\n",
       "    </tr>\n",
       "    <tr>\n",
       "      <th>4848</th>\n",
       "      <td>[0.9354996681213379, 0.9061532616615295]</td>\n",
       "      <td>['closed_roof_tank']</td>\n",
       "      <td>[6727, 4444, 6828, 4542]</td>\n",
       "      <td>m_2909512_sw_15_060_20201030</td>\n",
       "      <td>[249982.5, 3298431.3000000003, 250043.09999999...</td>\n",
       "      <td>58.8</td>\n",
       "      <td>EPSG:26915</td>\n",
       "      <td>POLYGON ((-95.58577 29.79099, -95.58577 29.790...</td>\n",
       "      <td>7.620000</td>\n",
       "      <td>20691.858428</td>\n",
       "    </tr>\n",
       "    <tr>\n",
       "      <th>...</th>\n",
       "      <td>...</td>\n",
       "      <td>...</td>\n",
       "      <td>...</td>\n",
       "      <td>...</td>\n",
       "      <td>...</td>\n",
       "      <td>...</td>\n",
       "      <td>...</td>\n",
       "      <td>...</td>\n",
       "      <td>...</td>\n",
       "      <td>...</td>\n",
       "    </tr>\n",
       "    <tr>\n",
       "      <th>6709</th>\n",
       "      <td>0.5002272725105286</td>\n",
       "      <td>closed_roof_tank</td>\n",
       "      <td>[2430, 1961, 2445, 1976]</td>\n",
       "      <td>m_4107205_nw_18_060_20211001</td>\n",
       "      <td>[708209.7000000001, 4652076.9, 708218.70000000...</td>\n",
       "      <td>9.0</td>\n",
       "      <td>EPSG:26918</td>\n",
       "      <td>POLYGON ((-72.48617 41.99319, -72.48617 41.993...</td>\n",
       "      <td>3.332000</td>\n",
       "      <td>211.972679</td>\n",
       "    </tr>\n",
       "    <tr>\n",
       "      <th>8929</th>\n",
       "      <td>0.500196635723114</td>\n",
       "      <td>closed_roof_tank</td>\n",
       "      <td>[1538, 7964, 1547, 7972]</td>\n",
       "      <td>m_3807531_nw_18_060_20210624</td>\n",
       "      <td>[478943.1, 4270617.3, 478948.5, 4270612.5]</td>\n",
       "      <td>4.8</td>\n",
       "      <td>EPSG:26918</td>\n",
       "      <td>POLYGON ((-75.24170 38.58378, -75.24170 38.583...</td>\n",
       "      <td>6.800000</td>\n",
       "      <td>123.049904</td>\n",
       "    </tr>\n",
       "    <tr>\n",
       "      <th>29911</th>\n",
       "      <td>0.5001552104949951</td>\n",
       "      <td>external_floating_roof_tank</td>\n",
       "      <td>[4178, 3411, 4195, 3427]</td>\n",
       "      <td>m_4406928_sw_19_060_20210904</td>\n",
       "      <td>[452521.5, 4932849.9, 452531.7, 4932840.3]</td>\n",
       "      <td>9.6</td>\n",
       "      <td>EPSG:26919</td>\n",
       "      <td>POLYGON ((-69.59758 44.54742, -69.59758 44.547...</td>\n",
       "      <td>1.464000</td>\n",
       "      <td>105.967678</td>\n",
       "    </tr>\n",
       "    <tr>\n",
       "      <th>11245</th>\n",
       "      <td>0.5001063346862793</td>\n",
       "      <td>closed_roof_tank</td>\n",
       "      <td>[9850, 7522, 9859, 7530]</td>\n",
       "      <td>m_2909442_sw_15_060_20201116</td>\n",
       "      <td>[323508.3, 3239752.5, 323513.7, 3239747.7]</td>\n",
       "      <td>4.8</td>\n",
       "      <td>EPSG:26915</td>\n",
       "      <td>POLYGON ((-94.81664 29.27437, -94.81664 29.274...</td>\n",
       "      <td>6.798800</td>\n",
       "      <td>123.028189</td>\n",
       "    </tr>\n",
       "    <tr>\n",
       "      <th>18830</th>\n",
       "      <td>0.5000536441802979</td>\n",
       "      <td>closed_roof_tank</td>\n",
       "      <td>[1733, 10881, 1742, 10889]</td>\n",
       "      <td>m_3407843_sw_17_060_20200922</td>\n",
       "      <td>[707777.7000000001, 3793055.1, 707783.1, 37930...</td>\n",
       "      <td>4.8</td>\n",
       "      <td>EPSG:26917</td>\n",
       "      <td>POLYGON ((-78.74337 34.25789, -78.74337 34.257...</td>\n",
       "      <td>7.990000</td>\n",
       "      <td>144.583638</td>\n",
       "    </tr>\n",
       "  </tbody>\n",
       "</table>\n",
       "<p>19096 rows × 10 columns</p>\n",
       "</div>"
      ],
      "text/plain": [
       "                                     confidence                   class_name  \\\n",
       "15715   [0.939806342124939, 0.7305512428283691]         ['closed_roof_tank']   \n",
       "20986  [0.9394638538360596, 0.8525862693786621]         ['closed_roof_tank']   \n",
       "3400   [0.9393055438995361, 0.8024093508720398]         ['closed_roof_tank']   \n",
       "23226  [0.9361604452133179, 0.5756282806396484]         ['closed_roof_tank']   \n",
       "4848   [0.9354996681213379, 0.9061532616615295]         ['closed_roof_tank']   \n",
       "...                                         ...                          ...   \n",
       "6709                         0.5002272725105286             closed_roof_tank   \n",
       "8929                          0.500196635723114             closed_roof_tank   \n",
       "29911                        0.5001552104949951  external_floating_roof_tank   \n",
       "11245                        0.5001063346862793             closed_roof_tank   \n",
       "18830                        0.5000536441802979             closed_roof_tank   \n",
       "\n",
       "                bbox_pixel_coords                    tile_names  \\\n",
       "15715    [4350, 3556, 4469, 3650]  m_2909006_sw_15_030_20211130   \n",
       "20986    [7655, 9606, 7773, 9721]  m_2909515_se_15_060_20201130   \n",
       "3400     [4834, 1903, 4914, 1976]  m_2909309_nw_15_060_20201102   \n",
       "23226    [1360, 8251, 1443, 8329]  m_2909523_nw_15_060_20201130   \n",
       "4848     [6727, 4444, 6828, 4542]  m_2909512_sw_15_060_20201030   \n",
       "...                           ...                           ...   \n",
       "6709     [2430, 1961, 2445, 1976]  m_4107205_nw_18_060_20211001   \n",
       "8929     [1538, 7964, 1547, 7972]  m_3807531_nw_18_060_20210624   \n",
       "29911    [4178, 3411, 4195, 3427]  m_4406928_sw_19_060_20210904   \n",
       "11245    [9850, 7522, 9859, 7530]  m_2909442_sw_15_060_20201116   \n",
       "18830  [1733, 10881, 1742, 10889]  m_3407843_sw_17_060_20200922   \n",
       "\n",
       "                                              utm_coords  diameter  \\\n",
       "15715  [754485.15, 3314029.0500000003, 754520.85, 331...      28.2   \n",
       "20986         [292857.3, 3294452.1, 292928.1, 3294383.1]      69.0   \n",
       "3400   [406070.7, 3304413.9000000004, 406118.7, 33043...      43.8   \n",
       "23226  [282900.3, 3288455.1, 282950.1, 3288408.300000...      46.8   \n",
       "4848   [249982.5, 3298431.3000000003, 250043.09999999...      58.8   \n",
       "...                                                  ...       ...   \n",
       "6709   [708209.7000000001, 4652076.9, 708218.70000000...       9.0   \n",
       "8929          [478943.1, 4270617.3, 478948.5, 4270612.5]       4.8   \n",
       "29911         [452521.5, 4932849.9, 452531.7, 4932840.3]       9.6   \n",
       "11245         [323508.3, 3239752.5, 323513.7, 3239747.7]       4.8   \n",
       "18830  [707777.7000000001, 3793055.1, 707783.1, 37930...       4.8   \n",
       "\n",
       "         utm_proj                                           geometry  \\\n",
       "15715  EPSG:26915  POLYGON ((-90.36336 29.93070, -90.36336 29.930...   \n",
       "20986  EPSG:26915  POLYGON ((-95.14165 29.76304, -95.14165 29.762...   \n",
       "3400   EPSG:26915  POLYGON ((-93.97207 29.86671, -93.97207 29.866...   \n",
       "23226  EPSG:26915  POLYGON ((-95.24359 29.70725, -95.24359 29.706...   \n",
       "4848   EPSG:26915  POLYGON ((-95.58577 29.79099, -95.58577 29.790...   \n",
       "...           ...                                                ...   \n",
       "6709   EPSG:26918  POLYGON ((-72.48617 41.99319, -72.48617 41.993...   \n",
       "8929   EPSG:26918  POLYGON ((-75.24170 38.58378, -75.24170 38.583...   \n",
       "29911  EPSG:26919  POLYGON ((-69.59758 44.54742, -69.59758 44.547...   \n",
       "11245  EPSG:26915  POLYGON ((-94.81664 29.27437, -94.81664 29.274...   \n",
       "18830  EPSG:26917  POLYGON ((-78.74337 34.25789, -78.74337 34.257...   \n",
       "\n",
       "          height       capacity  \n",
       "15715   8.280000    5171.522527  \n",
       "20986  27.370001  102344.114691  \n",
       "3400   15.969999   24062.624830  \n",
       "23226  15.836000   27241.253162  \n",
       "4848    7.620000   20691.858428  \n",
       "...          ...            ...  \n",
       "6709    3.332000     211.972679  \n",
       "8929    6.800000     123.049904  \n",
       "29911   1.464000     105.967678  \n",
       "11245   6.798800     123.028189  \n",
       "18830   7.990000     144.583638  \n",
       "\n",
       "[19096 rows x 10 columns]"
      ]
     },
     "execution_count": 83,
     "metadata": {},
     "output_type": "execute_result"
    }
   ],
   "source": [
    "has_height_gdf"
   ]
  },
  {
   "cell_type": "code",
   "execution_count": 76,
   "id": "49fb0b11-4f87-46a2-9213-7dc726e0f231",
   "metadata": {},
   "outputs": [
    {
     "name": "stdout",
     "output_type": "stream",
     "text": [
      "class2\n"
     ]
    }
   ],
   "source": [
    "class_name_merge = ['class1', 'class2'] \n",
    "conf = [0.7, 0.9]\n",
    "\n",
    "max_conf_idx = np.argmax(conf)\n",
    "max_conf_class = class_name_merge[max_conf_idx]\n",
    "\n",
    "print(max_conf_class)"
   ]
  },
  {
   "cell_type": "code",
   "execution_count": 77,
   "id": "1af359bc-e6af-4c58-8408-b5cb7d49abcc",
   "metadata": {},
   "outputs": [
    {
     "data": {
      "text/plain": [
       "0.8"
      ]
     },
     "execution_count": 77,
     "metadata": {},
     "output_type": "execute_result"
    }
   ],
   "source": [
    "np.mean(conf)"
   ]
  },
  {
   "cell_type": "code",
   "execution_count": 75,
   "id": "c1e6cf14-3aee-4d10-8f15-efa6c071b2d3",
   "metadata": {},
   "outputs": [
    {
     "data": {
      "text/plain": [
       "array([\"['closed_roof_tank']\", \"['external_floating_roof_tank']\",\n",
       "       \"['closed_roof_tank' 'external_floating_roof_tank']\",\n",
       "       \"['spherical_tank']\", \"['closed_roof_tank' 'spherical_tank']\",\n",
       "       'closed_roof_tank', 'external_floating_roof_tank',\n",
       "       'spherical_tank'], dtype=object)"
      ]
     },
     "execution_count": 75,
     "metadata": {},
     "output_type": "execute_result"
    }
   ],
   "source": [
    "has_height_gdf.class_name.unique()"
   ]
  },
  {
   "cell_type": "code",
   "execution_count": 78,
   "id": "a49cb935-675d-4787-9b97-295c197f0371",
   "metadata": {},
   "outputs": [],
   "source": []
  },
  {
   "cell_type": "code",
   "execution_count": 30,
   "id": "812020f1-9cfc-45cf-8291-5db392abedc7",
   "metadata": {},
   "outputs": [],
   "source": [
    "detected_tanks = gpd.read_parquet(os.path.join(\"/hpc/group/borsuklab/csr33/object_detection/height_estimation\", f\"merged_predictions_height_{0}.parquet\"))"
   ]
  },
  {
   "cell_type": "code",
   "execution_count": null,
   "id": "9c789541-97c0-4ed9-9e5e-e43d4f24775a",
   "metadata": {},
   "outputs": [],
   "source": []
  },
  {
   "cell_type": "code",
   "execution_count": 20,
   "id": "ab0903d4-f295-416c-bcb9-7856e001f6d9",
   "metadata": {},
   "outputs": [
    {
     "name": "stdout",
     "output_type": "stream",
     "text": [
      "Namespace(prediction_dir='/hpc/group/borsuklab/csr33/object_detection/predictions', collection='3dep-lidar-hag', chunk_id=0, backoff_factor=10, max_retries=10, imgsz=640, model_path='/work/csr33/object_detection/runs/detect/train_w_tuned_hyperparameters3/weights/best.pt', tile_dir='/hpc/group/borsuklab/csr33/object_detection/naip_tiles')\n"
     ]
    }
   ],
   "source": [
    "print(args)\n",
    "detected_tanks = gpd.read_parquet(os.path.join(args.prediction_dir, f\"merged_predictions_{args.chunk_id}.parquet\"))\n",
    "#reformat     \n",
    "detected_tanks['utm_coords'] = detected_tanks['utm_coords'].apply(lambda x: ast.literal_eval(x))"
   ]
  },
  {
   "cell_type": "code",
   "execution_count": 13,
   "id": "8fa2b25a-4031-4c5a-a331-90d7c5831df4",
   "metadata": {
    "collapsed": true,
    "jupyter": {
     "outputs_hidden": true
    },
    "tags": []
   },
   "outputs": [
    {
     "name": "stdout",
     "output_type": "stream",
     "text": [
      "Namespace(prediction_dir='/hpc/group/borsuklab/csr33/object_detection/predictions', collection='3dep-lidar-hag', chunk_id=0, backoff_factor=10, max_retries=10, imgsz=640, model_path='/work/csr33/object_detection/runs/detect/train_w_tuned_hyperparameters3/weights/best.pt', tile_dir='/hpc/group/borsuklab/csr33/object_detection/naip_tiles')\n",
      "<class 'NameError'> handle\n",
      "retry\n",
      "Failed, retrying in 1 seconds...\n",
      "<class 'NameError'> handle\n",
      "retry\n",
      "Failed, retrying in 2 seconds...\n",
      "<class 'NameError'> handle\n",
      "Namespace(prediction_dir='/hpc/group/borsuklab/csr33/object_detection/predictions', collection='3dep-lidar-hag', chunk_id=0, backoff_factor=10, max_retries=10, imgsz=640, model_path='/work/csr33/object_detection/runs/detect/train_w_tuned_hyperparameters3/weights/best.pt', tile_dir='/hpc/group/borsuklab/csr33/object_detection/naip_tiles')\n",
      "<class 'NameError'> handle\n",
      "retry\n",
      "Failed, retrying in 1 seconds...\n"
     ]
    },
    {
     "ename": "KeyboardInterrupt",
     "evalue": "",
     "output_type": "error",
     "traceback": [
      "\u001b[0;31m---------------------------------------------------------------------------\u001b[0m",
      "\u001b[0;31mNameError\u001b[0m                                 Traceback (most recent call last)",
      "Cell \u001b[0;32mIn[11], line 55\u001b[0m, in \u001b[0;36mheight_estimation_handle_errors\u001b[0;34m(row, retry, args)\u001b[0m\n\u001b[1;32m     54\u001b[0m \u001b[38;5;28;01mtry\u001b[39;00m:\n\u001b[0;32m---> 55\u001b[0m     height \u001b[38;5;241m=\u001b[39m \u001b[43mheight_estimation_by_tank\u001b[49m\u001b[43m(\u001b[49m\u001b[43mrow\u001b[49m\u001b[43m,\u001b[49m\u001b[43m \u001b[49m\u001b[43margs\u001b[49m\u001b[43m)\u001b[49m\n\u001b[1;32m     56\u001b[0m     \u001b[38;5;28;01mreturn\u001b[39;00m height\n",
      "Cell \u001b[0;32mIn[11], line 38\u001b[0m, in \u001b[0;36mheight_estimation_by_tank\u001b[0;34m(row, args)\u001b[0m\n\u001b[1;32m     37\u001b[0m \u001b[38;5;66;03m#search catalog using lat lon geometry\u001b[39;00m\n\u001b[0;32m---> 38\u001b[0m item_collection \u001b[38;5;241m=\u001b[39m \u001b[43mcatalog\u001b[49m\u001b[38;5;241m.\u001b[39msearch(collections\u001b[38;5;241m=\u001b[39m[args\u001b[38;5;241m.\u001b[39mcollection], \n\u001b[1;32m     39\u001b[0m                         intersects\u001b[38;5;241m=\u001b[39mrow\u001b[38;5;241m.\u001b[39mgeometry\u001b[38;5;241m.\u001b[39mbuffer(\u001b[38;5;241m0.001\u001b[39m))\u001b[38;5;241m.\u001b[39mitem_collection()\n\u001b[1;32m     41\u001b[0m \u001b[38;5;28;01mif\u001b[39;00m \u001b[38;5;28mlen\u001b[39m(item_collection) \u001b[38;5;241m>\u001b[39m \u001b[38;5;241m0\u001b[39m:\n",
      "\u001b[0;31mNameError\u001b[0m: name 'catalog' is not defined",
      "\nDuring handling of the above exception, another exception occurred:\n",
      "\u001b[0;31mKeyboardInterrupt\u001b[0m                         Traceback (most recent call last)",
      "Cell \u001b[0;32mIn[11], line 66\u001b[0m, in \u001b[0;36mheight_estimation_retry\u001b[0;34m(row, args)\u001b[0m\n\u001b[1;32m     65\u001b[0m \u001b[38;5;28;01mtry\u001b[39;00m:\n\u001b[0;32m---> 66\u001b[0m     height \u001b[38;5;241m=\u001b[39m \u001b[43mheight_estimation_handle_errors\u001b[49m\u001b[43m(\u001b[49m\u001b[43mrow\u001b[49m\u001b[43m,\u001b[49m\u001b[43m \u001b[49m\u001b[43mattempt\u001b[49m\u001b[43m,\u001b[49m\u001b[43m \u001b[49m\u001b[43margs\u001b[49m\u001b[43m)\u001b[49m\n\u001b[1;32m     67\u001b[0m     \u001b[38;5;28;01mreturn\u001b[39;00m height\n",
      "Cell \u001b[0;32mIn[11], line 59\u001b[0m, in \u001b[0;36mheight_estimation_handle_errors\u001b[0;34m(row, retry, args)\u001b[0m\n\u001b[1;32m     58\u001b[0m \u001b[38;5;28mprint\u001b[39m(\u001b[38;5;28mtype\u001b[39m(err), \u001b[38;5;124m\"\u001b[39m\u001b[38;5;124mhandle\u001b[39m\u001b[38;5;124m\"\u001b[39m)    \u001b[38;5;66;03m# the exception type\u001b[39;00m\n\u001b[0;32m---> 59\u001b[0m \u001b[43mtime\u001b[49m\u001b[38;5;241;43m.\u001b[39;49m\u001b[43msleep\u001b[49m\u001b[43m(\u001b[49m\u001b[43margs\u001b[49m\u001b[38;5;241;43m.\u001b[39;49m\u001b[43mbackoff_factor\u001b[49m\u001b[43m \u001b[49m\u001b[38;5;241;43m*\u001b[39;49m\u001b[43m \u001b[49m\u001b[43m(\u001b[49m\u001b[38;5;241;43m2\u001b[39;49m\u001b[43m \u001b[49m\u001b[38;5;241;43m*\u001b[39;49m\u001b[38;5;241;43m*\u001b[39;49m\u001b[43m \u001b[49m\u001b[43mretry\u001b[49m\u001b[43m)\u001b[49m\u001b[43m)\u001b[49m\n",
      "\u001b[0;31mKeyboardInterrupt\u001b[0m: ",
      "\nDuring handling of the above exception, another exception occurred:\n",
      "\u001b[0;31mKeyboardInterrupt\u001b[0m                         Traceback (most recent call last)",
      "Cell \u001b[0;32mIn[13], line 1\u001b[0m\n\u001b[0;32m----> 1\u001b[0m detected_tanks[\u001b[38;5;124m\"\u001b[39m\u001b[38;5;124mheight\u001b[39m\u001b[38;5;124m\"\u001b[39m] \u001b[38;5;241m=\u001b[39m \u001b[43mheight_estimation\u001b[49m\u001b[43m(\u001b[49m\u001b[43mdetected_tanks\u001b[49m\u001b[43m,\u001b[49m\u001b[43m \u001b[49m\u001b[43margs\u001b[49m\u001b[43m)\u001b[49m\n",
      "Cell \u001b[0;32mIn[11], line 88\u001b[0m, in \u001b[0;36mheight_estimation\u001b[0;34m(detected_tanks, args)\u001b[0m\n\u001b[1;32m     83\u001b[0m catalog \u001b[38;5;241m=\u001b[39m pystac_client\u001b[38;5;241m.\u001b[39mClient\u001b[38;5;241m.\u001b[39mopen(\u001b[38;5;124m\"\u001b[39m\u001b[38;5;124mhttps://planetarycomputer.microsoft.com/api/stac/v1\u001b[39m\u001b[38;5;124m\"\u001b[39m,\n\u001b[1;32m     84\u001b[0m                                     modifier \u001b[38;5;241m=\u001b[39m planetary_computer\u001b[38;5;241m.\u001b[39msign_inplace,)\n\u001b[1;32m     86\u001b[0m \u001b[38;5;28;01mfor\u001b[39;00m i, (tank_id, row) \u001b[38;5;129;01min\u001b[39;00m \u001b[38;5;28menumerate\u001b[39m(detected_tanks\u001b[38;5;241m.\u001b[39miterrows()):\n\u001b[1;32m     87\u001b[0m     \u001b[38;5;66;03m#create utm geometry\u001b[39;00m\n\u001b[0;32m---> 88\u001b[0m     height_list[i] \u001b[38;5;241m=\u001b[39m \u001b[43mheight_estimation_retry\u001b[49m\u001b[43m(\u001b[49m\u001b[43mrow\u001b[49m\u001b[43m,\u001b[49m\u001b[43m \u001b[49m\u001b[43margs\u001b[49m\u001b[43m)\u001b[49m\n\u001b[1;32m     90\u001b[0m \u001b[38;5;28mprint\u001b[39m(time\u001b[38;5;241m.\u001b[39mtime() \u001b[38;5;241m-\u001b[39m start)\n\u001b[1;32m     91\u001b[0m \u001b[38;5;28;01mreturn\u001b[39;00m height_list\n",
      "Cell \u001b[0;32mIn[11], line 77\u001b[0m, in \u001b[0;36mheight_estimation_retry\u001b[0;34m(row, args)\u001b[0m\n\u001b[1;32m     75\u001b[0m wait_time \u001b[38;5;241m=\u001b[39m \u001b[38;5;241m2\u001b[39m \u001b[38;5;241m*\u001b[39m\u001b[38;5;241m*\u001b[39m attempt \u001b[38;5;66;03m# Exponential backoff\u001b[39;00m\n\u001b[1;32m     76\u001b[0m \u001b[38;5;28mprint\u001b[39m(\u001b[38;5;124mf\u001b[39m\u001b[38;5;124m\"\u001b[39m\u001b[38;5;124mFailed, retrying in \u001b[39m\u001b[38;5;132;01m{\u001b[39;00mwait_time\u001b[38;5;132;01m}\u001b[39;00m\u001b[38;5;124m seconds...\u001b[39m\u001b[38;5;124m\"\u001b[39m)\n\u001b[0;32m---> 77\u001b[0m \u001b[43mtime\u001b[49m\u001b[38;5;241;43m.\u001b[39;49m\u001b[43msleep\u001b[49m\u001b[43m(\u001b[49m\u001b[43mwait_time\u001b[49m\u001b[43m)\u001b[49m\n",
      "\u001b[0;31mKeyboardInterrupt\u001b[0m: "
     ]
    }
   ],
   "source": [
    "detected_tanks[\"height\"] = height_estimation(detected_tanks, args)"
   ]
  },
  {
   "cell_type": "code",
   "execution_count": 21,
   "id": "677bec67-c63d-41f5-9758-5ed6932c5754",
   "metadata": {},
   "outputs": [],
   "source": [
    "for i, row in detected_tanks.iterrows():\n",
    "    break"
   ]
  },
  {
   "cell_type": "code",
   "execution_count": 24,
   "id": "d67c58cb-672e-486d-aa93-28b9d74e08bb",
   "metadata": {},
   "outputs": [],
   "source": [
    "    catalog = pystac_client.Client.open(\"https://planetarycomputer.microsoft.com/api/stac/v1\",\n",
    "                                        modifier = planetary_computer.sign_inplace,)"
   ]
  },
  {
   "cell_type": "code",
   "execution_count": 26,
   "id": "85affe7c-4dc8-4508-b96e-90bec732f9b0",
   "metadata": {},
   "outputs": [],
   "source": [
    "height_estimation_by_tank(row, catalog, args)"
   ]
  },
  {
   "cell_type": "code",
   "execution_count": null,
   "id": "170577b7-8ede-435d-8f8d-b6771dee33a5",
   "metadata": {},
   "outputs": [],
   "source": [
    "# Get the arguments\n",
    "detected_tanks['utm_coords'] = detected_tanks['utm_coords'].apply(lambda x: str(x))\n",
    "\n",
    "detected_tanks.to_parquet(os.path.join(args.prediction_dir, f\"merged_predictions_height_{args.chunk_id}.parquet\"))"
   ]
  }
 ],
 "metadata": {
  "kernelspec": {
   "display_name": "yolov8",
   "language": "python",
   "name": "yolov8"
  },
  "language_info": {
   "codemirror_mode": {
    "name": "ipython",
    "version": 3
   },
   "file_extension": ".py",
   "mimetype": "text/x-python",
   "name": "python",
   "nbconvert_exporter": "python",
   "pygments_lexer": "ipython3",
   "version": "3.11.6"
  }
 },
 "nbformat": 4,
 "nbformat_minor": 5
}
