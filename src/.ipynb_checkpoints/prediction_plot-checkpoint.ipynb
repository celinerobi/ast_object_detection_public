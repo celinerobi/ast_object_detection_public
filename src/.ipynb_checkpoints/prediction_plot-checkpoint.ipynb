{
 "cells": [
  {
   "cell_type": "code",
   "execution_count": 46,
   "id": "2290a0f7-8101-49a7-9b9d-14b115580956",
   "metadata": {},
   "outputs": [],
   "source": [
    "from PIL import Image\n",
    "from ultralytics import YOLO\n",
    "from random import shuffle\n",
    "import random\n",
    "from glob import glob\n",
    "import cv2\n",
    "import PIL\n",
    "import os\n",
    "\n",
    "random.seed(1)"
   ]
  },
  {
   "cell_type": "code",
   "execution_count": 52,
   "id": "d77eb11d-aa05-489e-915a-b1885f7043a1",
   "metadata": {},
   "outputs": [],
   "source": [
    "from PIL import ImageFont\n",
    "# use a bitmap font\n",
    "# use a truetype font\n"
   ]
  },
  {
   "cell_type": "code",
   "execution_count": 58,
   "id": "0e708ab4-f685-4c49-9a76-334d82208fde",
   "metadata": {},
   "outputs": [],
   "source": [
    "def format_class_names(result):\n",
    "    class_name_dict = result.names\n",
    "    for key, value in class_name_dict.items():\n",
    "        class_name_dict[key] = value.replace('_', ' ')\n",
    "    return(class_name_dict)\n",
    "\n",
    "\n",
    "def plot_predictions_on_img(result, predict_img_dir):\n",
    "    image = cv2.imread(result.path) \n",
    "    boxes = result.boxes\n",
    "    class_name_dict = format_class_names(result)\n",
    "    for box in boxes:\n",
    "        class_number = box.cls.cpu().detach().tolist()[0]\n",
    "        class_name = class_name_dict[class_number] \n",
    "\n",
    "        xmin, ymin, xmax, ymax = box.xyxy[0]\n",
    "\n",
    "        conf = box.conf.cpu().detach().tolist()[0]\n",
    "        start_point = (int(xmin), int(ymin))\n",
    "        end_point = (int(xmax), int(ymax))\n",
    "        \n",
    "        ## Use simsum.ttc to write Chinese.\n",
    "        fontpath = \"SegUIVar.ttf\"     \n",
    "        font = ImageFont.truetype(fontpath, 32)\n",
    "        \n",
    "        img_pil = Image.fromarray(img)\n",
    "        draw = ImageDraw.Draw(img_pil)\n",
    "        draw.text((50, 100),  \"hihi\", font = font, fill = (b, g, r, a))\n",
    "        img = np.array(img_pil)\n",
    "\n",
    "        image = cv2.rectangle(image, start_point, end_point, color=(0,0,0), thickness=1)\n",
    "        image = cv2.putText(image, f\"{class_name}: {conf:0.2f}\",(int(xmin), int(ymin) - 10),\n",
    "                            font = font,fontScale = 0.6,color = (255, 255, 255),\n",
    "                            thickness=2)\n",
    "\n",
    "    window_name = 'image'\n",
    "    # Using cv2.imshow() method \n",
    "    # Displaying the image \n",
    "    #cv2.imshow(window_name, image) \n",
    "    cv2.imwrite(os.path.join(predict_img_dir, os.path.basename(result.path)), image)"
   ]
  },
  {
   "cell_type": "code",
   "execution_count": 2,
   "id": "6dbfd7f9-b89e-445a-9754-67e9231fd350",
   "metadata": {},
   "outputs": [],
   "source": [
    "import cv2\n",
    "import os\n",
    "from PIL import Image, ImageDraw, ImageFont\n",
    "import numpy as np\n",
    "\n",
    "def format_class_names(result):\n",
    "  class_name_dict = result.names\n",
    "  for key, value in class_name_dict.items():\n",
    "    class_name_dict[key] = value.replace('_', ' ')\n",
    "  return(class_name_dict)\n",
    "\n",
    "def plot_predictions_on_img(result, predict_img_dir):\n",
    "    image = cv2.imread(result.path)\n",
    "    boxes = result.boxes\n",
    "    class_name_dict = format_class_names(result)\n",
    "\n",
    "    for box in boxes:\n",
    "        class_number = box.cls.cpu().detach().tolist()[0]\n",
    "        class_name = class_name_dict[class_number]\n",
    "        xmin, ymin, xmax, ymax = box.xyxy[0]  \n",
    "        conf = box.conf.cpu().detach().tolist()[0]\n",
    "\n",
    "        start_point = (int(xmin), int(ymin)) \n",
    "        end_point = (int(xmax), int(ymax))\n",
    "\n",
    "        # Use simsum.ttc font\n",
    "        fontpath = \"simsum.ttc\" \n",
    "        font = ImageFont.truetype(fontpath, 32)\n",
    "\n",
    "        img_pil = Image.fromarray(image)\n",
    "        draw = ImageDraw.Draw(img_pil)\n",
    "        draw.text((50, 100), \"hihi\", font=font, fill=(b, g, r, a)) \n",
    "        image = np.array(img_pil)\n",
    "\n",
    "        cv2.rectangle(image, start_point, end_point, color=(0,0,0), thickness=2)\n",
    "\n",
    "        cv2.putText(image, f\"{class_name}: {conf:0.2f}\",\n",
    "                    (int(xmin), int(ymin) - 10), \n",
    "                    font=font,\n",
    "                    fontScale=0.6,\n",
    "                    color=(255, 255, 255),\n",
    "                    thickness=2)\n",
    "\n",
    "        # Using cv2.imshow() method \n",
    "        # Displaying the image\n",
    "        #cv2.imshow(window_name, image)\n",
    "\n",
    "        cv2.imwrite(os.path.join(predict_img_dir, os.path.basename(result.path)), image)"
   ]
  },
  {
   "cell_type": "code",
   "execution_count": 41,
   "id": "eb94839e-845c-45dd-8ad5-6b8c32753e9e",
   "metadata": {},
   "outputs": [],
   "source": [
    "model_path=\"/work/csr33/object_detection/runs/detect/train_w_tuned_hyperparameters3/weights/best.pt\"\n",
    "# Load a pretrained YOLOv8n model\n",
    "model = YOLO(model_path)"
   ]
  },
  {
   "cell_type": "code",
   "execution_count": 42,
   "id": "a6c0c801-cade-4ff2-8141-5319229f3f91",
   "metadata": {},
   "outputs": [],
   "source": [
    "test_img_dir = \"/work/csr33/ast/datasets/yolo/images/train\"\n",
    "test_img_paths = glob(test_img_dir+\"/*\")"
   ]
  },
  {
   "cell_type": "code",
   "execution_count": 43,
   "id": "ad7ceaec-84f2-4f25-a169-482f37afea64",
   "metadata": {},
   "outputs": [],
   "source": [
    "indicies = [i for i in range(len(test_img_paths))]\n",
    "shuffle(indicies)\n",
    "images = [test_img_paths[i] for i in indicies]"
   ]
  },
  {
   "cell_type": "code",
   "execution_count": 44,
   "id": "f477bad9-3193-4809-97a6-f8b98c3bfa77",
   "metadata": {
    "tags": []
   },
   "outputs": [],
   "source": [
    "rand_indices = random.sample(range(len(images)), 10)\n",
    "random_imgs = [images[i] for i in rand_indices]"
   ]
  },
  {
   "cell_type": "code",
   "execution_count": 34,
   "id": "699a591e-8b51-4000-b4f4-66b430e54151",
   "metadata": {
    "collapsed": true,
    "jupyter": {
     "outputs_hidden": true
    },
    "tags": []
   },
   "outputs": [
    {
     "name": "stdout",
     "output_type": "stream",
     "text": [
      "\n",
      "0: 640x640 6 closed_roof_tanks, 1: 640x640 2 closed_roof_tanks, 2: 640x640 6 closed_roof_tanks, 3: 640x640 1 closed_roof_tank, 4: 640x640 7 closed_roof_tanks, 5: 640x640 4 closed_roof_tanks, 6: 640x640 12 closed_roof_tanks, 1 external_floating_roof_tank, 7: 640x640 17 closed_roof_tanks, 8: 640x640 21 closed_roof_tanks, 9: 640x640 1 closed_roof_tank, 236.8ms\n",
      "Speed: 3.9ms preprocess, 23.7ms inference, 0.9ms postprocess per image at shape (1, 3, 640, 640)\n"
     ]
    }
   ],
   "source": [
    "results = model(random_imgs, conf=0.5)  # results list"
   ]
  },
  {
   "cell_type": "code",
   "execution_count": 59,
   "id": "cafa6839-a27a-4c67-82b7-3f6bef13b5ca",
   "metadata": {
    "tags": []
   },
   "outputs": [
    {
     "ename": "error",
     "evalue": "OpenCV(4.9.0) :-1: error: (-5:Bad argument) in function 'putText'\n> Overload resolution failed:\n>  - putText() missing required argument 'fontFace' (pos 4)\n>  - putText() missing required argument 'fontFace' (pos 4)\n",
     "output_type": "error",
     "traceback": [
      "\u001b[0;31m---------------------------------------------------------------------------\u001b[0m",
      "\u001b[0;31merror\u001b[0m                                     Traceback (most recent call last)",
      "Cell \u001b[0;32mIn[59], line 5\u001b[0m\n\u001b[1;32m      2\u001b[0m predict_img_dir \u001b[38;5;241m=\u001b[39m \u001b[38;5;124m\"\u001b[39m\u001b[38;5;124m/hpc/home/csr33/prediction_imgs\u001b[39m\u001b[38;5;124m\"\u001b[39m\u001b[38;5;66;03m#\"/hpc/group/borsuklab/csr33/object_detection/prediction_imgs\"\u001b[39;00m\n\u001b[1;32m      4\u001b[0m \u001b[38;5;28;01mfor\u001b[39;00m result \u001b[38;5;129;01min\u001b[39;00m results:\n\u001b[0;32m----> 5\u001b[0m     \u001b[43mplot_predictions_on_img\u001b[49m\u001b[43m(\u001b[49m\u001b[43mresult\u001b[49m\u001b[43m,\u001b[49m\u001b[43m \u001b[49m\u001b[43mpredict_img_dir\u001b[49m\u001b[43m)\u001b[49m\n\u001b[1;32m      6\u001b[0m     \u001b[38;5;66;03m#result.show()  # display to screen\u001b[39;00m\n\u001b[1;32m      7\u001b[0m     \u001b[38;5;66;03m#result.save(filename='result.jpg')  # save to disk\u001b[39;00m\n",
      "Cell \u001b[0;32mIn[58], line 25\u001b[0m, in \u001b[0;36mplot_predictions_on_img\u001b[0;34m(result, predict_img_dir)\u001b[0m\n\u001b[1;32m     22\u001b[0m     font \u001b[38;5;241m=\u001b[39m ImageFont\u001b[38;5;241m.\u001b[39mtruetype(\u001b[38;5;124m\"\u001b[39m\u001b[38;5;124mSegUIVar.ttf\u001b[39m\u001b[38;5;124m\"\u001b[39m, \u001b[38;5;241m80\u001b[39m)  \n\u001b[1;32m     24\u001b[0m     image \u001b[38;5;241m=\u001b[39m cv2\u001b[38;5;241m.\u001b[39mrectangle(image, start_point, end_point, color\u001b[38;5;241m=\u001b[39m(\u001b[38;5;241m0\u001b[39m,\u001b[38;5;241m0\u001b[39m,\u001b[38;5;241m0\u001b[39m), thickness\u001b[38;5;241m=\u001b[39m\u001b[38;5;241m1\u001b[39m)\n\u001b[0;32m---> 25\u001b[0m     image \u001b[38;5;241m=\u001b[39m \u001b[43mcv2\u001b[49m\u001b[38;5;241;43m.\u001b[39;49m\u001b[43mputText\u001b[49m\u001b[43m(\u001b[49m\u001b[43mimage\u001b[49m\u001b[43m,\u001b[49m\u001b[43m \u001b[49m\u001b[38;5;124;43mf\u001b[39;49m\u001b[38;5;124;43m\"\u001b[39;49m\u001b[38;5;132;43;01m{\u001b[39;49;00m\u001b[43mclass_name\u001b[49m\u001b[38;5;132;43;01m}\u001b[39;49;00m\u001b[38;5;124;43m: \u001b[39;49m\u001b[38;5;132;43;01m{\u001b[39;49;00m\u001b[43mconf\u001b[49m\u001b[38;5;132;43;01m:\u001b[39;49;00m\u001b[38;5;124;43m0.2f\u001b[39;49m\u001b[38;5;132;43;01m}\u001b[39;49;00m\u001b[38;5;124;43m\"\u001b[39;49m\u001b[43m,\u001b[49m\u001b[43m(\u001b[49m\u001b[38;5;28;43mint\u001b[39;49m\u001b[43m(\u001b[49m\u001b[43mxmin\u001b[49m\u001b[43m)\u001b[49m\u001b[43m,\u001b[49m\u001b[43m \u001b[49m\u001b[38;5;28;43mint\u001b[39;49m\u001b[43m(\u001b[49m\u001b[43mymin\u001b[49m\u001b[43m)\u001b[49m\u001b[43m \u001b[49m\u001b[38;5;241;43m-\u001b[39;49m\u001b[43m \u001b[49m\u001b[38;5;241;43m10\u001b[39;49m\u001b[43m)\u001b[49m\u001b[43m,\u001b[49m\n\u001b[1;32m     26\u001b[0m \u001b[43m                        \u001b[49m\u001b[43mfont\u001b[49m\u001b[43m \u001b[49m\u001b[38;5;241;43m=\u001b[39;49m\u001b[43m \u001b[49m\u001b[43mfont\u001b[49m\u001b[43m,\u001b[49m\u001b[43mfontScale\u001b[49m\u001b[43m \u001b[49m\u001b[38;5;241;43m=\u001b[39;49m\u001b[43m \u001b[49m\u001b[38;5;241;43m0.6\u001b[39;49m\u001b[43m,\u001b[49m\u001b[43mcolor\u001b[49m\u001b[43m \u001b[49m\u001b[38;5;241;43m=\u001b[39;49m\u001b[43m \u001b[49m\u001b[43m(\u001b[49m\u001b[38;5;241;43m255\u001b[39;49m\u001b[43m,\u001b[49m\u001b[43m \u001b[49m\u001b[38;5;241;43m255\u001b[39;49m\u001b[43m,\u001b[49m\u001b[43m \u001b[49m\u001b[38;5;241;43m255\u001b[39;49m\u001b[43m)\u001b[49m\u001b[43m,\u001b[49m\n\u001b[1;32m     27\u001b[0m \u001b[43m                        \u001b[49m\u001b[43mthickness\u001b[49m\u001b[38;5;241;43m=\u001b[39;49m\u001b[38;5;241;43m2\u001b[39;49m\u001b[43m)\u001b[49m\n\u001b[1;32m     29\u001b[0m window_name \u001b[38;5;241m=\u001b[39m \u001b[38;5;124m'\u001b[39m\u001b[38;5;124mimage\u001b[39m\u001b[38;5;124m'\u001b[39m\n\u001b[1;32m     30\u001b[0m \u001b[38;5;66;03m# Using cv2.imshow() method \u001b[39;00m\n\u001b[1;32m     31\u001b[0m \u001b[38;5;66;03m# Displaying the image \u001b[39;00m\n\u001b[1;32m     32\u001b[0m \u001b[38;5;66;03m#cv2.imshow(window_name, image) \u001b[39;00m\n",
      "\u001b[0;31merror\u001b[0m: OpenCV(4.9.0) :-1: error: (-5:Bad argument) in function 'putText'\n> Overload resolution failed:\n>  - putText() missing required argument 'fontFace' (pos 4)\n>  - putText() missing required argument 'fontFace' (pos 4)\n"
     ]
    }
   ],
   "source": [
    "# Run inference on 'bus.jpg' \n",
    "predict_img_dir = \"/hpc/home/csr33/prediction_imgs\"#\"/hpc/group/borsuklab/csr33/object_detection/prediction_imgs\"\n",
    "\n",
    "for result in results:\n",
    "    plot_predictions_on_img(result, predict_img_dir)\n",
    "    #result.show()  # display to screen\n",
    "    #result.save(filename='result.jpg')  # save to disk"
   ]
  },
  {
   "cell_type": "code",
   "execution_count": 60,
   "id": "93d8884d-95b5-45f2-a685-deaad0645fdf",
   "metadata": {},
   "outputs": [
    {
     "ename": "AttributeError",
     "evalue": "module 'cv2' has no attribute 'freetype'",
     "output_type": "error",
     "traceback": [
      "\u001b[0;31m---------------------------------------------------------------------------\u001b[0m",
      "\u001b[0;31mAttributeError\u001b[0m                            Traceback (most recent call last)",
      "Cell \u001b[0;32mIn[60], line 11\u001b[0m\n\u001b[1;32m      8\u001b[0m img \u001b[38;5;241m=\u001b[39m np\u001b[38;5;241m.\u001b[39mzeros((\u001b[38;5;241m500\u001b[39m,\u001b[38;5;241m500\u001b[39m,\u001b[38;5;241m3\u001b[39m), np\u001b[38;5;241m.\u001b[39muint8)\n\u001b[1;32m     10\u001b[0m \u001b[38;5;66;03m# Load TTF font from file\u001b[39;00m\n\u001b[0;32m---> 11\u001b[0m ttf_font \u001b[38;5;241m=\u001b[39m \u001b[43mcv2\u001b[49m\u001b[38;5;241;43m.\u001b[39;49m\u001b[43mfreetype\u001b[49m\u001b[38;5;241m.\u001b[39mcreateFreeType2() \n\u001b[1;32m     12\u001b[0m ttf_font\u001b[38;5;241m.\u001b[39mloadFontData(fontFileName\u001b[38;5;241m=\u001b[39m\u001b[38;5;124m'\u001b[39m\u001b[38;5;124mSegUIVar.ttf\u001b[39m\u001b[38;5;124m'\u001b[39m, \u001b[38;5;28mid\u001b[39m\u001b[38;5;241m=\u001b[39m\u001b[38;5;241m0\u001b[39m)\n\u001b[1;32m     14\u001b[0m \u001b[38;5;66;03m# Set text options\u001b[39;00m\n",
      "\u001b[0;31mAttributeError\u001b[0m: module 'cv2' has no attribute 'freetype'"
     ]
    }
   ],
   "source": [
    "import cv2\n",
    "import numpy as np\n",
    "\n",
    "# Load ttf font\n",
    "font = cv2.FONT_HERSHEY_TRIPLEX \n",
    "\n",
    "# Create blank image \n",
    "img = np.zeros((500,500,3), np.uint8)\n",
    "\n",
    "# Load TTF font from file\n",
    "ttf_font = cv2.freetype.createFreeType2() \n",
    "ttf_font.loadFontData(fontFileName='SegUIVar.ttf', id=0)\n",
    "\n",
    "# Set text options\n",
    "font_scale = 1\n",
    "thickness = 2\n",
    "text_size, baseline = ttf_font.getTextSize('Hello World!', font_scale, thickness)\n",
    "text_org = (100, 250)        \n",
    "\n",
    "# Draw text on image\n",
    "ttf_font.putText(img=img, text='Hello World!', org=text_org, fontHeight=font_scale, color=(255,255,255),thickness=thickness, line_type=cv2.LINE_AA, bottomLeftOrigin=True)\n",
    "      \n",
    "# Display image\n",
    "cv2.imshow('image', img)\n",
    "cv2.waitKey(0)\n",
    "cv2.destroyAllWindows()"
   ]
  },
  {
   "cell_type": "code",
   "execution_count": 1,
   "id": "fd207836-52a3-4eda-824d-fc650917cd8f",
   "metadata": {},
   "outputs": [
    {
     "data": {
      "text/plain": [
       "True"
      ]
     },
     "execution_count": 1,
     "metadata": {},
     "output_type": "execute_result"
    }
   ],
   "source": [
    "import numpy as np\n",
    "from PIL import ImageFont, ImageDraw, Image\n",
    "import cv2\n",
    "import time\n",
    "\n",
    "## Make canvas and set the color\n",
    "img = np.zeros((200,400,3),np.uint8)\n",
    "b,g,r,a = 0,255,0,0\n",
    "\n",
    "## Use cv2.FONT_HERSHEY_XXX to write English.\n",
    "text = time.strftime(\"%Y/%m/%d %H:%M:%S %Z\", time.localtime()) \n",
    "cv2.putText(img,  text, (50,50), cv2.FONT_HERSHEY_SIMPLEX, 0.7, (b,g,r), 1, cv2.LINE_AA)\n",
    "\n",
    "## Use simsum.ttc to write Chinese.\n",
    "fontpath = \"SegUIVar.ttf\"     \n",
    "font = ImageFont.truetype(fontpath, 32)\n",
    "img_pil = Image.fromarray(img)\n",
    "draw = ImageDraw.Draw(img_pil)\n",
    "draw.text((50, 100),  \"hihi\", font = font, fill = (b, g, r, a))\n",
    "img = np.array(img_pil)\n",
    "\n",
    "## Display \n",
    "cv2.imwrite(\"res.png\", img)"
   ]
  }
 ],
 "metadata": {
  "kernelspec": {
   "display_name": "yolov8",
   "language": "python",
   "name": "yolov8"
  },
  "language_info": {
   "codemirror_mode": {
    "name": "ipython",
    "version": 3
   },
   "file_extension": ".py",
   "mimetype": "text/x-python",
   "name": "python",
   "nbconvert_exporter": "python",
   "pygments_lexer": "ipython3",
   "version": "3.11.6"
  }
 },
 "nbformat": 4,
 "nbformat_minor": 5
}
