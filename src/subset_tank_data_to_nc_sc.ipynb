{
 "cells": [
  {
   "cell_type": "code",
   "execution_count": 1,
   "id": "fb3e3ef5-b569-40ff-9868-8101f37f2e6b",
   "metadata": {},
   "outputs": [],
   "source": [
    "import geopandas as gpd"
   ]
  },
  {
   "cell_type": "code",
   "execution_count": 2,
   "id": "08db767c-a2d7-4cad-b298-ae998ea6c650",
   "metadata": {},
   "outputs": [
    {
     "name": "stderr",
     "output_type": "stream",
     "text": [
      "ERROR 1: PROJ: proj_create_from_database: Open of /hpc/group/borsuklab/cred/.conda/envs/ast-dataset/share/proj failed\n"
     ]
    },
    {
     "ename": "AttributeError",
     "evalue": "'GeoDataFrame' object has no attribute 'centriod'",
     "output_type": "error",
     "traceback": [
      "\u001b[0;31m---------------------------------------------------------------------------\u001b[0m",
      "\u001b[0;31mAttributeError\u001b[0m                            Traceback (most recent call last)",
      "\u001b[0;32m/tmp/ipykernel_2939671/2282585081.py\u001b[0m in \u001b[0;36m?\u001b[0;34m()\u001b[0m\n\u001b[1;32m      1\u001b[0m \u001b[0mtile_level_annotation_multiple_capture_date_neighbor_tile_removed\u001b[0m \u001b[0;34m=\u001b[0m \u001b[0mgpd\u001b[0m\u001b[0;34m.\u001b[0m\u001b[0mread_file\u001b[0m\u001b[0;34m(\u001b[0m\u001b[0;34m\"/datacommons/borsuklab-ast-archive/ast/tile_level_annotation_multiple_capture_date_neighbor_tile_removed/tile_level_annotation_multiple_capture_date_neighbor_tile_removed.geojson\"\u001b[0m\u001b[0;34m)\u001b[0m\u001b[0;34m\u001b[0m\u001b[0;34m\u001b[0m\u001b[0m\n\u001b[0;32m----> 2\u001b[0;31m \u001b[0mtile_level_annotation_multiple_capture_date_neighbor_tile_removed\u001b[0m\u001b[0;34m[\u001b[0m\u001b[0;34m\"centroid\"\u001b[0m\u001b[0;34m]\u001b[0m\u001b[0;34m=\u001b[0m\u001b[0mtile_level_annotation_multiple_capture_date_neighbor_tile_removed\u001b[0m\u001b[0;34m.\u001b[0m\u001b[0mcentriod\u001b[0m\u001b[0;34m\u001b[0m\u001b[0;34m\u001b[0m\u001b[0m\n\u001b[0m\u001b[1;32m      3\u001b[0m \u001b[0mtile_level_annotation_multiple_capture_date_neighbor_tile_removed\u001b[0m\u001b[0;34m[\u001b[0m\u001b[0;34m\"centroid\"\u001b[0m\u001b[0;34m]\u001b[0m\u001b[0;34m\u001b[0m\u001b[0;34m\u001b[0m\u001b[0m\n",
      "\u001b[0;32m/hpc/group/borsuklab/cred/.conda/envs/ast-dataset/lib/python3.11/site-packages/pandas/core/generic.py\u001b[0m in \u001b[0;36m?\u001b[0;34m(self, name)\u001b[0m\n\u001b[1;32m   5898\u001b[0m             \u001b[0;32mand\u001b[0m \u001b[0mname\u001b[0m \u001b[0;32mnot\u001b[0m \u001b[0;32min\u001b[0m \u001b[0mself\u001b[0m\u001b[0;34m.\u001b[0m\u001b[0m_accessors\u001b[0m\u001b[0;34m\u001b[0m\u001b[0;34m\u001b[0m\u001b[0m\n\u001b[1;32m   5899\u001b[0m             \u001b[0;32mand\u001b[0m \u001b[0mself\u001b[0m\u001b[0;34m.\u001b[0m\u001b[0m_info_axis\u001b[0m\u001b[0;34m.\u001b[0m\u001b[0m_can_hold_identifiers_and_holds_name\u001b[0m\u001b[0;34m(\u001b[0m\u001b[0mname\u001b[0m\u001b[0;34m)\u001b[0m\u001b[0;34m\u001b[0m\u001b[0;34m\u001b[0m\u001b[0m\n\u001b[1;32m   5900\u001b[0m         ):\n\u001b[1;32m   5901\u001b[0m             \u001b[0;32mreturn\u001b[0m \u001b[0mself\u001b[0m\u001b[0;34m[\u001b[0m\u001b[0mname\u001b[0m\u001b[0;34m]\u001b[0m\u001b[0;34m\u001b[0m\u001b[0;34m\u001b[0m\u001b[0m\n\u001b[0;32m-> 5902\u001b[0;31m         \u001b[0;32mreturn\u001b[0m \u001b[0mobject\u001b[0m\u001b[0;34m.\u001b[0m\u001b[0m__getattribute__\u001b[0m\u001b[0;34m(\u001b[0m\u001b[0mself\u001b[0m\u001b[0;34m,\u001b[0m \u001b[0mname\u001b[0m\u001b[0;34m)\u001b[0m\u001b[0;34m\u001b[0m\u001b[0;34m\u001b[0m\u001b[0m\n\u001b[0m",
      "\u001b[0;31mAttributeError\u001b[0m: 'GeoDataFrame' object has no attribute 'centriod'"
     ]
    }
   ],
   "source": [
    "tile_level_annotation_multiple_capture_date_neighbor_tile_removed = gpd.read_file(\"/datacommons/borsuklab-ast-archive/ast/tile_level_annotation_multiple_capture_date_neighbor_tile_removed/tile_level_annotation_multiple_capture_date_neighbor_tile_removed.geojson\")\n",
    "tile_level_annotation_multiple_capture_date_neighbor_tile_removed[\"centroid\"]=tile_level_annotation_multiple_capture_date_neighbor_tile_removed.centriod\n",
    "tile_level_annotation_multiple_capture_date_neighbor_tile_removed[\"centroid\"]"
   ]
  },
  {
   "cell_type": "code",
   "execution_count": 9,
   "id": "4d69a554-b216-4a33-9f76-d797499360dc",
   "metadata": {},
   "outputs": [
    {
     "name": "stderr",
     "output_type": "stream",
     "text": [
      "/tmp/ipykernel_2939671/2325921936.py:1: UserWarning: Geometry is in a geographic CRS. Results from 'centroid' are likely incorrect. Use 'GeoSeries.to_crs()' to re-project geometries to a projected CRS before this operation.\n",
      "\n",
      "  tile_level_annotation_multiple_capture_date_neighbor_tile_removed[\"centroid\"] = tile_level_annotation_multiple_capture_date_neighbor_tile_removed.geometry.centroid\n"
     ]
    }
   ],
   "source": [
    "tile_level_annotation_multiple_capture_date_neighbor_tile_removed[\"centroid\"] = tile_level_annotation_multiple_capture_date_neighbor_tile_removed.geometry.centroid\n"
   ]
  },
  {
   "cell_type": "code",
   "execution_count": 14,
   "id": "9733d524-2f4a-446c-a122-ebcd877bfd4d",
   "metadata": {},
   "outputs": [],
   "source": [
    "tile_level_annotation_multiple_capture_date_neighbor_tile_removed = tile_level_annotation_multiple_capture_date_neighbor_tile_removed[tile_level_annotation_multiple_capture_date_neighbor_tile_removed.state_fips.isin([\"37\",\"45\"])]"
   ]
  },
  {
   "cell_type": "code",
   "execution_count": 20,
   "id": "ce2a58a8-0ae6-4053-ac81-d0a1af2b4e14",
   "metadata": {},
   "outputs": [
    {
     "name": "stderr",
     "output_type": "stream",
     "text": [
      "/tmp/ipykernel_2939671/2810377191.py:1: SettingWithCopyWarning: \n",
      "A value is trying to be set on a copy of a slice from a DataFrame\n",
      "\n",
      "See the caveats in the documentation: https://pandas.pydata.org/pandas-docs/stable/user_guide/indexing.html#returning-a-view-versus-a-copy\n",
      "  tile_level_annotation_multiple_capture_date_neighbor_tile_removed.drop(labels=[\"geometry\"], inplace=True , axis=1)\n"
     ]
    }
   ],
   "source": [
    "tile_level_annotation_multiple_capture_date_neighbor_tile_removed.drop(labels=[\"geometry\"], inplace=True , axis=1)"
   ]
  },
  {
   "cell_type": "code",
   "execution_count": 31,
   "id": "487d570b-c132-4e56-bec6-6f863fac6c0e",
   "metadata": {},
   "outputs": [],
   "source": [
    "tile_level_annotation_multiple_capture_date_neighbor_tile_removed = tile_level_annotation_multiple_capture_date_neighbor_tile_removed.rename(columns={\"centroid\":\"geometry\"})"
   ]
  },
  {
   "cell_type": "code",
   "execution_count": 36,
   "id": "6356b810-457f-43fe-b8d7-3d5ae0ee9070",
   "metadata": {},
   "outputs": [
    {
     "data": {
      "text/html": [
       "<div>\n",
       "<style scoped>\n",
       "    .dataframe tbody tr th:only-of-type {\n",
       "        vertical-align: middle;\n",
       "    }\n",
       "\n",
       "    .dataframe tbody tr th {\n",
       "        vertical-align: top;\n",
       "    }\n",
       "\n",
       "    .dataframe thead th {\n",
       "        text-align: right;\n",
       "    }\n",
       "</style>\n",
       "<table border=\"1\" class=\"dataframe\">\n",
       "  <thead>\n",
       "    <tr style=\"text-align: right;\">\n",
       "      <th></th>\n",
       "      <th>object_class</th>\n",
       "      <th>diameter</th>\n",
       "      <th>state_fips</th>\n",
       "      <th>geometry</th>\n",
       "    </tr>\n",
       "  </thead>\n",
       "  <tbody>\n",
       "    <tr>\n",
       "      <th>2869</th>\n",
       "      <td>closed_roof_tank</td>\n",
       "      <td>28.2</td>\n",
       "      <td>45</td>\n",
       "      <td>POINT (-82.49417 34.55650)</td>\n",
       "    </tr>\n",
       "    <tr>\n",
       "      <th>2870</th>\n",
       "      <td>external_floating_roof_tank</td>\n",
       "      <td>22.2</td>\n",
       "      <td>45</td>\n",
       "      <td>POINT (-82.49087 34.55378)</td>\n",
       "    </tr>\n",
       "    <tr>\n",
       "      <th>2871</th>\n",
       "      <td>external_floating_roof_tank</td>\n",
       "      <td>28.2</td>\n",
       "      <td>45</td>\n",
       "      <td>POINT (-82.49080 34.55308)</td>\n",
       "    </tr>\n",
       "    <tr>\n",
       "      <th>2872</th>\n",
       "      <td>closed_roof_tank</td>\n",
       "      <td>26.4</td>\n",
       "      <td>45</td>\n",
       "      <td>POINT (-82.48757 34.55405)</td>\n",
       "    </tr>\n",
       "    <tr>\n",
       "      <th>2873</th>\n",
       "      <td>closed_roof_tank</td>\n",
       "      <td>20.4</td>\n",
       "      <td>45</td>\n",
       "      <td>POINT (-82.49096 34.55354)</td>\n",
       "    </tr>\n",
       "    <tr>\n",
       "      <th>...</th>\n",
       "      <td>...</td>\n",
       "      <td>...</td>\n",
       "      <td>...</td>\n",
       "      <td>...</td>\n",
       "    </tr>\n",
       "    <tr>\n",
       "      <th>116029</th>\n",
       "      <td>closed_roof_tank</td>\n",
       "      <td>10.2</td>\n",
       "      <td>45</td>\n",
       "      <td>POINT (-79.93068 32.82233)</td>\n",
       "    </tr>\n",
       "    <tr>\n",
       "      <th>116030</th>\n",
       "      <td>closed_roof_tank</td>\n",
       "      <td>7.2</td>\n",
       "      <td>45</td>\n",
       "      <td>POINT (-79.93090 32.82233)</td>\n",
       "    </tr>\n",
       "    <tr>\n",
       "      <th>116031</th>\n",
       "      <td>closed_roof_tank</td>\n",
       "      <td>9.6</td>\n",
       "      <td>45</td>\n",
       "      <td>POINT (-79.93080 32.82233)</td>\n",
       "    </tr>\n",
       "    <tr>\n",
       "      <th>116032</th>\n",
       "      <td>water_tower</td>\n",
       "      <td>21.6</td>\n",
       "      <td>45</td>\n",
       "      <td>POINT (-79.88034 32.83376)</td>\n",
       "    </tr>\n",
       "    <tr>\n",
       "      <th>116033</th>\n",
       "      <td>narrow_closed_roof_tank</td>\n",
       "      <td>0.0</td>\n",
       "      <td>45</td>\n",
       "      <td>POINT (-79.93046 32.81024)</td>\n",
       "    </tr>\n",
       "  </tbody>\n",
       "</table>\n",
       "<p>1984 rows × 4 columns</p>\n",
       "</div>"
      ],
      "text/plain": [
       "                       object_class  diameter state_fips  \\\n",
       "2869               closed_roof_tank      28.2         45   \n",
       "2870    external_floating_roof_tank      22.2         45   \n",
       "2871    external_floating_roof_tank      28.2         45   \n",
       "2872               closed_roof_tank      26.4         45   \n",
       "2873               closed_roof_tank      20.4         45   \n",
       "...                             ...       ...        ...   \n",
       "116029             closed_roof_tank      10.2         45   \n",
       "116030             closed_roof_tank       7.2         45   \n",
       "116031             closed_roof_tank       9.6         45   \n",
       "116032                  water_tower      21.6         45   \n",
       "116033      narrow_closed_roof_tank       0.0         45   \n",
       "\n",
       "                          geometry  \n",
       "2869    POINT (-82.49417 34.55650)  \n",
       "2870    POINT (-82.49087 34.55378)  \n",
       "2871    POINT (-82.49080 34.55308)  \n",
       "2872    POINT (-82.48757 34.55405)  \n",
       "2873    POINT (-82.49096 34.55354)  \n",
       "...                            ...  \n",
       "116029  POINT (-79.93068 32.82233)  \n",
       "116030  POINT (-79.93090 32.82233)  \n",
       "116031  POINT (-79.93080 32.82233)  \n",
       "116032  POINT (-79.88034 32.83376)  \n",
       "116033  POINT (-79.93046 32.81024)  \n",
       "\n",
       "[1984 rows x 4 columns]"
      ]
     },
     "execution_count": 36,
     "metadata": {},
     "output_type": "execute_result"
    }
   ],
   "source": []
  },
  {
   "cell_type": "code",
   "execution_count": 38,
   "id": "68e8d4c6-3fab-4d4a-90be-faf9ffc77906",
   "metadata": {},
   "outputs": [
    {
     "name": "stderr",
     "output_type": "stream",
     "text": [
      "/tmp/ipykernel_2939671/3523274089.py:1: UserWarning: Column names longer than 10 characters will be truncated when saved to ESRI Shapefile.\n",
      "  tile_level_annotation_multiple_capture_date_neighbor_tile_removed[[\"object_class\",\"diameter\", \"state_fips\",\"geometry\"]].to_file(\"ast_annotations_centroid_nc_sc.shp\")\n"
     ]
    }
   ],
   "source": [
    "tile_level_annotation_multiple_capture_date_neighbor_tile_removed[[\"object_class\",\"diameter\", \"state_fips\",\"geometry\"]].to_file(\"ast_annotations_centroid_nc_sc.shp\")"
   ]
  }
 ],
 "metadata": {
  "kernelspec": {
   "display_name": "ast-dataset",
   "language": "python",
   "name": "ast-dataset"
  },
  "language_info": {
   "codemirror_mode": {
    "name": "ipython",
    "version": 3
   },
   "file_extension": ".py",
   "mimetype": "text/x-python",
   "name": "python",
   "nbconvert_exporter": "python",
   "pygments_lexer": "ipython3",
   "version": "3.11.0"
  }
 },
 "nbformat": 4,
 "nbformat_minor": 5
}
