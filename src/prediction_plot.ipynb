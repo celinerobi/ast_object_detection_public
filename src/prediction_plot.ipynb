{
 "cells": [
  {
   "cell_type": "code",
   "execution_count": 1,
   "id": "2290a0f7-8101-49a7-9b9d-14b115580956",
   "metadata": {},
   "outputs": [],
   "source": [
    "from PIL import Image\n",
    "from ultralytics import YOLO\n",
    "from random import shuffle\n",
    "import random\n",
    "from glob import glob\n",
    "import cv2\n",
    "import PIL\n",
    "import os\n",
    "\n",
    "random.seed(1)"
   ]
  },
  {
   "cell_type": "code",
   "execution_count": 2,
   "id": "d77eb11d-aa05-489e-915a-b1885f7043a1",
   "metadata": {},
   "outputs": [],
   "source": [
    "from PIL import ImageFont\n",
    "# use a bitmap font\n",
    "# use a truetype font\n"
   ]
  },
  {
   "cell_type": "code",
   "execution_count": 58,
   "id": "0e708ab4-f685-4c49-9a76-334d82208fde",
   "metadata": {},
   "outputs": [],
   "source": [
    "def format_class_names(result):\n",
    "    class_name_dict = result.names\n",
    "    for key, value in class_name_dict.items():\n",
    "        class_name_dict[key] = value.replace('_', ' ')\n",
    "    return(class_name_dict)\n",
    "\n",
    "\n",
    "def plot_predictions_on_img(result, predict_img_dir):\n",
    "    image = cv2.imread(result.path) \n",
    "    boxes = result.boxes\n",
    "    class_name_dict = format_class_names(result)\n",
    "    for box in boxes:\n",
    "        class_number = box.cls.cpu().detach().tolist()[0]\n",
    "        class_name = class_name_dict[class_number] \n",
    "\n",
    "        xmin, ymin, xmax, ymax = box.xyxy[0]\n",
    "\n",
    "        conf = box.conf.cpu().detach().tolist()[0]\n",
    "        start_point = (int(xmin), int(ymin))\n",
    "        end_point = (int(xmax), int(ymax))\n",
    "        \n",
    "        ## Use simsum.ttc to write Chinese.\n",
    "        fontpath = \"SegUIVar.ttf\"     \n",
    "        font = ImageFont.truetype(fontpath, 32)\n",
    "        \n",
    "        img_pil = Image.fromarray(img)\n",
    "        draw = ImageDraw.Draw(img_pil)\n",
    "        draw.text((50, 100),  \"hihi\", font = font, fill = (b, g, r, a))\n",
    "        img = np.array(img_pil)\n",
    "\n",
    "        image = cv2.rectangle(image, start_point, end_point, color=(0,0,0), thickness=1)\n",
    "        image = cv2.putText(image, f\"{class_name}: {conf:0.2f}\",(int(xmin), int(ymin) - 10),\n",
    "                            font = font,fontScale = 0.6,color = (255, 255, 255),\n",
    "                            thickness=2)\n",
    "\n",
    "    window_name = 'image'\n",
    "    # Using cv2.imshow() method \n",
    "    # Displaying the image \n",
    "    #cv2.imshow(window_name, image) \n",
    "    cv2.imwrite(os.path.join(predict_img_dir, os.path.basename(result.path)), image)"
   ]
  },
  {
   "cell_type": "code",
   "execution_count": 20,
   "id": "bfa508f6-5305-4bc5-809a-fb9ef0d488f9",
   "metadata": {},
   "outputs": [
    {
     "data": {
      "text/plain": [
       "{0: 'closed roof tank', 1: 'external floating roof tank', 2: 'spherical tank'}"
      ]
     },
     "execution_count": 20,
     "metadata": {},
     "output_type": "execute_result"
    }
   ],
   "source": [
    "import numpy as np\n",
    "from PIL import ImageFont, ImageDraw, Image\n",
    "import cv2\n",
    "import time"
   ]
  },
  {
   "cell_type": "code",
   "execution_count": 25,
   "id": "6dbfd7f9-b89e-445a-9754-67e9231fd350",
   "metadata": {},
   "outputs": [],
   "source": [
    "import cv2\n",
    "import os\n",
    "from PIL import Image, ImageDraw, ImageFont\n",
    "import numpy as np\n",
    "\n",
    "def format_class_names(result):\n",
    "    class_name_dict = result.names\n",
    "    for key, value in class_name_dict.items():\n",
    "        class_name_dict[key] = value.replace('_', ' ')\n",
    "    return(class_name_dict)\n",
    "\n",
    "def plot_predictions_on_img(result, predict_img_dir, box_colors):\n",
    "    image = cv2.imread(result.path)\n",
    "    boxes = result.boxes\n",
    "    class_name_dict = format_class_names(result)\n",
    "\n",
    "    for box in boxes:\n",
    "        class_number = box.cls.cpu().detach().tolist()[0]\n",
    "        class_name = class_name_dict[class_number]\n",
    "        class_color = box_colors[class_number]\n",
    "\n",
    "        xmin, ymin, xmax, ymax = box.xyxy[0]  \n",
    "        conf = box.conf.cpu().detach().tolist()[0]\n",
    "\n",
    "        start_point = (int(xmin), int(ymin)) \n",
    "        end_point = (int(xmax), int(ymax))\n",
    "\n",
    "        # Use simsum.ttc font\n",
    "        fontpath = \"SegUIVar.ttf\"     \n",
    "        font = ImageFont.truetype(fontpath, 12)\n",
    "\n",
    "        img_pil = Image.fromarray(image)\n",
    "        draw = ImageDraw.Draw(img_pil)\n",
    "        draw.text((int(xmin), int(ymin) - 10), f\"{class_name}: {conf:0.2f}\", font=font)#, fill=(b, g, r, a)) \n",
    "        image = np.array(img_pil)\n",
    "\n",
    "        cv2.rectangle(image, start_point, end_point, color=class_color, thickness=2)\n",
    "\n",
    "        #cv2.putText(image, ,\n",
    "        #            (int(xmin), int(ymin) - 10), \n",
    "        #            font=font,\n",
    "        #            fontScale=0.6,\n",
    "        #            color=(255, 255, 255),\n",
    "        #            thickness=2)\n",
    "\n",
    "        # Using cv2.imshow() method \n",
    "        # Displaying the image\n",
    "        #cv2.imshow(window_name, image)\n",
    "\n",
    "        cv2.imwrite(os.path.join(predict_img_dir, os.path.basename(result.path)), image)"
   ]
  },
  {
   "cell_type": "code",
   "execution_count": 4,
   "id": "eb94839e-845c-45dd-8ad5-6b8c32753e9e",
   "metadata": {},
   "outputs": [],
   "source": [
    "model_path=\"/work/csr33/object_detection/runs/detect/train_w_tuned_hyperparameters3/weights/best.pt\"\n",
    "# Load a pretrained YOLOv8n model\n",
    "model = YOLO(model_path)"
   ]
  },
  {
   "cell_type": "code",
   "execution_count": 5,
   "id": "a6c0c801-cade-4ff2-8141-5319229f3f91",
   "metadata": {},
   "outputs": [],
   "source": [
    "test_img_dir = \"/work/csr33/ast/datasets/yolo/images/train\"\n",
    "test_img_paths = glob(test_img_dir+\"/*\")"
   ]
  },
  {
   "cell_type": "code",
   "execution_count": 6,
   "id": "ad7ceaec-84f2-4f25-a169-482f37afea64",
   "metadata": {},
   "outputs": [],
   "source": [
    "indicies = [i for i in range(len(test_img_paths))]\n",
    "shuffle(indicies)\n",
    "images = [test_img_paths[i] for i in indicies]"
   ]
  },
  {
   "cell_type": "code",
   "execution_count": 7,
   "id": "f477bad9-3193-4809-97a6-f8b98c3bfa77",
   "metadata": {
    "tags": []
   },
   "outputs": [],
   "source": [
    "rand_indices = random.sample(range(len(images)), 10)\n",
    "random_imgs = [images[i] for i in rand_indices]"
   ]
  },
  {
   "cell_type": "code",
   "execution_count": 8,
   "id": "699a591e-8b51-4000-b4f4-66b430e54151",
   "metadata": {
    "tags": []
   },
   "outputs": [
    {
     "name": "stdout",
     "output_type": "stream",
     "text": [
      "\n",
      "0: 640x640 1 spherical_tank, 1: 640x640 9 closed_roof_tanks, 2: 640x640 4 closed_roof_tanks, 3: 640x640 7 closed_roof_tanks, 4: 640x640 2 closed_roof_tanks, 5: 640x640 4 external_floating_roof_tanks, 6: 640x640 1 closed_roof_tank, 7: 640x640 1 closed_roof_tank, 8: 640x640 17 closed_roof_tanks, 9: 640x640 2 closed_roof_tanks, 258.0ms\n",
      "Speed: 3.5ms preprocess, 25.8ms inference, 5.8ms postprocess per image at shape (1, 3, 640, 640)\n"
     ]
    }
   ],
   "source": [
    "results = model(random_imgs, conf=0.5)  # results list"
   ]
  },
  {
   "cell_type": "code",
   "execution_count": null,
   "id": "f6853b0c-d549-47ad-b34e-02cd78436c50",
   "metadata": {},
   "outputs": [],
   "source": [
    "plot_predictions_on_img(result, predict_img_dir)"
   ]
  },
  {
   "cell_type": "code",
   "execution_count": 26,
   "id": "cafa6839-a27a-4c67-82b7-3f6bef13b5ca",
   "metadata": {
    "tags": []
   },
   "outputs": [
    {
     "ename": "TypeError",
     "evalue": "list indices must be integers or slices, not float",
     "output_type": "error",
     "traceback": [
      "\u001b[0;31m---------------------------------------------------------------------------\u001b[0m",
      "\u001b[0;31mTypeError\u001b[0m                                 Traceback (most recent call last)",
      "Cell \u001b[0;32mIn[26], line 6\u001b[0m\n\u001b[1;32m      3\u001b[0m box_colors \u001b[38;5;241m=\u001b[39m [(\u001b[38;5;241m255\u001b[39m,\u001b[38;5;241m0\u001b[39m,\u001b[38;5;241m0\u001b[39m,\u001b[38;5;241m0.8\u001b[39m), (\u001b[38;5;241m255\u001b[39m,\u001b[38;5;241m0\u001b[39m,\u001b[38;5;241m168\u001b[39m,\u001b[38;5;241m0.8\u001b[39m), (\u001b[38;5;241m255\u001b[39m,\u001b[38;5;241m0\u001b[39m,\u001b[38;5;241m81\u001b[39m,\u001b[38;5;241m0.8\u001b[39m)]\n\u001b[1;32m      5\u001b[0m \u001b[38;5;28;01mfor\u001b[39;00m result \u001b[38;5;129;01min\u001b[39;00m results:\n\u001b[0;32m----> 6\u001b[0m     \u001b[43mplot_predictions_on_img\u001b[49m\u001b[43m(\u001b[49m\u001b[43mresult\u001b[49m\u001b[43m,\u001b[49m\u001b[43m \u001b[49m\u001b[43mpredict_img_dir\u001b[49m\u001b[43m,\u001b[49m\u001b[43m \u001b[49m\u001b[43mbox_colors\u001b[49m\u001b[43m)\u001b[49m\n\u001b[1;32m      7\u001b[0m     \u001b[38;5;66;03m#plot_predictions_on_img(result, predict_img_dir)\u001b[39;00m\n\u001b[1;32m      8\u001b[0m     \u001b[38;5;66;03m#result.show()  # display to screen\u001b[39;00m\n\u001b[1;32m      9\u001b[0m     \u001b[38;5;66;03m#result.save(filename='result.jpg')  # save to disk\u001b[39;00m\n",
      "Cell \u001b[0;32mIn[25], line 20\u001b[0m, in \u001b[0;36mplot_predictions_on_img\u001b[0;34m(result, predict_img_dir, box_colors)\u001b[0m\n\u001b[1;32m     18\u001b[0m class_number \u001b[38;5;241m=\u001b[39m box\u001b[38;5;241m.\u001b[39mcls\u001b[38;5;241m.\u001b[39mcpu()\u001b[38;5;241m.\u001b[39mdetach()\u001b[38;5;241m.\u001b[39mtolist()[\u001b[38;5;241m0\u001b[39m]\n\u001b[1;32m     19\u001b[0m class_name \u001b[38;5;241m=\u001b[39m class_name_dict[class_number]\n\u001b[0;32m---> 20\u001b[0m class_color \u001b[38;5;241m=\u001b[39m \u001b[43mbox_colors\u001b[49m\u001b[43m[\u001b[49m\u001b[43mclass_number\u001b[49m\u001b[43m]\u001b[49m\n\u001b[1;32m     22\u001b[0m xmin, ymin, xmax, ymax \u001b[38;5;241m=\u001b[39m box\u001b[38;5;241m.\u001b[39mxyxy[\u001b[38;5;241m0\u001b[39m]  \n\u001b[1;32m     23\u001b[0m conf \u001b[38;5;241m=\u001b[39m box\u001b[38;5;241m.\u001b[39mconf\u001b[38;5;241m.\u001b[39mcpu()\u001b[38;5;241m.\u001b[39mdetach()\u001b[38;5;241m.\u001b[39mtolist()[\u001b[38;5;241m0\u001b[39m]\n",
      "\u001b[0;31mTypeError\u001b[0m: list indices must be integers or slices, not float"
     ]
    }
   ],
   "source": [
    "# Run inference on 'bus.jpg' \n",
    "predict_img_dir = \"/hpc/home/csr33/prediction_imgs\"#\"/hpc/group/borsuklab/csr33/object_detection/prediction_imgs\"\n",
    "box_colors = [(255,0,0,0.8), (255,0,168,0.8), (255,0,81,0.8)]\n",
    "\n",
    "for result in results:\n",
    "    plot_predictions_on_img(result, predict_img_dir, box_colors)\n",
    "    #plot_predictions_on_img(result, predict_img_dir)\n",
    "    #result.show()  # display to screen\n",
    "    #result.save(filename='result.jpg')  # save to disk"
   ]
  }
 ],
 "metadata": {
  "kernelspec": {
   "display_name": "yolov8",
   "language": "python",
   "name": "yolov8"
  },
  "language_info": {
   "codemirror_mode": {
    "name": "ipython",
    "version": 3
   },
   "file_extension": ".py",
   "mimetype": "text/x-python",
   "name": "python",
   "nbconvert_exporter": "python",
   "pygments_lexer": "ipython3",
   "version": "3.11.6"
  }
 },
 "nbformat": 4,
 "nbformat_minor": 5
}
