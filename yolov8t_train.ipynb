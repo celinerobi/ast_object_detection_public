{
 "cells": [
  {
   "cell_type": "code",
   "execution_count": 6,
   "id": "c458c040-4a5b-4d70-b02e-1eaf49e6cda1",
   "metadata": {},
   "outputs": [],
   "source": [
    "import os\n",
    "import argparse\n",
    "import math\n",
    "import time\n",
    "import ast\n",
    "from copy import copy\n",
    "from glob import glob\n",
    "\n",
    "import pandas as pd\n",
    "import numpy as np\n",
    "\n",
    "import pyproj\n",
    "from pyproj import Proj\n",
    "import cv2\n",
    "from shapely.ops import transform\n",
    "import rioxarray\n",
    "import geopandas as gpd\n",
    "\n",
    "import ultralytics\n",
    "from ultralytics import YOLO\n",
    "#ultralytics.checks()\n",
    "\n",
    "import concurrent\n",
    "import concurrent.futures\n",
    "from concurrent.futures.thread import ThreadPoolExecutor\n"
   ]
  },
  {
   "cell_type": "code",
   "execution_count": 7,
   "id": "b9fd68d0-0c73-475d-a10d-87c88b1035f0",
   "metadata": {},
   "outputs": [],
   "source": [
    "\n",
    "\n",
    "from shapely.geometry import Point\n",
    "def chunk_df(img_paths, num_chunks=10):\n",
    "    # Calculate the number of rows per chunk\n",
    "    rows_per_chunk = len(img_paths) // num_chunks\n",
    "    df_chunks = [np.array(img_paths[i : i + rows_per_chunk]) for i in range(0, len(img_paths), rows_per_chunk)]\n",
    "    return df_chunks\n",
    "\n",
    "\n",
    "def tile_dimensions_and_utm_coords(tile_path): #used\n",
    "    \"\"\" Obtain tile band, height and width and utm coordinates\n",
    "    Args: tile_path(str): the path of the tile \n",
    "    Returns: \n",
    "    utmx(np array): the x utm coordinates corresponding with the tile coordinate convention (origin in upper left hand corner)\n",
    "    utmy(np array): the y utm coordinates corresponding with the tile coordinate convention (origin in upper left hand corner)\n",
    "    tile_band(int): the number of bands\n",
    "    tile_height(int): the height of the tile (in pixels)\n",
    "    tile_width(int): the width of the tile (in pixels)\n",
    "    \"\"\"\n",
    "    ## Get tile locations\n",
    "    da = rioxarray.open_rasterio(tile_path) ## Read the data\n",
    "    # Compute the lon/lat coordinates with rasterio.warp.transform\n",
    "    # lons, lats = np.meshgrid(da['x'], da['y'])\n",
    "    tile_band, tile_height, tile_width = da.shape[0], da.shape[1], da.shape[2]\n",
    "    utmx = np.array(da['x'])\n",
    "    utmy = np.array(da['y'])\n",
    "    crs =  rioxarray.open_rasterio(tile_path).rio.crs\n",
    "    return(utmx, utmy, crs, tile_band, tile_height, tile_width)\n",
    "    del da\n",
    "\n",
    "\n",
    "def process_results(results, tile_height, tile_width, item_dim):\n",
    "    #xyxys = []\n",
    "    bbox_pixel_coords_list = [] #xyxy coords with repsect to the tile\n",
    "    conf_list = [] #probability\n",
    "    class_name_list = [] #class name\n",
    "    image_names_list = []\n",
    "    lat_lons = []\n",
    "    for result in results:\n",
    "        boxes = result.boxes\n",
    "        image_name = os.path.splitext(os.path.basename(result.path))[0]\n",
    "        if len(boxes) > 0: \n",
    "            #get valeus for all bounding boxes\n",
    "            #class name\n",
    "            class_name_list.extend([result.names[class_number] for class_number in boxes.cls.cpu().detach().tolist()])\n",
    "            \n",
    "            conf_list.extend(boxes.conf.cpu().detach().tolist())\n",
    "\n",
    "            xyxy = boxes.xyxy.cpu().detach().numpy() - 1 #read xmin,ymin,xmax,ymax coordinates to memory as a numpy array\n",
    "            xyxy = np.round(xyxy).astype(np.int32).tolist()  # round so that it can be used for utm to lonlat conversion, check if zero indexed\n",
    "            \n",
    "            image_names_list.extend([image_name]*len(xyxy)) # The index is a six-digit number like '000023'.\n",
    "            #calculate the tile level pixel coordinates\n",
    "            bbox_pixel_coords_list.extend([calculate_tile_level_bbox(image_name, box, item_dim,\n",
    "                                                                     tile_width, tile_height) for box in xyxy])\n",
    "        del boxes\n",
    "    return pd.DataFrame({\"confidence\":conf_list, \"class_name\": class_name_list,\n",
    "                       \"image_names\": image_names_list, \"bbox_pixel_coords\": bbox_pixel_coords_list})#,  dtype=dtypes\n",
    "\n",
    "\n",
    "def predict_process(img_paths, tile_height, tile_width, model, args):\n",
    "    # obtain predictions over the dataframe\n",
    "    results_df = pd.DataFrame({})\n",
    "    num_chunks = len(img_paths)//50\n",
    "    for df_chunk in chunk_df(img_paths, num_chunks=num_chunks):\n",
    "        results = model.predict(df_chunk.tolist(), save=False, imgsz=args.imgsz)#, conf=0.5)\n",
    "        #process_results(results, utmx, utmy, utm_proj, tile_height, tile_width, item_dim=args.imgsz)\n",
    "        results_df = pd.concat([results_df, process_results(results, tile_height, tile_width, item_dim=args.imgsz)])\n",
    "        del results, df_chunk\n",
    "    return results_df\n",
    "\n",
    "\n",
    "def calculate_tile_level_bbox(image_name, xyxy, item_dim, tile_width, tile_height):\n",
    "    obj_xmin, obj_ymin, obj_xmax, obj_ymax = xyxy\n",
    "    #identify rows and columns\n",
    "    y, x = image_name.split(\"_\")[-2:] #name of tif with the extension removed; y=row;x=col\n",
    "    # Each chip xml goes from 1 - item_dim, specify the \"0\", or the end point of the last xml\n",
    "    image_minx = int(x)*item_dim \n",
    "    image_miny = int(y)*item_dim\n",
    "\n",
    "    #add the bounding boxes\n",
    "    obj_xmin = image_minx + obj_xmin\n",
    "    obj_ymin = image_miny + obj_ymin\n",
    "    obj_xmax = image_minx + obj_xmax\n",
    "    obj_ymax = image_miny + obj_ymax\n",
    "    # correct bboxes that extend past the bounds of the tile width/height\n",
    "    if int(obj_xmin) >= tile_width:\n",
    "        obj_xmin = tile_width - 1\n",
    "    if int(obj_xmax) >= tile_width:\n",
    "        obj_xmax = tile_width - 1\n",
    "    if int(obj_ymin) >= tile_height:\n",
    "        obj_ymin = tile_height - 1\n",
    "    if int(obj_ymax) >= tile_height:\n",
    "        obj_ymax = tile_height - 1\n",
    "    \n",
    "    return [obj_xmin, obj_ymin, obj_xmax, obj_ymax]\n",
    "\n",
    "\n",
    "def transform_point_utm_to_wgs84(utm_proj, utm_xcoord, utm_ycoord): #used\n",
    "    \"\"\" Convert a utm pair into a lat lon pair \n",
    "    Args: \n",
    "    utm_proj(str): the UTM string as the in term of EPSG code\n",
    "    utmx(int): the x utm coordinate of a point\n",
    "    utmy(int): the y utm coordinates of a point\n",
    "    Returns: \n",
    "    (wgs84_pt.x, wgs84_pt.y): the 'EPSG:4326' x and y coordinates \n",
    "    \"\"\"\n",
    "    #https://gis.stackexchange.com/questions/127427/transforming-shapely-polygon-and-multipolygon-objects\n",
    "    #get utm projection\n",
    "    utm = pyproj.CRS(utm_proj)\n",
    "    #get wgs84 proj\n",
    "    wgs84 = pyproj.CRS('EPSG:4326')\n",
    "    #specify utm point\n",
    "    utm_pt = Point(utm_xcoord, utm_ycoord)\n",
    "    #transform utm into wgs84 point\n",
    "    project = pyproj.Transformer.from_crs(utm, wgs84, always_xy=True).transform\n",
    "    wgs84_pt = transform(project, utm_pt)\n",
    "    return wgs84_pt.x, wgs84_pt.y\n",
    "    \n",
    "    \n",
    "def get_crs_coords(pixel_coords, utmx, utmy, utm_proj):\n",
    "    minx, miny, maxx, maxy = pixel_coords\n",
    "    #determine the lat/lon\n",
    "    nw_lon, nw_lat = transform_point_utm_to_wgs84(utm_proj, utmx[minx], utmy[miny])\n",
    "    se_lon, se_lat = transform_point_utm_to_wgs84(utm_proj, utmx[maxx], utmy[maxy]) \n",
    "    return pd.Series({'utm_coords': [utmx[minx], utmy[miny], utmx[maxx], utmy[maxy]],\n",
    "                      'latlon_coords': [nw_lon, nw_lat, se_lon, se_lat]})\n",
    "\n",
    "        \n",
    "def merge_boxes(bbox1, bbox2): #used\n",
    "    \"\"\" \n",
    "    Generate a bounding box that covers two bounding boxes\n",
    "    Called in merge_algo\n",
    "    Arg:\n",
    "    bbox1(list): a list of the (xmin, ymin, xmax, ymax) coordinates for box 1 \n",
    "    bbox2(list): a list of the (xmin, ymin, xmax, ymax) coordinates for box 2\n",
    "    Returns:\n",
    "    merged_bbox(list): a list of the (xmin, ymin, xmax, ymax) coordinates for the merged bbox\n",
    "\n",
    "    \"\"\"\n",
    "    return [min(bbox1[0], bbox2[0]), \n",
    "            min(bbox1[1], bbox2[1]),\n",
    "            max(bbox1[2], bbox2[2]),\n",
    "            max(bbox1[3], bbox2[3])]\n",
    "\n",
    "\n",
    "def calc_sim(bbox1, bbox2, dist_limit): #used\n",
    "    \"\"\"Determine the similarity of distances between bboxes to determine whether bboxes should be merged\n",
    "    Computer a Matrix similarity of distances of the text and object\n",
    "    Called in merge_algo\n",
    "    Arg:\n",
    "    bbox1(list): a list of the (xmin, ymin, xmax, ymax) coordinates for box 1 \n",
    "    bbox2(list): a list of the (xmin, ymin, xmax, ymax) coordinates for box 2\n",
    "    dist_list(int): the maximum threshold (pixel distance) to merge bounding boxes\n",
    "    Returns:\n",
    "    (bool): to indicate whether the bboxes should be merged \n",
    "    \"\"\"\n",
    "\n",
    "    # text: ymin, xmin, ymax, xmax\n",
    "    # obj: ymin, xmin, ymax, xmax\n",
    "    bbox1_xmin, bbox1_ymin, bbox1_xmax, bbox1_ymax = bbox1\n",
    "    bbox2_xmin, bbox2_ymin, bbox2_xmax, bbox2_ymax = bbox2\n",
    "    x_dist = min(abs(bbox2_xmin-bbox1_xmax), abs(bbox2_xmax-bbox1_xmin))\n",
    "    y_dist = min(abs(bbox2_ymin-bbox1_ymax), abs(bbox2_ymax-bbox1_ymin))\n",
    "        \n",
    "    #define distance if one object is inside the other\n",
    "    if (bbox2_xmin <= bbox1_xmin) and (bbox2_ymin <= bbox1_ymin) and (bbox2_xmax >= bbox1_xmax) and (bbox2_ymax >= bbox1_ymax):\n",
    "        return True\n",
    "    elif (bbox1_xmin <= bbox2_xmin) and (bbox1_ymin <= bbox2_ymin) and (bbox1_xmax >= bbox2_xmax) and (bbox1_ymax >= bbox2_ymax):\n",
    "        return True\n",
    "    #determine if both bboxes are close to each other in 1d, and equal or smaller length in the other\n",
    "    elif (x_dist <= dist_limit) and (bbox1_ymin <= bbox2_ymin) and (bbox1_ymax >= bbox2_ymax): #bb1 bigger\n",
    "        return True\n",
    "    elif (x_dist <= dist_limit) and (bbox2_ymin <= bbox1_ymin) and (bbox2_ymax >= bbox1_ymax): #bb2 bigger\n",
    "        return True\n",
    "    elif (y_dist <= dist_limit) and (bbox1_xmin <= bbox2_xmin) and (bbox1_xmax >= bbox2_xmax): #bb1 bigger\n",
    "        return True\n",
    "    elif (y_dist <= dist_limit) and (bbox2_xmin <= bbox1_xmin) and (bbox2_xmax >= bbox1_xmax): #bb2 bigger\n",
    "        return True\n",
    "    else: \n",
    "        return False\n",
    "\n",
    "    \n",
    "def merge_predicted_bboxes(results_df, dist_limit = 5):\n",
    "    class_names = results_df.class_name.to_list()\n",
    "    bbox_pixel_coords = results_df.bbox_pixel_coords.to_list()\n",
    "    confidences = results_df.confidence.to_list()\n",
    "   \n",
    "    merge_bools = [False] * len(class_names)\n",
    "    for i, (conf1, class_name1, bbox1) in enumerate(zip(confidences, class_names, bbox_pixel_coords)):\n",
    "        for j, (conf2, class_name2, bbox2) in enumerate(zip(confidences, class_names, bbox_pixel_coords)):\n",
    "            if j <= i: #only consider the remaining bboxes\n",
    "                continue\n",
    "            # Create a new box if a distances is less than distance limit defined \n",
    "            merge_bool = calc_sim(bbox1, bbox2, dist_limit) \n",
    "            if merge_bool == True:\n",
    "                # Create a new box  \n",
    "                new_box = merge_boxes(bbox1, bbox2)   \n",
    "                bbox_pixel_coords[i] = new_box\n",
    "                #delete previous text boxes\n",
    "                del bbox_pixel_coords[j]\n",
    "                class_name_merge = np.unique([class_name1, class_name2])\n",
    "                conf = [conf1, conf2]\n",
    "\n",
    "                class_names[i] = class_name_merge\n",
    "                confidences[i] = conf\n",
    "\n",
    "                conf\n",
    "                #delete previous text \n",
    "                del class_names[j],  confidences[i]\n",
    "    return pd.DataFrame({\"confidence\":confidences, \"class_name\": class_names,\n",
    "                         \"bbox_pixel_coords\": bbox_pixel_coords})#,  dtype=dtypes\n",
    "\n",
    "\n",
    "def write(predictions, predictions_file_path):\n",
    "    # remove file if it exists \n",
    "    if os.path.exists(predictions_file_path):\n",
    "        predictions.to_parquet(predictions_file_path, engine='fastparquet', append=True)\n",
    "    else:\n",
    "        predictions.to_parquet(predictions_file_path, engine='fastparquet')\n",
    "        \n",
    "\n",
    "def calculate_diameter(bbox, resolution = 0.6): #used\n",
    "    \"\"\" Calculate the diameter of a given bounding bbox (in Pascal Voc Format) for imagery of a given resolution\n",
    "    Arg:\n",
    "    bbox(list): a list of the (xmin, ymin, xmax, ymax) coordinates for box. Utm coordinates are provided as [nw_x_utm, se_y_utm, se_x_utm, nw_y_utm] to conform with Pascal Voc Format.\n",
    "    resolution(float): the (gsd) resolution of the imagery\n",
    "    Returns:\n",
    "    (diameter): the diameter of the bbox of interest\n",
    "    \"\"\"\n",
    "    obj_xmin, obj_ymin, obj_xmax, obj_ymax = bbox\n",
    "    obj_width = obj_xmax - obj_xmin\n",
    "    obj_height = obj_ymin - obj_ymax \n",
    "    diameter = min(obj_width, obj_height) * resolution #meter\n",
    "    return diameter\n",
    "\n",
    "        \n",
    "def get_args_parse():\n",
    "    parser = argparse.ArgumentParser(\"Predict on images\")    \n",
    "    parser.add_argument(\"--chunk_id\",  type=int)\n",
    "    parser.add_argument(\"--tile_dir\", default=\"/work/csr33/images_for_predictions/naip_tiles\", type=str)\n",
    "    parser.add_argument(\"--tilename_chunks_path\", default='/hpc/home/csr33/ast_object_detection/tilename_chunks.npz', type=str)\n",
    "    parser.add_argument(\"--model_path\", default=\"/work/csr33/object_detection/runs/detect/baseline_train/weights/best.pt\", type=str)\n",
    "    parser.add_argument(\"--prediction_dir\", default=\"/work/csr33/images_for_predictions/predictions\", type=str)\n",
    "    parser.add_argument(\"--imgsz\", default=640, type=int)\n",
    "    parser.add_argument('--img_dir', type=str, default=\"/work/csr33/images_for_predictions/naip_imgs\")\n",
    "    args = parser.parse_args()\n",
    "    return args"
   ]
  },
  {
   "cell_type": "code",
   "execution_count": 8,
   "id": "7f936fb6-80d7-4f56-b293-e6fcade1a8c6",
   "metadata": {},
   "outputs": [],
   "source": [
    "import sys\n",
    "sys.argv = ['my_notebook']\n",
    "args = get_args_parse()\n",
    "args.chunk_id=0"
   ]
  },
  {
   "cell_type": "code",
   "execution_count": 6,
   "id": "41ac1f87-5e55-453b-8d97-14692be62ae1",
   "metadata": {},
   "outputs": [],
   "source": [
    "os.chdir(\"/work/csr33/object_detection\")\n",
    "#determine chunk-number   \n",
    "os.makedirs(args.prediction_dir, exist_ok=True)\n",
    "model = YOLO(args.model_path)  # custom trained model "
   ]
  },
  {
   "cell_type": "code",
   "execution_count": 9,
   "id": "320a77f3-c146-4f3f-b2c8-d39e5a4bf4c7",
   "metadata": {},
   "outputs": [],
   "source": [
    "tile_paths = np.load(args.tilename_chunks_path)[str(args.chunk_id)]#[:1]\n",
    "tile_names = [os.path.splitext(os.path.basename(tile_path))[0] for tile_path in tile_paths]"
   ]
  },
  {
   "cell_type": "code",
   "execution_count": 10,
   "id": "76029006-fdfa-4c60-af05-7c56065a4b71",
   "metadata": {},
   "outputs": [
    {
     "data": {
      "text/plain": [
       "14"
      ]
     },
     "execution_count": 10,
     "metadata": {},
     "output_type": "execute_result"
    }
   ],
   "source": [
    "len(tile_paths)"
   ]
  },
  {
   "cell_type": "code",
   "execution_count": 13,
   "id": "3db808c5-c3d7-48fd-a5de-33484a6da680",
   "metadata": {
    "collapsed": true,
    "jupyter": {
     "outputs_hidden": true
    },
    "tags": []
   },
   "outputs": [
    {
     "name": "stdout",
     "output_type": "stream",
     "text": [
      "m_2909524_nw_15_060_20201118\n",
      "\n",
      "0: 640x640 1 closed_roof_tank, 1 external_floating_roof_tank, 1: 640x640 1 closed_roof_tank, 2: 640x640 1 external_floating_roof_tank, 3: 640x640 12 closed_roof_tanks, 4: 640x640 (no detections), 5: 640x640 1 closed_roof_tank, 6: 640x640 (no detections), 7: 640x640 (no detections), 8: 640x640 (no detections), 9: 640x640 (no detections), 10: 640x640 (no detections), 11: 640x640 (no detections), 12: 640x640 1 closed_roof_tank, 8 narrow_closed_roof_tanks, 1 undefined_object, 13: 640x640 20 closed_roof_tanks, 51 narrow_closed_roof_tanks, 14: 640x640 18 closed_roof_tanks, 15: 640x640 3 sedimentation_tanks, 16: 640x640 3 sedimentation_tanks, 17 closed_roof_tanks, 3 narrow_closed_roof_tanks, 17: 640x640 (no detections), 18: 640x640 4 closed_roof_tanks, 19: 640x640 1 water_tower, 3 closed_roof_tanks, 2 external_floating_roof_tanks, 2 narrow_closed_roof_tanks, 20: 640x640 1 narrow_closed_roof_tank, 21: 640x640 (no detections), 22: 640x640 (no detections), 23: 640x640 1 sedimentation_tank, 11 closed_roof_tanks, 3 external_floating_roof_tanks, 12 narrow_closed_roof_tanks, 24: 640x640 3 closed_roof_tanks, 25: 640x640 (no detections), 26: 640x640 1 spherical_tank, 6 closed_roof_tanks, 8 narrow_closed_roof_tanks, 27: 640x640 8 closed_roof_tanks, 28: 640x640 7 spherical_tanks, 22 closed_roof_tanks, 29: 640x640 (no detections), 30: 640x640 (no detections), 31: 640x640 6 sedimentation_tanks, 62 closed_roof_tanks, 6 external_floating_roof_tanks, 24 narrow_closed_roof_tanks, 32: 640x640 1 sedimentation_tank, 2 spherical_tanks, 4 closed_roof_tanks, 7 narrow_closed_roof_tanks, 33: 640x640 (no detections), 34: 640x640 2 closed_roof_tanks, 1 external_floating_roof_tank, 35: 640x640 (no detections), 36: 640x640 (no detections), 37: 640x640 (no detections), 38: 640x640 (no detections), 39: 640x640 (no detections), 40: 640x640 (no detections), 41: 640x640 (no detections), 42: 640x640 1 closed_roof_tank, 8 narrow_closed_roof_tanks, 43: 640x640 (no detections), 44: 640x640 (no detections), 45: 640x640 (no detections), 46: 640x640 (no detections), 47: 640x640 1 closed_roof_tank, 15 narrow_closed_roof_tanks, 48: 640x640 (no detections), 49: 640x640 4 closed_roof_tanks, 1 external_floating_roof_tank, 4 narrow_closed_roof_tanks, 50: 640x640 (no detections), 984.5ms\n",
      "Speed: 10.3ms preprocess, 19.3ms inference, 53.1ms postprocess per image at shape (1, 3, 640, 640)\n",
      "\n",
      "0: 640x640 12 closed_roof_tanks, 1: 640x640 (no detections), 2: 640x640 18 closed_roof_tanks, 51 narrow_closed_roof_tanks, 3: 640x640 1 closed_roof_tank, 1 external_floating_roof_tank, 2 narrow_closed_roof_tanks, 4: 640x640 1 sedimentation_tank, 4 closed_roof_tanks, 4 external_floating_roof_tanks, 4 narrow_closed_roof_tanks, 5: 640x640 (no detections), 6: 640x640 (no detections), 7: 640x640 (no detections), 8: 640x640 1 closed_roof_tank, 9: 640x640 2 closed_roof_tanks, 5 narrow_closed_roof_tanks, 10: 640x640 (no detections), 11: 640x640 (no detections), 12: 640x640 (no detections), 13: 640x640 16 closed_roof_tanks, 1 narrow_closed_roof_tank, 14: 640x640 (no detections), 15: 640x640 (no detections), 16: 640x640 1 closed_roof_tank, 17: 640x640 (no detections), 18: 640x640 12 closed_roof_tanks, 100 narrow_closed_roof_tanks, 19: 640x640 (no detections), 20: 640x640 (no detections), 21: 640x640 3 narrow_closed_roof_tanks, 22: 640x640 1 closed_roof_tank, 23: 640x640 (no detections), 24: 640x640 1 narrow_closed_roof_tank, 25: 640x640 1 narrow_closed_roof_tank, 26: 640x640 (no detections), 27: 640x640 (no detections), 28: 640x640 (no detections), 29: 640x640 2 closed_roof_tanks, 15 narrow_closed_roof_tanks, 30: 640x640 (no detections), 31: 640x640 20 closed_roof_tanks, 32: 640x640 2 narrow_closed_roof_tanks, 33: 640x640 (no detections), 34: 640x640 (no detections), 35: 640x640 11 closed_roof_tanks, 1 narrow_closed_roof_tank, 36: 640x640 (no detections), 37: 640x640 17 narrow_closed_roof_tanks, 38: 640x640 (no detections), 39: 640x640 1 closed_roof_tank, 40: 640x640 (no detections), 41: 640x640 (no detections), 42: 640x640 (no detections), 43: 640x640 (no detections), 44: 640x640 (no detections), 45: 640x640 (no detections), 46: 640x640 (no detections), 47: 640x640 2 sedimentation_tanks, 2 closed_roof_tanks, 2 external_floating_roof_tanks, 4 narrow_closed_roof_tanks, 48: 640x640 6 spherical_tanks, 16 closed_roof_tanks, 4 narrow_closed_roof_tanks, 49: 640x640 3 sedimentation_tanks, 1 external_floating_roof_tank, 50: 640x640 5 sedimentation_tanks, 2 closed_roof_tanks, 1 external_floating_roof_tank, 5 narrow_closed_roof_tanks, 971.9ms\n",
      "Speed: 2.1ms preprocess, 19.1ms inference, 0.3ms postprocess per image at shape (1, 3, 640, 640)\n",
      "\n",
      "0: 640x640 (no detections), 1: 640x640 (no detections), 2: 640x640 4 sedimentation_tanks, 16 closed_roof_tanks, 5 external_floating_roof_tanks, 3 narrow_closed_roof_tanks, 3: 640x640 (no detections), 4: 640x640 1 sedimentation_tank, 1 spherical_tank, 22 closed_roof_tanks, 4 external_floating_roof_tanks, 8 narrow_closed_roof_tanks, 5: 640x640 1 closed_roof_tank, 6: 640x640 (no detections), 7: 640x640 8 closed_roof_tanks, 8: 640x640 1 closed_roof_tank, 1 narrow_closed_roof_tank, 9: 640x640 (no detections), 10: 640x640 (no detections), 11: 640x640 (no detections), 12: 640x640 10 closed_roof_tanks, 4 narrow_closed_roof_tanks, 13: 640x640 (no detections), 14: 640x640 7 closed_roof_tanks, 3 external_floating_roof_tanks, 7 narrow_closed_roof_tanks, 15: 640x640 (no detections), 16: 640x640 (no detections), 17: 640x640 2 narrow_closed_roof_tanks, 18: 640x640 (no detections), 19: 640x640 (no detections), 20: 640x640 7 closed_roof_tanks, 2 external_floating_roof_tanks, 6 narrow_closed_roof_tanks, 21: 640x640 (no detections), 22: 640x640 (no detections), 23: 640x640 (no detections), 24: 640x640 1 closed_roof_tank, 25: 640x640 4 sedimentation_tanks, 26: 640x640 4 narrow_closed_roof_tanks, 27: 640x640 (no detections), 28: 640x640 5 closed_roof_tanks, 2 narrow_closed_roof_tanks, 29: 640x640 (no detections), 30: 640x640 1 spherical_tank, 130 closed_roof_tanks, 1 external_floating_roof_tank, 31: 640x640 (no detections), 32: 640x640 (no detections), 33: 640x640 (no detections), 34: 640x640 (no detections), 35: 640x640 2 closed_roof_tanks, 1 external_floating_roof_tank, 9 narrow_closed_roof_tanks, 36: 640x640 (no detections), 37: 640x640 40 closed_roof_tanks, 31 narrow_closed_roof_tanks, 38: 640x640 13 closed_roof_tanks, 2 external_floating_roof_tanks, 8 narrow_closed_roof_tanks, 39: 640x640 3 narrow_closed_roof_tanks, 40: 640x640 (no detections), 41: 640x640 9 closed_roof_tanks, 2 external_floating_roof_tanks, 22 narrow_closed_roof_tanks, 42: 640x640 (no detections), 43: 640x640 (no detections), 44: 640x640 3 closed_roof_tanks, 1 narrow_closed_roof_tank, 45: 640x640 (no detections), 46: 640x640 (no detections), 47: 640x640 1 spherical_tank, 25 closed_roof_tanks, 48: 640x640 (no detections), 49: 640x640 1 closed_roof_tank, 50: 640x640 (no detections), 953.0ms\n",
      "Speed: 2.1ms preprocess, 18.7ms inference, 0.3ms postprocess per image at shape (1, 3, 640, 640)\n",
      "\n",
      "0: 640x640 (no detections), 1: 640x640 29 closed_roof_tanks, 8 narrow_closed_roof_tanks, 2: 640x640 2 closed_roof_tanks, 31 narrow_closed_roof_tanks, 3: 640x640 (no detections), 4: 640x640 5 sedimentation_tanks, 16 closed_roof_tanks, 1 external_floating_roof_tank, 1 narrow_closed_roof_tank, 5: 640x640 (no detections), 6: 640x640 1 narrow_closed_roof_tank, 7: 640x640 (no detections), 8: 640x640 1 closed_roof_tank, 9: 640x640 9 closed_roof_tanks, 3 narrow_closed_roof_tanks, 10: 640x640 5 closed_roof_tanks, 5 narrow_closed_roof_tanks, 11: 640x640 (no detections), 12: 640x640 21 closed_roof_tanks, 1 narrow_closed_roof_tank, 13: 640x640 (no detections), 14: 640x640 1 external_floating_roof_tank, 15: 640x640 1 closed_roof_tank, 1 narrow_closed_roof_tank, 16: 640x640 (no detections), 17: 640x640 (no detections), 18: 640x640 (no detections), 19: 640x640 (no detections), 20: 640x640 (no detections), 21: 640x640 2 closed_roof_tanks, 22: 640x640 (no detections), 23: 640x640 (no detections), 24: 640x640 1 sedimentation_tank, 25: 640x640 (no detections), 26: 640x640 16 closed_roof_tanks, 7 external_floating_roof_tanks, 2 narrow_closed_roof_tanks, 27: 640x640 23 closed_roof_tanks, 1 external_floating_roof_tank, 34 narrow_closed_roof_tanks, 28: 640x640 (no detections), 29: 640x640 1 spherical_tank, 23 closed_roof_tanks, 3 narrow_closed_roof_tanks, 30: 640x640 (no detections), 31: 640x640 (no detections), 32: 640x640 1 narrow_closed_roof_tank, 33: 640x640 4 sedimentation_tanks, 3 external_floating_roof_tanks, 34: 640x640 (no detections), 35: 640x640 3 sedimentation_tanks, 1 closed_roof_tank, 3 external_floating_roof_tanks, 9 narrow_closed_roof_tanks, 36: 640x640 1 sedimentation_tank, 37: 640x640 7 closed_roof_tanks, 38: 640x640 7 closed_roof_tanks, 1 external_floating_roof_tank, 39: 640x640 (no detections), 40: 640x640 (no detections), 41: 640x640 (no detections), 42: 640x640 (no detections), 43: 640x640 13 closed_roof_tanks, 21 narrow_closed_roof_tanks, 44: 640x640 1 narrow_closed_roof_tank, 45: 640x640 (no detections), 46: 640x640 29 closed_roof_tanks, 4 narrow_closed_roof_tanks, 47: 640x640 3 narrow_closed_roof_tanks, 48: 640x640 (no detections), 49: 640x640 (no detections), 50: 640x640 (no detections), 972.5ms\n",
      "Speed: 2.2ms preprocess, 19.1ms inference, 0.3ms postprocess per image at shape (1, 3, 640, 640)\n",
      "\n",
      "0: 640x640 (no detections), 1: 640x640 (no detections), 2: 640x640 1 closed_roof_tank, 3: 640x640 (no detections), 4: 640x640 1 closed_roof_tank, 5: 640x640 (no detections), 6: 640x640 22 closed_roof_tanks, 12 narrow_closed_roof_tanks, 7: 640x640 1 water_tower, 8: 640x640 5 closed_roof_tanks, 2 external_floating_roof_tanks, 9: 640x640 (no detections), 10: 640x640 1 external_floating_roof_tank, 11: 640x640 (no detections), 12: 640x640 (no detections), 13: 640x640 (no detections), 14: 640x640 1 sedimentation_tank, 9 closed_roof_tanks, 8 narrow_closed_roof_tanks, 15: 640x640 (no detections), 16: 640x640 8 closed_roof_tanks, 1 external_floating_roof_tank, 4 narrow_closed_roof_tanks, 17: 640x640 7 closed_roof_tanks, 2 external_floating_roof_tanks, 1 narrow_closed_roof_tank, 18: 640x640 (no detections), 19: 640x640 (no detections), 20: 640x640 (no detections), 21: 640x640 71 closed_roof_tanks, 4 external_floating_roof_tanks, 41 narrow_closed_roof_tanks, 22: 640x640 2 closed_roof_tanks, 23: 640x640 (no detections), 24: 640x640 60 closed_roof_tanks, 1 external_floating_roof_tank, 2 narrow_closed_roof_tanks, 25: 640x640 (no detections), 26: 640x640 6 closed_roof_tanks, 27: 640x640 (no detections), 28: 640x640 (no detections), 29: 640x640 (no detections), 30: 640x640 8 closed_roof_tanks, 31: 640x640 1 closed_roof_tank, 32: 640x640 1 sedimentation_tank, 29 closed_roof_tanks, 33: 640x640 (no detections), 34: 640x640 6 closed_roof_tanks, 35: 640x640 13 closed_roof_tanks, 2 narrow_closed_roof_tanks, 36: 640x640 (no detections), 37: 640x640 3 closed_roof_tanks, 38: 640x640 6 spherical_tanks, 39: 640x640 4 closed_roof_tanks, 4 narrow_closed_roof_tanks, 40: 640x640 1 closed_roof_tank, 41: 640x640 3 closed_roof_tanks, 8 narrow_closed_roof_tanks, 42: 640x640 1 narrow_closed_roof_tank, 43: 640x640 (no detections), 44: 640x640 (no detections), 45: 640x640 1 water_tower, 46: 640x640 (no detections), 47: 640x640 3 closed_roof_tanks, 1 external_floating_roof_tank, 48: 640x640 (no detections), 49: 640x640 2 narrow_closed_roof_tanks, 50: 640x640 1 closed_roof_tank, 959.4ms\n",
      "Speed: 2.2ms preprocess, 18.8ms inference, 0.3ms postprocess per image at shape (1, 3, 640, 640)\n",
      "\n",
      "0: 640x640 1 external_floating_roof_tank, 1: 640x640 1 narrow_closed_roof_tank, 2: 640x640 (no detections), 3: 640x640 1 narrow_closed_roof_tank, 4: 640x640 4 narrow_closed_roof_tanks, 5: 640x640 (no detections), 6: 640x640 1 closed_roof_tank, 7: 640x640 5 closed_roof_tanks, 8: 640x640 (no detections), 9: 640x640 1 narrow_closed_roof_tank, 10: 640x640 1 closed_roof_tank, 11: 640x640 7 closed_roof_tanks, 31 narrow_closed_roof_tanks, 12: 640x640 (no detections), 13: 640x640 29 closed_roof_tanks, 13 narrow_closed_roof_tanks, 14: 640x640 8 closed_roof_tanks, 5 external_floating_roof_tanks, 2 narrow_closed_roof_tanks, 15: 640x640 (no detections), 16: 640x640 6 closed_roof_tanks, 1 narrow_closed_roof_tank, 17: 640x640 (no detections), 18: 640x640 1 spherical_tank, 6 closed_roof_tanks, 13 narrow_closed_roof_tanks, 19: 640x640 (no detections), 20: 640x640 13 closed_roof_tanks, 1 external_floating_roof_tank, 20 narrow_closed_roof_tanks, 21: 640x640 (no detections), 22: 640x640 (no detections), 23: 640x640 (no detections), 24: 640x640 (no detections), 25: 640x640 5 closed_roof_tanks, 1 external_floating_roof_tank, 3 narrow_closed_roof_tanks, 26: 640x640 11 closed_roof_tanks, 27: 640x640 (no detections), 28: 640x640 (no detections), 29: 640x640 72 closed_roof_tanks, 20 narrow_closed_roof_tanks, 30: 640x640 (no detections), 31: 640x640 (no detections), 32: 640x640 (no detections), 33: 640x640 (no detections), 34: 640x640 (no detections), 35: 640x640 (no detections), 36: 640x640 3 sedimentation_tanks, 1 closed_roof_tank, 37: 640x640 3 closed_roof_tanks, 2 narrow_closed_roof_tanks, 38: 640x640 (no detections), 39: 640x640 (no detections), 40: 640x640 1 spherical_tank, 36 closed_roof_tanks, 1 external_floating_roof_tank, 14 narrow_closed_roof_tanks, 41: 640x640 1 closed_roof_tank, 42: 640x640 (no detections), 43: 640x640 2 sedimentation_tanks, 44: 640x640 (no detections), 45: 640x640 (no detections), 46: 640x640 (no detections), 47: 640x640 1 closed_roof_tank, 1 narrow_closed_roof_tank, 1 undefined_object, 48: 640x640 2 closed_roof_tanks, 1 narrow_closed_roof_tank, 49: 640x640 (no detections), 50: 640x640 1 water_tower, 2 closed_roof_tanks, 1 external_floating_roof_tank, 12 narrow_closed_roof_tanks, 956.5ms\n",
      "Speed: 2.2ms preprocess, 18.8ms inference, 0.3ms postprocess per image at shape (1, 3, 640, 640)\n",
      "\n",
      "0: 640x640 (no detections), 1: 640x640 3 sedimentation_tanks, 15 closed_roof_tanks, 7 external_floating_roof_tanks, 17 narrow_closed_roof_tanks, 2: 640x640 (no detections), 3: 640x640 (no detections), 4: 640x640 9 closed_roof_tanks, 3 narrow_closed_roof_tanks, 5: 640x640 40 closed_roof_tanks, 5 narrow_closed_roof_tanks, 6: 640x640 (no detections), 7: 640x640 1 closed_roof_tank, 4 narrow_closed_roof_tanks, 8: 640x640 7 closed_roof_tanks, 7 narrow_closed_roof_tanks, 9: 640x640 (no detections), 10: 640x640 18 closed_roof_tanks, 33 narrow_closed_roof_tanks, 11: 640x640 5 closed_roof_tanks, 8 narrow_closed_roof_tanks, 12: 640x640 1 closed_roof_tank, 13: 640x640 (no detections), 14: 640x640 (no detections), 15: 640x640 2 sedimentation_tanks, 3 spherical_tanks, 30 closed_roof_tanks, 16: 640x640 (no detections), 17: 640x640 (no detections), 18: 640x640 5 spherical_tanks, 19: 640x640 (no detections), 20: 640x640 1 sedimentation_tank, 5 spherical_tanks, 1 closed_roof_tank, 21: 640x640 (no detections), 22: 640x640 1 closed_roof_tank, 23: 640x640 (no detections), 24: 640x640 9 spherical_tanks, 25 narrow_closed_roof_tanks, 25: 640x640 (no detections), 26: 640x640 (no detections), 27: 640x640 1 sedimentation_tank, 67 closed_roof_tanks, 1 external_floating_roof_tank, 11 narrow_closed_roof_tanks, 28: 640x640 (no detections), 29: 640x640 18 closed_roof_tanks, 1 narrow_closed_roof_tank, 30: 640x640 3 narrow_closed_roof_tanks, 31: 640x640 (no detections), 32: 640x640 (no detections), 33: 640x640 (no detections), 34: 640x640 3 closed_roof_tanks, 1 narrow_closed_roof_tank, 35: 640x640 2 closed_roof_tanks, 36: 640x640 12 closed_roof_tanks, 8 narrow_closed_roof_tanks, 37: 640x640 1 sedimentation_tank, 6 closed_roof_tanks, 2 external_floating_roof_tanks, 3 narrow_closed_roof_tanks, 38: 640x640 (no detections), 39: 640x640 (no detections), 40: 640x640 17 closed_roof_tanks, 5 external_floating_roof_tanks, 1 narrow_closed_roof_tank, 41: 640x640 10 closed_roof_tanks, 42: 640x640 75 closed_roof_tanks, 44 narrow_closed_roof_tanks, 43: 640x640 1 spherical_tank, 23 closed_roof_tanks, 17 narrow_closed_roof_tanks, 44: 640x640 (no detections), 45: 640x640 47 closed_roof_tanks, 3 external_floating_roof_tanks, 46: 640x640 7 closed_roof_tanks, 2 external_floating_roof_tanks, 47: 640x640 (no detections), 48: 640x640 16 closed_roof_tanks, 9 narrow_closed_roof_tanks, 49: 640x640 (no detections), 50: 640x640 1 narrow_closed_roof_tank, 961.1ms\n",
      "Speed: 2.1ms preprocess, 18.8ms inference, 0.3ms postprocess per image at shape (1, 3, 640, 640)\n",
      "\n",
      "0: 640x640 13 closed_roof_tanks, 2 external_floating_roof_tanks, 3 narrow_closed_roof_tanks, 1: 640x640 1 closed_roof_tank, 2: 640x640 (no detections), 366.7ms\n",
      "Speed: 1.8ms preprocess, 122.2ms inference, 0.6ms postprocess per image at shape (1, 3, 640, 640)\n"
     ]
    }
   ],
   "source": [
    "args.tile_dir,\n",
    "tile_name = \"m_2909524_nw_15_060_20201118\"   \n",
    "print(tile_name)\n",
    "start_time = time.time()\n",
    "img_paths = glob(os.path.join(args.img_dir,\"*\"+tile_name+\"*\")) #identify the imgs correspondig to a given tile\n",
    "tile_path = os.path.join(args.tile_dir, tile_name +\".tif\") # specify the tile path\n",
    "#obtain tile information\n",
    "utmx, utmy, utm_proj, tile_band, tile_height, tile_width = tile_dimensions_and_utm_coords(tile_path) #used\n",
    "#predict on images\n",
    "predict_df_by_tank = predict_process(img_paths, tile_height, tile_width, model, args)    "
   ]
  },
  {
   "cell_type": "code",
   "execution_count": 14,
   "id": "42e75338-364f-4d9e-b949-2bc47a08e760",
   "metadata": {
    "collapsed": true,
    "jupyter": {
     "outputs_hidden": true
    },
    "tags": []
   },
   "outputs": [
    {
     "data": {
      "text/html": [
       "<div>\n",
       "<style scoped>\n",
       "    .dataframe tbody tr th:only-of-type {\n",
       "        vertical-align: middle;\n",
       "    }\n",
       "\n",
       "    .dataframe tbody tr th {\n",
       "        vertical-align: top;\n",
       "    }\n",
       "\n",
       "    .dataframe thead th {\n",
       "        text-align: right;\n",
       "    }\n",
       "</style>\n",
       "<table border=\"1\" class=\"dataframe\">\n",
       "  <thead>\n",
       "    <tr style=\"text-align: right;\">\n",
       "      <th></th>\n",
       "      <th>confidence</th>\n",
       "      <th>class_name</th>\n",
       "      <th>image_names</th>\n",
       "      <th>bbox_pixel_coords</th>\n",
       "    </tr>\n",
       "  </thead>\n",
       "  <tbody>\n",
       "    <tr>\n",
       "      <th>70</th>\n",
       "      <td>0.941426</td>\n",
       "      <td>closed_roof_tank</td>\n",
       "      <td>m_2909524_nw_15_060_20201118_05_07</td>\n",
       "      <td>[5033, 3370, 5092, 3427]</td>\n",
       "    </tr>\n",
       "    <tr>\n",
       "      <th>282</th>\n",
       "      <td>0.939768</td>\n",
       "      <td>closed_roof_tank</td>\n",
       "      <td>m_2909524_nw_15_060_20201118_00_06</td>\n",
       "      <td>[3904, 25, 3987, 107]</td>\n",
       "    </tr>\n",
       "    <tr>\n",
       "      <th>283</th>\n",
       "      <td>0.939653</td>\n",
       "      <td>closed_roof_tank</td>\n",
       "      <td>m_2909524_nw_15_060_20201118_00_06</td>\n",
       "      <td>[3889, 218, 3971, 300]</td>\n",
       "    </tr>\n",
       "    <tr>\n",
       "      <th>183</th>\n",
       "      <td>0.939609</td>\n",
       "      <td>closed_roof_tank</td>\n",
       "      <td>m_2909524_nw_15_060_20201118_04_07</td>\n",
       "      <td>[4579, 2702, 4635, 2760]</td>\n",
       "    </tr>\n",
       "    <tr>\n",
       "      <th>104</th>\n",
       "      <td>0.938795</td>\n",
       "      <td>closed_roof_tank</td>\n",
       "      <td>m_2909524_nw_15_060_20201118_07_09</td>\n",
       "      <td>[5804, 4610, 5890, 4693]</td>\n",
       "    </tr>\n",
       "    <tr>\n",
       "      <th>...</th>\n",
       "      <td>...</td>\n",
       "      <td>...</td>\n",
       "      <td>...</td>\n",
       "      <td>...</td>\n",
       "    </tr>\n",
       "    <tr>\n",
       "      <th>122</th>\n",
       "      <td>0.251031</td>\n",
       "      <td>narrow_closed_roof_tank</td>\n",
       "      <td>m_2909524_nw_15_060_20201118_07_01</td>\n",
       "      <td>[857, 4796, 865, 4804]</td>\n",
       "    </tr>\n",
       "    <tr>\n",
       "      <th>75</th>\n",
       "      <td>0.250762</td>\n",
       "      <td>external_floating_roof_tank</td>\n",
       "      <td>m_2909524_nw_15_060_20201118_07_12</td>\n",
       "      <td>[8179, 4479, 8198, 4485]</td>\n",
       "    </tr>\n",
       "    <tr>\n",
       "      <th>264</th>\n",
       "      <td>0.250628</td>\n",
       "      <td>narrow_closed_roof_tank</td>\n",
       "      <td>m_2909524_nw_15_060_20201118_11_02</td>\n",
       "      <td>[1444, 7282, 1451, 7289]</td>\n",
       "    </tr>\n",
       "    <tr>\n",
       "      <th>278</th>\n",
       "      <td>0.250279</td>\n",
       "      <td>narrow_closed_roof_tank</td>\n",
       "      <td>m_2909524_nw_15_060_20201118_05_05</td>\n",
       "      <td>[3684, 3361, 3694, 3368]</td>\n",
       "    </tr>\n",
       "    <tr>\n",
       "      <th>72</th>\n",
       "      <td>0.250001</td>\n",
       "      <td>closed_roof_tank</td>\n",
       "      <td>m_2909524_nw_15_060_20201118_02_03</td>\n",
       "      <td>[2201, 1527, 2218, 1542]</td>\n",
       "    </tr>\n",
       "  </tbody>\n",
       "</table>\n",
       "<p>3002 rows × 4 columns</p>\n",
       "</div>"
      ],
      "text/plain": [
       "     confidence                   class_name  \\\n",
       "70     0.941426             closed_roof_tank   \n",
       "282    0.939768             closed_roof_tank   \n",
       "283    0.939653             closed_roof_tank   \n",
       "183    0.939609             closed_roof_tank   \n",
       "104    0.938795             closed_roof_tank   \n",
       "..          ...                          ...   \n",
       "122    0.251031      narrow_closed_roof_tank   \n",
       "75     0.250762  external_floating_roof_tank   \n",
       "264    0.250628      narrow_closed_roof_tank   \n",
       "278    0.250279      narrow_closed_roof_tank   \n",
       "72     0.250001             closed_roof_tank   \n",
       "\n",
       "                            image_names         bbox_pixel_coords  \n",
       "70   m_2909524_nw_15_060_20201118_05_07  [5033, 3370, 5092, 3427]  \n",
       "282  m_2909524_nw_15_060_20201118_00_06     [3904, 25, 3987, 107]  \n",
       "283  m_2909524_nw_15_060_20201118_00_06    [3889, 218, 3971, 300]  \n",
       "183  m_2909524_nw_15_060_20201118_04_07  [4579, 2702, 4635, 2760]  \n",
       "104  m_2909524_nw_15_060_20201118_07_09  [5804, 4610, 5890, 4693]  \n",
       "..                                  ...                       ...  \n",
       "122  m_2909524_nw_15_060_20201118_07_01    [857, 4796, 865, 4804]  \n",
       "75   m_2909524_nw_15_060_20201118_07_12  [8179, 4479, 8198, 4485]  \n",
       "264  m_2909524_nw_15_060_20201118_11_02  [1444, 7282, 1451, 7289]  \n",
       "278  m_2909524_nw_15_060_20201118_05_05  [3684, 3361, 3694, 3368]  \n",
       "72   m_2909524_nw_15_060_20201118_02_03  [2201, 1527, 2218, 1542]  \n",
       "\n",
       "[3002 rows x 4 columns]"
      ]
     },
     "execution_count": 14,
     "metadata": {},
     "output_type": "execute_result"
    }
   ],
   "source": [
    "predict_df_by_tank = predict_df_by_tank.sort_values(\"confidence\",ascending=False)\n",
    "predict_df_by_tank"
   ]
  },
  {
   "cell_type": "code",
   "execution_count": 8,
   "id": "e0d7e05e-c4db-435a-9f7d-f10ae799bc9f",
   "metadata": {},
   "outputs": [],
   "source": [
    "tile_level_annotation_multiple_capture_date_neighbor_tile_removed = \"/hpc/group/borsuklab/ast/tile_level_annotation_multiple_capture_date_neighbor_tile_removed/tile_level_annotation_multiple_capture_date_neighbor_tile_removed.geojson\"\n",
    "tile_level_annotation_multiple_capture_date_neighbor_tile_removed = gpd.read_file(tile_level_annotation_multiple_capture_date_neighbor_tile_removed)"
   ]
  },
  {
   "cell_type": "code",
   "execution_count": 12,
   "id": "846ef039-cbb0-4b5d-a884-b717307b24f6",
   "metadata": {},
   "outputs": [
    {
     "data": {
      "text/plain": [
       "'m_2909524_nw_15_060_20201118'"
      ]
     },
     "execution_count": 12,
     "metadata": {},
     "output_type": "execute_result"
    }
   ],
   "source": [
    "from collections import Counter\n",
    "\n",
    "cnt = Counter(tile_level_annotation_multiple_capture_date_neighbor_tile_removed.tile_name.to_list())\n",
    "cnt.most_common(1)[0][0]"
   ]
  },
  {
   "cell_type": "code",
   "execution_count": 35,
   "id": "1d010350-d4e2-4968-bfda-5c21d11444d0",
   "metadata": {},
   "outputs": [
    {
     "data": {
      "text/html": [
       "<div>\n",
       "<style scoped>\n",
       "    .dataframe tbody tr th:only-of-type {\n",
       "        vertical-align: middle;\n",
       "    }\n",
       "\n",
       "    .dataframe tbody tr th {\n",
       "        vertical-align: top;\n",
       "    }\n",
       "\n",
       "    .dataframe thead th {\n",
       "        text-align: right;\n",
       "    }\n",
       "</style>\n",
       "<table border=\"1\" class=\"dataframe\">\n",
       "  <thead>\n",
       "    <tr style=\"text-align: right;\">\n",
       "      <th></th>\n",
       "      <th>confidence</th>\n",
       "      <th>class_name</th>\n",
       "      <th>image_names</th>\n",
       "      <th>bbox_pixel_coords</th>\n",
       "    </tr>\n",
       "  </thead>\n",
       "  <tbody>\n",
       "    <tr>\n",
       "      <th>70</th>\n",
       "      <td>0.941426</td>\n",
       "      <td>closed_roof_tank</td>\n",
       "      <td>m_2909524_nw_15_060_20201118_05_07</td>\n",
       "      <td>[5033, 3370, 5092, 3427]</td>\n",
       "    </tr>\n",
       "    <tr>\n",
       "      <th>282</th>\n",
       "      <td>0.939768</td>\n",
       "      <td>closed_roof_tank</td>\n",
       "      <td>m_2909524_nw_15_060_20201118_00_06</td>\n",
       "      <td>[3904, 25, 3987, 107]</td>\n",
       "    </tr>\n",
       "    <tr>\n",
       "      <th>283</th>\n",
       "      <td>0.939653</td>\n",
       "      <td>closed_roof_tank</td>\n",
       "      <td>m_2909524_nw_15_060_20201118_00_06</td>\n",
       "      <td>[3889, 218, 3971, 300]</td>\n",
       "    </tr>\n",
       "    <tr>\n",
       "      <th>183</th>\n",
       "      <td>0.939609</td>\n",
       "      <td>closed_roof_tank</td>\n",
       "      <td>m_2909524_nw_15_060_20201118_04_07</td>\n",
       "      <td>[4579, 2702, 4635, 2760]</td>\n",
       "    </tr>\n",
       "    <tr>\n",
       "      <th>104</th>\n",
       "      <td>0.938795</td>\n",
       "      <td>closed_roof_tank</td>\n",
       "      <td>m_2909524_nw_15_060_20201118_07_09</td>\n",
       "      <td>[5804, 4610, 5890, 4693]</td>\n",
       "    </tr>\n",
       "    <tr>\n",
       "      <th>...</th>\n",
       "      <td>...</td>\n",
       "      <td>...</td>\n",
       "      <td>...</td>\n",
       "      <td>...</td>\n",
       "    </tr>\n",
       "    <tr>\n",
       "      <th>170</th>\n",
       "      <td>0.501705</td>\n",
       "      <td>narrow_closed_roof_tank</td>\n",
       "      <td>m_2909524_nw_15_060_20201118_10_03</td>\n",
       "      <td>[2078, 6801, 2085, 6807]</td>\n",
       "    </tr>\n",
       "    <tr>\n",
       "      <th>352</th>\n",
       "      <td>0.501663</td>\n",
       "      <td>narrow_closed_roof_tank</td>\n",
       "      <td>m_2909524_nw_15_060_20201118_07_08</td>\n",
       "      <td>[5663, 4970, 5671, 4978]</td>\n",
       "    </tr>\n",
       "    <tr>\n",
       "      <th>91</th>\n",
       "      <td>0.501397</td>\n",
       "      <td>external_floating_roof_tank</td>\n",
       "      <td>m_2909524_nw_15_060_20201118_06_07</td>\n",
       "      <td>[5093, 4219, 5119, 4246]</td>\n",
       "    </tr>\n",
       "    <tr>\n",
       "      <th>219</th>\n",
       "      <td>0.500695</td>\n",
       "      <td>narrow_closed_roof_tank</td>\n",
       "      <td>m_2909524_nw_15_060_20201118_02_04</td>\n",
       "      <td>[2841, 1492, 2850, 1499]</td>\n",
       "    </tr>\n",
       "    <tr>\n",
       "      <th>205</th>\n",
       "      <td>0.500590</td>\n",
       "      <td>narrow_closed_roof_tank</td>\n",
       "      <td>m_2909524_nw_15_060_20201118_07_05</td>\n",
       "      <td>[3368, 4648, 3376, 4656]</td>\n",
       "    </tr>\n",
       "  </tbody>\n",
       "</table>\n",
       "<p>2240 rows × 4 columns</p>\n",
       "</div>"
      ],
      "text/plain": [
       "     confidence                   class_name  \\\n",
       "70     0.941426             closed_roof_tank   \n",
       "282    0.939768             closed_roof_tank   \n",
       "283    0.939653             closed_roof_tank   \n",
       "183    0.939609             closed_roof_tank   \n",
       "104    0.938795             closed_roof_tank   \n",
       "..          ...                          ...   \n",
       "170    0.501705      narrow_closed_roof_tank   \n",
       "352    0.501663      narrow_closed_roof_tank   \n",
       "91     0.501397  external_floating_roof_tank   \n",
       "219    0.500695      narrow_closed_roof_tank   \n",
       "205    0.500590      narrow_closed_roof_tank   \n",
       "\n",
       "                            image_names         bbox_pixel_coords  \n",
       "70   m_2909524_nw_15_060_20201118_05_07  [5033, 3370, 5092, 3427]  \n",
       "282  m_2909524_nw_15_060_20201118_00_06     [3904, 25, 3987, 107]  \n",
       "283  m_2909524_nw_15_060_20201118_00_06    [3889, 218, 3971, 300]  \n",
       "183  m_2909524_nw_15_060_20201118_04_07  [4579, 2702, 4635, 2760]  \n",
       "104  m_2909524_nw_15_060_20201118_07_09  [5804, 4610, 5890, 4693]  \n",
       "..                                  ...                       ...  \n",
       "170  m_2909524_nw_15_060_20201118_10_03  [2078, 6801, 2085, 6807]  \n",
       "352  m_2909524_nw_15_060_20201118_07_08  [5663, 4970, 5671, 4978]  \n",
       "91   m_2909524_nw_15_060_20201118_06_07  [5093, 4219, 5119, 4246]  \n",
       "219  m_2909524_nw_15_060_20201118_02_04  [2841, 1492, 2850, 1499]  \n",
       "205  m_2909524_nw_15_060_20201118_07_05  [3368, 4648, 3376, 4656]  \n",
       "\n",
       "[2240 rows x 4 columns]"
      ]
     },
     "execution_count": 35,
     "metadata": {},
     "output_type": "execute_result"
    }
   ],
   "source": []
  },
  {
   "cell_type": "code",
   "execution_count": 30,
   "id": "7577929f-1b65-470d-a5f6-8cb9681d3dfe",
   "metadata": {
    "tags": []
   },
   "outputs": [],
   "source": [
    "merged_df_by_tank = merge_predicted_bboxes(predict_df_by_tank, dist_limit = 5)\n",
    "merged_df_by_tank = merged_df_by_tank.sort_values(\"confidence\",ascending=False)#[\"bbox_pixel_coords\"].iloc[0]#[\"latlon_coords\"][0]"
   ]
  },
  {
   "cell_type": "code",
   "execution_count": 31,
   "id": "ae59b003-ce9a-45a3-bcf4-4543b53070ad",
   "metadata": {},
   "outputs": [],
   "source": [
    "merged_df_by_tank[[\"utm_coords\",\"latlon_coords\"]] = merged_df_by_tank[\"bbox_pixel_coords\"].apply(\\\n",
    "                                                    lambda box: get_crs_coords(box, utmx, utmy, utm_proj))\n",
    "merged_df_by_tank[\"diameter\"] = merged_df_by_tank[\"utm_coords\"].apply(lambda utm_coord: calculate_diameter(utm_coord, resolution = 1))\n",
    "#specify the projection used \n",
    "merged_df_by_tank[\"utm_proj\"] = [utm_proj] * len(merged_df_by_tank)\n",
    "#update dataframes\n"
   ]
  },
  {
   "cell_type": "code",
   "execution_count": 39,
   "id": "c61f9a73-3ee7-4000-983f-26ab3967a064",
   "metadata": {},
   "outputs": [
    {
     "data": {
      "text/html": [
       "<div>\n",
       "<style scoped>\n",
       "    .dataframe tbody tr th:only-of-type {\n",
       "        vertical-align: middle;\n",
       "    }\n",
       "\n",
       "    .dataframe tbody tr th {\n",
       "        vertical-align: top;\n",
       "    }\n",
       "\n",
       "    .dataframe thead th {\n",
       "        text-align: right;\n",
       "    }\n",
       "</style>\n",
       "<table border=\"1\" class=\"dataframe\">\n",
       "  <thead>\n",
       "    <tr style=\"text-align: right;\">\n",
       "      <th></th>\n",
       "      <th>confidence</th>\n",
       "      <th>class_name</th>\n",
       "      <th>bbox_pixel_coords</th>\n",
       "      <th>utm_coords</th>\n",
       "      <th>latlon_coords</th>\n",
       "      <th>diameter</th>\n",
       "      <th>utm_proj</th>\n",
       "    </tr>\n",
       "  </thead>\n",
       "  <tbody>\n",
       "    <tr>\n",
       "      <th>0</th>\n",
       "      <td>0.941426</td>\n",
       "      <td>closed_roof_tank</td>\n",
       "      <td>[5033, 3370, 5092, 3427]</td>\n",
       "      <td>[297206.1, 3291155.7, 297241.5, 3291121.5]</td>\n",
       "      <td>[-95.09682215075105, 29.734033753643146, -95.0...</td>\n",
       "      <td>34.2</td>\n",
       "      <td>(init)</td>\n",
       "    </tr>\n",
       "    <tr>\n",
       "      <th>1</th>\n",
       "      <td>0.939768</td>\n",
       "      <td>closed_roof_tank</td>\n",
       "      <td>[3904, 25, 3987, 107]</td>\n",
       "      <td>[296528.7, 3293162.7, 296578.5, 3293113.5]</td>\n",
       "      <td>[-95.10420036596885, 29.75202346914217, -95.10...</td>\n",
       "      <td>49.2</td>\n",
       "      <td>(init)</td>\n",
       "    </tr>\n",
       "    <tr>\n",
       "      <th>2</th>\n",
       "      <td>0.938795</td>\n",
       "      <td>[closed_roof_tank]</td>\n",
       "      <td>[3889, 186, 3971, 300]</td>\n",
       "      <td>[296519.7, 3293066.1, 296568.89999999997, 3292...</td>\n",
       "      <td>[-95.1042751824117, 29.751150769039484, -95.10...</td>\n",
       "      <td>49.2</td>\n",
       "      <td>(init)</td>\n",
       "    </tr>\n",
       "    <tr>\n",
       "      <th>3</th>\n",
       "      <td>0.938774</td>\n",
       "      <td>closed_roof_tank</td>\n",
       "      <td>[4579, 2702, 4635, 2760]</td>\n",
       "      <td>[296933.7, 3291556.5, 296967.3, 3291521.7]</td>\n",
       "      <td>[-95.09971242190169, 29.737603882390538, -95.0...</td>\n",
       "      <td>33.6</td>\n",
       "      <td>(init)</td>\n",
       "    </tr>\n",
       "    <tr>\n",
       "      <th>4</th>\n",
       "      <td>0.938442</td>\n",
       "      <td>closed_roof_tank</td>\n",
       "      <td>[5804, 4610, 5890, 4693]</td>\n",
       "      <td>[297668.7, 3290411.7, 297720.3, 3290361.900000...</td>\n",
       "      <td>[-95.0919024051835, 29.72739933757605, -95.091...</td>\n",
       "      <td>49.8</td>\n",
       "      <td>(init)</td>\n",
       "    </tr>\n",
       "    <tr>\n",
       "      <th>...</th>\n",
       "      <td>...</td>\n",
       "      <td>...</td>\n",
       "      <td>...</td>\n",
       "      <td>...</td>\n",
       "      <td>...</td>\n",
       "      <td>...</td>\n",
       "      <td>...</td>\n",
       "    </tr>\n",
       "    <tr>\n",
       "      <th>2277</th>\n",
       "      <td>0.251031</td>\n",
       "      <td>narrow_closed_roof_tank</td>\n",
       "      <td>[5198, 5923, 5206, 5929]</td>\n",
       "      <td>[297305.1, 3289623.9000000004, 297309.89999999...</td>\n",
       "      <td>[-95.09551188500006, 29.72023477427375, -95.09...</td>\n",
       "      <td>3.6</td>\n",
       "      <td>(init)</td>\n",
       "    </tr>\n",
       "    <tr>\n",
       "      <th>2278</th>\n",
       "      <td>0.250762</td>\n",
       "      <td>narrow_closed_roof_tank</td>\n",
       "      <td>[857, 4796, 865, 4804]</td>\n",
       "      <td>[294700.5, 3290300.1, 294705.3, 3290295.300000...</td>\n",
       "      <td>[-95.12255200094194, 29.725904413456632, -95.1...</td>\n",
       "      <td>4.8</td>\n",
       "      <td>(init)</td>\n",
       "    </tr>\n",
       "    <tr>\n",
       "      <th>2279</th>\n",
       "      <td>0.250628</td>\n",
       "      <td>external_floating_roof_tank</td>\n",
       "      <td>[8179, 4479, 8198, 4485]</td>\n",
       "      <td>[299093.7, 3290490.3000000003, 299105.1, 32904...</td>\n",
       "      <td>[-95.07719203982444, 29.728340200791866, -95.0...</td>\n",
       "      <td>3.6</td>\n",
       "      <td>(init)</td>\n",
       "    </tr>\n",
       "    <tr>\n",
       "      <th>2280</th>\n",
       "      <td>0.250279</td>\n",
       "      <td>narrow_closed_roof_tank</td>\n",
       "      <td>[3684, 3361, 3694, 3368]</td>\n",
       "      <td>[296396.7, 3291161.1, 296402.7, 3291156.900000...</td>\n",
       "      <td>[-95.10518740001089, 29.73394963171733, -95.10...</td>\n",
       "      <td>4.2</td>\n",
       "      <td>(init)</td>\n",
       "    </tr>\n",
       "    <tr>\n",
       "      <th>2281</th>\n",
       "      <td>0.250001</td>\n",
       "      <td>closed_roof_tank</td>\n",
       "      <td>[2201, 1527, 2218, 1542]</td>\n",
       "      <td>[295506.89999999997, 3292261.5, 295517.1, 3292...</td>\n",
       "      <td>[-95.11459068813822, 29.743727291806014, -95.1...</td>\n",
       "      <td>9.0</td>\n",
       "      <td>(init)</td>\n",
       "    </tr>\n",
       "  </tbody>\n",
       "</table>\n",
       "<p>2282 rows × 7 columns</p>\n",
       "</div>"
      ],
      "text/plain": [
       "      confidence                   class_name         bbox_pixel_coords  \\\n",
       "0       0.941426             closed_roof_tank  [5033, 3370, 5092, 3427]   \n",
       "1       0.939768             closed_roof_tank     [3904, 25, 3987, 107]   \n",
       "2       0.938795           [closed_roof_tank]    [3889, 186, 3971, 300]   \n",
       "3       0.938774             closed_roof_tank  [4579, 2702, 4635, 2760]   \n",
       "4       0.938442             closed_roof_tank  [5804, 4610, 5890, 4693]   \n",
       "...          ...                          ...                       ...   \n",
       "2277    0.251031      narrow_closed_roof_tank  [5198, 5923, 5206, 5929]   \n",
       "2278    0.250762      narrow_closed_roof_tank    [857, 4796, 865, 4804]   \n",
       "2279    0.250628  external_floating_roof_tank  [8179, 4479, 8198, 4485]   \n",
       "2280    0.250279      narrow_closed_roof_tank  [3684, 3361, 3694, 3368]   \n",
       "2281    0.250001             closed_roof_tank  [2201, 1527, 2218, 1542]   \n",
       "\n",
       "                                             utm_coords  \\\n",
       "0            [297206.1, 3291155.7, 297241.5, 3291121.5]   \n",
       "1            [296528.7, 3293162.7, 296578.5, 3293113.5]   \n",
       "2     [296519.7, 3293066.1, 296568.89999999997, 3292...   \n",
       "3            [296933.7, 3291556.5, 296967.3, 3291521.7]   \n",
       "4     [297668.7, 3290411.7, 297720.3, 3290361.900000...   \n",
       "...                                                 ...   \n",
       "2277  [297305.1, 3289623.9000000004, 297309.89999999...   \n",
       "2278  [294700.5, 3290300.1, 294705.3, 3290295.300000...   \n",
       "2279  [299093.7, 3290490.3000000003, 299105.1, 32904...   \n",
       "2280  [296396.7, 3291161.1, 296402.7, 3291156.900000...   \n",
       "2281  [295506.89999999997, 3292261.5, 295517.1, 3292...   \n",
       "\n",
       "                                          latlon_coords  diameter utm_proj  \n",
       "0     [-95.09682215075105, 29.734033753643146, -95.0...      34.2   (init)  \n",
       "1     [-95.10420036596885, 29.75202346914217, -95.10...      49.2   (init)  \n",
       "2     [-95.1042751824117, 29.751150769039484, -95.10...      49.2   (init)  \n",
       "3     [-95.09971242190169, 29.737603882390538, -95.0...      33.6   (init)  \n",
       "4     [-95.0919024051835, 29.72739933757605, -95.091...      49.8   (init)  \n",
       "...                                                 ...       ...      ...  \n",
       "2277  [-95.09551188500006, 29.72023477427375, -95.09...       3.6   (init)  \n",
       "2278  [-95.12255200094194, 29.725904413456632, -95.1...       4.8   (init)  \n",
       "2279  [-95.07719203982444, 29.728340200791866, -95.0...       3.6   (init)  \n",
       "2280  [-95.10518740001089, 29.73394963171733, -95.10...       4.2   (init)  \n",
       "2281  [-95.11459068813822, 29.743727291806014, -95.1...       9.0   (init)  \n",
       "\n",
       "[2282 rows x 7 columns]"
      ]
     },
     "execution_count": 39,
     "metadata": {},
     "output_type": "execute_result"
    }
   ],
   "source": [
    "merged_df_by_tank"
   ]
  },
  {
   "cell_type": "code",
   "execution_count": 16,
   "id": "65a42da6-1e23-4faf-99e3-9c29208c546a",
   "metadata": {},
   "outputs": [],
   "source": [
    "da = rioxarray.open_rasterio(tile_path) ## Read the data\n",
    "# Compute the lon/lat coordinates with rasterio.warp.transform\n",
    "# lons, lats = np.meshgrid(da['x'], da['y'])\n",
    "tile_band, tile_height, tile_width = da.shape[0], da.shape[1], da.shape[2]\n",
    "utmx = np.array(da['x'])\n",
    "utmy = np.array(da['y'])\n",
    "crs =  rioxarray.open_rasterio(tile_path).rio.crs"
   ]
  },
  {
   "cell_type": "code",
   "execution_count": 17,
   "id": "a68166a4-7095-480d-af86-5103b1917629",
   "metadata": {},
   "outputs": [
    {
     "data": {
      "text/plain": [
       "<matplotlib.image.AxesImage at 0x7fce53409550>"
      ]
     },
     "execution_count": 17,
     "metadata": {},
     "output_type": "execute_result"
    },
    {
     "data": {
      "image/png": "[encoded data removed]",
      "text/plain": [
       "<Figure size 640x480 with 1 Axes>"
      ]
     },
     "metadata": {},
     "output_type": "display_data"
    }
   ],
   "source": [
    "import matplotlib.pyplot as plt\n",
    "raster = da.data\n",
    "plt.imshow(np.transpose(raster, (1,2,0))[ 3370:3427, 5033:5092])#)"
   ]
  },
  {
   "cell_type": "code",
   "execution_count": 41,
   "id": "603dbe39-71b6-47d4-9722-8ff37cdf83c9",
   "metadata": {},
   "outputs": [
    {
     "data": {
      "text/plain": [
       "(-61.85377270321794, 2.2085209557653687)"
      ]
     },
     "execution_count": 41,
     "metadata": {},
     "output_type": "execute_result"
    }
   ],
   "source": [
    "transform_point_utm_to_wgs84(utm_proj, utmy[minx], utmy[miny])"
   ]
  },
  {
   "cell_type": "code",
   "execution_count": 35,
   "id": "3a7efd59-adc5-48c7-a6d0-464f18ae09f6",
   "metadata": {},
   "outputs": [
    {
     "data": {
      "text/plain": [
       "(-89.44024613824992, 30.59404743284649)"
      ]
     },
     "execution_count": 35,
     "metadata": {},
     "output_type": "execute_result"
    }
   ],
   "source": [
    "transform_point_utm_to_wgs84(utm_proj, utmx[minx], np.flip(utmy, 0)[miny])"
   ]
  },
  {
   "cell_type": "code",
   "execution_count": null,
   "id": "0f0da84e-ad6d-47fc-bad4-0cca7c1cd383",
   "metadata": {},
   "outputs": [],
   "source": [
    "#determine the lat/lon\n",
    "nw_lon, nw_lat = transform_point_utm_to_wgs84(utm_proj, utmx[minx], utmy[miny])\n",
    "se_lon, se_lat = transform_point_utm_to_wgs84(utm_proj, utmx[maxx], utmy[maxy]) \n",
    "return pd.Series({'utm_coords': [utmx[minx], utmy[miny], utmx[maxx], utmy[maxy]],\n",
    "                  'latlon_coords': [nw_lon, nw_lat, se_lon, se_lat]})"
   ]
  },
  {
   "cell_type": "code",
   "execution_count": 13,
   "id": "2c8fe5aa-b3e2-4dbe-bd1b-5bc666353999",
   "metadata": {},
   "outputs": [],
   "source": [
    "\n",
    "obj_xmin, obj_ymin, obj_xmax, obj_ymax = merged_df_by_tank[\"utm_coords\"][0]\n",
    "obj_width = obj_xmax - obj_xmin\n",
    "obj_height = obj_ymax - obj_ymin\n",
    "diameter = min(obj_width, obj_height) * 1 #meter"
   ]
  },
  {
   "cell_type": "code",
   "execution_count": 31,
   "id": "89ddb15a-50ed-4405-bb1e-5ce572815eac",
   "metadata": {},
   "outputs": [
    {
     "data": {
      "text/plain": [
       "[210, 12921, 217, 12928]"
      ]
     },
     "execution_count": 31,
     "metadata": {},
     "output_type": "execute_result"
    }
   ],
   "source": []
  },
  {
   "cell_type": "code",
   "execution_count": 7,
   "id": "127dae65-fb19-4c27-967b-5f9212f2a250",
   "metadata": {},
   "outputs": [
    {
     "ename": "NameError",
     "evalue": "name 'pixel_coords' is not defined",
     "output_type": "error",
     "traceback": [
      "\u001b[0;31m---------------------------------------------------------------------------\u001b[0m",
      "\u001b[0;31mNameError\u001b[0m                                 Traceback (most recent call last)",
      "Cell \u001b[0;32mIn[7], line 1\u001b[0m\n\u001b[0;32m----> 1\u001b[0m minx, miny, maxx, maxy \u001b[38;5;241m=\u001b[39m \u001b[43mpixel_coords\u001b[49m\n\u001b[1;32m      2\u001b[0m \u001b[38;5;66;03m#determine the lat/lon\u001b[39;00m\n\u001b[1;32m      3\u001b[0m nw_lon, nw_lat \u001b[38;5;241m=\u001b[39m transform_point_utm_to_wgs84(utm_proj, utmx[minx], utmy[miny])\n",
      "\u001b[0;31mNameError\u001b[0m: name 'pixel_coords' is not defined"
     ]
    }
   ],
   "source": [
    "minx, miny, maxx, maxy = pixel_coords\n",
    "#determine the lat/lon\n",
    "nw_lon, nw_lat = transform_point_utm_to_wgs84(utm_proj, utmx[minx], utmy[miny])\n",
    "se_lon, se_lat = transform_point_utm_to_wgs84(utm_proj, utmx[maxx], utmy[maxy]) \n",
    "return pd.Series({'utm_coords': [utmx[minx], utmy[miny], utmx[maxx], utmy[maxy]],\n",
    "                  'latlon_coords': [nw_lon, nw_lat, se_lon, se_lat]})"
   ]
  },
  {
   "cell_type": "code",
   "execution_count": 17,
   "id": "a1259473-b472-418c-837f-0f430805b2de",
   "metadata": {},
   "outputs": [],
   "source": [
    "merged_df_by_tank = merge_predicted_bboxes(predict_df_by_tank, dist_limit = 5)"
   ]
  },
  {
   "cell_type": "code",
   "execution_count": 19,
   "id": "3b8ce6b1-f30b-41ba-b6f5-3793aad029c6",
   "metadata": {},
   "outputs": [],
   "source": [
    "utm, latlon = merged_df_by_tank[\"bbox_pixel_coords\"].apply(lambda box: get_crs_coords(box, utmx, utmy, utm_proj))"
   ]
  },
  {
   "cell_type": "code",
   "execution_count": 22,
   "id": "12b1efbb-7c38-4d38-a84d-64b7ef37148b",
   "metadata": {},
   "outputs": [
    {
     "data": {
      "text/plain": [
       "(9007, 9274, 17967, 18234)"
      ]
     },
     "execution_count": 22,
     "metadata": {},
     "output_type": "execute_result"
    }
   ],
   "source": [
    "minx, miny, maxx, maxy = merged_df_by_tank[\"bbox_pixel_coords\"][0]\n",
    "minx, miny, maxx, maxy"
   ]
  },
  {
   "cell_type": "code",
   "execution_count": 20,
   "id": "fef49711-fc36-4b69-8958-8f882da49f93",
   "metadata": {},
   "outputs": [
    {
     "data": {
      "text/plain": [
       "'utm_coords'"
      ]
     },
     "execution_count": 20,
     "metadata": {},
     "output_type": "execute_result"
    }
   ],
   "source": [
    "    #determine the lat/lon\n",
    "    nw_lon, nw_lat = transform_point_utm_to_wgs84(utm_proj, utmx[minx], utmy[miny])\n",
    "    se_lon, se_lat = transform_point_utm_to_wgs84(utm_proj, utmx[maxx], utmy[maxy]) \n",
    "    return pd.Series({'utm_coords': [utmx[minx], utmy[miny], utmx[maxx], utmy[maxy]],\n",
    "                      'latlon_coords': [nw_lon, nw_lat, se_lon, se_lat]})"
   ]
  },
  {
   "cell_type": "code",
   "execution_count": null,
   "id": "166a5cb7-76fe-45a0-97ef-b42f005216ce",
   "metadata": {},
   "outputs": [],
   "source": [
    "predict_df.to_csv(os.path.join(args.prediction_dir, f\"predictions_{args.chunk_id}.csv\"))\n",
    "merged_df.to_csv(os.path.join(args.prediction_dir, f\"merged_predictions_{args.chunk_id}.csv\"))"
   ]
  },
  {
   "cell_type": "code",
   "execution_count": 30,
   "id": "968c305b-f132-49b1-aee2-8ace6a9a94bc",
   "metadata": {},
   "outputs": [
    {
     "data": {
      "text/plain": [
       "2688.0"
      ]
     },
     "execution_count": 30,
     "metadata": {},
     "output_type": "execute_result"
    }
   ],
   "source": [
    "\n",
    "    #intialize dataframes\n",
    "    predict_df = pd.DataFrame({})\n",
    "    merged_df = pd.DataFrame({})\n",
    "    \n",
    "    # obtain predictions over the dataframe\n",
    "    for tile_name in tile_names:\n",
    "        print(tile_name)\n",
    "        start_time = time.time()\n",
    "        img_paths = glob(os.path.join(args.img_dir,\"*\"+tile_name+\"*\")) #identify the imgs correspondig to a given tile\n",
    "        tile_path = os.path.join(args.tile_dir, tile_name +\".tif\") # specify the tile path\n",
    "        #obtain tile information\n",
    "        utmx, utmy, utm_proj, tile_band, tile_height, tile_width = tile_dimensions_and_utm_coords(tile_path) #used\n",
    "        #predict on images\n",
    "        predict_df_by_tank = predict_process(img_paths, tile_height, tile_width, model, args)\n",
    "        #merge neighboring images\n",
    "        merged_df_by_tank = merge_predicted_bboxes(predict_df_by_tank, dist_limit = 5)\n",
    "        # calculate utm and lat lon coords\n",
    "        merged_df_by_tank[[\"utm_coords\",\"latlon_coords\"]] = merged_df_by_tank[\"bbox_pixel_coords\"].apply(\\\n",
    "                                                            lambda box: get_crs_coords(box, utmx, utmy, utm_proj))\n",
    "        merged_df_by_tank[\"diameter\"] = merged_df_by_tank[\"utm_coords\"].apply(lambda utm_coord: calculate_diameter(utm_coord, resolution = 1))\n",
    "        #specify the projection used \n",
    "        merged_df_by_tank[\"utm_proj\"] = [utm_proj] * len(merged_df_by_tank)\n",
    "      #update dataframes\n",
    "        predict_df = pd.concat([predict_df, predict_df_by_tank], ignore_index=True)\n",
    "        merged_df = pd.concat([merged_df, merged_df_by_tank], ignore_index=True)\n",
    "        #delete temp dataframe to conserve memory\n",
    "        del predict_df_by_tank, merged_df_by_tank\n",
    "        end_time = time.time()\n",
    "        execution_time = end_time - start_time\n",
    "        print(\"Execution time:\", execution_time, \"seconds\")        \n",
    "        \n",
    "    predict_df.to_csv(os.path.join(args.prediction_dir, f\"predictions_{args.chunk_id}.csv\"))\n",
    "    merged_df.to_csv(os.path.join(args.prediction_dir, f\"merged_predictions_{args.chunk_id}.csv\"))"
   ]
  },
  {
   "cell_type": "code",
   "execution_count": 12,
   "id": "c54b169d-b269-4c44-ad4a-53d6d757d024",
   "metadata": {},
   "outputs": [],
   "source": [
    "merged_predictions_0 = pd.read_csv(\"/work/csr33/images_for_predictions/predictions/merged_predictions_0.csv\")\n",
    "merged_predictions_0[\"utm_coords\"] = merged_predictions_0[\"utm_coords\"].apply(lambda utm_coord: ast.literal_eval(utm_coord))"
   ]
  },
  {
   "cell_type": "code",
   "execution_count": 18,
   "id": "ff60f6a7-3db9-4d06-aa4f-353924704758",
   "metadata": {},
   "outputs": [
    {
     "data": {
      "text/plain": [
       "str"
      ]
     },
     "execution_count": 18,
     "metadata": {},
     "output_type": "execute_result"
    }
   ],
   "source": [
    "type(merged_predictions_0[\"utm_coords\"][0])\n",
    "import ast\n",
    "\n",
    "s = '[268663.05, 3388092.4499999997, 271351.05, 3385404.4499999997]'\n",
    "list_values = ast.literal_eval(s)\n",
    "print(list_values)"
   ]
  },
  {
   "cell_type": "code",
   "execution_count": 13,
   "id": "fd7c460c-3238-4359-8727-10c0659a340b",
   "metadata": {},
   "outputs": [
    {
     "ename": "ValueError",
     "evalue": "too many values to unpack (expected 4)",
     "output_type": "error",
     "traceback": [
      "\u001b[0;31m---------------------------------------------------------------------------\u001b[0m",
      "\u001b[0;31mValueError\u001b[0m                                Traceback (most recent call last)",
      "Cell \u001b[0;32mIn[13], line 1\u001b[0m\n\u001b[0;32m----> 1\u001b[0m \u001b[43mmerged_predictions_0\u001b[49m\u001b[43m[\u001b[49m\u001b[38;5;124;43m\"\u001b[39;49m\u001b[38;5;124;43mutm_coords\u001b[39;49m\u001b[38;5;124;43m\"\u001b[39;49m\u001b[43m]\u001b[49m\u001b[38;5;241;43m.\u001b[39;49m\u001b[43mapply\u001b[49m\u001b[43m(\u001b[49m\u001b[38;5;28;43;01mlambda\u001b[39;49;00m\u001b[43m \u001b[49m\u001b[43mutm_coord\u001b[49m\u001b[43m:\u001b[49m\u001b[43m \u001b[49m\u001b[43mcalculate_diameter\u001b[49m\u001b[43m(\u001b[49m\u001b[43mutm_coord\u001b[49m\u001b[43m,\u001b[49m\u001b[43m \u001b[49m\u001b[43mresolution\u001b[49m\u001b[43m \u001b[49m\u001b[38;5;241;43m=\u001b[39;49m\u001b[43m \u001b[49m\u001b[38;5;241;43m1\u001b[39;49m\u001b[43m)\u001b[49m\u001b[43m)\u001b[49m\n",
      "File \u001b[0;32m/hpc/group/borsuklab/cred/.conda/envs/yolov8/lib/python3.11/site-packages/pandas/core/series.py:4904\u001b[0m, in \u001b[0;36mSeries.apply\u001b[0;34m(self, func, convert_dtype, args, by_row, **kwargs)\u001b[0m\n\u001b[1;32m   4769\u001b[0m \u001b[38;5;28;01mdef\u001b[39;00m \u001b[38;5;21mapply\u001b[39m(\n\u001b[1;32m   4770\u001b[0m     \u001b[38;5;28mself\u001b[39m,\n\u001b[1;32m   4771\u001b[0m     func: AggFuncType,\n\u001b[0;32m   (...)\u001b[0m\n\u001b[1;32m   4776\u001b[0m     \u001b[38;5;241m*\u001b[39m\u001b[38;5;241m*\u001b[39mkwargs,\n\u001b[1;32m   4777\u001b[0m ) \u001b[38;5;241m-\u001b[39m\u001b[38;5;241m>\u001b[39m DataFrame \u001b[38;5;241m|\u001b[39m Series:\n\u001b[1;32m   4778\u001b[0m \u001b[38;5;250m    \u001b[39m\u001b[38;5;124;03m\"\"\"\u001b[39;00m\n\u001b[1;32m   4779\u001b[0m \u001b[38;5;124;03m    Invoke function on values of Series.\u001b[39;00m\n\u001b[1;32m   4780\u001b[0m \n\u001b[0;32m   (...)\u001b[0m\n\u001b[1;32m   4895\u001b[0m \u001b[38;5;124;03m    dtype: float64\u001b[39;00m\n\u001b[1;32m   4896\u001b[0m \u001b[38;5;124;03m    \"\"\"\u001b[39;00m\n\u001b[1;32m   4897\u001b[0m     \u001b[38;5;28;01mreturn\u001b[39;00m \u001b[43mSeriesApply\u001b[49m\u001b[43m(\u001b[49m\n\u001b[1;32m   4898\u001b[0m \u001b[43m        \u001b[49m\u001b[38;5;28;43mself\u001b[39;49m\u001b[43m,\u001b[49m\n\u001b[1;32m   4899\u001b[0m \u001b[43m        \u001b[49m\u001b[43mfunc\u001b[49m\u001b[43m,\u001b[49m\n\u001b[1;32m   4900\u001b[0m \u001b[43m        \u001b[49m\u001b[43mconvert_dtype\u001b[49m\u001b[38;5;241;43m=\u001b[39;49m\u001b[43mconvert_dtype\u001b[49m\u001b[43m,\u001b[49m\n\u001b[1;32m   4901\u001b[0m \u001b[43m        \u001b[49m\u001b[43mby_row\u001b[49m\u001b[38;5;241;43m=\u001b[39;49m\u001b[43mby_row\u001b[49m\u001b[43m,\u001b[49m\n\u001b[1;32m   4902\u001b[0m \u001b[43m        \u001b[49m\u001b[43margs\u001b[49m\u001b[38;5;241;43m=\u001b[39;49m\u001b[43margs\u001b[49m\u001b[43m,\u001b[49m\n\u001b[1;32m   4903\u001b[0m \u001b[43m        \u001b[49m\u001b[43mkwargs\u001b[49m\u001b[38;5;241;43m=\u001b[39;49m\u001b[43mkwargs\u001b[49m\u001b[43m,\u001b[49m\n\u001b[0;32m-> 4904\u001b[0m \u001b[43m    \u001b[49m\u001b[43m)\u001b[49m\u001b[38;5;241;43m.\u001b[39;49m\u001b[43mapply\u001b[49m\u001b[43m(\u001b[49m\u001b[43m)\u001b[49m\n",
      "File \u001b[0;32m/hpc/group/borsuklab/cred/.conda/envs/yolov8/lib/python3.11/site-packages/pandas/core/apply.py:1427\u001b[0m, in \u001b[0;36mSeriesApply.apply\u001b[0;34m(self)\u001b[0m\n\u001b[1;32m   1424\u001b[0m     \u001b[38;5;28;01mreturn\u001b[39;00m \u001b[38;5;28mself\u001b[39m\u001b[38;5;241m.\u001b[39mapply_compat()\n\u001b[1;32m   1426\u001b[0m \u001b[38;5;66;03m# self.func is Callable\u001b[39;00m\n\u001b[0;32m-> 1427\u001b[0m \u001b[38;5;28;01mreturn\u001b[39;00m \u001b[38;5;28;43mself\u001b[39;49m\u001b[38;5;241;43m.\u001b[39;49m\u001b[43mapply_standard\u001b[49m\u001b[43m(\u001b[49m\u001b[43m)\u001b[49m\n",
      "File \u001b[0;32m/hpc/group/borsuklab/cred/.conda/envs/yolov8/lib/python3.11/site-packages/pandas/core/apply.py:1507\u001b[0m, in \u001b[0;36mSeriesApply.apply_standard\u001b[0;34m(self)\u001b[0m\n\u001b[1;32m   1501\u001b[0m \u001b[38;5;66;03m# row-wise access\u001b[39;00m\n\u001b[1;32m   1502\u001b[0m \u001b[38;5;66;03m# apply doesn't have a `na_action` keyword and for backward compat reasons\u001b[39;00m\n\u001b[1;32m   1503\u001b[0m \u001b[38;5;66;03m# we need to give `na_action=\"ignore\"` for categorical data.\u001b[39;00m\n\u001b[1;32m   1504\u001b[0m \u001b[38;5;66;03m# TODO: remove the `na_action=\"ignore\"` when that default has been changed in\u001b[39;00m\n\u001b[1;32m   1505\u001b[0m \u001b[38;5;66;03m#  Categorical (GH51645).\u001b[39;00m\n\u001b[1;32m   1506\u001b[0m action \u001b[38;5;241m=\u001b[39m \u001b[38;5;124m\"\u001b[39m\u001b[38;5;124mignore\u001b[39m\u001b[38;5;124m\"\u001b[39m \u001b[38;5;28;01mif\u001b[39;00m \u001b[38;5;28misinstance\u001b[39m(obj\u001b[38;5;241m.\u001b[39mdtype, CategoricalDtype) \u001b[38;5;28;01melse\u001b[39;00m \u001b[38;5;28;01mNone\u001b[39;00m\n\u001b[0;32m-> 1507\u001b[0m mapped \u001b[38;5;241m=\u001b[39m \u001b[43mobj\u001b[49m\u001b[38;5;241;43m.\u001b[39;49m\u001b[43m_map_values\u001b[49m\u001b[43m(\u001b[49m\n\u001b[1;32m   1508\u001b[0m \u001b[43m    \u001b[49m\u001b[43mmapper\u001b[49m\u001b[38;5;241;43m=\u001b[39;49m\u001b[43mcurried\u001b[49m\u001b[43m,\u001b[49m\u001b[43m \u001b[49m\u001b[43mna_action\u001b[49m\u001b[38;5;241;43m=\u001b[39;49m\u001b[43maction\u001b[49m\u001b[43m,\u001b[49m\u001b[43m \u001b[49m\u001b[43mconvert\u001b[49m\u001b[38;5;241;43m=\u001b[39;49m\u001b[38;5;28;43mself\u001b[39;49m\u001b[38;5;241;43m.\u001b[39;49m\u001b[43mconvert_dtype\u001b[49m\n\u001b[1;32m   1509\u001b[0m \u001b[43m\u001b[49m\u001b[43m)\u001b[49m\n\u001b[1;32m   1511\u001b[0m \u001b[38;5;28;01mif\u001b[39;00m \u001b[38;5;28mlen\u001b[39m(mapped) \u001b[38;5;129;01mand\u001b[39;00m \u001b[38;5;28misinstance\u001b[39m(mapped[\u001b[38;5;241m0\u001b[39m], ABCSeries):\n\u001b[1;32m   1512\u001b[0m     \u001b[38;5;66;03m# GH#43986 Need to do list(mapped) in order to get treated as nested\u001b[39;00m\n\u001b[1;32m   1513\u001b[0m     \u001b[38;5;66;03m#  See also GH#25959 regarding EA support\u001b[39;00m\n\u001b[1;32m   1514\u001b[0m     \u001b[38;5;28;01mreturn\u001b[39;00m obj\u001b[38;5;241m.\u001b[39m_constructor_expanddim(\u001b[38;5;28mlist\u001b[39m(mapped), index\u001b[38;5;241m=\u001b[39mobj\u001b[38;5;241m.\u001b[39mindex)\n",
      "File \u001b[0;32m/hpc/group/borsuklab/cred/.conda/envs/yolov8/lib/python3.11/site-packages/pandas/core/base.py:921\u001b[0m, in \u001b[0;36mIndexOpsMixin._map_values\u001b[0;34m(self, mapper, na_action, convert)\u001b[0m\n\u001b[1;32m    918\u001b[0m \u001b[38;5;28;01mif\u001b[39;00m \u001b[38;5;28misinstance\u001b[39m(arr, ExtensionArray):\n\u001b[1;32m    919\u001b[0m     \u001b[38;5;28;01mreturn\u001b[39;00m arr\u001b[38;5;241m.\u001b[39mmap(mapper, na_action\u001b[38;5;241m=\u001b[39mna_action)\n\u001b[0;32m--> 921\u001b[0m \u001b[38;5;28;01mreturn\u001b[39;00m \u001b[43malgorithms\u001b[49m\u001b[38;5;241;43m.\u001b[39;49m\u001b[43mmap_array\u001b[49m\u001b[43m(\u001b[49m\u001b[43marr\u001b[49m\u001b[43m,\u001b[49m\u001b[43m \u001b[49m\u001b[43mmapper\u001b[49m\u001b[43m,\u001b[49m\u001b[43m \u001b[49m\u001b[43mna_action\u001b[49m\u001b[38;5;241;43m=\u001b[39;49m\u001b[43mna_action\u001b[49m\u001b[43m,\u001b[49m\u001b[43m \u001b[49m\u001b[43mconvert\u001b[49m\u001b[38;5;241;43m=\u001b[39;49m\u001b[43mconvert\u001b[49m\u001b[43m)\u001b[49m\n",
      "File \u001b[0;32m/hpc/group/borsuklab/cred/.conda/envs/yolov8/lib/python3.11/site-packages/pandas/core/algorithms.py:1743\u001b[0m, in \u001b[0;36mmap_array\u001b[0;34m(arr, mapper, na_action, convert)\u001b[0m\n\u001b[1;32m   1741\u001b[0m values \u001b[38;5;241m=\u001b[39m arr\u001b[38;5;241m.\u001b[39mastype(\u001b[38;5;28mobject\u001b[39m, copy\u001b[38;5;241m=\u001b[39m\u001b[38;5;28;01mFalse\u001b[39;00m)\n\u001b[1;32m   1742\u001b[0m \u001b[38;5;28;01mif\u001b[39;00m na_action \u001b[38;5;129;01mis\u001b[39;00m \u001b[38;5;28;01mNone\u001b[39;00m:\n\u001b[0;32m-> 1743\u001b[0m     \u001b[38;5;28;01mreturn\u001b[39;00m \u001b[43mlib\u001b[49m\u001b[38;5;241;43m.\u001b[39;49m\u001b[43mmap_infer\u001b[49m\u001b[43m(\u001b[49m\u001b[43mvalues\u001b[49m\u001b[43m,\u001b[49m\u001b[43m \u001b[49m\u001b[43mmapper\u001b[49m\u001b[43m,\u001b[49m\u001b[43m \u001b[49m\u001b[43mconvert\u001b[49m\u001b[38;5;241;43m=\u001b[39;49m\u001b[43mconvert\u001b[49m\u001b[43m)\u001b[49m\n\u001b[1;32m   1744\u001b[0m \u001b[38;5;28;01melse\u001b[39;00m:\n\u001b[1;32m   1745\u001b[0m     \u001b[38;5;28;01mreturn\u001b[39;00m lib\u001b[38;5;241m.\u001b[39mmap_infer_mask(\n\u001b[1;32m   1746\u001b[0m         values, mapper, mask\u001b[38;5;241m=\u001b[39misna(values)\u001b[38;5;241m.\u001b[39mview(np\u001b[38;5;241m.\u001b[39muint8), convert\u001b[38;5;241m=\u001b[39mconvert\n\u001b[1;32m   1747\u001b[0m     )\n",
      "File \u001b[0;32mlib.pyx:2972\u001b[0m, in \u001b[0;36mpandas._libs.lib.map_infer\u001b[0;34m()\u001b[0m\n",
      "Cell \u001b[0;32mIn[13], line 1\u001b[0m, in \u001b[0;36m<lambda>\u001b[0;34m(utm_coord)\u001b[0m\n\u001b[0;32m----> 1\u001b[0m merged_predictions_0[\u001b[38;5;124m\"\u001b[39m\u001b[38;5;124mutm_coords\u001b[39m\u001b[38;5;124m\"\u001b[39m]\u001b[38;5;241m.\u001b[39mapply(\u001b[38;5;28;01mlambda\u001b[39;00m utm_coord: \u001b[43mcalculate_diameter\u001b[49m\u001b[43m(\u001b[49m\u001b[43mutm_coord\u001b[49m\u001b[43m,\u001b[49m\u001b[43m \u001b[49m\u001b[43mresolution\u001b[49m\u001b[43m \u001b[49m\u001b[38;5;241;43m=\u001b[39;49m\u001b[43m \u001b[49m\u001b[38;5;241;43m1\u001b[39;49m\u001b[43m)\u001b[49m)\n",
      "Cell \u001b[0;32mIn[11], line 11\u001b[0m, in \u001b[0;36mcalculate_diameter\u001b[0;34m(bbox, resolution)\u001b[0m\n\u001b[1;32m      1\u001b[0m \u001b[38;5;28;01mdef\u001b[39;00m \u001b[38;5;21mcalculate_diameter\u001b[39m(bbox, resolution \u001b[38;5;241m=\u001b[39m \u001b[38;5;241m0.6\u001b[39m): \u001b[38;5;66;03m#used\u001b[39;00m\n\u001b[1;32m      2\u001b[0m \u001b[38;5;250m    \u001b[39m\u001b[38;5;124;03m\"\"\" Calculate the diameter of a given bounding bbox (in Pascal Voc Format) for imagery of a given resolution\u001b[39;00m\n\u001b[1;32m      3\u001b[0m \u001b[38;5;124;03m    Arg:\u001b[39;00m\n\u001b[1;32m      4\u001b[0m \u001b[38;5;124;03m    bbox(list): a list of the (xmin, ymin, xmax, ymax) coordinates for box. Utm coordinates are provided as [nw_x_utm, se_y_utm, se_x_utm, nw_y_utm] to conform with Pascal Voc Format.\u001b[39;00m\n\u001b[0;32m   (...)\u001b[0m\n\u001b[1;32m      9\u001b[0m \u001b[38;5;124;03m                [#minx, #maxy, #maxx, #minx]\u001b[39;00m\n\u001b[1;32m     10\u001b[0m \u001b[38;5;124;03m    \"\"\"\u001b[39;00m\n\u001b[0;32m---> 11\u001b[0m     obj_xmin, obj_ymin, obj_xmax, obj_ymax \u001b[38;5;241m=\u001b[39m bbox\n\u001b[1;32m     12\u001b[0m     obj_width \u001b[38;5;241m=\u001b[39m obj_xmax \u001b[38;5;241m-\u001b[39m obj_xmin\n\u001b[1;32m     13\u001b[0m     obj_height \u001b[38;5;241m=\u001b[39m obj_ymax \u001b[38;5;241m-\u001b[39m obj_ymin\n",
      "\u001b[0;31mValueError\u001b[0m: too many values to unpack (expected 4)"
     ]
    }
   ],
   "source": [
    "merged_predictions_0[\"utm_coords\"].apply(lambda utm_coord: calculate_diameter(utm_coord, resolution = 1))\n"
   ]
  },
  {
   "cell_type": "code",
   "execution_count": 2,
   "id": "58745026-a6c9-44fe-8645-52ad0d0424c3",
   "metadata": {},
   "outputs": [
    {
     "name": "stderr",
     "output_type": "stream",
     "text": [
      "[ WARN:0@4.258] global loadsave.cpp:248 findDecoder imread_(''/work/csr33/images_for_predictions/naip_imgs/m_3008325_se_17_060_20191113_20200114_19_10.jpg'): can't open/read file: check file path/integrity\n"
     ]
    }
   ],
   "source": [
    "cv2.imread(\"'/work/csr33/images_for_predictions/naip_imgs/m_3008325_se_17_060_20191113_20200114_19_10.jpg\")"
   ]
  },
  {
   "cell_type": "code",
   "execution_count": 2,
   "id": "a59991d8-0b24-4568-b89b-27ade6985f91",
   "metadata": {},
   "outputs": [
    {
     "data": {
      "text/plain": [
       "2458"
      ]
     },
     "execution_count": 2,
     "metadata": {},
     "output_type": "execute_result"
    }
   ],
   "source": [
    "tile_dir =\"/work/csr33/images_for_predictions/naip_tiles\"\n",
    "tile_paths = glob(tile_dir + \"/*\")  # get a list of all of the tiles in tiles directory\n",
    "tile_paths.index('/work/csr33/images_for_predictions/naip_tiles/m_3008831_nw_16_030_20211119.tif')"
   ]
  },
  {
   "cell_type": "code",
   "execution_count": 5,
   "id": "8ddefbf2-d8f9-43e6-9121-b91911ea751a",
   "metadata": {},
   "outputs": [
    {
     "data": {
      "text/plain": [
       "2193"
      ]
     },
     "execution_count": 5,
     "metadata": {},
     "output_type": "execute_result"
    }
   ],
   "source": [
    "tile_paths.index('/work/csr33/images_for_predictions/naip_tiles/m_3009146_nw_15_030_20211114.tif')"
   ]
  },
  {
   "cell_type": "code",
   "execution_count": null,
   "id": "83d62b2d-7f67-4444-8100-d419b91aba68",
   "metadata": {},
   "outputs": [],
   "source": [
    "    \n",
    "git remote add origin https://github.com/celinerobi/ast_object_detection\n",
    "\n"
   ]
  },
  {
   "cell_type": "code",
   "execution_count": 3,
   "id": "3886fe2d-082b-4b9b-9aef-bdff60ab2206",
   "metadata": {},
   "outputs": [
    {
     "name": "stderr",
     "output_type": "stream",
     "text": [
      "\n",
      "KeyboardInterrupt\n",
      "\n"
     ]
    }
   ],
   "source": [
    "list_of_files = glob('/work/csr33/images_for_predictions/naip_imgs'+'/*') # * means all if need specific format then *.csv\n",
    "latest_file = max(list_of_files, key=os.path.getctime)\n",
    "print(latest_file)"
   ]
  },
  {
   "cell_type": "code",
   "execution_count": null,
   "id": "7e32f7d2-2b38-4534-bbc8-7f4a2d39fba1",
   "metadata": {},
   "outputs": [],
   "source": [
    "find '/work/csr33/images_for_predictions/naip_imgs' -type f -exec ls -t1 {} + | head -1"
   ]
  },
  {
   "cell_type": "code",
   "execution_count": 3,
   "id": "da62abbe-dfaf-49c1-9a5d-b616d4d34b32",
   "metadata": {},
   "outputs": [],
   "source": [
    "naip_df = gpd.read_parquet(\"/work/csr33/images_for_predictions/naip_tile_in_slosh_modeled_area.parquet\")"
   ]
  },
  {
   "cell_type": "code",
   "execution_count": 5,
   "id": "b9912cf6-090c-4d82-9a86-bef12548a9d6",
   "metadata": {},
   "outputs": [],
   "source": [
    "chunked_naip_data_dir=\"/work/csr33/images_for_predictions/chunked_naip_data\"\n",
    "chunked_naip_data_filename=\"chunked_naip_data\""
   ]
  },
  {
   "cell_type": "code",
   "execution_count": 6,
   "id": "0269c266-ff08-4615-9a47-aacd336ed9a8",
   "metadata": {},
   "outputs": [],
   "source": [
    "# Calculate the number of rows per chunk\n",
    "rows_per_chunk = len(naip_df) // 100\n",
    "df_chunks = [naip_df.iloc[i : i + rows_per_chunk] for i in range(0, len(naip_df), rows_per_chunk)]\n",
    "for i, chunk in enumerate(df_chunks):\n",
    "    file_path = f'{chunked_naip_data_dir}/{chunked_naip_data_filename}_{i}.parquet'\n",
    "    chunk.to_parquet(file_path, index=False)"
   ]
  },
  {
   "cell_type": "code",
   "execution_count": 27,
   "id": "fd5cca38-c524-4f2c-a007-7704e1afea9e",
   "metadata": {},
   "outputs": [
    {
     "name": "stdout",
     "output_type": "stream",
     "text": [
      "<class 'AttributeError'>\n"
     ]
    }
   ],
   "source": [
    "chip_tiles_concurrent(tile_dir, img_dir, item_dim=640, connections=6)"
   ]
  },
  {
   "cell_type": "code",
   "execution_count": 40,
   "id": "b1631c8f-bf18-42ec-b06d-b6135f4a76e1",
   "metadata": {},
   "outputs": [],
   "source": [
    "def get_args_parse():\n",
    "    parser = argparse.ArgumentParser(\"\")\n",
    "    parser.add_argument(\"--chunked_naip_data_dir\", default=\"/work/csr33/images_for_predictions/chunked_naip_data\", type=str)\n",
    "    parser.add_argument(\"--chunked_naip_data_filename\", default=\"chunked_naip_data\", type=str)\n",
    "    parser.add_argument(\"--chunk_id\",  type=int)\n",
    "\n",
    "    \n",
    "    parser.add_argument(\"--backoff_factor\", default=0.5, type=float)\n",
    "    parser.add_argument(\"--max_retries\", default=5, type=int)\n",
    "    \n",
    "    parser.add_argument(\"--processing_naip_dir\", default=\"/work/csr33/images_for_predictions/processed_naip_data\", type=str)\n",
    "    parser.add_argument(\"--processing_naip_filename\", default=\"processed_naip_data\", type=str)\n",
    "    parser.add_argument(\"--imgsz\", default=640, type=int)\n",
    "\n",
    "    args = parser.parse_args()\n",
    "    return args\n",
    "import sys\n",
    "sys.argv = ['my_notebook']\n",
    "args = get_args_parse()"
   ]
  },
  {
   "cell_type": "code",
   "execution_count": 53,
   "id": "206fbdce-f93b-47a4-a37a-a5c584db8332",
   "metadata": {},
   "outputs": [
    {
     "name": "stdout",
     "output_type": "stream",
     "text": [
      "0 Execution time: 101.11169767379761 seconds\n",
      "1 Execution time: 125.7008740901947 seconds\n",
      "2 Execution time: 126.36712956428528 seconds\n",
      "3 Execution time: 136.74841904640198 seconds\n",
      "4 Execution time: 147.03376173973083 seconds\n",
      "5 Execution time: 134.94598197937012 seconds\n",
      "6 Execution time: 149.9262683391571 seconds\n",
      "7 Execution time: 145.56880497932434 seconds\n"
     ]
    },
    {
     "name": "stderr",
     "output_type": "stream",
     "text": [
      "\n",
      "KeyboardInterrupt\n",
      "\n"
     ]
    }
   ],
   "source": [
    "#os.chdir(\"/work/csr33/object_detection\")\n",
    "#make sure processing naip dir exist\n",
    "\n",
    "os.makedirs(args.processing_naip_dir, exist_ok=True)\n",
    "naip_df = gpd.read_parquet(\"/work/csr33/images_for_predictions/chunked_naip_data/chunked_naip_data_96.parquet\")\n",
    "args.chunk_id = 96\n",
    "naip_df[\"img_url\"] = naip_df.assets.apply(lambda asset: asset[\"image\"][\"href\"])#\n",
    "data_processing_over_chunk(naip_df, args)"
   ]
  },
  {
   "cell_type": "code",
   "execution_count": 2,
   "id": "a541fdd2-9401-436c-8952-3d311d79e7e9",
   "metadata": {},
   "outputs": [],
   "source": [
    "naip_data_path=\"/work/csr33/images_for_predictions/naip_tile_in_slosh_modeled_area.parquet\"\n",
    "\n",
    "    #os.chdir(\"/work/csr33/object_detection\")\n",
    "    #make sure processing naip dir exist\n",
    "import geopandas as gpd  \n",
    "subset_naip_in_slosh = gpd.read_parquet(naip_data_path)"
   ]
  },
  {
   "cell_type": "code",
   "execution_count": 3,
   "id": "5f302dd0-9c61-431a-aec1-ba5f6f6857d8",
   "metadata": {},
   "outputs": [
    {
     "data": {
      "text/plain": [
       "14012"
      ]
     },
     "execution_count": 3,
     "metadata": {},
     "output_type": "execute_result"
    }
   ],
   "source": [
    "len(subset_naip_in_slosh)"
   ]
  },
  {
   "cell_type": "code",
   "execution_count": 2,
   "id": "5f16d09c-30fb-4232-b420-bd8b1f6191ce",
   "metadata": {},
   "outputs": [],
   "source": [
    "s = rasterio.open(\"https://naipeuwest.blob.core.windows.net/naip/v002/al/2021/al_030cm_2021/30087/m_3008709_ne_16_030_20211112.tif\")\n",
    "d = s.read()"
   ]
  },
  {
   "cell_type": "code",
   "execution_count": 4,
   "id": "e37ceb56-8025-4471-98dd-be3965b20d00",
   "metadata": {},
   "outputs": [
    {
     "data": {
      "text/plain": [
       "<open DatasetReader name='https://naipeuwest.blob.core.windows.net/naip/v002/al/2021/al_030cm_2021/30087/m_3008709_ne_16_030_20211112.tif' mode='r'>"
      ]
     },
     "execution_count": 4,
     "metadata": {},
     "output_type": "execute_result"
    }
   ],
   "source": []
  }
 ],
 "metadata": {
  "kernelspec": {
   "display_name": "yolov8",
   "language": "python",
   "name": "yolov8"
  },
  "language_info": {
   "codemirror_mode": {
    "name": "ipython",
    "version": 3
   },
   "file_extension": ".py",
   "mimetype": "text/x-python",
   "name": "python",
   "nbconvert_exporter": "python",
   "pygments_lexer": "ipython3",
   "version": "3.11.6"
  }
 },
 "nbformat": 4,
 "nbformat_minor": 5
}
