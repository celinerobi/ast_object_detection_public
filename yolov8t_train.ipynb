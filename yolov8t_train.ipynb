{
 "cells": [
  {
   "cell_type": "code",
   "execution_count": 1,
   "id": "194e81eb-e6c1-44ae-9bd3-63a47473bc7a",
   "metadata": {},
   "outputs": [],
   "source": [
    "import geopandas as gpd\n",
    "from glob import glob"
   ]
  },
  {
   "cell_type": "code",
   "execution_count": 2,
   "id": "a59991d8-0b24-4568-b89b-27ade6985f91",
   "metadata": {},
   "outputs": [
    {
     "data": {
      "text/plain": [
       "2458"
      ]
     },
     "execution_count": 2,
     "metadata": {},
     "output_type": "execute_result"
    }
   ],
   "source": [
    "tile_dir =\"/work/csr33/images_for_predictions/naip_tiles\"\n",
    "tile_paths = glob(tile_dir + \"/*\")  # get a list of all of the tiles in tiles directory\n",
    "tile_paths.index('/work/csr33/images_for_predictions/naip_tiles/m_3008831_nw_16_030_20211119.tif')"
   ]
  },
  {
   "cell_type": "code",
   "execution_count": 5,
   "id": "8ddefbf2-d8f9-43e6-9121-b91911ea751a",
   "metadata": {},
   "outputs": [
    {
     "data": {
      "text/plain": [
       "2193"
      ]
     },
     "execution_count": 5,
     "metadata": {},
     "output_type": "execute_result"
    }
   ],
   "source": [
    "tile_paths.index('/work/csr33/images_for_predictions/naip_tiles/m_3009146_nw_15_030_20211114.tif')"
   ]
  },
  {
   "cell_type": "code",
   "execution_count": null,
   "id": "83d62b2d-7f67-4444-8100-d419b91aba68",
   "metadata": {},
   "outputs": [],
   "source": [
    "    \n",
    "git remote add origin https://github.com/celinerobi/ast_object_detection\n",
    "\n"
   ]
  },
  {
   "cell_type": "code",
   "execution_count": 3,
   "id": "3886fe2d-082b-4b9b-9aef-bdff60ab2206",
   "metadata": {},
   "outputs": [
    {
     "name": "stderr",
     "output_type": "stream",
     "text": [
      "\n",
      "KeyboardInterrupt\n",
      "\n"
     ]
    }
   ],
   "source": [
    "list_of_files = glob('/work/csr33/images_for_predictions/naip_imgs'+'/*') # * means all if need specific format then *.csv\n",
    "latest_file = max(list_of_files, key=os.path.getctime)\n",
    "print(latest_file)"
   ]
  },
  {
   "cell_type": "code",
   "execution_count": null,
   "id": "7e32f7d2-2b38-4534-bbc8-7f4a2d39fba1",
   "metadata": {},
   "outputs": [],
   "source": [
    "find '/work/csr33/images_for_predictions/naip_imgs' -type f -exec ls -t1 {} + | head -1"
   ]
  },
  {
   "cell_type": "code",
   "execution_count": 3,
   "id": "da62abbe-dfaf-49c1-9a5d-b616d4d34b32",
   "metadata": {},
   "outputs": [],
   "source": [
    "naip_df = gpd.read_parquet(\"/work/csr33/images_for_predictions/naip_tile_in_slosh_modeled_area.parquet\")"
   ]
  },
  {
   "cell_type": "code",
   "execution_count": 5,
   "id": "b9912cf6-090c-4d82-9a86-bef12548a9d6",
   "metadata": {},
   "outputs": [],
   "source": [
    "chunked_naip_data_dir=\"/work/csr33/images_for_predictions/chunked_naip_data\"\n",
    "chunked_naip_data_filename=\"chunked_naip_data\""
   ]
  },
  {
   "cell_type": "code",
   "execution_count": 6,
   "id": "0269c266-ff08-4615-9a47-aacd336ed9a8",
   "metadata": {},
   "outputs": [],
   "source": [
    "# Calculate the number of rows per chunk\n",
    "rows_per_chunk = len(naip_df) // 100\n",
    "df_chunks = [naip_df.iloc[i : i + rows_per_chunk] for i in range(0, len(naip_df), rows_per_chunk)]\n",
    "for i, chunk in enumerate(df_chunks):\n",
    "    file_path = f'{chunked_naip_data_dir}/{chunked_naip_data_filename}_{i}.parquet'\n",
    "    chunk.to_parquet(file_path, index=False)"
   ]
  },
  {
   "cell_type": "code",
   "execution_count": 27,
   "id": "fd5cca38-c524-4f2c-a007-7704e1afea9e",
   "metadata": {},
   "outputs": [
    {
     "name": "stdout",
     "output_type": "stream",
     "text": [
      "<class 'AttributeError'>\n"
     ]
    }
   ],
   "source": [
    "chip_tiles_concurrent(tile_dir, img_dir, item_dim=640, connections=6)"
   ]
  },
  {
   "cell_type": "code",
   "execution_count": 40,
   "id": "b1631c8f-bf18-42ec-b06d-b6135f4a76e1",
   "metadata": {},
   "outputs": [],
   "source": [
    "def get_args_parse():\n",
    "    parser = argparse.ArgumentParser(\"\")\n",
    "    parser.add_argument(\"--chunked_naip_data_dir\", default=\"/work/csr33/images_for_predictions/chunked_naip_data\", type=str)\n",
    "    parser.add_argument(\"--chunked_naip_data_filename\", default=\"chunked_naip_data\", type=str)\n",
    "    parser.add_argument(\"--chunk_id\",  type=int)\n",
    "\n",
    "    \n",
    "    parser.add_argument(\"--backoff_factor\", default=0.5, type=float)\n",
    "    parser.add_argument(\"--max_retries\", default=5, type=int)\n",
    "    \n",
    "    parser.add_argument(\"--processing_naip_dir\", default=\"/work/csr33/images_for_predictions/processed_naip_data\", type=str)\n",
    "    parser.add_argument(\"--processing_naip_filename\", default=\"processed_naip_data\", type=str)\n",
    "    parser.add_argument(\"--imgsz\", default=640, type=int)\n",
    "\n",
    "    args = parser.parse_args()\n",
    "    return args\n",
    "import sys\n",
    "sys.argv = ['my_notebook']\n",
    "args = get_args_parse()"
   ]
  },
  {
   "cell_type": "code",
   "execution_count": 53,
   "id": "206fbdce-f93b-47a4-a37a-a5c584db8332",
   "metadata": {},
   "outputs": [
    {
     "name": "stdout",
     "output_type": "stream",
     "text": [
      "0 Execution time: 101.11169767379761 seconds\n",
      "1 Execution time: 125.7008740901947 seconds\n",
      "2 Execution time: 126.36712956428528 seconds\n",
      "3 Execution time: 136.74841904640198 seconds\n",
      "4 Execution time: 147.03376173973083 seconds\n",
      "5 Execution time: 134.94598197937012 seconds\n",
      "6 Execution time: 149.9262683391571 seconds\n",
      "7 Execution time: 145.56880497932434 seconds\n"
     ]
    },
    {
     "name": "stderr",
     "output_type": "stream",
     "text": [
      "\n",
      "KeyboardInterrupt\n",
      "\n"
     ]
    }
   ],
   "source": [
    "#os.chdir(\"/work/csr33/object_detection\")\n",
    "#make sure processing naip dir exist\n",
    "\n",
    "os.makedirs(args.processing_naip_dir, exist_ok=True)\n",
    "naip_df = gpd.read_parquet(\"/work/csr33/images_for_predictions/chunked_naip_data/chunked_naip_data_96.parquet\")\n",
    "args.chunk_id = 96\n",
    "naip_df[\"img_url\"] = naip_df.assets.apply(lambda asset: asset[\"image\"][\"href\"])#\n",
    "data_processing_over_chunk(naip_df, args)"
   ]
  },
  {
   "cell_type": "code",
   "execution_count": 2,
   "id": "a541fdd2-9401-436c-8952-3d311d79e7e9",
   "metadata": {},
   "outputs": [],
   "source": [
    "naip_data_path=\"/work/csr33/images_for_predictions/naip_tile_in_slosh_modeled_area.parquet\"\n",
    "\n",
    "    #os.chdir(\"/work/csr33/object_detection\")\n",
    "    #make sure processing naip dir exist\n",
    "import geopandas as gpd  \n",
    "subset_naip_in_slosh = gpd.read_parquet(naip_data_path)"
   ]
  },
  {
   "cell_type": "code",
   "execution_count": 3,
   "id": "5f302dd0-9c61-431a-aec1-ba5f6f6857d8",
   "metadata": {},
   "outputs": [
    {
     "data": {
      "text/plain": [
       "14012"
      ]
     },
     "execution_count": 3,
     "metadata": {},
     "output_type": "execute_result"
    }
   ],
   "source": [
    "len(subset_naip_in_slosh)"
   ]
  },
  {
   "cell_type": "code",
   "execution_count": 2,
   "id": "5f16d09c-30fb-4232-b420-bd8b1f6191ce",
   "metadata": {},
   "outputs": [],
   "source": [
    "s = rasterio.open(\"https://naipeuwest.blob.core.windows.net/naip/v002/al/2021/al_030cm_2021/30087/m_3008709_ne_16_030_20211112.tif\")\n",
    "d = s.read()"
   ]
  },
  {
   "cell_type": "code",
   "execution_count": 4,
   "id": "e37ceb56-8025-4471-98dd-be3965b20d00",
   "metadata": {},
   "outputs": [
    {
     "data": {
      "text/plain": [
       "<open DatasetReader name='https://naipeuwest.blob.core.windows.net/naip/v002/al/2021/al_030cm_2021/30087/m_3008709_ne_16_030_20211112.tif' mode='r'>"
      ]
     },
     "execution_count": 4,
     "metadata": {},
     "output_type": "execute_result"
    }
   ],
   "source": []
  }
 ],
 "metadata": {
  "kernelspec": {
   "display_name": "yolov8",
   "language": "python",
   "name": "yolov8"
  },
  "language_info": {
   "codemirror_mode": {
    "name": "ipython",
    "version": 3
   },
   "file_extension": ".py",
   "mimetype": "text/x-python",
   "name": "python",
   "nbconvert_exporter": "python",
   "pygments_lexer": "ipython3",
   "version": "3.11.6"
  }
 },
 "nbformat": 4,
 "nbformat_minor": 5
}
