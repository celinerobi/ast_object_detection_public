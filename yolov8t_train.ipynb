{
 "cells": [
  {
   "cell_type": "code",
   "execution_count": 2,
   "id": "0a5ea783-e225-4c09-9cb1-58feb33398c9",
   "metadata": {},
   "outputs": [
    {
     "name": "stdout",
     "output_type": "stream",
     "text": [
      "Ultralytics YOLOv8.1.9 🚀 Python-3.11.6 torch-2.1.2 CUDA:0 (NVIDIA RTX 5000 Ada Generation, 32157MiB)\n",
      "Model summary (fused): 268 layers, 68130309 parameters, 0 gradients, 257.4 GFLOPs\n"
     ]
    },
    {
     "name": "stderr",
     "output_type": "stream",
     "text": [
      "\u001b[34m\u001b[1mval: \u001b[0mScanning /work/csr33/ast/datasets/ast_yolov5/labels/test.cache... 4146 images, 0 backgrounds, 0 corrupt: 100%|██████████| 4146/4146 [00:00<?, ?it/s]\n",
      "/hpc/group/borsuklab/cred/.conda/envs/yolov8/lib/python3.11/site-packages/torch/utils/data/dataloader.py:557: UserWarning: This DataLoader will create 8 worker processes in total. Our suggested max number of worker in current system is 2, which is smaller than what this DataLoader is going to create. Please be aware that excessive worker creation might get DataLoader running slow or even freeze, lower the worker number to avoid potential slowness/freeze if necessary.\n",
      "  warnings.warn(_create_warning_msg(\n",
      "                 Class     Images  Instances      Box(P          R      mAP50  mAP50-95): 100%|██████████| 260/260 [01:01<00:00,  4.22it/s]\n"
     ]
    },
    {
     "name": "stdout",
     "output_type": "stream",
     "text": [
      "                   all       4146      21499      0.777      0.742      0.787        0.6\n",
      "    sedimentation_tank       4146        812      0.801      0.889      0.906      0.757\n",
      "           water_tower       4146        222      0.898      0.887      0.909      0.678\n",
      "        spherical_tank       4146        252       0.82      0.774      0.804        0.6\n",
      "      closed_roof_tank       4146      11009      0.864      0.914      0.954      0.765\n",
      "external_floating_roof_tank       4146       1446      0.848      0.909       0.94      0.827\n",
      "narrow_closed_roof_tank       4146       7639      0.755      0.684       0.79      0.392\n",
      "      undefined_object       4146        119      0.451      0.134      0.207       0.18\n",
      "Speed: 0.1ms preprocess, 12.0ms inference, 0.0ms loss, 0.6ms postprocess per image\n",
      "Results saved to \u001b[1m/work/csr33/object_detection/runs/detect/val10\u001b[0m\n"
     ]
    }
   ],
   "source": [
    "from ultralytics import YOLO\n",
    "\n",
    "# Load a model\n",
    "model_path=\"/work/csr33/object_detection/runs/detect/baseline_train/weights/best.pt\"\n",
    "model = YOLO(model_path)  # load a custom model\n",
    "\n",
    "# Validate the model\n",
    "metrics = model.val(split=\"test\")  # no arguments needed, dataset and settings remembered\n",
    " # a list contains map50-95 of each category"
   ]
  },
  {
   "cell_type": "code",
   "execution_count": 4,
   "id": "ff9be912-670c-47a4-964f-d5a67c013d76",
   "metadata": {
    "tags": []
   },
   "outputs": [
    {
     "data": {
      "text/plain": [
       "0.599900218572653"
      ]
     },
     "execution_count": 4,
     "metadata": {},
     "output_type": "execute_result"
    }
   ],
   "source": [
    "metrics.box.map    # map50-95"
   ]
  },
  {
   "cell_type": "code",
   "execution_count": 5,
   "id": "7b09c48a-ad9e-4608-98cd-068085ce6fa1",
   "metadata": {},
   "outputs": [
    {
     "data": {
      "text/plain": [
       "0.7871486420777859"
      ]
     },
     "execution_count": 5,
     "metadata": {},
     "output_type": "execute_result"
    }
   ],
   "source": [
    "metrics.box.map50  # map50\n"
   ]
  },
  {
   "cell_type": "code",
   "execution_count": 9,
   "id": "a1e5bb9f-f888-4e15-8195-2d58f08098ca",
   "metadata": {},
   "outputs": [
    {
     "data": {
      "text/plain": [
       "array([     0.8427,     0.89257,     0.79626,     0.88845,      0.8779,     0.71797,     0.20712])"
      ]
     },
     "execution_count": 9,
     "metadata": {},
     "output_type": "execute_result"
    }
   ],
   "source": [
    "metrics.box.f1"
   ]
  },
  {
   "cell_type": "code",
   "execution_count": 23,
   "id": "a8da76f2-f051-4419-b327-197e4d475e07",
   "metadata": {},
   "outputs": [
    {
     "data": {
      "text/plain": [
       "array([[        721,           0,           0,          30,          73,           1,          19,         151],\n",
       "       [          0,         198,           4,          10,           0,           0,           0,          17],\n",
       "       [          0,           5,         191,          32,           0,           0,           0,          31],\n",
       "       [          9,          11,          53,       10077,          42,        1012,          27,        1499],\n",
       "       [         57,           0,           0,          96,        1307,          11,          21,         170],\n",
       "       [          0,           0,           1,         561,           3,        5741,          15,        2852],\n",
       "       [          5,           0,           0,           6,           3,           0,          17,          34],\n",
       "       [         20,           8,           3,         197,          18,         874,          20,           0]])"
      ]
     },
     "execution_count": 23,
     "metadata": {},
     "output_type": "execute_result"
    }
   ],
   "source": [
    "metrics.confusion_matrix.matrix"
   ]
  },
  {
   "cell_type": "code",
   "execution_count": 19,
   "id": "ffc860e0-6ddb-444b-8719-6a7d229406ea",
   "metadata": {},
   "outputs": [],
   "source": [
    "import numpy as np"
   ]
  },
  {
   "cell_type": "code",
   "execution_count": 22,
   "id": "a59991d8-0b24-4568-b89b-27ade6985f91",
   "metadata": {},
   "outputs": [
    {
     "data": {
      "text/plain": [
       "0.695234830305108"
      ]
     },
     "execution_count": 22,
     "metadata": {},
     "output_type": "execute_result"
    }
   ],
   "source": [
    "accuracy = np.trace(metrics.confusion_matrix.matrix) / np.sum(metrics.confusion_matrix.matrix)\n",
    "#metrics.confusion_matrix.nc\n",
    "#metrics.confusion_matrix.conf\n",
    "#metrics.confusion_matrix.iou_thres  "
   ]
  },
  {
   "cell_type": "code",
   "execution_count": null,
   "id": "14889375-615e-4706-9bc2-ba558526bb98",
   "metadata": {},
   "outputs": [],
   "source": [
    "download_all_files(subset_naip_in_slosh.iloc[:100], tile_dir, connections=6)"
   ]
  },
  {
   "cell_type": "code",
   "execution_count": 2,
   "id": "194e81eb-e6c1-44ae-9bd3-63a47473bc7a",
   "metadata": {},
   "outputs": [],
   "source": [
    "import geopandas as gpd"
   ]
  },
  {
   "cell_type": "code",
   "execution_count": 3,
   "id": "da62abbe-dfaf-49c1-9a5d-b616d4d34b32",
   "metadata": {},
   "outputs": [],
   "source": [
    "naip_df = gpd.read_parquet(\"/work/csr33/images_for_predictions/naip_tile_in_slosh_modeled_area.parquet\")"
   ]
  },
  {
   "cell_type": "code",
   "execution_count": 5,
   "id": "b9912cf6-090c-4d82-9a86-bef12548a9d6",
   "metadata": {},
   "outputs": [],
   "source": [
    "chunked_naip_data_dir=\"/work/csr33/images_for_predictions/chunked_naip_data\"\n",
    "chunked_naip_data_filename=\"chunked_naip_data\""
   ]
  },
  {
   "cell_type": "code",
   "execution_count": 6,
   "id": "0269c266-ff08-4615-9a47-aacd336ed9a8",
   "metadata": {},
   "outputs": [],
   "source": [
    "# Calculate the number of rows per chunk\n",
    "rows_per_chunk = len(naip_df) // 100\n",
    "df_chunks = [naip_df.iloc[i : i + rows_per_chunk] for i in range(0, len(naip_df), rows_per_chunk)]\n",
    "for i, chunk in enumerate(df_chunks):\n",
    "    file_path = f'{chunked_naip_data_dir}/{chunked_naip_data_filename}_{i}.parquet'\n",
    "    chunk.to_parquet(file_path, index=False)"
   ]
  },
  {
   "cell_type": "code",
   "execution_count": 31,
   "id": "4e74b700-b0d8-454e-8493-6aa728257953",
   "metadata": {},
   "outputs": [],
   "source": []
  },
  {
   "cell_type": "code",
   "execution_count": 32,
   "id": "ee0b5a85-ca49-4df1-80b8-d4bdac472a9a",
   "metadata": {},
   "outputs": [
    {
     "data": {
      "text/plain": [
       "['/work/csr33/images_for_predictions/naip_tiles/m_4307033_nw_19_060_20211007.tif',\n",
       " '/work/csr33/images_for_predictions/naip_tiles/m_4207115_sw_19_060_20211024.tif',\n",
       " '/work/csr33/images_for_predictions/naip_tiles/m_4307140_sw_19_060_20211024.tif',\n",
       " '/work/csr33/images_for_predictions/naip_tiles/m_4207001_ne_19_060_20211024.tif',\n",
       " '/work/csr33/images_for_predictions/naip_tiles/m_4207116_se_19_060_20211024.tif',\n",
       " '/work/csr33/images_for_predictions/naip_tiles/m_4207001_se_19_060_20211024.tif',\n",
       " '/work/csr33/images_for_predictions/naip_tiles/m_4207108_nw_19_060_20211024.tif',\n",
       " '/work/csr33/images_for_predictions/naip_tiles/m_4307148_nw_19_060_20211024.tif',\n",
       " '/work/csr33/images_for_predictions/naip_tiles/m_4307148_ne_19_060_20211024.tif',\n",
       " '/work/csr33/images_for_predictions/naip_tiles/m_4207106_sw_19_060_20211024.tif',\n",
       " '/work/csr33/images_for_predictions/naip_tiles/m_4307147_se_19_060_20211024.tif',\n",
       " '/work/csr33/images_for_predictions/naip_tiles/m_4307057_sw_19_060_20211024.tif',\n",
       " '/work/csr33/images_for_predictions/naip_tiles/m_4307059_sw_19_060_20211007.tif',\n",
       " '/work/csr33/images_for_predictions/naip_tiles/m_4207106_ne_19_060_20211024.tif',\n",
       " '/work/csr33/images_for_predictions/naip_tiles/m_4207123_nw_19_060_20211024.tif',\n",
       " '/work/csr33/images_for_predictions/naip_tiles/m_4207107_nw_19_060_20211024.tif',\n",
       " '/work/csr33/images_for_predictions/naip_tiles/m_4307058_ne_19_060_20211007.tif',\n",
       " '/work/csr33/images_for_predictions/naip_tiles/m_4207121_ne_19_060_20211024.tif',\n",
       " '/work/csr33/images_for_predictions/naip_tiles/m_4207105_ne_19_060_20211024.tif',\n",
       " '/work/csr33/images_for_predictions/naip_tiles/m_4207114_nw_19_060_20211024.tif',\n",
       " '/work/csr33/images_for_predictions/naip_tiles/m_4307025_nw_19_060_20211007.tif',\n",
       " '/work/csr33/images_for_predictions/naip_tiles/m_4307049_se_19_060_20211024.tif',\n",
       " '/work/csr33/images_for_predictions/naip_tiles/m_4207121_nw_19_060_20211024.tif',\n",
       " '/work/csr33/images_for_predictions/naip_tiles/m_4207114_se_19_060_20211024.tif',\n",
       " '/work/csr33/images_for_predictions/naip_tiles/m_4307050_nw_19_060_20211007.tif',\n",
       " '/work/csr33/images_for_predictions/naip_tiles/m_4207107_sw_19_060_20211024.tif',\n",
       " '/work/csr33/images_for_predictions/naip_tiles/m_4307049_sw_19_060_20211024.tif',\n",
       " '/work/csr33/images_for_predictions/naip_tiles/m_4207117_ne_19_060_20211105.tif',\n",
       " '/work/csr33/images_for_predictions/naip_tiles/m_4207113_ne_19_060_20211024.tif',\n",
       " '/work/csr33/images_for_predictions/naip_tiles/m_4207120_nw_19_060_20211105.tif',\n",
       " '/work/csr33/images_for_predictions/naip_tiles/m_4207115_ne_19_060_20211024.tif',\n",
       " '/work/csr33/images_for_predictions/naip_tiles/m_4307017_nw_19_060_20211007.tif',\n",
       " '/work/csr33/images_for_predictions/naip_tiles/m_4307041_nw_19_060_20211007.tif',\n",
       " '/work/csr33/images_for_predictions/naip_tiles/m_4207113_se_19_060_20211024.tif',\n",
       " '/work/csr33/images_for_predictions/naip_tiles/m_4307009_sw_19_060_20211007.tif',\n",
       " '/work/csr33/images_for_predictions/naip_tiles/m_4307058_se_19_060_20211024.tif',\n",
       " '/work/csr33/images_for_predictions/naip_tiles/m_4207114_sw_19_060_20211024.tif',\n",
       " '/work/csr33/images_for_predictions/naip_tiles/m_4307147_ne_19_060_20211024.tif',\n",
       " '/work/csr33/images_for_predictions/naip_tiles/m_4307161_se_19_060_20211024.tif',\n",
       " '/work/csr33/images_for_predictions/naip_tiles/m_4207002_nw_19_060_20211024.tif',\n",
       " '/work/csr33/images_for_predictions/naip_tiles/m_4307057_nw_19_060_20211024.tif',\n",
       " '/work/csr33/images_for_predictions/naip_tiles/m_4207108_sw_19_060_20211024.tif',\n",
       " '/work/csr33/images_for_predictions/naip_tiles/m_4207119_ne_19_060_20211105.tif',\n",
       " '/work/csr33/images_for_predictions/naip_tiles/m_4307017_sw_19_060_20211007.tif',\n",
       " '/work/csr33/images_for_predictions/naip_tiles/m_4307049_nw_19_060_20211024.tif',\n",
       " '/work/csr33/images_for_predictions/naip_tiles/m_4207002_ne_19_060_20211024.tif',\n",
       " '/work/csr33/images_for_predictions/naip_tiles/m_4207108_ne_19_060_20211024.tif',\n",
       " '/work/csr33/images_for_predictions/naip_tiles/m_4307139_nw_19_060_20211024.tif',\n",
       " '/work/csr33/images_for_predictions/naip_tiles/m_4207120_ne_19_060_20211024.tif',\n",
       " '/work/csr33/images_for_predictions/naip_tiles/m_4207002_sw_19_060_20211024.tif',\n",
       " '/work/csr33/images_for_predictions/naip_tiles/m_4307154_ne_19_060_20211024.tif',\n",
       " '/work/csr33/images_for_predictions/naip_tiles/m_4207105_sw_19_060_20211024.tif',\n",
       " '/work/csr33/images_for_predictions/naip_tiles/m_4207123_ne_19_060_20211024.tif',\n",
       " '/work/csr33/images_for_predictions/naip_tiles/m_4307058_sw_19_060_20211024.tif',\n",
       " '/work/csr33/images_for_predictions/naip_tiles/m_4307033_sw_19_060_20211007.tif',\n",
       " '/work/csr33/images_for_predictions/naip_tiles/m_4207113_nw_19_060_20211024.tif',\n",
       " '/work/csr33/images_for_predictions/naip_tiles/m_4307041_se_19_060_20211007.tif',\n",
       " '/work/csr33/images_for_predictions/naip_tiles/m_4307140_se_19_060_20211024.tif',\n",
       " '/work/csr33/images_for_predictions/naip_tiles/m_4207122_ne_19_060_20211024.tif',\n",
       " '/work/csr33/images_for_predictions/naip_tiles/m_4207119_nw_19_060_20211105.tif',\n",
       " '/work/csr33/images_for_predictions/naip_tiles/m_4307140_nw_19_060_20211024.tif',\n",
       " '/work/csr33/images_for_predictions/naip_tiles/m_4307146_se_19_060_20211024.tif',\n",
       " '/work/csr33/images_for_predictions/naip_tiles/m_4307147_nw_19_060_20211024.tif',\n",
       " '/work/csr33/images_for_predictions/naip_tiles/m_4307041_sw_19_060_20211024.tif',\n",
       " '/work/csr33/images_for_predictions/naip_tiles/m_4307147_sw_19_060_20211024.tif',\n",
       " '/work/csr33/images_for_predictions/naip_tiles/m_4307140_ne_19_060_20211024.tif',\n",
       " '/work/csr33/images_for_predictions/naip_tiles/m_4207107_ne_19_060_20211024.tif',\n",
       " '/work/csr33/images_for_predictions/naip_tiles/m_4207115_se_19_060_20211024.tif',\n",
       " '/work/csr33/images_for_predictions/naip_tiles/m_4307148_sw_19_060_20211024.tif',\n",
       " '/work/csr33/images_for_predictions/naip_tiles/m_4207106_se_19_060_20211024.tif',\n",
       " '/work/csr33/images_for_predictions/naip_tiles/m_4207114_ne_19_060_20211024.tif',\n",
       " '/work/csr33/images_for_predictions/naip_tiles/m_4307049_ne_19_060_20211024.tif',\n",
       " '/work/csr33/images_for_predictions/naip_tiles/m_4307162_ne_19_060_20211024.tif',\n",
       " '/work/csr33/images_for_predictions/naip_tiles/m_4207122_nw_19_060_20211024.tif',\n",
       " '/work/csr33/images_for_predictions/naip_tiles/m_4307025_sw_19_060_20211007.tif',\n",
       " '/work/csr33/images_for_predictions/naip_tiles/m_4207106_nw_19_060_20211024.tif',\n",
       " '/work/csr33/images_for_predictions/naip_tiles/m_4207116_nw_19_060_20211024.tif',\n",
       " '/work/csr33/images_for_predictions/naip_tiles/m_4207118_ne_19_060_20211105.tif',\n",
       " '/work/csr33/images_for_predictions/naip_tiles/m_4207107_se_19_060_20211024.tif',\n",
       " '/work/csr33/images_for_predictions/naip_tiles/m_4307162_nw_19_060_20211024.tif',\n",
       " '/work/csr33/images_for_predictions/naip_tiles/m_4207116_sw_19_060_20211024.tif',\n",
       " '/work/csr33/images_for_predictions/naip_tiles/m_4207009_nw_19_060_20211024.tif',\n",
       " '/work/csr33/images_for_predictions/naip_tiles/m_4207115_nw_19_060_20211024.tif',\n",
       " '/work/csr33/images_for_predictions/naip_tiles/m_4207001_nw_19_060_20211024.tif',\n",
       " '/work/csr33/images_for_predictions/naip_tiles/m_4207116_ne_19_060_20211024.tif',\n",
       " '/work/csr33/images_for_predictions/naip_tiles/m_4307041_ne_19_060_20211007.tif',\n",
       " '/work/csr33/images_for_predictions/naip_tiles/m_4307058_nw_19_060_20211007.tif',\n",
       " '/work/csr33/images_for_predictions/naip_tiles/m_4307057_ne_19_060_20211024.tif',\n",
       " '/work/csr33/images_for_predictions/naip_tiles/m_4307057_se_19_060_20211024.tif',\n",
       " '/work/csr33/images_for_predictions/naip_tiles/m_4207118_nw_19_060_20211105.tif',\n",
       " '/work/csr33/images_for_predictions/naip_tiles/m_4307059_nw_19_060_20211007.tif',\n",
       " '/work/csr33/images_for_predictions/naip_tiles/m_4207108_se_19_060_20211024.tif',\n",
       " '/work/csr33/images_for_predictions/naip_tiles/m_4307050_sw_19_060_20211007.tif',\n",
       " '/work/csr33/images_for_predictions/naip_tiles/m_4207105_se_19_060_20211024.tif',\n",
       " '/work/csr33/images_for_predictions/naip_tiles/m_4307148_se_19_060_20211024.tif',\n",
       " '/work/csr33/images_for_predictions/naip_tiles/m_4207002_se_19_060_20210904.tif',\n",
       " '/work/csr33/images_for_predictions/naip_tiles/m_4307042_sw_19_060_20211007.tif',\n",
       " '/work/csr33/images_for_predictions/naip_tiles/m_4307050_ne_19_060_20211007.tif',\n",
       " '/work/csr33/images_for_predictions/naip_tiles/m_4207001_sw_19_060_20211024.tif',\n",
       " '/work/csr33/images_for_predictions/naip_tiles/m_4207010_nw_19_060_20211024.tif']"
      ]
     },
     "execution_count": 32,
     "metadata": {},
     "output_type": "execute_result"
    }
   ],
   "source": [
    "tile_paths"
   ]
  },
  {
   "cell_type": "code",
   "execution_count": 27,
   "id": "fd5cca38-c524-4f2c-a007-7704e1afea9e",
   "metadata": {},
   "outputs": [
    {
     "name": "stdout",
     "output_type": "stream",
     "text": [
      "<class 'AttributeError'>\n"
     ]
    }
   ],
   "source": [
    "chip_tiles_concurrent(tile_dir, img_dir, item_dim=640, connections=6)"
   ]
  },
  {
   "cell_type": "code",
   "execution_count": 15,
   "id": "d64e203f-7151-4448-9ffc-ce851c820713",
   "metadata": {},
   "outputs": [
    {
     "data": {
      "text/plain": [
       "10"
      ]
     },
     "execution_count": 15,
     "metadata": {},
     "output_type": "execute_result"
    }
   ],
   "source": []
  },
  {
   "cell_type": "code",
   "execution_count": 40,
   "id": "b1631c8f-bf18-42ec-b06d-b6135f4a76e1",
   "metadata": {},
   "outputs": [],
   "source": [
    "def get_args_parse():\n",
    "    parser = argparse.ArgumentParser(\"\")\n",
    "    parser.add_argument(\"--chunked_naip_data_dir\", default=\"/work/csr33/images_for_predictions/chunked_naip_data\", type=str)\n",
    "    parser.add_argument(\"--chunked_naip_data_filename\", default=\"chunked_naip_data\", type=str)\n",
    "    parser.add_argument(\"--chunk_id\",  type=int)\n",
    "\n",
    "    \n",
    "    parser.add_argument(\"--backoff_factor\", default=0.5, type=float)\n",
    "    parser.add_argument(\"--max_retries\", default=5, type=int)\n",
    "    \n",
    "    parser.add_argument(\"--processing_naip_dir\", default=\"/work/csr33/images_for_predictions/processed_naip_data\", type=str)\n",
    "    parser.add_argument(\"--processing_naip_filename\", default=\"processed_naip_data\", type=str)\n",
    "    parser.add_argument(\"--imgsz\", default=640, type=int)\n",
    "\n",
    "    args = parser.parse_args()\n",
    "    return args\n",
    "import sys\n",
    "sys.argv = ['my_notebook']\n",
    "args = get_args_parse()"
   ]
  },
  {
   "cell_type": "code",
   "execution_count": 53,
   "id": "206fbdce-f93b-47a4-a37a-a5c584db8332",
   "metadata": {},
   "outputs": [
    {
     "name": "stdout",
     "output_type": "stream",
     "text": [
      "0 Execution time: 101.11169767379761 seconds\n",
      "1 Execution time: 125.7008740901947 seconds\n",
      "2 Execution time: 126.36712956428528 seconds\n",
      "3 Execution time: 136.74841904640198 seconds\n",
      "4 Execution time: 147.03376173973083 seconds\n",
      "5 Execution time: 134.94598197937012 seconds\n",
      "6 Execution time: 149.9262683391571 seconds\n",
      "7 Execution time: 145.56880497932434 seconds\n"
     ]
    },
    {
     "name": "stderr",
     "output_type": "stream",
     "text": [
      "\n",
      "KeyboardInterrupt\n",
      "\n"
     ]
    }
   ],
   "source": [
    "#os.chdir(\"/work/csr33/object_detection\")\n",
    "#make sure processing naip dir exist\n",
    "\n",
    "os.makedirs(args.processing_naip_dir, exist_ok=True)\n",
    "naip_df = gpd.read_parquet(\"/work/csr33/images_for_predictions/chunked_naip_data/chunked_naip_data_96.parquet\")\n",
    "args.chunk_id = 96\n",
    "naip_df[\"img_url\"] = naip_df.assets.apply(lambda asset: asset[\"image\"][\"href\"])#\n",
    "data_processing_over_chunk(naip_df, args)"
   ]
  },
  {
   "cell_type": "code",
   "execution_count": 2,
   "id": "a541fdd2-9401-436c-8952-3d311d79e7e9",
   "metadata": {},
   "outputs": [],
   "source": [
    "naip_data_path=\"/work/csr33/images_for_predictions/naip_tile_in_slosh_modeled_area.parquet\"\n",
    "\n",
    "    #os.chdir(\"/work/csr33/object_detection\")\n",
    "    #make sure processing naip dir exist\n",
    "import geopandas as gpd  \n",
    "subset_naip_in_slosh = gpd.read_parquet(naip_data_path)"
   ]
  },
  {
   "cell_type": "code",
   "execution_count": 3,
   "id": "5f302dd0-9c61-431a-aec1-ba5f6f6857d8",
   "metadata": {},
   "outputs": [
    {
     "data": {
      "text/plain": [
       "14012"
      ]
     },
     "execution_count": 3,
     "metadata": {},
     "output_type": "execute_result"
    }
   ],
   "source": [
    "len(subset_naip_in_slosh)"
   ]
  },
  {
   "cell_type": "code",
   "execution_count": 2,
   "id": "5f16d09c-30fb-4232-b420-bd8b1f6191ce",
   "metadata": {},
   "outputs": [],
   "source": [
    "s = rasterio.open(\"https://naipeuwest.blob.core.windows.net/naip/v002/al/2021/al_030cm_2021/30087/m_3008709_ne_16_030_20211112.tif\")\n",
    "d = s.read()"
   ]
  },
  {
   "cell_type": "code",
   "execution_count": 4,
   "id": "e37ceb56-8025-4471-98dd-be3965b20d00",
   "metadata": {},
   "outputs": [
    {
     "data": {
      "text/plain": [
       "<open DatasetReader name='https://naipeuwest.blob.core.windows.net/naip/v002/al/2021/al_030cm_2021/30087/m_3008709_ne_16_030_20211112.tif' mode='r'>"
      ]
     },
     "execution_count": 4,
     "metadata": {},
     "output_type": "execute_result"
    }
   ],
   "source": []
  }
 ],
 "metadata": {
  "kernelspec": {
   "display_name": "yolov8",
   "language": "python",
   "name": "yolov8"
  },
  "language_info": {
   "codemirror_mode": {
    "name": "ipython",
    "version": 3
   },
   "file_extension": ".py",
   "mimetype": "text/x-python",
   "name": "python",
   "nbconvert_exporter": "python",
   "pygments_lexer": "ipython3",
   "version": "3.11.6"
  }
 },
 "nbformat": 4,
 "nbformat_minor": 5
}
