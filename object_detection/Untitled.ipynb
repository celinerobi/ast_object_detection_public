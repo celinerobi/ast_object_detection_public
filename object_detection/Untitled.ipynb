{
 "cells": [
  {
   "cell_type": "code",
   "execution_count": 1,
   "id": "33878063-16b3-4aec-bad8-8c1945ae9174",
   "metadata": {},
   "outputs": [
    {
     "name": "stderr",
     "output_type": "stream",
     "text": [
      "C:\\Users\\rapiduser\\AppData\\Local\\Programs\\Python\\Python310\\lib\\site-packages\\tqdm\\auto.py:22: TqdmWarning: IProgress not found. Please update jupyter and ipywidgets. See https://ipywidgets.readthedocs.io/en/stable/user_install.html\n",
      "  from .autonotebook import tqdm as notebook_tqdm\n"
     ]
    }
   ],
   "source": [
    "import os\n",
    "import glob\n",
    "import os\n",
    "import pickle\n",
    "import xml.etree.ElementTree as ET\n",
    "from os.path import join\n",
    "import math\n",
    "import random\n",
    "import shutil\n",
    "import json\n",
    "import convert_voc_to_yolo\n",
    "#import tensorflow as tf\n",
    "#from tensorflow import keras\n",
    "\n",
    "#print(tf.version.VERSION)\n",
    "import dataset"
   ]
  },
  {
   "cell_type": "code",
   "execution_count": 1,
   "id": "72ee336e-d361-46cb-8384-13a9b31659b8",
   "metadata": {},
   "outputs": [],
   "source": [
    "import os\n",
    "import argparse\n",
    "import json\n",
    "import xml.etree.ElementTree as ET\n",
    "from typing import Dict, List\n",
    "from tqdm import tqdm\n",
    "import re"
   ]
  },
  {
   "cell_type": "markdown",
   "id": "8b00f79e-10c6-41ea-9137-c1f8dbe4e738",
   "metadata": {},
   "source": [
    "├── yolov7\n",
    " ## └── train\n",
    " ####└── images (folder including all training images)\n",
    " ####└── labels (folder including all training labels)\n",
    " ## └── test\n",
    " ####└── images (folder including all testing images)\n",
    " ####└── labels (folder including all testing labels)"
   ]
  },
  {
   "cell_type": "code",
   "execution_count": 4,
   "id": "cd729c12-99e2-4f05-92fb-439eb3d84d24",
   "metadata": {
    "collapsed": true,
    "jupyter": {
     "outputs_hidden": true
    },
    "tags": []
   },
   "outputs": [
    {
     "ename": "PermissionError",
     "evalue": "[Errno 13] Permission denied: '//oit-nas-fe13dc.oit.duke.edu'",
     "output_type": "error",
     "traceback": [
      "\u001b[0;31m---------------------------------------------------------------------------\u001b[0m",
      "\u001b[0;31mPermissionError\u001b[0m                           Traceback (most recent call last)",
      "Cell \u001b[0;32mIn[4], line 5\u001b[0m\n\u001b[1;32m      3\u001b[0m voc_data_folder \u001b[38;5;241m=\u001b[39m os\u001b[38;5;241m.\u001b[39mpath\u001b[38;5;241m.\u001b[39mjoin(\u001b[38;5;124m\"\u001b[39m\u001b[38;5;124m//oit-nas-fe13dc.oit.duke.edu//data_commons-borsuk/voc_data_folder\u001b[39m\u001b[38;5;124m\"\u001b[39m)\n\u001b[1;32m      4\u001b[0m path_to_predefined_classes \u001b[38;5;241m=\u001b[39m \u001b[38;5;124m\"\u001b[39m\u001b[38;5;124mast_object_detection/object_detection/predefined_classes.txt\u001b[39m\u001b[38;5;124m\"\u001b[39m\n\u001b[0;32m----> 5\u001b[0m \u001b[43mos\u001b[49m\u001b[38;5;241;43m.\u001b[39;49m\u001b[43mmakedirs\u001b[49m\u001b[43m(\u001b[49m\u001b[43mvoc_data_folder\u001b[49m\u001b[43m,\u001b[49m\u001b[43m \u001b[49m\u001b[43mexist_ok\u001b[49m\u001b[38;5;241;43m=\u001b[39;49m\u001b[38;5;28;43;01mTrue\u001b[39;49;00m\u001b[43m)\u001b[49m\n",
      "File \u001b[0;32m<frozen os>:215\u001b[0m, in \u001b[0;36mmakedirs\u001b[0;34m(name, mode, exist_ok)\u001b[0m\n",
      "File \u001b[0;32m<frozen os>:215\u001b[0m, in \u001b[0;36mmakedirs\u001b[0;34m(name, mode, exist_ok)\u001b[0m\n",
      "File \u001b[0;32m<frozen os>:225\u001b[0m, in \u001b[0;36mmakedirs\u001b[0;34m(name, mode, exist_ok)\u001b[0m\n",
      "\u001b[0;31mPermissionError\u001b[0m: [Errno 13] Permission denied: '//oit-nas-fe13dc.oit.duke.edu'"
     ]
    }
   ],
   "source": [
    "dir_path = os.path.join(\"//oit-nas-fe13dc.oit.duke.edu//data_commons-borsuk//complete_dataset_/chips_positive\")\n",
    "save_dir = os.path.join(\"//oit-nas-fe13dc.oit.duke.edu//data_commons-borsuk/save_dir\")\n",
    "voc_data_folder = os.path.join(\"//oit-nas-fe13dc.oit.duke.edu//data_commons-borsuk/voc_data_folder\")\n",
    "os.makedirs(voc_data_folder, exist_ok=True)"
   ]
  },
  {
   "cell_type": "code",
   "execution_count": null,
   "id": "c13236b4-56d5-458b-b0c1-3ac6f37cbeb5",
   "metadata": {},
   "outputs": [],
   "source": [
    "def main(args):\n",
    "    #make directories to store split data\n",
    "    make_split_dirs(args.voc_data_folder)    \n",
    "    make_split_dirs(args.coco_data_folder)"
   ]
  },
  {
   "cell_type": "code",
   "execution_count": 6,
   "id": "8ff62713-f16c-42ad-8a65-fa8781051f73",
   "metadata": {},
   "outputs": [
    {
     "data": {
      "text/plain": [
       "{'sedimentation_tank': 1,\n",
       " 'water_tower': 2,\n",
       " 'spherical_tank': 3,\n",
       " 'closed_roof_tank': 4,\n",
       " 'external_floating_roof_tank': 5,\n",
       " 'narrow_closed_roof_tank': 6,\n",
       " 'undefined_object': 7}"
      ]
     },
     "execution_count": 6,
     "metadata": {},
     "output_type": "execute_result"
    }
   ],
   "source": [
    "path_to_predefined_classes = \"/hpc/home/csr33/ast_object_detection/object_detection/predefined_classes.txt\"\n",
    "\n",
    "get_label2id(path_to_predefined_classes)\n",
    "\n"
   ]
  },
  {
   "cell_type": "code",
   "execution_count": 7,
   "id": "725b26a4-0a56-453e-85ad-3c5171e9c5b8",
   "metadata": {},
   "outputs": [],
   "source": [
    "def get_annpaths(ann_dir_path: str = None,\n",
    "                 ann_ids_path: str = None,\n",
    "                 ext: str = '',\n",
    "                 annpaths_list_path: str = None) -> List[str]:\n",
    "    # If use annotation paths list\n",
    "    if annpaths_list_path is not None:\n",
    "        with open(annpaths_list_path, 'r') as f:\n",
    "            ann_paths = f.read().split()\n",
    "        return ann_paths\n",
    "\n",
    "    # If use annotaion ids list\n",
    "    ext_with_dot = '.' + ext if ext != '' else ''\n",
    "    with open(ann_ids_path, 'r') as f:\n",
    "        ann_ids = f.read().split()\n",
    "    ann_paths = [os.path.join(ann_dir_path, aid+ext_with_dot) for aid in ann_ids]\n",
    "    return ann_paths"
   ]
  },
  {
   "cell_type": "code",
   "execution_count": 8,
   "id": "96807ea2-f597-4f8a-8343-a4b9a61eed36",
   "metadata": {},
   "outputs": [
    {
     "ename": "TypeError",
     "evalue": "expected str, bytes or os.PathLike object, not NoneType",
     "output_type": "error",
     "traceback": [
      "\u001b[0;31m---------------------------------------------------------------------------\u001b[0m",
      "\u001b[0;31mTypeError\u001b[0m                                 Traceback (most recent call last)",
      "Cell \u001b[0;32mIn[8], line 4\u001b[0m\n\u001b[1;32m      2\u001b[0m ann_ids_path \u001b[38;5;241m=\u001b[39m \u001b[38;5;124m'\u001b[39m\u001b[38;5;124mpath/to/ann_ids.txt\u001b[39m\u001b[38;5;124m'\u001b[39m\n\u001b[1;32m      3\u001b[0m ext \u001b[38;5;241m=\u001b[39m \u001b[38;5;124m'\u001b[39m\u001b[38;5;124mxml\u001b[39m\u001b[38;5;124m'\u001b[39m  \u001b[38;5;66;03m# or any other extension\u001b[39;00m\n\u001b[0;32m----> 4\u001b[0m ann_paths \u001b[38;5;241m=\u001b[39m \u001b[43mget_annpaths\u001b[49m\u001b[43m(\u001b[49m\u001b[43mann_dir_path\u001b[49m\u001b[38;5;241;43m=\u001b[39;49m\u001b[43mann_dir_path\u001b[49m\u001b[43m,\u001b[49m\u001b[43m \u001b[49m\u001b[43mext\u001b[49m\u001b[38;5;241;43m=\u001b[39;49m\u001b[43mext\u001b[49m\u001b[43m)\u001b[49m\n\u001b[1;32m      5\u001b[0m \u001b[38;5;28mprint\u001b[39m(ann_paths)\n",
      "Cell \u001b[0;32mIn[7], line 13\u001b[0m, in \u001b[0;36mget_annpaths\u001b[0;34m(ann_dir_path, ann_ids_path, ext, annpaths_list_path)\u001b[0m\n\u001b[1;32m     11\u001b[0m \u001b[38;5;66;03m# If use annotaion ids list\u001b[39;00m\n\u001b[1;32m     12\u001b[0m ext_with_dot \u001b[38;5;241m=\u001b[39m \u001b[38;5;124m'\u001b[39m\u001b[38;5;124m.\u001b[39m\u001b[38;5;124m'\u001b[39m \u001b[38;5;241m+\u001b[39m ext \u001b[38;5;28;01mif\u001b[39;00m ext \u001b[38;5;241m!=\u001b[39m \u001b[38;5;124m'\u001b[39m\u001b[38;5;124m'\u001b[39m \u001b[38;5;28;01melse\u001b[39;00m \u001b[38;5;124m'\u001b[39m\u001b[38;5;124m'\u001b[39m\n\u001b[0;32m---> 13\u001b[0m \u001b[38;5;28;01mwith\u001b[39;00m \u001b[38;5;28;43mopen\u001b[39;49m\u001b[43m(\u001b[49m\u001b[43mann_ids_path\u001b[49m\u001b[43m,\u001b[49m\u001b[43m \u001b[49m\u001b[38;5;124;43m'\u001b[39;49m\u001b[38;5;124;43mr\u001b[39;49m\u001b[38;5;124;43m'\u001b[39;49m\u001b[43m)\u001b[49m \u001b[38;5;28;01mas\u001b[39;00m f:\n\u001b[1;32m     14\u001b[0m     ann_ids \u001b[38;5;241m=\u001b[39m f\u001b[38;5;241m.\u001b[39mread()\u001b[38;5;241m.\u001b[39msplit()\n\u001b[1;32m     15\u001b[0m ann_paths \u001b[38;5;241m=\u001b[39m [os\u001b[38;5;241m.\u001b[39mpath\u001b[38;5;241m.\u001b[39mjoin(ann_dir_path, aid\u001b[38;5;241m+\u001b[39mext_with_dot) \u001b[38;5;28;01mfor\u001b[39;00m aid \u001b[38;5;129;01min\u001b[39;00m ann_ids]\n",
      "File \u001b[0;32m/hpc/group/borsuklab/cred/.conda/envs/pytorch-fasterrcnn/lib/python3.11/site-packages/IPython/core/interactiveshell.py:286\u001b[0m, in \u001b[0;36m_modified_open\u001b[0;34m(file, *args, **kwargs)\u001b[0m\n\u001b[1;32m    279\u001b[0m \u001b[38;5;28;01mif\u001b[39;00m file \u001b[38;5;129;01min\u001b[39;00m {\u001b[38;5;241m0\u001b[39m, \u001b[38;5;241m1\u001b[39m, \u001b[38;5;241m2\u001b[39m}:\n\u001b[1;32m    280\u001b[0m     \u001b[38;5;28;01mraise\u001b[39;00m \u001b[38;5;167;01mValueError\u001b[39;00m(\n\u001b[1;32m    281\u001b[0m         \u001b[38;5;124mf\u001b[39m\u001b[38;5;124m\"\u001b[39m\u001b[38;5;124mIPython won\u001b[39m\u001b[38;5;124m'\u001b[39m\u001b[38;5;124mt let you open fd=\u001b[39m\u001b[38;5;132;01m{\u001b[39;00mfile\u001b[38;5;132;01m}\u001b[39;00m\u001b[38;5;124m by default \u001b[39m\u001b[38;5;124m\"\u001b[39m\n\u001b[1;32m    282\u001b[0m         \u001b[38;5;124m\"\u001b[39m\u001b[38;5;124mas it is likely to crash IPython. If you know what you are doing, \u001b[39m\u001b[38;5;124m\"\u001b[39m\n\u001b[1;32m    283\u001b[0m         \u001b[38;5;124m\"\u001b[39m\u001b[38;5;124myou can use builtins\u001b[39m\u001b[38;5;124m'\u001b[39m\u001b[38;5;124m open.\u001b[39m\u001b[38;5;124m\"\u001b[39m\n\u001b[1;32m    284\u001b[0m     )\n\u001b[0;32m--> 286\u001b[0m \u001b[38;5;28;01mreturn\u001b[39;00m \u001b[43mio_open\u001b[49m\u001b[43m(\u001b[49m\u001b[43mfile\u001b[49m\u001b[43m,\u001b[49m\u001b[43m \u001b[49m\u001b[38;5;241;43m*\u001b[39;49m\u001b[43margs\u001b[49m\u001b[43m,\u001b[49m\u001b[43m \u001b[49m\u001b[38;5;241;43m*\u001b[39;49m\u001b[38;5;241;43m*\u001b[39;49m\u001b[43mkwargs\u001b[49m\u001b[43m)\u001b[49m\n",
      "\u001b[0;31mTypeError\u001b[0m: expected str, bytes or os.PathLike object, not NoneType"
     ]
    }
   ],
   "source": [
    "ann_dir_path = '/hpc/group/borsuklab/ast/complete-dataset/chips_positive_corrected_xml'\n",
    "ann_ids_path = 'path/to/ann_ids.txt'\n",
    "ext = 'xml'  # or any other extension\n",
    "ann_paths = get_annpaths(ann_dir_path=ann_dir_path, ext=ext)\n",
    "print(ann_paths)"
   ]
  },
  {
   "cell_type": "code",
   "execution_count": 10,
   "id": "da1ec3aa-723d-4f36-9f70-9721baa770e3",
   "metadata": {},
   "outputs": [],
   "source": [
    "python convert_voc_to_yolo.py \n",
    "--dir_path \"//oit-nas-fe13dc.oit.duke.edu//data_commons-borsuk//complete_dataset_/chips_positive\" \n",
    "--save_dir \"//oit-nas-fe13dc.oit.duke.edu//data_commons-borsuk//save_dir\" \n",
    "--voc_data_folder \"//oit-nas-fe13dc.oit.duke.edu//data_commons-borsuk//voc_data_folder\" \n",
    "--path_to_predefined_classes \"C:/Users/rapiduser/AST_dataset/data_download_and_preprocessing/predefined_classes_corrected.txt\" \n",
    "--coco_data_folder \"//oit-nas-fe13dc.oit.duke.edu//data_commons-borsuk//coco_data_folder\""
   ]
  },
  {
   "cell_type": "code",
   "execution_count": null,
   "id": "e8f8b756-57ca-4934-979a-2484a7b7edcd",
   "metadata": {},
   "outputs": [],
   "source": [
    "from pycocotools.coco import COCO\n",
    "import random\n",
    "\n",
    "# Load COCO annotations\n",
    "coco = COCO(annotation_file_path)  # Specify the path to your COCO annotations file\n",
    "\n",
    "# Choose the attribute for stratification (e.g., category)\n",
    "stratum_attribute = 'category'\n",
    "\n",
    "# Get all unique values for the chosen attribute\n",
    "strata_values = coco.getCatIds()\n",
    "\n",
    "# Perform stratified sampling\n",
    "sampled_ids = []\n",
    "for value in strata_values:\n",
    "    # Get image IDs for the current stratum value\n",
    "    img_ids = coco.getImgIds(catIds=[value])\n",
    "\n",
    "    # Randomly sample from the current stratum\n",
    "    sampled_ids.extend(random.sample(img_ids, k=min(10, len(img_ids))))\n",
    "\n",
    "# Now, sampled_ids contains the image IDs for your stratified sample\n"
   ]
  },
  {
   "cell_type": "code",
   "execution_count": null,
   "id": "7b649976-7faf-4783-be2f-d18321689c1d",
   "metadata": {},
   "outputs": [],
   "source": []
  },
  {
   "cell_type": "code",
   "execution_count": null,
   "id": "c40bde3f-961b-4850-a565-f402d3af897f",
   "metadata": {},
   "outputs": [],
   "source": [
    "python train.py --weights yolov7.pt --data \"data/ast_dataset.yaml\" --workers 4 --batch-size 4 --img 512 --cfg cfg/training/yolov7.yaml --name yolov7 --hyp data/hyp.scratch.p5.yaml"
   ]
  },
  {
   "cell_type": "code",
   "execution_count": 26,
   "id": "a5d451ef-d13c-4b9a-8381-cb2514f996a7",
   "metadata": {
    "collapsed": true,
    "jupyter": {
     "outputs_hidden": true
    },
    "tags": []
   },
   "outputs": [
    {
     "ename": "KeyboardInterrupt",
     "evalue": "",
     "output_type": "error",
     "traceback": [
      "\u001b[1;31m---------------------------------------------------------------------------\u001b[0m",
      "\u001b[1;31mKeyboardInterrupt\u001b[0m                         Traceback (most recent call last)",
      "Cell \u001b[1;32mIn [26], line 2\u001b[0m\n\u001b[0;32m      1\u001b[0m img_paths, img_ids \u001b[38;5;241m=\u001b[39m convert_voc_to_yolo\u001b[38;5;241m.\u001b[39mget_image_paths_in_dir(dir_path, save_dir)\n\u001b[1;32m----> 2\u001b[0m \u001b[43mconvert_voc_to_yolo\u001b[49m\u001b[38;5;241;43m.\u001b[39;49m\u001b[43msplit_train_val_test\u001b[49m\u001b[43m(\u001b[49m\u001b[43mimg_paths\u001b[49m\u001b[43m,\u001b[49m\u001b[43m \u001b[49m\u001b[38;5;241;43m1\u001b[39;49m\u001b[43m,\u001b[49m\u001b[43m \u001b[49m\u001b[43mvoc_data_folder\u001b[49m\u001b[43m,\u001b[49m\u001b[43m \u001b[49m\u001b[43msave_dir\u001b[49m\u001b[43m,\u001b[49m\u001b[43m \u001b[49m\u001b[43mtrain_percent\u001b[49m\u001b[43m \u001b[49m\u001b[38;5;241;43m=\u001b[39;49m\u001b[43m \u001b[49m\u001b[38;5;241;43m0.8\u001b[39;49m\u001b[43m,\u001b[49m\u001b[43m \u001b[49m\u001b[43mval_percent\u001b[49m\u001b[43m \u001b[49m\u001b[38;5;241;43m=\u001b[39;49m\u001b[43m \u001b[49m\u001b[38;5;241;43m0.1\u001b[39;49m\u001b[43m)\u001b[49m\n\u001b[0;32m      3\u001b[0m label_map \u001b[38;5;241m=\u001b[39m dataset\u001b[38;5;241m.\u001b[39mget_label_map(save_dir, path_to_predefined_classes)\n",
      "File \u001b[1;32m~\\AST_dataset\\object_detection\\convert_voc_to_yolo.py:87\u001b[0m, in \u001b[0;36msplit_train_val_test\u001b[1;34m(img_paths, seed, data_folder, save_dir, train_percent, val_percent)\u001b[0m\n\u001b[0;32m     85\u001b[0m write_list(os\u001b[38;5;241m.\u001b[39mpath\u001b[38;5;241m.\u001b[39mjoin(save_dir,\u001b[38;5;124m\"\u001b[39m\u001b[38;5;124mval_img_paths.txt\u001b[39m\u001b[38;5;124m\"\u001b[39m), val_img_paths)\n\u001b[0;32m     86\u001b[0m write_list(os\u001b[38;5;241m.\u001b[39mpath\u001b[38;5;241m.\u001b[39mjoin(save_dir,\u001b[38;5;124m\"\u001b[39m\u001b[38;5;124mtest_img_paths.txt\u001b[39m\u001b[38;5;124m\"\u001b[39m), test_img_paths)\n\u001b[1;32m---> 87\u001b[0m write_list(os\u001b[38;5;241m.\u001b[39mpath\u001b[38;5;241m.\u001b[39mjoin(save_dir,\u001b[38;5;124m\"\u001b[39m\u001b[38;5;124mtrain_img_ids.txt\u001b[39m\u001b[38;5;124m\"\u001b[39m), train_img_ids)\n\u001b[0;32m     88\u001b[0m write_list(os\u001b[38;5;241m.\u001b[39mpath\u001b[38;5;241m.\u001b[39mjoin(save_dir,\u001b[38;5;124m\"\u001b[39m\u001b[38;5;124mval_img_ids.txt\u001b[39m\u001b[38;5;124m\"\u001b[39m), val_img_ids)\n\u001b[0;32m     89\u001b[0m write_list(os\u001b[38;5;241m.\u001b[39mpath\u001b[38;5;241m.\u001b[39mjoin(save_dir,\u001b[38;5;124m\"\u001b[39m\u001b[38;5;124mtest_img_ids.txt\u001b[39m\u001b[38;5;124m\"\u001b[39m), test_img_ids)\n",
      "File \u001b[1;32m~\\AppData\\Local\\Programs\\Python\\Python310\\lib\\shutil.py:417\u001b[0m, in \u001b[0;36mcopy\u001b[1;34m(src, dst, follow_symlinks)\u001b[0m\n\u001b[0;32m    415\u001b[0m \u001b[38;5;28;01mif\u001b[39;00m os\u001b[38;5;241m.\u001b[39mpath\u001b[38;5;241m.\u001b[39misdir(dst):\n\u001b[0;32m    416\u001b[0m     dst \u001b[38;5;241m=\u001b[39m os\u001b[38;5;241m.\u001b[39mpath\u001b[38;5;241m.\u001b[39mjoin(dst, os\u001b[38;5;241m.\u001b[39mpath\u001b[38;5;241m.\u001b[39mbasename(src))\n\u001b[1;32m--> 417\u001b[0m \u001b[43mcopyfile\u001b[49m\u001b[43m(\u001b[49m\u001b[43msrc\u001b[49m\u001b[43m,\u001b[49m\u001b[43m \u001b[49m\u001b[43mdst\u001b[49m\u001b[43m,\u001b[49m\u001b[43m \u001b[49m\u001b[43mfollow_symlinks\u001b[49m\u001b[38;5;241;43m=\u001b[39;49m\u001b[43mfollow_symlinks\u001b[49m\u001b[43m)\u001b[49m\n\u001b[0;32m    418\u001b[0m copymode(src, dst, follow_symlinks\u001b[38;5;241m=\u001b[39mfollow_symlinks)\n\u001b[0;32m    419\u001b[0m \u001b[38;5;28;01mreturn\u001b[39;00m dst\n",
      "File \u001b[1;32m~\\AppData\\Local\\Programs\\Python\\Python310\\lib\\shutil.py:233\u001b[0m, in \u001b[0;36mcopyfile\u001b[1;34m(src, dst, follow_symlinks)\u001b[0m\n\u001b[0;32m    225\u001b[0m \u001b[38;5;124;03m\"\"\"Copy data from src to dst in the most efficient way possible.\u001b[39;00m\n\u001b[0;32m    226\u001b[0m \n\u001b[0;32m    227\u001b[0m \u001b[38;5;124;03mIf follow_symlinks is not set and src is a symbolic link, a new\u001b[39;00m\n\u001b[0;32m    228\u001b[0m \u001b[38;5;124;03msymlink will be created instead of copying the file it points to.\u001b[39;00m\n\u001b[0;32m    229\u001b[0m \n\u001b[0;32m    230\u001b[0m \u001b[38;5;124;03m\"\"\"\u001b[39;00m\n\u001b[0;32m    231\u001b[0m sys\u001b[38;5;241m.\u001b[39maudit(\u001b[38;5;124m\"\u001b[39m\u001b[38;5;124mshutil.copyfile\u001b[39m\u001b[38;5;124m\"\u001b[39m, src, dst)\n\u001b[1;32m--> 233\u001b[0m \u001b[38;5;28;01mif\u001b[39;00m \u001b[43m_samefile\u001b[49m\u001b[43m(\u001b[49m\u001b[43msrc\u001b[49m\u001b[43m,\u001b[49m\u001b[43m \u001b[49m\u001b[43mdst\u001b[49m\u001b[43m)\u001b[49m:\n\u001b[0;32m    234\u001b[0m     \u001b[38;5;28;01mraise\u001b[39;00m SameFileError(\u001b[38;5;124m\"\u001b[39m\u001b[38;5;132;01m{!r}\u001b[39;00m\u001b[38;5;124m and \u001b[39m\u001b[38;5;132;01m{!r}\u001b[39;00m\u001b[38;5;124m are the same file\u001b[39m\u001b[38;5;124m\"\u001b[39m\u001b[38;5;241m.\u001b[39mformat(src, dst))\n\u001b[0;32m    236\u001b[0m file_size \u001b[38;5;241m=\u001b[39m \u001b[38;5;241m0\u001b[39m\n",
      "File \u001b[1;32m~\\AppData\\Local\\Programs\\Python\\Python310\\lib\\shutil.py:210\u001b[0m, in \u001b[0;36m_samefile\u001b[1;34m(src, dst)\u001b[0m\n\u001b[0;32m    208\u001b[0m \u001b[38;5;28;01mif\u001b[39;00m \u001b[38;5;28mhasattr\u001b[39m(os\u001b[38;5;241m.\u001b[39mpath, \u001b[38;5;124m'\u001b[39m\u001b[38;5;124msamefile\u001b[39m\u001b[38;5;124m'\u001b[39m):\n\u001b[0;32m    209\u001b[0m     \u001b[38;5;28;01mtry\u001b[39;00m:\n\u001b[1;32m--> 210\u001b[0m         \u001b[38;5;28;01mreturn\u001b[39;00m \u001b[43mos\u001b[49m\u001b[38;5;241;43m.\u001b[39;49m\u001b[43mpath\u001b[49m\u001b[38;5;241;43m.\u001b[39;49m\u001b[43msamefile\u001b[49m\u001b[43m(\u001b[49m\u001b[43msrc\u001b[49m\u001b[43m,\u001b[49m\u001b[43m \u001b[49m\u001b[43mdst\u001b[49m\u001b[43m)\u001b[49m\n\u001b[0;32m    211\u001b[0m     \u001b[38;5;28;01mexcept\u001b[39;00m \u001b[38;5;167;01mOSError\u001b[39;00m:\n\u001b[0;32m    212\u001b[0m         \u001b[38;5;28;01mreturn\u001b[39;00m \u001b[38;5;28;01mFalse\u001b[39;00m\n",
      "File \u001b[1;32m~\\AppData\\Local\\Programs\\Python\\Python310\\lib\\genericpath.py:101\u001b[0m, in \u001b[0;36msamefile\u001b[1;34m(f1, f2)\u001b[0m\n\u001b[0;32m     95\u001b[0m \u001b[38;5;124;03m\"\"\"Test whether two pathnames reference the same actual file or directory\u001b[39;00m\n\u001b[0;32m     96\u001b[0m \n\u001b[0;32m     97\u001b[0m \u001b[38;5;124;03mThis is determined by the device number and i-node number and\u001b[39;00m\n\u001b[0;32m     98\u001b[0m \u001b[38;5;124;03mraises an exception if an os.stat() call on either pathname fails.\u001b[39;00m\n\u001b[0;32m     99\u001b[0m \u001b[38;5;124;03m\"\"\"\u001b[39;00m\n\u001b[0;32m    100\u001b[0m s1 \u001b[38;5;241m=\u001b[39m os\u001b[38;5;241m.\u001b[39mstat(f1)\n\u001b[1;32m--> 101\u001b[0m s2 \u001b[38;5;241m=\u001b[39m \u001b[43mos\u001b[49m\u001b[38;5;241;43m.\u001b[39;49m\u001b[43mstat\u001b[49m\u001b[43m(\u001b[49m\u001b[43mf2\u001b[49m\u001b[43m)\u001b[49m\n\u001b[0;32m    102\u001b[0m \u001b[38;5;28;01mreturn\u001b[39;00m samestat(s1, s2)\n",
      "\u001b[1;31mKeyboardInterrupt\u001b[0m: "
     ]
    }
   ],
   "source": [
    "img_paths, img_ids = convert_voc_to_yolo.get_image_paths_in_dir(dir_path, save_dir)\n",
    "convert_voc_to_yolo.split_train_val_test(img_paths, 1, voc_data_folder, save_dir, train_percent = 0.8, val_percent = 0.1)\n",
    "label_map = dataset.get_label_map(save_dir, path_to_predefined_classes)"
   ]
  },
  {
   "cell_type": "code",
   "execution_count": null,
   "id": "fe7e7ac4-5348-41cc-a0a3-64f9690df20e",
   "metadata": {},
   "outputs": [],
   "source": [
    "du//data_commons-borsuk//coco_data_folder\"\n",
    "Traceback (most recent call last):\n",
    "  File \"C:\\Users\\rapiduser\\AST_dataset\\object_detection\\convert_voc_to_yolo.py\", line 202, in <module>\n",
    "    main(args)\n",
    "  File \"C:\\Users\\rapiduser\\AST_dataset\\object_detection\\convert_voc_to_yolo.py\", line 188, in main\n",
    "    convert_annotation(img_id, args.dir_path, args.voc_data_folder, \"train\", args.coco_data_folder, label_map)\n",
    "  File \"C:\\Users\\rapiduser\\AST_dataset\\object_detection\\convert_voc_to_yolo.py\", line 128, in convert_annotation\n",
    "    in_file = open(voc_path)\n",
    "FileNotFoundError: [Errno 2] No such file or directory: '//oit-nas-fe13dc.oit.duke.edu//data_commons-borsuk//voc_data_folder\\\\train\\\\labels\\\\.xml'"
   ]
  },
  {
   "cell_type": "code",
   "execution_count": 18,
   "id": "8e2ec883-d6f5-4a85-9984-22e97a3d8e21",
   "metadata": {},
   "outputs": [
    {
     "ename": "NameError",
     "evalue": "name 'get_image_paths_in_dir' is not defined",
     "output_type": "error",
     "traceback": [
      "\u001b[1;31m---------------------------------------------------------------------------\u001b[0m",
      "\u001b[1;31mNameError\u001b[0m                                 Traceback (most recent call last)",
      "Cell \u001b[1;32mIn [18], line 1\u001b[0m\n\u001b[1;32m----> 1\u001b[0m img_paths, img_ids \u001b[38;5;241m=\u001b[39m \u001b[43mget_image_paths_in_dir\u001b[49m(args\u001b[38;5;241m.\u001b[39mdir_path, args\u001b[38;5;241m.\u001b[39msave_dir)\n\u001b[0;32m      2\u001b[0m \u001b[38;5;66;03m#split_train_val_test(img_paths, 1, args.voc_data_folder, args.save_dir, train_percent = 0.8, val_percent = 0.1)\u001b[39;00m\n\u001b[0;32m      3\u001b[0m label_map \u001b[38;5;241m=\u001b[39m dataset\u001b[38;5;241m.\u001b[39mget_label_map(args\u001b[38;5;241m.\u001b[39msave_dir, args\u001b[38;5;241m.\u001b[39mpath_to_predefined_classes)\n",
      "\u001b[1;31mNameError\u001b[0m: name 'get_image_paths_in_dir' is not defined"
     ]
    }
   ],
   "source": [
    "#for img_path in img_paths:\n",
    " #  convert_voc_to_yolo.convert_annotation(img_path, args.voc_data_folder, args.coco_data_folder, label_map)"
   ]
  },
  {
   "cell_type": "code",
   "execution_count": 3,
   "id": "652e33ad-ff86-47d9-99a1-42601ff8580a",
   "metadata": {},
   "outputs": [],
   "source": [
    "val_img_paths = convert_voc_to_yolo.read_list(\"//oit-nas-fe13dc.oit.duke.edu//data_commons-borsuk//save_dir/val_img_paths.txt\")"
   ]
  },
  {
   "cell_type": "code",
   "execution_count": 17,
   "id": "1dfa496a-1637-4559-a21f-0e7b20272751",
   "metadata": {},
   "outputs": [
    {
     "ename": "NameError",
     "evalue": "name 'train_img_paths' is not defined",
     "output_type": "error",
     "traceback": [
      "\u001b[1;31m---------------------------------------------------------------------------\u001b[0m",
      "\u001b[1;31mNameError\u001b[0m                                 Traceback (most recent call last)",
      "Cell \u001b[1;32mIn [17], line 1\u001b[0m\n\u001b[1;32m----> 1\u001b[0m \u001b[38;5;28;01mfor\u001b[39;00m i, (img_path, img_id) \u001b[38;5;129;01min\u001b[39;00m \u001b[38;5;28menumerate\u001b[39m(\u001b[38;5;28mzip\u001b[39m(\u001b[43mtrain_img_paths\u001b[49m, train_img_ids)):\n\u001b[0;32m      3\u001b[0m     shutil\u001b[38;5;241m.\u001b[39mcopy(img_path, os\u001b[38;5;241m.\u001b[39mpath\u001b[38;5;241m.\u001b[39mjoin(voc_data_folder, \u001b[38;5;124m\"\u001b[39m\u001b[38;5;124mtrain\u001b[39m\u001b[38;5;124m\"\u001b[39m, \u001b[38;5;124m\"\u001b[39m\u001b[38;5;124mimages\u001b[39m\u001b[38;5;124m\"\u001b[39m, img_id\u001b[38;5;241m+\u001b[39m\u001b[38;5;124m\"\u001b[39m\u001b[38;5;124m.jpg\u001b[39m\u001b[38;5;124m\"\u001b[39m))\n",
      "\u001b[1;31mNameError\u001b[0m: name 'train_img_paths' is not defined"
     ]
    }
   ],
   "source": [
    "for i, (img_path, img_id) in enumerate(zip(train_img_paths, train_img_ids)):\n",
    "    \n",
    "    shutil.copy(img_path, os.path.join(voc_data_folder, \"train\", \"images\", img_id+\".jpg\"))\n",
    "    #xml_path = img_path.replace('chips_positive', 'chips_positive_xml')\n",
    "    #xml_path = xml_path.replace(\"jpg\",\"xml\")\n",
    "    #shutil.copy(xml_path, os.path.join(data_folder, \"train\", \"labels\", img_id+\".xml\"))"
   ]
  },
  {
   "cell_type": "code",
   "execution_count": null,
   "id": "7a0d0f89-5abb-482a-9871-137fcadf41d0",
   "metadata": {},
   "outputs": [],
   "source": [
    "# Create a basic model instance\n",
    "model = create_model()\n",
    "\n",
    "# Evaluate the model\n",
    "loss, acc = model.evaluate(test_images, test_labels, verbose=2)\n",
    "print(\"Untrained model, accuracy: {:5.2f}%\".format(100 * acc))\n",
    "\n",
    "# Loads the weights\n",
    "model.load_weights(\"C:\\safety_save\\lr0.01_lrdecay0.9_epoch50checkpoint_frcnn.pth.tar\")\n",
    "\n",
    "# Re-evaluate the model\n",
    "loss, acc = model.evaluate(test_images, test_labels, verbose=2)\n",
    "print(\"Restored model, accuracy: {:5.2f}%\".format(100 * acc))"
   ]
  }
 ],
 "metadata": {
  "kernelspec": {
   "display_name": "pytorch-fasterrcnn",
   "language": "python",
   "name": "pytorch-fasterrcnn"
  },
  "language_info": {
   "codemirror_mode": {
    "name": "ipython",
    "version": 3
   },
   "file_extension": ".py",
   "mimetype": "text/x-python",
   "name": "python",
   "nbconvert_exporter": "python",
   "pygments_lexer": "ipython3",
   "version": "3.11.4"
  }
 },
 "nbformat": 4,
 "nbformat_minor": 5
}
