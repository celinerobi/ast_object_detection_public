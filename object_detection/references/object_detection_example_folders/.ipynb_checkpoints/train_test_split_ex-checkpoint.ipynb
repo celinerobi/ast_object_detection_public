{
 "cells": [
  {
   "cell_type": "code",
   "execution_count": null,
   "id": "fc34be1a-14e6-4ffd-be8d-8affade7da02",
   "metadata": {},
   "outputs": [],
   "source": [
    "  \n",
    "import os\n",
    "import random\n",
    "import argparse\n",
    "import shutil\n",
    "\n",
    "\n",
    "def dist_fold(img_path_list, fract=0.8): # divides images into train and test set. Defaul part of test images is 80%\n",
    "    for img_path in img_path_list:\n",
    "        if os.path.exists('train'):\n",
    "            shutil.rmtree('train') # removes train folder if it exists\n",
    "        if os.path.exists('test'):\n",
    "            shutil.rmtree('test') # removes train folder if it exists\n",
    "        os.mkdir(os.path.join(os.getcwd(), 'train')) # makes train folder\n",
    "        os.mkdir(os.path.join(os.getcwd(), 'test')) # makes test folder\n",
    "        files = list(map(lambda x: os.path.join(img_path, x), os.listdir(img_path))) # obtains list of all images\n",
    "        files = list(filter(lambda x: not(x.endswith('.xml')), files)) # we need take only images\n",
    "        random.shuffle(files) # shuffling files randonmly\n",
    "        if fract <= 1: # thus we can indicate fraction or number of images in training set\n",
    "            thr = int(len(files) * fract)\n",
    "        else:\n",
    "            thr = fract # fract > 1 will be parsed as absolute number in test set\n",
    "        \n",
    "        for i in range(len(files)):\n",
    "            if i < thr:\n",
    "                shutil.copyfile(files[i], os.path.join('train', os.path.split(files[i])[1]))\n",
    "            else:\n",
    "                shutil.copyfile(files[i], os.path.join('test', os.path.split(files[i])[1]))\n",
    "\n",
    "\n",
    "if __name__ =='__main__':\n",
    "    parser = argparse.ArgumentParser( #parsing arguments\n",
    "    description='Distributes all images into train and test sets randomly.')\n",
    "    parser.add_argument('input_folder', type=str, nargs='+', help='Path to folder(s) with images.')\n",
    "    parser.add_argument('-fr', type=float, help='Fraction of images in test set.', default=0.8)\n",
    "    parser.add_argument('-abs', type=int, help='Absolute number of images in test set. Will be used first if set.', default=0)\n",
    "    args = parser.parse_args()\n",
    "    \n",
    "    \n",
    "    dist_fold(args.input_folder, max(args.fr, args.abs))"
   ]
  }
 ],
 "metadata": {
  "kernelspec": {
   "display_name": "Chip Allocate",
   "language": "python",
   "name": "chip_allocate"
  },
  "language_info": {
   "codemirror_mode": {
    "name": "ipython",
    "version": 3
   },
   "file_extension": ".py",
   "mimetype": "text/x-python",
   "name": "python",
   "nbconvert_exporter": "python",
   "pygments_lexer": "ipython3",
   "version": "3.9.4"
  }
 },
 "nbformat": 4,
 "nbformat_minor": 5
}
