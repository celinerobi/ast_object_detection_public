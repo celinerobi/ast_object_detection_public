{
 "cells": [
  {
   "cell_type": "markdown",
   "id": "beb6d319-50ab-467f-95a9-b59d20c757be",
   "metadata": {},
   "source": [
    "Helpful References:"
   ]
  },
  {
   "cell_type": "markdown",
   "id": "b4b4746f-5ff1-4b6e-a9f4-18bd1d15efec",
   "metadata": {},
   "source": [
    "https://github.com/TannerGilbert/Object-Detection-and-Image-Segmentation-with-Detectron2"
   ]
  },
  {
   "cell_type": "markdown",
   "id": "acc2323e-4b6f-463f-83ad-c9d504a7057e",
   "metadata": {},
   "source": [
    "https://gilberttanner.com/blog/detectron-2-object-detection-with-pytorch"
   ]
  },
  {
   "cell_type": "markdown",
   "id": "f58b9be2-6342-46e3-8d3b-6a34bbdf572c",
   "metadata": {},
   "source": [
    "https://detectron2.readthedocs.io/en/latest/tutorials/getting_started.html"
   ]
  },
  {
   "cell_type": "markdown",
   "id": "e13ddca9-33d0-46a8-bb00-280c0a5cfa94",
   "metadata": {},
   "source": [
    "https://colab.research.google.com/drive/16jcaJoc6bCFAQ96jDe2HwtXj7BMD_-m5#scrollTo=0e4vdDIOXyxF"
   ]
  },
  {
   "cell_type": "markdown",
   "id": "c66f7e31-270b-411a-b3a2-518314eea955",
   "metadata": {},
   "source": [
    "https://github.com/TannerGilbert/Object-Detection-and-Image-Segmentation-with-Detectron2"
   ]
  },
  {
   "cell_type": "markdown",
   "id": "0feb6022-1df5-44f2-beb4-3db5c2425622",
   "metadata": {},
   "source": [
    "Custom Dataset"
   ]
  },
  {
   "cell_type": "markdown",
   "id": "e3a5cedc-0324-45e7-a106-3e52f5f6bc24",
   "metadata": {},
   "source": [
    "https://detectron2.readthedocs.io/en/latest/tutorials/datasets.html"
   ]
  },
  {
   "cell_type": "code",
   "execution_count": 1,
   "id": "e34b1440",
   "metadata": {},
   "outputs": [
    {
     "ename": "SyntaxError",
     "evalue": "invalid syntax (<ipython-input-1-e93359cc07cb>, line 3)",
     "output_type": "error",
     "traceback": [
      "\u001b[0;36m  File \u001b[0;32m\"<ipython-input-1-e93359cc07cb>\"\u001b[0;36m, line \u001b[0;32m3\u001b[0m\n\u001b[0;31m    return list[dict] in the following format\u001b[0m\n\u001b[0m                                     ^\u001b[0m\n\u001b[0;31mSyntaxError\u001b[0m\u001b[0;31m:\u001b[0m invalid syntax\n"
     ]
    }
   ],
   "source": [
    "def my_dataset_function():\n",
    "  ...\n",
    "  return list[dict] in the following format\n",
    "\n",
    "from detectron2.data import DatasetCatalog\n",
    "DatasetCatalog.register(\"my_dataset\", my_dataset_function)\n",
    "# later, to access the data:\n",
    "data: List[Dict] = DatasetCatalog.get(\"my_dataset\")"
   ]
  },
  {
   "cell_type": "markdown",
   "id": "81c8f8be",
   "metadata": {},
   "source": [
    "Write our Detectron2 training configuration\n",
    "Next we write our custom training configuration."
   ]
  },
  {
   "cell_type": "code",
   "execution_count": null,
   "id": "d10806fb",
   "metadata": {},
   "outputs": [],
   "source": [
    "cfg = get_cfg()\n",
    "cfg.merge_from_file(model_zoo.get_config_file(\"COCO-Detection/faster_rcnn_X_101_32x8d_FPN_3x.yaml\"))\n",
    "cfg.DATASETS.TRAIN = (\"my_dataset_train\",)\n",
    "cfg.DATASETS.TEST = (\"my_dataset_val\",)\n",
    "cfg.DATALOADER.NUM_WORKERS = 4\n",
    "cfg.MODEL.WEIGHTS = model_zoo.get_checkpoint_url(\"COCO-Detection/faster_rcnn_X_101_32x8d_FPN_3x.yaml\")  # Let training initialize from model zoo\n",
    "cfg.SOLVER.IMS_PER_BATCH = 4\n",
    "cfg.SOLVER.BASE_LR = 0.001\n",
    "cfg.SOLVER.WARMUP_ITERS = 1000\n",
    "cfg.SOLVER.MAX_ITER = 1500 #adjust up if val mAP is still rising, adjust down if overfit\n",
    "cfg.SOLVER.STEPS = (1000, 1500)\n",
    "cfg.SOLVER.GAMMA = 0.05\n",
    "cfg.MODEL.ROI_HEADS.BATCH_SIZE_PER_IMAGE = 64\n",
    "cfg.MODEL.ROI_HEADS.NUM_CLASSES = 4\n",
    "cfg.TEST.EVAL_PERIOD = 500"
   ]
  },
  {
   "cell_type": "markdown",
   "id": "630f2e44",
   "metadata": {},
   "source": [
    "Run Detectron2 training"
   ]
  },
  {
   "cell_type": "code",
   "execution_count": null,
   "id": "f138ac5b",
   "metadata": {},
   "outputs": [],
   "source": [
    "from detectron2.engine import DefaultTrainer\n",
    "from detectron2.evaluation import COCOEvaluator\n",
    "class CocoTrainer(DefaultTrainer):\n",
    "@classmethod\n",
    "  def build_evaluator(cls, cfg, dataset_name, output_folder=None):\n",
    "if output_folder is None:\n",
    "        os.makedirs(\"coco_eval\", exist_ok=True)\n",
    "        output_folder = \"coco_eval\"\n",
    "return COCOEvaluator(dataset_name, cfg, False, output_folder)"
   ]
  },
  {
   "cell_type": "code",
   "execution_count": null,
   "id": "39bac559",
   "metadata": {},
   "outputs": [],
   "source": [
    "Evaluation Metrics"
   ]
  },
  {
   "cell_type": "code",
   "execution_count": null,
   "id": "25dc49a8",
   "metadata": {},
   "outputs": [],
   "source": [
    "Total Loss"
   ]
  },
  {
   "cell_type": "code",
   "execution_count": null,
   "id": "61644328",
   "metadata": {},
   "outputs": [],
   "source": [
    "Validation mAP"
   ]
  },
  {
   "cell_type": "code",
   "execution_count": null,
   "id": "cdef8e63",
   "metadata": {},
   "outputs": [],
   "source": [
    "from detectron2.data import DatasetCatalog, MetadataCatalog, build_detection_test_loader\n",
    "from detectron2.evaluation import COCOEvaluator, inference_on_dataset\n",
    "cfg.MODEL.WEIGHTS = os.path.join(cfg.OUTPUT_DIR, \"model_final.pth\")\n",
    "cfg.MODEL.ROI_HEADS.SCORE_THRESH_TEST = 0.85\n",
    "predictor = DefaultPredictor(cfg)\n",
    "evaluator = COCOEvaluator(\"my_dataset_test\", cfg, False, output_dir=\"./output/\")\n",
    "val_loader = build_detection_test_loader(cfg, \"my_dataset_test\")\n",
    "inference_on_dataset(trainer.model, val_loader, evaluator)"
   ]
  },
  {
   "cell_type": "code",
   "execution_count": null,
   "id": "720454b2",
   "metadata": {},
   "outputs": [],
   "source": [
    "Run on Test images"
   ]
  },
  {
   "cell_type": "code",
   "execution_count": null,
   "id": "6bcaad2b",
   "metadata": {},
   "outputs": [],
   "source": [
    "cfg.MODEL.WEIGHTS = os.path.join(cfg.OUTPUT_DIR, \"model_final.pth\")\n",
    "cfg.DATASETS.TEST = (\"my_dataset_test\", )\n",
    "cfg.MODEL.ROI_HEADS.SCORE_THRESH_TEST = 0.7   # set the testing threshold for this model\n",
    "predictor = DefaultPredictor(cfg)\n",
    "test_metadata = MetadataCatalog.get(\"my_dataset_test\")\n",
    "from detectron2.utils.visualizer import ColorMode\n",
    "import glob\n",
    "for imageName in glob.glob('/content/test/*jpg'):\n",
    "  im = cv2.imread(imageName)\n",
    "  outputs = predictor(im)\n",
    "  v = Visualizer(im[:, :, ::-1],\n",
    "                metadata=test_metadata, \n",
    "                scale=0.8\n",
    "                 )\n",
    "  out = v.draw_instance_predictions(outputs[\"instances\"].to(\"cpu\"))\n",
    "  cv2_imshow(out.get_image()[:, :, ::-1])"
   ]
  },
  {
   "cell_type": "code",
   "execution_count": null,
   "id": "1667271f",
   "metadata": {},
   "outputs": [],
   "source": [
    "Parameterization"
   ]
  },
  {
   "cell_type": "code",
   "execution_count": null,
   "id": "0c32dc0a",
   "metadata": {},
   "outputs": [],
   "source": [
    "SCORE_THRESH_TEST to change the confidence threshold that the model requires to make a prediction."
   ]
  }
 ],
 "metadata": {
  "kernelspec": {
   "display_name": "Python 3",
   "language": "python",
   "name": "python3"
  },
  "language_info": {
   "codemirror_mode": {
    "name": "ipython",
    "version": 3
   },
   "file_extension": ".py",
   "mimetype": "text/x-python",
   "name": "python",
   "nbconvert_exporter": "python",
   "pygments_lexer": "ipython3",
   "version": "3.8.8"
  }
 },
 "nbformat": 4,
 "nbformat_minor": 5
}
